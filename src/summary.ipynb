{
 "cells": [
  {
   "cell_type": "code",
   "execution_count": 16,
   "metadata": {},
   "outputs": [],
   "source": [
    "text = \"L’amortissement dégressif applique une dotation aux amortissements plus importante durant les premières années d’usage du bien puis moins importante d’exercice en exercice. Le taux utilisé pour chaque annuité est celui de l’amortissement linéaire multiplié par un coefficient fixé par décret (en vertu de l’article 39A du Code Général des Impôts). L’amortissement dégressif n’est applicable que pour des biens neufs dont la durée d’usage est supérieure à 3 ans qui relèvent de l’article 39A du Code Général des Impôts). L’amortissement dégressif est apprécié des nouvelles entreprises qui peuvent déduire de plus grosses sommes les premières années de leur activité. Elles minimisent le montant d’impôt à payer durant cette période encore instable où provisionner de la trésorerie est l’objectif premier.\""
   ]
  },
  {
   "cell_type": "code",
   "execution_count": 1,
   "metadata": {},
   "outputs": [],
   "source": [
    "import pandas as pd \n",
    "df = pd.read_csv(\"../data/aids_mt_preprocessed.csv\", sep=\"\\t\")"
   ]
  },
  {
   "cell_type": "code",
   "execution_count": 2,
   "metadata": {},
   "outputs": [
    {
     "name": "stdout",
     "output_type": "stream",
     "text": [
      "Protéger les captages - Travaux de protection prescrits par les DUP des captages. L'objectif est d'accompagner les maîtres d'ouvrage dans des démarches visant à maintenir ou à reconquérir la qualité des eaux brutes des captages d'alimentation en eau potable, il convient de diminuer les pressions et les impacts des pollutions ponctuelles et diffuses sur les aires d'alimentation de captages (AAC) de manière pérenne.\n"
     ]
    }
   ],
   "source": [
    "import numpy as np \n",
    "\n",
    "text = np.random.choice(df.text)\n",
    "print(text)"
   ]
  },
  {
   "cell_type": "code",
   "execution_count": 3,
   "metadata": {},
   "outputs": [],
   "source": [
    "from transformers import T5Tokenizer, T5ForConditionalGeneration\n",
    "tokenizer = T5Tokenizer.from_pretrained(\"plguillou/t5-base-fr-sum-cnndm\")\n",
    "model = T5ForConditionalGeneration.from_pretrained(\"plguillou/t5-base-fr-sum-cnndm\")"
   ]
  },
  {
   "cell_type": "code",
   "execution_count": 4,
   "metadata": {},
   "outputs": [],
   "source": [
    "text = \"La BPI participe au financement de votre projet d'innovation de rupture avant son lancement industriel et commercial.    Projets éligibles    Tous projets de R&D visant le développement d'une innovation de rupture à fort contenu technologique, qualifiée deeptech.    Le terme deeptech qualifie des projets reposant sur des technologies ou des combinaisons de technologies :      Issues d'un laboratoire de recherche (public/privé) et/ou s'appuyant sur une équipe/gouvernance en lien fort avec le monde scientifique (profil scientifique/technologie clé)      Qui présentent de fortes barrières à l'entrée, matérialisées par des verrous technologiques difficiles à lever,      Qui constituent un avantage fortement différenciateur par rapport à la concurrence,      Caractérisées par un go-to-market (développement, industrialisation, commercialisation) long/complexe donc probablement capitalistique.      Dépenses éligibles    Dépenses internes et externes directement liées aux phases de recherche et développement du projet d'innovation qualifié deeptech et composées de :      Frais internes : Frais de personnel et frais généraux forfaitaires,      Frais externes : Propriété Intellectuelle, études juridiques, études de faisabilité, études de marché, réalisation et mise au point de prototypes, installations pilotes ou de démonstration, recherche de partenaires, laboratoires ou centres techniques, actualisation du plan d'affaires du lancement industriel et commercial, ...      Autres frais : Investissements non récupérables affectés au programme, amortissements des investissements récupérables sur la durée du programme.      Modalités d'intervention    Aide plafonnée à 2 000 000€, accordée sous forme mixte de subvention et d'avance récupérable, pouvant couvrir jusqu'à 45 % des dépenses éligibles prévisionnelles.    Les entreprises doivent avoir déposé leur dossier de demande d'aide au projet d'innovation auprès de Bpifrance préalablement à la réalisation du projet et du démarrage des dépenses.    Conditions financières    Pas de frais d'instruction – Subvention et Avance récupérable à taux zéro    Finalité    Aider les entreprises, qui mènent des projets d'innovation technologiques deeptech, comportant des travaux de recherche industrielle et/ou de développement expérimental, à mettre au point des produits, procédés ou services innovants présentant des perspectives concrètes d'industrialisation et de commercialisation.\""
   ]
  },
  {
   "cell_type": "code",
   "execution_count": 11,
   "metadata": {},
   "outputs": [],
   "source": [
    "inputs = tokenizer(\"translate French to English: \" + text, return_tensors=\"pt\", max_length=512, truncation=True)\n",
    "\n",
    "outputs = model.generate(inputs[\"input_ids\"], \n",
    "                        max_length=200, min_length=40, length_penalty=1.0, num_beams=2, early_stopping=True)"
   ]
  },
  {
   "cell_type": "code",
   "execution_count": 12,
   "metadata": {},
   "outputs": [
    {
     "name": "stdout",
     "output_type": "stream",
     "text": [
      "<pad> La BPI participe au financement de votre projet d'innovation de rupture avant son lancement industriel et commercial. Projets éligibles Tous les projets de R-D visant le développement d'une innovation de rupture à contenu technologique fort qualifié deeptech. Le terme deeptech qualifie les projets reposant sur des technologies ou des combinaisons de technologies : enjeux d'un laboratoire de recherche (public/privé) et/ou s'appuyant sur une équipe/gouvernance en lien fort avec le monde scientifique.</s>\n"
     ]
    }
   ],
   "source": [
    "print(tokenizer.decode(outputs[0]))"
   ]
  },
  {
   "cell_type": "markdown",
   "metadata": {},
   "source": []
  },
  {
   "cell_type": "code",
   "execution_count": 13,
   "metadata": {},
   "outputs": [
    {
     "name": "stdout",
     "output_type": "stream",
     "text": [
      "[\"La BPI participe au financement de votre projet d'innovation de rupture avant son\"]\n"
     ]
    }
   ],
   "source": [
    "\n",
    "output_sequences = model.generate(\n",
    "    input_ids=inputs['input_ids'],\n",
    "    attention_mask=inputs['attention_mask'],\n",
    "    do_sample=False, # disable sampling to test if batching affects output\n",
    ")\n",
    "\n",
    "print(tokenizer.batch_decode(output_sequences, skip_special_tokens=True))"
   ]
  }
 ],
 "metadata": {
  "interpreter": {
   "hash": "8bf562adedb18a473865f57dc6d4bcf0d647ab0c9586756fa6ef501981d36475"
  },
  "kernelspec": {
   "display_name": "Python 3.7.10 64-bit ('amine': conda)",
   "language": "python",
   "name": "python3"
  },
  "language_info": {
   "codemirror_mode": {
    "name": "ipython",
    "version": 3
   },
   "file_extension": ".py",
   "mimetype": "text/x-python",
   "name": "python",
   "nbconvert_exporter": "python",
   "pygments_lexer": "ipython3",
   "version": "3.7.10"
  },
  "orig_nbformat": 4
 },
 "nbformat": 4,
 "nbformat_minor": 2
}
