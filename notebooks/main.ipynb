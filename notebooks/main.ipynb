{
 "cells": [
  {
   "cell_type": "code",
   "execution_count": 3,
   "metadata": {},
   "outputs": [],
   "source": [
    "import seaborn\n",
    "import pandas as pd \n",
    "import numpy as np \n",
    "import bs4\n",
    "import sys\n",
    "sys.path.append(\"../\")\n",
    "from src.utils.requester import Requester\n"
   ]
  },
  {
   "cell_type": "code",
   "execution_count": 4,
   "metadata": {},
   "outputs": [],
   "source": [
    "df = pd.read_csv(\"../src/final.csv\", sep=\"\\t\", encoding=\"utf-16\")"
   ]
  },
  {
   "cell_type": "code",
   "execution_count": 5,
   "metadata": {},
   "outputs": [
    {
     "data": {
      "text/html": [
       "<div>\n",
       "<style scoped>\n",
       "    .dataframe tbody tr th:only-of-type {\n",
       "        vertical-align: middle;\n",
       "    }\n",
       "\n",
       "    .dataframe tbody tr th {\n",
       "        vertical-align: top;\n",
       "    }\n",
       "\n",
       "    .dataframe thead th {\n",
       "        text-align: right;\n",
       "    }\n",
       "</style>\n",
       "<table border=\"1\" class=\"dataframe\">\n",
       "  <thead>\n",
       "    <tr style=\"text-align: right;\">\n",
       "      <th></th>\n",
       "      <th>sourceId</th>\n",
       "      <th>id</th>\n",
       "      <th>name</th>\n",
       "      <th>aidDetails</th>\n",
       "      <th>environmentalTopics</th>\n",
       "      <th>text</th>\n",
       "      <th>0</th>\n",
       "      <th>1</th>\n",
       "      <th>2</th>\n",
       "      <th>3</th>\n",
       "      <th>...</th>\n",
       "      <th>8</th>\n",
       "      <th>9</th>\n",
       "      <th>10</th>\n",
       "      <th>11</th>\n",
       "      <th>list</th>\n",
       "      <th>best_cat</th>\n",
       "      <th>embeddings</th>\n",
       "      <th>x</th>\n",
       "      <th>y</th>\n",
       "      <th>summary</th>\n",
       "    </tr>\n",
       "  </thead>\n",
       "  <tbody>\n",
       "    <tr>\n",
       "      <th>0</th>\n",
       "      <td>at_94683</td>\n",
       "      <td>189</td>\n",
       "      <td>Financer les études et tests préalables aux in...</td>\n",
       "      <td>Aide - « Études et tests préalables aux in...</td>\n",
       "      <td>[{'name': 'Incorporation de produits recyclés'...</td>\n",
       "      <td>Financer les études et tests préalables aux in...</td>\n",
       "      <td>1.0</td>\n",
       "      <td>0.0</td>\n",
       "      <td>0.0</td>\n",
       "      <td>0.0</td>\n",
       "      <td>...</td>\n",
       "      <td>0.0</td>\n",
       "      <td>0.0</td>\n",
       "      <td>0.0</td>\n",
       "      <td>0.0</td>\n",
       "      <td>[1, 0, 0, 0, 0, 0, 0, 0, 0, 0, 0, 0]</td>\n",
       "      <td>0.0</td>\n",
       "      <td>[0.24530917, -0.45248967, 0.26932323, 0.065736...</td>\n",
       "      <td>8.650175</td>\n",
       "      <td>1.438333</td>\n",
       "      <td>&lt;pad&gt; Aide : « Études et tests préalables aux ...</td>\n",
       "    </tr>\n",
       "    <tr>\n",
       "      <th>1</th>\n",
       "      <td>at_58447</td>\n",
       "      <td>178</td>\n",
       "      <td>Soutenir financièrement le développement de l'...</td>\n",
       "      <td>Le dispositif de l'ADEME – ORPLAST (Objectif...</td>\n",
       "      <td>[{'name': 'Incorporation de produits recyclés'...</td>\n",
       "      <td>Soutenir financièrement le développement de l'...</td>\n",
       "      <td>1.0</td>\n",
       "      <td>0.0</td>\n",
       "      <td>0.0</td>\n",
       "      <td>0.0</td>\n",
       "      <td>...</td>\n",
       "      <td>0.0</td>\n",
       "      <td>0.0</td>\n",
       "      <td>0.0</td>\n",
       "      <td>0.0</td>\n",
       "      <td>[1, 0, 0, 0, 0, 0, 0, 0, 0, 0, 0, 0]</td>\n",
       "      <td>0.0</td>\n",
       "      <td>[0.21968801, -0.29245776, 0.029468633, -0.1774...</td>\n",
       "      <td>8.717999</td>\n",
       "      <td>0.948586</td>\n",
       "      <td>&lt;pad&gt; Le dispositif de l'ADEME – ORPLAST (Obje...</td>\n",
       "    </tr>\n",
       "    <tr>\n",
       "      <th>2</th>\n",
       "      <td>at_94687</td>\n",
       "      <td>203</td>\n",
       "      <td>Financer les études de préfiguration d'une dém...</td>\n",
       "      <td>Aide - « Étude de préfiguration d'une démarc...</td>\n",
       "      <td>[{'name': \"Réduction de l'empreinte carbone\", ...</td>\n",
       "      <td>Financer les études de préfiguration d'une dém...</td>\n",
       "      <td>1.0</td>\n",
       "      <td>0.0</td>\n",
       "      <td>0.0</td>\n",
       "      <td>0.0</td>\n",
       "      <td>...</td>\n",
       "      <td>0.0</td>\n",
       "      <td>0.0</td>\n",
       "      <td>0.0</td>\n",
       "      <td>0.0</td>\n",
       "      <td>[1, 0, 0, 0, 0, 0, 0, 0, 0, 0, 0, 0]</td>\n",
       "      <td>2.0</td>\n",
       "      <td>[0.34330258, -0.14042644, -0.28076363, 0.18257...</td>\n",
       "      <td>8.717293</td>\n",
       "      <td>6.110090</td>\n",
       "      <td>&lt;pad&gt; L'ADEME peut cofinancer votre étude de p...</td>\n",
       "    </tr>\n",
       "    <tr>\n",
       "      <th>3</th>\n",
       "      <td>at_71467</td>\n",
       "      <td>150</td>\n",
       "      <td>Réaliser des investissements de décarbonation ...</td>\n",
       "      <td>Plusieurs dispositifs sont ouverts aux entre...</td>\n",
       "      <td>[{'name': \"Réduction de l'empreinte carbone\", ...</td>\n",
       "      <td>Réaliser des investissements de décarbonation ...</td>\n",
       "      <td>1.0</td>\n",
       "      <td>0.0</td>\n",
       "      <td>0.0</td>\n",
       "      <td>0.0</td>\n",
       "      <td>...</td>\n",
       "      <td>0.0</td>\n",
       "      <td>0.0</td>\n",
       "      <td>0.0</td>\n",
       "      <td>0.0</td>\n",
       "      <td>[1, 0, 0, 0, 0, 0, 0, 0, 0, 0, 0, 0]</td>\n",
       "      <td>0.0</td>\n",
       "      <td>[0.40779048, -0.25010952, -0.2539999, 0.253258...</td>\n",
       "      <td>8.052450</td>\n",
       "      <td>5.424581</td>\n",
       "      <td>&lt;pad&gt; L'aide s'adresse aux entreprises industr...</td>\n",
       "    </tr>\n",
       "    <tr>\n",
       "      <th>4</th>\n",
       "      <td>at_94689</td>\n",
       "      <td>161</td>\n",
       "      <td>Financer des audits énergétiques en entreprise...</td>\n",
       "      <td>Aide - « Financement des audits énergétiqu...</td>\n",
       "      <td>[{'name': \"Réduction de la consommation d'éner...</td>\n",
       "      <td>Financer des audits énergétiques en entreprise...</td>\n",
       "      <td>1.0</td>\n",
       "      <td>0.0</td>\n",
       "      <td>0.0</td>\n",
       "      <td>1.0</td>\n",
       "      <td>...</td>\n",
       "      <td>0.0</td>\n",
       "      <td>0.0</td>\n",
       "      <td>0.0</td>\n",
       "      <td>0.0</td>\n",
       "      <td>[1, 0, 0, 1, 0, 0, 0, 0, 0, 0, 0, 0]</td>\n",
       "      <td>0.0</td>\n",
       "      <td>[-0.2057324, -0.07750451, -0.1861022, 0.356966...</td>\n",
       "      <td>6.816878</td>\n",
       "      <td>8.291476</td>\n",
       "      <td>&lt;pad&gt; L'ADEME Objectif : en entreprise et enco...</td>\n",
       "    </tr>\n",
       "  </tbody>\n",
       "</table>\n",
       "<p>5 rows × 24 columns</p>\n",
       "</div>"
      ],
      "text/plain": [
       "   sourceId   id                                               name  \\\n",
       "0  at_94683  189  Financer les études et tests préalables aux in...   \n",
       "1  at_58447  178  Soutenir financièrement le développement de l'...   \n",
       "2  at_94687  203  Financer les études de préfiguration d'une dém...   \n",
       "3  at_71467  150  Réaliser des investissements de décarbonation ...   \n",
       "4  at_94689  161  Financer des audits énergétiques en entreprise...   \n",
       "\n",
       "                                          aidDetails  \\\n",
       "0      Aide - « Études et tests préalables aux in...   \n",
       "1    Le dispositif de l'ADEME – ORPLAST (Objectif...   \n",
       "2    Aide - « Étude de préfiguration d'une démarc...   \n",
       "3    Plusieurs dispositifs sont ouverts aux entre...   \n",
       "4      Aide - « Financement des audits énergétiqu...   \n",
       "\n",
       "                                 environmentalTopics  \\\n",
       "0  [{'name': 'Incorporation de produits recyclés'...   \n",
       "1  [{'name': 'Incorporation de produits recyclés'...   \n",
       "2  [{'name': \"Réduction de l'empreinte carbone\", ...   \n",
       "3  [{'name': \"Réduction de l'empreinte carbone\", ...   \n",
       "4  [{'name': \"Réduction de la consommation d'éner...   \n",
       "\n",
       "                                                text    0    1    2    3  ...  \\\n",
       "0  Financer les études et tests préalables aux in...  1.0  0.0  0.0  0.0  ...   \n",
       "1  Soutenir financièrement le développement de l'...  1.0  0.0  0.0  0.0  ...   \n",
       "2  Financer les études de préfiguration d'une dém...  1.0  0.0  0.0  0.0  ...   \n",
       "3  Réaliser des investissements de décarbonation ...  1.0  0.0  0.0  0.0  ...   \n",
       "4  Financer des audits énergétiques en entreprise...  1.0  0.0  0.0  1.0  ...   \n",
       "\n",
       "     8    9   10   11                                  list  best_cat  \\\n",
       "0  0.0  0.0  0.0  0.0  [1, 0, 0, 0, 0, 0, 0, 0, 0, 0, 0, 0]       0.0   \n",
       "1  0.0  0.0  0.0  0.0  [1, 0, 0, 0, 0, 0, 0, 0, 0, 0, 0, 0]       0.0   \n",
       "2  0.0  0.0  0.0  0.0  [1, 0, 0, 0, 0, 0, 0, 0, 0, 0, 0, 0]       2.0   \n",
       "3  0.0  0.0  0.0  0.0  [1, 0, 0, 0, 0, 0, 0, 0, 0, 0, 0, 0]       0.0   \n",
       "4  0.0  0.0  0.0  0.0  [1, 0, 0, 1, 0, 0, 0, 0, 0, 0, 0, 0]       0.0   \n",
       "\n",
       "                                          embeddings         x         y  \\\n",
       "0  [0.24530917, -0.45248967, 0.26932323, 0.065736...  8.650175  1.438333   \n",
       "1  [0.21968801, -0.29245776, 0.029468633, -0.1774...  8.717999  0.948586   \n",
       "2  [0.34330258, -0.14042644, -0.28076363, 0.18257...  8.717293  6.110090   \n",
       "3  [0.40779048, -0.25010952, -0.2539999, 0.253258...  8.052450  5.424581   \n",
       "4  [-0.2057324, -0.07750451, -0.1861022, 0.356966...  6.816878  8.291476   \n",
       "\n",
       "                                             summary  \n",
       "0  <pad> Aide : « Études et tests préalables aux ...  \n",
       "1  <pad> Le dispositif de l'ADEME – ORPLAST (Obje...  \n",
       "2  <pad> L'ADEME peut cofinancer votre étude de p...  \n",
       "3  <pad> L'aide s'adresse aux entreprises industr...  \n",
       "4  <pad> L'ADEME Objectif : en entreprise et enco...  \n",
       "\n",
       "[5 rows x 24 columns]"
      ]
     },
     "execution_count": 5,
     "metadata": {},
     "output_type": "execute_result"
    }
   ],
   "source": [
    "df.head()"
   ]
  },
  {
   "cell_type": "code",
   "execution_count": 2,
   "metadata": {},
   "outputs": [],
   "source": [
    "R = Requester()"
   ]
  },
  {
   "cell_type": "code",
   "execution_count": 4,
   "metadata": {},
   "outputs": [],
   "source": [
    "T = R.get_themes_mt()\n",
    "A = R.get_aids_mt()"
   ]
  },
  {
   "cell_type": "code",
   "execution_count": 5,
   "metadata": {},
   "outputs": [
    {
     "ename": "KeyError",
     "evalue": "'categories'",
     "output_type": "error",
     "traceback": [
      "\u001b[1;31m---------------------------------------------------------------------------\u001b[0m",
      "\u001b[1;31mKeyError\u001b[0m                                  Traceback (most recent call last)",
      "\u001b[1;32m<ipython-input-5-0ed13ac579d5>\u001b[0m in \u001b[0;36m<module>\u001b[1;34m\u001b[0m\n\u001b[0;32m      1\u001b[0m \u001b[0ml\u001b[0m \u001b[1;33m=\u001b[0m \u001b[1;33m[\u001b[0m\u001b[1;33m]\u001b[0m\u001b[1;33m\u001b[0m\u001b[1;33m\u001b[0m\u001b[0m\n\u001b[0;32m      2\u001b[0m \u001b[1;32mfor\u001b[0m \u001b[0mi\u001b[0m \u001b[1;32min\u001b[0m \u001b[0mrange\u001b[0m\u001b[1;33m(\u001b[0m\u001b[0mlen\u001b[0m\u001b[1;33m(\u001b[0m\u001b[0mT\u001b[0m\u001b[1;33m)\u001b[0m\u001b[1;33m)\u001b[0m\u001b[1;33m:\u001b[0m\u001b[1;33m\u001b[0m\u001b[1;33m\u001b[0m\u001b[0m\n\u001b[1;32m----> 3\u001b[1;33m     \u001b[0ml\u001b[0m \u001b[1;33m+=\u001b[0m \u001b[0mT\u001b[0m\u001b[1;33m[\u001b[0m\u001b[0mi\u001b[0m\u001b[1;33m]\u001b[0m\u001b[1;33m[\u001b[0m\u001b[1;34m\"categories\"\u001b[0m\u001b[1;33m]\u001b[0m\u001b[1;33m\u001b[0m\u001b[1;33m\u001b[0m\u001b[0m\n\u001b[0m",
      "\u001b[1;31mKeyError\u001b[0m: 'categories'"
     ]
    }
   ],
   "source": [
    "l = []\n",
    "for i in range(len(T)):\n",
    "    l += T[i][\"categories\"]"
   ]
  },
  {
   "cell_type": "code",
   "execution_count": 6,
   "metadata": {},
   "outputs": [
    {
     "data": {
      "text/plain": [
       "390"
      ]
     },
     "execution_count": 6,
     "metadata": {},
     "output_type": "execute_result"
    }
   ],
   "source": [
    "len(A)"
   ]
  },
  {
   "cell_type": "code",
   "execution_count": 7,
   "metadata": {},
   "outputs": [],
   "source": [
    "DF = pd.DataFrame(columns = A[0].keys())\n",
    "for i in range(len(A)):\n",
    "    DF = DF.append(A[i], ignore_index=True)"
   ]
  },
  {
   "cell_type": "code",
   "execution_count": 8,
   "metadata": {},
   "outputs": [
    {
     "data": {
      "text/plain": [
       "[{'name': 'Energies Renouvelables', 'id': 22},\n",
       " {'name': 'Réseaux de chaleur & Récupération de chaleur', 'id': 12}]"
      ]
     },
     "execution_count": 8,
     "metadata": {},
     "output_type": "execute_result"
    }
   ],
   "source": [
    "DF.loc[88 ,  \"environmentalTopics\"]"
   ]
  },
  {
   "cell_type": "code",
   "execution_count": 9,
   "metadata": {},
   "outputs": [],
   "source": [
    "DF[\"subclasses\"] = DF[\"environmentalTopics\"].apply(lambda x: [i[\"id\"] for i in x])"
   ]
  },
  {
   "cell_type": "code",
   "execution_count": 10,
   "metadata": {},
   "outputs": [],
   "source": [
    "TF = pd.DataFrame(columns = T[0].keys())\n",
    "for i in range(len(T)):\n",
    "    TF = TF.append(T[i], ignore_index=True)"
   ]
  },
  {
   "cell_type": "code",
   "execution_count": 11,
   "metadata": {},
   "outputs": [
    {
     "name": "stdout",
     "output_type": "stream",
     "text": [
      "  id                                name  \\\n",
      "0  1  Evolution des procédés industriels   \n",
      "1  4               Gestion des bâtiments   \n",
      "2  6                 Gestion des déchets   \n",
      "3  3      Innovation produits & services   \n",
      "4  9               Mobilité des employés   \n",
      "\n",
      "                                 environmentalTopics  \\\n",
      "0  [{'name': 'Incorporation de produits recyclés'...   \n",
      "1  [{'name': 'Amélioration de la qualité de l'air...   \n",
      "2  [{'name': 'Traitement & valorisation des biodé...   \n",
      "3  [{'name': 'Recherche, Développement & Innovati...   \n",
      "4  [{'name': 'Développement du ferroviaire', 'id'...   \n",
      "\n",
      "                                         description  \n",
      "0  Exemples de projets :\\r\\nEfficacité énergétiqu...  \n",
      "1  Exemples de projets :\\r\\nConstruction/rénovati...  \n",
      "2  Exemples de projets :\\r\\nAide à l’investisseme...  \n",
      "3  Exemples de projets :\\r\\nEco-conception, accom...  \n",
      "4  Exemples de projets :\\r\\nAide à l’acquisition ...  \n"
     ]
    }
   ],
   "source": [
    "print(TF.head())"
   ]
  },
  {
   "cell_type": "code",
   "execution_count": 1,
   "metadata": {},
   "outputs": [],
   "source": [
    "import pandas as pd \n",
    "\n",
    "df = pd.read_csv(\"../src/processings.csv\", sep=\"\\t\", encoding=\"utf-16\")"
   ]
  },
  {
   "cell_type": "code",
   "execution_count": 2,
   "metadata": {},
   "outputs": [
    {
     "data": {
      "text/html": [
       "<div>\n",
       "<style scoped>\n",
       "    .dataframe tbody tr th:only-of-type {\n",
       "        vertical-align: middle;\n",
       "    }\n",
       "\n",
       "    .dataframe tbody tr th {\n",
       "        vertical-align: top;\n",
       "    }\n",
       "\n",
       "    .dataframe thead th {\n",
       "        text-align: right;\n",
       "    }\n",
       "</style>\n",
       "<table border=\"1\" class=\"dataframe\">\n",
       "  <thead>\n",
       "    <tr style=\"text-align: right;\">\n",
       "      <th></th>\n",
       "      <th>sourceId</th>\n",
       "      <th>id</th>\n",
       "      <th>name</th>\n",
       "      <th>aidDetails</th>\n",
       "      <th>environmentalTopics</th>\n",
       "      <th>subclasses</th>\n",
       "      <th>classes</th>\n",
       "    </tr>\n",
       "  </thead>\n",
       "  <tbody>\n",
       "    <tr>\n",
       "      <th>0</th>\n",
       "      <td>at_94683</td>\n",
       "      <td>189</td>\n",
       "      <td>Financer les études et tests préalables aux in...</td>\n",
       "      <td>Aide - « Études et tests préalables aux in...</td>\n",
       "      <td>[{'name': 'Incorporation de produits recyclés'...</td>\n",
       "      <td>[1]</td>\n",
       "      <td>[1]</td>\n",
       "    </tr>\n",
       "    <tr>\n",
       "      <th>1</th>\n",
       "      <td>at_58447</td>\n",
       "      <td>178</td>\n",
       "      <td>Soutenir financièrement le développement de l'...</td>\n",
       "      <td>Le dispositif de l'ADEME – ORPLAST (Objectif...</td>\n",
       "      <td>[{'name': 'Incorporation de produits recyclés'...</td>\n",
       "      <td>[1]</td>\n",
       "      <td>[1]</td>\n",
       "    </tr>\n",
       "    <tr>\n",
       "      <th>2</th>\n",
       "      <td>at_94687</td>\n",
       "      <td>203</td>\n",
       "      <td>Financer les études de préfiguration d'une dém...</td>\n",
       "      <td>Aide - « Étude de préfiguration d'une démarc...</td>\n",
       "      <td>[{'name': \"Réduction de l'empreinte carbone\", ...</td>\n",
       "      <td>[3]</td>\n",
       "      <td>[1]</td>\n",
       "    </tr>\n",
       "    <tr>\n",
       "      <th>3</th>\n",
       "      <td>at_71467</td>\n",
       "      <td>150</td>\n",
       "      <td>Réaliser des investissements de décarbonation ...</td>\n",
       "      <td>Plusieurs dispositifs sont ouverts aux entre...</td>\n",
       "      <td>[{'name': \"Réduction de l'empreinte carbone\", ...</td>\n",
       "      <td>[3]</td>\n",
       "      <td>[1]</td>\n",
       "    </tr>\n",
       "    <tr>\n",
       "      <th>4</th>\n",
       "      <td>at_94689</td>\n",
       "      <td>161</td>\n",
       "      <td>Financer des audits énergétiques en entreprise...</td>\n",
       "      <td>Aide - « Financement des audits énergétiqu...</td>\n",
       "      <td>[{'name': \"Réduction de la consommation d'éner...</td>\n",
       "      <td>[6, 7]</td>\n",
       "      <td>[1 4]</td>\n",
       "    </tr>\n",
       "  </tbody>\n",
       "</table>\n",
       "</div>"
      ],
      "text/plain": [
       "   sourceId   id                                               name  \\\n",
       "0  at_94683  189  Financer les études et tests préalables aux in...   \n",
       "1  at_58447  178  Soutenir financièrement le développement de l'...   \n",
       "2  at_94687  203  Financer les études de préfiguration d'une dém...   \n",
       "3  at_71467  150  Réaliser des investissements de décarbonation ...   \n",
       "4  at_94689  161  Financer des audits énergétiques en entreprise...   \n",
       "\n",
       "                                          aidDetails  \\\n",
       "0      Aide - « Études et tests préalables aux in...   \n",
       "1    Le dispositif de l'ADEME – ORPLAST (Objectif...   \n",
       "2    Aide - « Étude de préfiguration d'une démarc...   \n",
       "3    Plusieurs dispositifs sont ouverts aux entre...   \n",
       "4      Aide - « Financement des audits énergétiqu...   \n",
       "\n",
       "                                 environmentalTopics subclasses classes  \n",
       "0  [{'name': 'Incorporation de produits recyclés'...        [1]     [1]  \n",
       "1  [{'name': 'Incorporation de produits recyclés'...        [1]     [1]  \n",
       "2  [{'name': \"Réduction de l'empreinte carbone\", ...        [3]     [1]  \n",
       "3  [{'name': \"Réduction de l'empreinte carbone\", ...        [3]     [1]  \n",
       "4  [{'name': \"Réduction de la consommation d'éner...     [6, 7]   [1 4]  "
      ]
     },
     "execution_count": 2,
     "metadata": {},
     "output_type": "execute_result"
    }
   ],
   "source": [
    "df.head()"
   ]
  },
  {
   "cell_type": "code",
   "execution_count": 12,
   "metadata": {},
   "outputs": [
    {
     "name": "stdout",
     "output_type": "stream",
     "text": [
      "{1: 1, 9: 1, 6: 1, 3: 1, 8: 1, 14: 4, 7: 4, 20: 4, 46: 4, 17: 6, 15: 6, 16: 6, 4: 3, 5: 3, 11: 3, 10: 3, 42: 9, 43: 9, 23: 9, 21: 5, 22: 5, 12: 5, 13: 5, 37: 11, 49: 11, 39: 7, 19: 8, 25: 8, 26: 8, 27: 8, 28: 8, 29: 8, 30: 7, 53: 8, 48: 12, 34: 10, 41: 10, 52: 10, 54: 10, 55: 10, 56: 10, 33: 10, 2: 2, 57: 2, 32: 2, 31: 2, 24: 7, 40: 7, 38: 7, 47: 7, 18: 7}\n"
     ]
    }
   ],
   "source": [
    "TF[\"subclasses\"] = TF[\"environmentalTopics\"].apply(lambda x: [i[\"id\"] for i in x])\n",
    "\n",
    "subclasses2classes = {}\n",
    "for i in range(TF.shape[0]):\n",
    "    for l in TF.loc[i, \"subclasses\"]:\n",
    "        subclasses2classes[l] = TF.loc[i, \"id\"]\n",
    "print(subclasses2classes)"
   ]
  },
  {
   "cell_type": "code",
   "execution_count": 13,
   "metadata": {},
   "outputs": [],
   "source": [
    "L = []\n",
    "for i in range(TF.shape[0]):\n",
    "    L = L + TF.loc[i, \"subclasses\"]"
   ]
  },
  {
   "cell_type": "code",
   "execution_count": 14,
   "metadata": {},
   "outputs": [
    {
     "data": {
      "text/plain": [
       "(51,)"
      ]
     },
     "execution_count": 14,
     "metadata": {},
     "output_type": "execute_result"
    }
   ],
   "source": [
    "np.unique(L).shape"
   ]
  },
  {
   "cell_type": "code",
   "execution_count": 15,
   "metadata": {},
   "outputs": [],
   "source": [
    "TF[\"countSubclasses\"] = TF[\"subclasses\"].apply(lambda x: len(x))"
   ]
  },
  {
   "cell_type": "code",
   "execution_count": 16,
   "metadata": {},
   "outputs": [
    {
     "data": {
      "text/plain": [
       "0      189\n",
       "1      178\n",
       "2      203\n",
       "3      150\n",
       "4      161\n",
       "      ... \n",
       "385    280\n",
       "386     96\n",
       "387     59\n",
       "388     64\n",
       "389     62\n",
       "Name: id, Length: 390, dtype: object"
      ]
     },
     "execution_count": 16,
     "metadata": {},
     "output_type": "execute_result"
    }
   ],
   "source": [
    "DF.id"
   ]
  },
  {
   "cell_type": "code",
   "execution_count": 17,
   "metadata": {},
   "outputs": [
    {
     "data": {
      "text/html": [
       "<div>\n",
       "<style scoped>\n",
       "    .dataframe tbody tr th:only-of-type {\n",
       "        vertical-align: middle;\n",
       "    }\n",
       "\n",
       "    .dataframe tbody tr th {\n",
       "        vertical-align: top;\n",
       "    }\n",
       "\n",
       "    .dataframe thead th {\n",
       "        text-align: right;\n",
       "    }\n",
       "</style>\n",
       "<table border=\"1\" class=\"dataframe\">\n",
       "  <thead>\n",
       "    <tr style=\"text-align: right;\">\n",
       "      <th></th>\n",
       "      <th>name</th>\n",
       "      <th>perimeter</th>\n",
       "      <th>goal</th>\n",
       "      <th>beneficiary</th>\n",
       "      <th>aidDetails</th>\n",
       "      <th>eligibility</th>\n",
       "      <th>conditions</th>\n",
       "      <th>fundingSourceUrl</th>\n",
       "      <th>applicationEndDate</th>\n",
       "      <th>applicationUrl</th>\n",
       "      <th>...</th>\n",
       "      <th>contactGuidelines</th>\n",
       "      <th>subventionRateUpperBound</th>\n",
       "      <th>subventionRateLowerBound</th>\n",
       "      <th>loanAmount</th>\n",
       "      <th>applicationStartDate</th>\n",
       "      <th>projectExamples</th>\n",
       "      <th>directAccess</th>\n",
       "      <th>types</th>\n",
       "      <th>id</th>\n",
       "      <th>subclasses</th>\n",
       "    </tr>\n",
       "  </thead>\n",
       "  <tbody>\n",
       "    <tr>\n",
       "      <th>0</th>\n",
       "      <td>Financer les études et tests préalables aux in...</td>\n",
       "      <td>NATIONAL</td>\n",
       "      <td>None</td>\n",
       "      <td>None</td>\n",
       "      <td>&lt;p&gt;\\n &lt;strong&gt;\\n  Aide - « Études et tests pré...</td>\n",
       "      <td>&lt;p&gt;\\n Critères d'éligibilité\\n &lt;br/&gt;\\n&lt;/p&gt;\\n&lt;u...</td>\n",
       "      <td>None</td>\n",
       "      <td>https://agirpourlatransition.ademe.fr/entrepri...</td>\n",
       "      <td>None</td>\n",
       "      <td></td>\n",
       "      <td>...</td>\n",
       "      <td>&lt;p&gt;\\n Contactez l'ADEME via leur\\n &lt;a href=\"ht...</td>\n",
       "      <td>70</td>\n",
       "      <td>None</td>\n",
       "      <td>None</td>\n",
       "      <td>2021-11-09T15:42:42+00:00</td>\n",
       "      <td>&lt;p&gt;\\n Actions éligibles :\\n &lt;br/&gt;\\n&lt;/p&gt;\\n&lt;ul&gt;\\...</td>\n",
       "      <td>False</td>\n",
       "      <td>[{'name': 'Aide financière', 'id': 1}]</td>\n",
       "      <td>189</td>\n",
       "      <td>[1]</td>\n",
       "    </tr>\n",
       "    <tr>\n",
       "      <th>1</th>\n",
       "      <td>Soutenir financièrement le développement de l'...</td>\n",
       "      <td>NATIONAL</td>\n",
       "      <td>None</td>\n",
       "      <td>None</td>\n",
       "      <td>&lt;p&gt;\\n Le dispositif de l'ADEME – ORPLAST (Obje...</td>\n",
       "      <td>&lt;p&gt;\\n &lt;strong&gt;\\n  Sont éligibles, les dossiers...</td>\n",
       "      <td>None</td>\n",
       "      <td>https://appelsaprojets.ademe.fr/aap/ORPLAST202...</td>\n",
       "      <td>2022-09-15T00:00:00+00:00</td>\n",
       "      <td></td>\n",
       "      <td>...</td>\n",
       "      <td>&lt;p&gt;\\n &lt;strong&gt;\\n  Auvergne-Rhône-Alpes\\n &lt;/str...</td>\n",
       "      <td>None</td>\n",
       "      <td>None</td>\n",
       "      <td>None</td>\n",
       "      <td>2020-09-22T00:00:00+00:00</td>\n",
       "      <td>&lt;p&gt;\\n En cas de questions relatives à l'appel ...</td>\n",
       "      <td>False</td>\n",
       "      <td>[{'name': 'Aide financière', 'id': 1}]</td>\n",
       "      <td>178</td>\n",
       "      <td>[1]</td>\n",
       "    </tr>\n",
       "    <tr>\n",
       "      <th>2</th>\n",
       "      <td>Financer les études de préfiguration d'une dém...</td>\n",
       "      <td>NATIONAL</td>\n",
       "      <td>None</td>\n",
       "      <td>None</td>\n",
       "      <td>&lt;p&gt;\\n Aide - « Étude de préfiguration d'une dé...</td>\n",
       "      <td></td>\n",
       "      <td>None</td>\n",
       "      <td>https://agirpourlatransition.ademe.fr/entrepri...</td>\n",
       "      <td>None</td>\n",
       "      <td></td>\n",
       "      <td>...</td>\n",
       "      <td>&lt;p&gt;\\n Contactez l'ADEME via leur\\n &lt;a href=\"ht...</td>\n",
       "      <td>69</td>\n",
       "      <td>None</td>\n",
       "      <td>None</td>\n",
       "      <td>2021-11-09T15:42:48+00:00</td>\n",
       "      <td>&lt;p&gt;\\n Actions éligibles :\\n &lt;br/&gt;\\n&lt;/p&gt;\\n&lt;p&gt;\\n...</td>\n",
       "      <td>False</td>\n",
       "      <td>[{'name': 'Aide financière', 'id': 1}]</td>\n",
       "      <td>203</td>\n",
       "      <td>[3]</td>\n",
       "    </tr>\n",
       "    <tr>\n",
       "      <th>3</th>\n",
       "      <td>Réaliser des investissements de décarbonation ...</td>\n",
       "      <td>NATIONAL</td>\n",
       "      <td>None</td>\n",
       "      <td>None</td>\n",
       "      <td>&lt;p&gt;\\n Plusieurs dispositifs sont ouverts aux e...</td>\n",
       "      <td>&lt;p&gt;\\n &lt;strong&gt;\\n  Pour que la demande d'aide s...</td>\n",
       "      <td>None</td>\n",
       "      <td>https://www.asp-public.fr/aide-en-faveur-des-i...</td>\n",
       "      <td>2022-12-31T00:00:00+00:00</td>\n",
       "      <td></td>\n",
       "      <td>...</td>\n",
       "      <td>&lt;p&gt;\\n Pour toutes demandes de renseignements, ...</td>\n",
       "      <td>None</td>\n",
       "      <td>None</td>\n",
       "      <td>None</td>\n",
       "      <td>2020-09-15T00:00:00+00:00</td>\n",
       "      <td></td>\n",
       "      <td>False</td>\n",
       "      <td>[{'name': 'Aide financière', 'id': 1}]</td>\n",
       "      <td>150</td>\n",
       "      <td>[3]</td>\n",
       "    </tr>\n",
       "    <tr>\n",
       "      <th>4</th>\n",
       "      <td>Financer des audits énergétiques en entreprise...</td>\n",
       "      <td>NATIONAL</td>\n",
       "      <td>None</td>\n",
       "      <td>None</td>\n",
       "      <td>&lt;p&gt;\\n &lt;strong&gt;\\n  Aide - « Financement des aud...</td>\n",
       "      <td>&lt;p&gt;\\n Critères d'éligibilité : u\\n ne étude de...</td>\n",
       "      <td>None</td>\n",
       "      <td>https://agirpourlatransition.ademe.fr/entrepri...</td>\n",
       "      <td>None</td>\n",
       "      <td></td>\n",
       "      <td>...</td>\n",
       "      <td>&lt;p&gt;\\n Pour en savoir plus sur ce dispositif, c...</td>\n",
       "      <td>70</td>\n",
       "      <td>None</td>\n",
       "      <td>None</td>\n",
       "      <td>2021-11-09T15:42:41+00:00</td>\n",
       "      <td></td>\n",
       "      <td>False</td>\n",
       "      <td>[{'name': 'Aide financière', 'id': 1}]</td>\n",
       "      <td>161</td>\n",
       "      <td>[6, 7]</td>\n",
       "    </tr>\n",
       "    <tr>\n",
       "      <th>...</th>\n",
       "      <td>...</td>\n",
       "      <td>...</td>\n",
       "      <td>...</td>\n",
       "      <td>...</td>\n",
       "      <td>...</td>\n",
       "      <td>...</td>\n",
       "      <td>...</td>\n",
       "      <td>...</td>\n",
       "      <td>...</td>\n",
       "      <td>...</td>\n",
       "      <td>...</td>\n",
       "      <td>...</td>\n",
       "      <td>...</td>\n",
       "      <td>...</td>\n",
       "      <td>...</td>\n",
       "      <td>...</td>\n",
       "      <td>...</td>\n",
       "      <td>...</td>\n",
       "      <td>...</td>\n",
       "      <td>...</td>\n",
       "      <td>...</td>\n",
       "    </tr>\n",
       "    <tr>\n",
       "      <th>385</th>\n",
       "      <td>Soutenir l'émergence de solutions innovantes p...</td>\n",
       "      <td>REGIONAL</td>\n",
       "      <td>None</td>\n",
       "      <td>None</td>\n",
       "      <td>&lt;p&gt;\\n &lt;strong&gt;\\n  La Région soutient l'émergen...</td>\n",
       "      <td></td>\n",
       "      <td>None</td>\n",
       "      <td>https://www.iledefrance.fr/soutien-aux-actions...</td>\n",
       "      <td>None</td>\n",
       "      <td></td>\n",
       "      <td>...</td>\n",
       "      <td>&lt;p&gt;\\n Les porteurs de projet intéressés peuven...</td>\n",
       "      <td>None</td>\n",
       "      <td>None</td>\n",
       "      <td>None</td>\n",
       "      <td>2021-10-05T19:09:55+00:00</td>\n",
       "      <td>&lt;p&gt;\\n &lt;strong&gt;\\n  Les projets peuvent exploite...</td>\n",
       "      <td>False</td>\n",
       "      <td>[{'name': 'Aide financière', 'id': 1}]</td>\n",
       "      <td>280</td>\n",
       "      <td>[47, 5, 4, 10]</td>\n",
       "    </tr>\n",
       "    <tr>\n",
       "      <th>386</th>\n",
       "      <td>Sortir de vacance les logements locatifs privés</td>\n",
       "      <td>REGIONAL</td>\n",
       "      <td>None</td>\n",
       "      <td>None</td>\n",
       "      <td>&lt;p&gt;\\n Le présent dispositif vise à remettre su...</td>\n",
       "      <td>&lt;p&gt;\\n &lt;strong&gt;\\n  Bénéficiaires éligibles :\\n ...</td>\n",
       "      <td>None</td>\n",
       "      <td></td>\n",
       "      <td>None</td>\n",
       "      <td></td>\n",
       "      <td>...</td>\n",
       "      <td>&lt;p&gt;\\n Département de la Vendée\\n&lt;/p&gt;\\n&lt;p&gt;\\n Pô...</td>\n",
       "      <td>None</td>\n",
       "      <td>None</td>\n",
       "      <td>None</td>\n",
       "      <td>2021-11-09T15:42:41+00:00</td>\n",
       "      <td></td>\n",
       "      <td>False</td>\n",
       "      <td>[{'name': 'Aide financière', 'id': 1}]</td>\n",
       "      <td>96</td>\n",
       "      <td>[24]</td>\n",
       "    </tr>\n",
       "    <tr>\n",
       "      <th>387</th>\n",
       "      <td>Soutenir l'économie de proximité en finançant ...</td>\n",
       "      <td>REGIONAL</td>\n",
       "      <td>None</td>\n",
       "      <td>None</td>\n",
       "      <td>&lt;p&gt;\\n &lt;strong&gt;\\n  Aide - « Fonds régional des ...</td>\n",
       "      <td></td>\n",
       "      <td>None</td>\n",
       "      <td>https://www.bourgognefranchecomte.fr/node/2835</td>\n",
       "      <td>2021-12-31T00:00:00+00:00</td>\n",
       "      <td></td>\n",
       "      <td>...</td>\n",
       "      <td>&lt;p&gt;\\n &lt;ul&gt;\\n  &lt;li&gt;\\n   Votre intercommunalité,...</td>\n",
       "      <td>None</td>\n",
       "      <td>None</td>\n",
       "      <td>None</td>\n",
       "      <td>2021-11-09T15:42:40+00:00</td>\n",
       "      <td></td>\n",
       "      <td>False</td>\n",
       "      <td>[{'name': 'Aide financière', 'id': 1}]</td>\n",
       "      <td>59</td>\n",
       "      <td>[10]</td>\n",
       "    </tr>\n",
       "    <tr>\n",
       "      <th>388</th>\n",
       "      <td>Soutenir le développement d'investissements ag...</td>\n",
       "      <td>REGIONAL</td>\n",
       "      <td>None</td>\n",
       "      <td>None</td>\n",
       "      <td>&lt;p&gt;\\n La Région Occitanie est aux côtés des ac...</td>\n",
       "      <td>&lt;p&gt;\\n &lt;strong&gt;\\n  Bénéficiaires\\n &lt;/strong&gt;\\n ...</td>\n",
       "      <td>None</td>\n",
       "      <td>https://www.laregion.fr/PASS-Agritourisme</td>\n",
       "      <td>None</td>\n",
       "      <td></td>\n",
       "      <td>...</td>\n",
       "      <td>&lt;p&gt;\\n Contact\\n&lt;/p&gt;\\n&lt;p&gt;\\n Direction de l'Agri...</td>\n",
       "      <td>None</td>\n",
       "      <td>None</td>\n",
       "      <td>None</td>\n",
       "      <td>2021-11-09T15:42:40+00:00</td>\n",
       "      <td></td>\n",
       "      <td>False</td>\n",
       "      <td>[{'name': 'Aide financière', 'id': 1}]</td>\n",
       "      <td>64</td>\n",
       "      <td>[30]</td>\n",
       "    </tr>\n",
       "    <tr>\n",
       "      <th>389</th>\n",
       "      <td>Soutenir les projets d'investissement valorisa...</td>\n",
       "      <td>REGIONAL</td>\n",
       "      <td>None</td>\n",
       "      <td>None</td>\n",
       "      <td>&lt;p&gt;\\n La Région Occitanie soutient les projets...</td>\n",
       "      <td>&lt;p&gt;\\n &lt;strong&gt;\\n  Bénéficiaires\\n &lt;/strong&gt;\\n&lt;...</td>\n",
       "      <td>None</td>\n",
       "      <td>https://www.laregion.fr/Pass-Agri-valorisation</td>\n",
       "      <td>None</td>\n",
       "      <td></td>\n",
       "      <td>...</td>\n",
       "      <td>&lt;p&gt;\\n Contact\\n&lt;/p&gt;\\n&lt;p&gt;\\n Direction de l'Agri...</td>\n",
       "      <td>None</td>\n",
       "      <td>None</td>\n",
       "      <td>None</td>\n",
       "      <td>2021-11-09T15:42:40+00:00</td>\n",
       "      <td>&lt;p&gt;\\n Sont éligibles les investissements ayant...</td>\n",
       "      <td>False</td>\n",
       "      <td>[{'name': 'Aide financière', 'id': 1}]</td>\n",
       "      <td>62</td>\n",
       "      <td>[30]</td>\n",
       "    </tr>\n",
       "  </tbody>\n",
       "</table>\n",
       "<p>390 rows × 25 columns</p>\n",
       "</div>"
      ],
      "text/plain": [
       "                                                  name perimeter  goal  \\\n",
       "0    Financer les études et tests préalables aux in...  NATIONAL  None   \n",
       "1    Soutenir financièrement le développement de l'...  NATIONAL  None   \n",
       "2    Financer les études de préfiguration d'une dém...  NATIONAL  None   \n",
       "3    Réaliser des investissements de décarbonation ...  NATIONAL  None   \n",
       "4    Financer des audits énergétiques en entreprise...  NATIONAL  None   \n",
       "..                                                 ...       ...   ...   \n",
       "385  Soutenir l'émergence de solutions innovantes p...  REGIONAL  None   \n",
       "386    Sortir de vacance les logements locatifs privés  REGIONAL  None   \n",
       "387  Soutenir l'économie de proximité en finançant ...  REGIONAL  None   \n",
       "388  Soutenir le développement d'investissements ag...  REGIONAL  None   \n",
       "389  Soutenir les projets d'investissement valorisa...  REGIONAL  None   \n",
       "\n",
       "    beneficiary                                         aidDetails  \\\n",
       "0          None  <p>\\n <strong>\\n  Aide - « Études et tests pré...   \n",
       "1          None  <p>\\n Le dispositif de l'ADEME – ORPLAST (Obje...   \n",
       "2          None  <p>\\n Aide - « Étude de préfiguration d'une dé...   \n",
       "3          None  <p>\\n Plusieurs dispositifs sont ouverts aux e...   \n",
       "4          None  <p>\\n <strong>\\n  Aide - « Financement des aud...   \n",
       "..          ...                                                ...   \n",
       "385        None  <p>\\n <strong>\\n  La Région soutient l'émergen...   \n",
       "386        None  <p>\\n Le présent dispositif vise à remettre su...   \n",
       "387        None  <p>\\n <strong>\\n  Aide - « Fonds régional des ...   \n",
       "388        None  <p>\\n La Région Occitanie est aux côtés des ac...   \n",
       "389        None  <p>\\n La Région Occitanie soutient les projets...   \n",
       "\n",
       "                                           eligibility conditions  \\\n",
       "0    <p>\\n Critères d'éligibilité\\n <br/>\\n</p>\\n<u...       None   \n",
       "1    <p>\\n <strong>\\n  Sont éligibles, les dossiers...       None   \n",
       "2                                                            None   \n",
       "3    <p>\\n <strong>\\n  Pour que la demande d'aide s...       None   \n",
       "4    <p>\\n Critères d'éligibilité : u\\n ne étude de...       None   \n",
       "..                                                 ...        ...   \n",
       "385                                                          None   \n",
       "386  <p>\\n <strong>\\n  Bénéficiaires éligibles :\\n ...       None   \n",
       "387                                                          None   \n",
       "388  <p>\\n <strong>\\n  Bénéficiaires\\n </strong>\\n ...       None   \n",
       "389  <p>\\n <strong>\\n  Bénéficiaires\\n </strong>\\n<...       None   \n",
       "\n",
       "                                      fundingSourceUrl  \\\n",
       "0    https://agirpourlatransition.ademe.fr/entrepri...   \n",
       "1    https://appelsaprojets.ademe.fr/aap/ORPLAST202...   \n",
       "2    https://agirpourlatransition.ademe.fr/entrepri...   \n",
       "3    https://www.asp-public.fr/aide-en-faveur-des-i...   \n",
       "4    https://agirpourlatransition.ademe.fr/entrepri...   \n",
       "..                                                 ...   \n",
       "385  https://www.iledefrance.fr/soutien-aux-actions...   \n",
       "386                                                      \n",
       "387     https://www.bourgognefranchecomte.fr/node/2835   \n",
       "388          https://www.laregion.fr/PASS-Agritourisme   \n",
       "389     https://www.laregion.fr/Pass-Agri-valorisation   \n",
       "\n",
       "            applicationEndDate applicationUrl  ...  \\\n",
       "0                         None                 ...   \n",
       "1    2022-09-15T00:00:00+00:00                 ...   \n",
       "2                         None                 ...   \n",
       "3    2022-12-31T00:00:00+00:00                 ...   \n",
       "4                         None                 ...   \n",
       "..                         ...            ...  ...   \n",
       "385                       None                 ...   \n",
       "386                       None                 ...   \n",
       "387  2021-12-31T00:00:00+00:00                 ...   \n",
       "388                       None                 ...   \n",
       "389                       None                 ...   \n",
       "\n",
       "                                     contactGuidelines  \\\n",
       "0    <p>\\n Contactez l'ADEME via leur\\n <a href=\"ht...   \n",
       "1    <p>\\n <strong>\\n  Auvergne-Rhône-Alpes\\n </str...   \n",
       "2    <p>\\n Contactez l'ADEME via leur\\n <a href=\"ht...   \n",
       "3    <p>\\n Pour toutes demandes de renseignements, ...   \n",
       "4    <p>\\n Pour en savoir plus sur ce dispositif, c...   \n",
       "..                                                 ...   \n",
       "385  <p>\\n Les porteurs de projet intéressés peuven...   \n",
       "386  <p>\\n Département de la Vendée\\n</p>\\n<p>\\n Pô...   \n",
       "387  <p>\\n <ul>\\n  <li>\\n   Votre intercommunalité,...   \n",
       "388  <p>\\n Contact\\n</p>\\n<p>\\n Direction de l'Agri...   \n",
       "389  <p>\\n Contact\\n</p>\\n<p>\\n Direction de l'Agri...   \n",
       "\n",
       "    subventionRateUpperBound subventionRateLowerBound loanAmount  \\\n",
       "0                         70                     None       None   \n",
       "1                       None                     None       None   \n",
       "2                         69                     None       None   \n",
       "3                       None                     None       None   \n",
       "4                         70                     None       None   \n",
       "..                       ...                      ...        ...   \n",
       "385                     None                     None       None   \n",
       "386                     None                     None       None   \n",
       "387                     None                     None       None   \n",
       "388                     None                     None       None   \n",
       "389                     None                     None       None   \n",
       "\n",
       "          applicationStartDate  \\\n",
       "0    2021-11-09T15:42:42+00:00   \n",
       "1    2020-09-22T00:00:00+00:00   \n",
       "2    2021-11-09T15:42:48+00:00   \n",
       "3    2020-09-15T00:00:00+00:00   \n",
       "4    2021-11-09T15:42:41+00:00   \n",
       "..                         ...   \n",
       "385  2021-10-05T19:09:55+00:00   \n",
       "386  2021-11-09T15:42:41+00:00   \n",
       "387  2021-11-09T15:42:40+00:00   \n",
       "388  2021-11-09T15:42:40+00:00   \n",
       "389  2021-11-09T15:42:40+00:00   \n",
       "\n",
       "                                       projectExamples directAccess  \\\n",
       "0    <p>\\n Actions éligibles :\\n <br/>\\n</p>\\n<ul>\\...        False   \n",
       "1    <p>\\n En cas de questions relatives à l'appel ...        False   \n",
       "2    <p>\\n Actions éligibles :\\n <br/>\\n</p>\\n<p>\\n...        False   \n",
       "3                                                             False   \n",
       "4                                                             False   \n",
       "..                                                 ...          ...   \n",
       "385  <p>\\n <strong>\\n  Les projets peuvent exploite...        False   \n",
       "386                                                           False   \n",
       "387                                                           False   \n",
       "388                                                           False   \n",
       "389  <p>\\n Sont éligibles les investissements ayant...        False   \n",
       "\n",
       "                                      types   id      subclasses  \n",
       "0    [{'name': 'Aide financière', 'id': 1}]  189             [1]  \n",
       "1    [{'name': 'Aide financière', 'id': 1}]  178             [1]  \n",
       "2    [{'name': 'Aide financière', 'id': 1}]  203             [3]  \n",
       "3    [{'name': 'Aide financière', 'id': 1}]  150             [3]  \n",
       "4    [{'name': 'Aide financière', 'id': 1}]  161          [6, 7]  \n",
       "..                                      ...  ...             ...  \n",
       "385  [{'name': 'Aide financière', 'id': 1}]  280  [47, 5, 4, 10]  \n",
       "386  [{'name': 'Aide financière', 'id': 1}]   96            [24]  \n",
       "387  [{'name': 'Aide financière', 'id': 1}]   59            [10]  \n",
       "388  [{'name': 'Aide financière', 'id': 1}]   64            [30]  \n",
       "389  [{'name': 'Aide financière', 'id': 1}]   62            [30]  \n",
       "\n",
       "[390 rows x 25 columns]"
      ]
     },
     "execution_count": 17,
     "metadata": {},
     "output_type": "execute_result"
    }
   ],
   "source": [
    "DF"
   ]
  },
  {
   "cell_type": "code",
   "execution_count": 19,
   "metadata": {},
   "outputs": [
    {
     "data": {
      "text/plain": [
       "<AxesSubplot:xlabel='id', ylabel='countSubclasses'>"
      ]
     },
     "execution_count": 19,
     "metadata": {},
     "output_type": "execute_result"
    },
    {
     "data": {
      "image/png": "[encoded data removed]",
      "text/plain": [
       "<Figure size 864x576 with 1 Axes>"
      ]
     },
     "metadata": {
      "needs_background": "light"
     },
     "output_type": "display_data"
    }
   ],
   "source": [
    "import seaborn as sns\n",
    "import matplotlib.pyplot as plt \n",
    "\n",
    "plt.figure(figsize=(12,8))\n",
    "plt.xticks(rotation=45)\n",
    "\n",
    "sns.barplot(data=TF, x=\"id\", y=\"countSubclasses\")"
   ]
  },
  {
   "cell_type": "code",
   "execution_count": 20,
   "metadata": {},
   "outputs": [],
   "source": [
    "STF = pd.DataFrame()\n",
    "STF[\"id\"] = np.unique(L)"
   ]
  },
  {
   "cell_type": "code",
   "execution_count": 21,
   "metadata": {},
   "outputs": [
    {
     "data": {
      "text/plain": [
       "list"
      ]
     },
     "execution_count": 21,
     "metadata": {},
     "output_type": "execute_result"
    }
   ],
   "source": [
    "type(DF.loc[0, \"subclasses\"])"
   ]
  },
  {
   "cell_type": "code",
   "execution_count": 22,
   "metadata": {},
   "outputs": [],
   "source": [
    "STF[\"countAids\"] = 0\n",
    "\n",
    "for i in range(DF.shape[0]):\n",
    "    for k in range(STF.shape[0]):\n",
    "        if STF.loc[k, \"id\"] in DF.loc[i, \"subclasses\"]:\n",
    "            STF.loc[k, \"countAids\"] += 1"
   ]
  },
  {
   "cell_type": "code",
   "execution_count": 23,
   "metadata": {},
   "outputs": [
    {
     "data": {
      "text/plain": [
       "<AxesSubplot:xlabel='id', ylabel='countAids'>"
      ]
     },
     "execution_count": 23,
     "metadata": {},
     "output_type": "execute_result"
    },
    {
     "data": {
      "image/png": "[encoded data removed]",
      "text/plain": [
       "<Figure size 864x576 with 1 Axes>"
      ]
     },
     "metadata": {
      "needs_background": "light"
     },
     "output_type": "display_data"
    }
   ],
   "source": [
    "plt.figure(figsize=(12,8))\n",
    "plt.xticks(rotation=45)\n",
    "sns.barplot(data=STF, x=\"id\", y=\"countAids\")"
   ]
  },
  {
   "cell_type": "code",
   "execution_count": 24,
   "metadata": {},
   "outputs": [],
   "source": [
    "DF[\"countSubclasses\"] = DF[\"environmentalTopics\"].apply(lambda x: len(x))"
   ]
  },
  {
   "cell_type": "code",
   "execution_count": 25,
   "metadata": {},
   "outputs": [
    {
     "data": {
      "text/html": [
       "<div>\n",
       "<style scoped>\n",
       "    .dataframe tbody tr th:only-of-type {\n",
       "        vertical-align: middle;\n",
       "    }\n",
       "\n",
       "    .dataframe tbody tr th {\n",
       "        vertical-align: top;\n",
       "    }\n",
       "\n",
       "    .dataframe thead th {\n",
       "        text-align: right;\n",
       "    }\n",
       "</style>\n",
       "<table border=\"1\" class=\"dataframe\">\n",
       "  <thead>\n",
       "    <tr style=\"text-align: right;\">\n",
       "      <th></th>\n",
       "      <th>name</th>\n",
       "      <th>perimeter</th>\n",
       "      <th>goal</th>\n",
       "      <th>beneficiary</th>\n",
       "      <th>aidDetails</th>\n",
       "      <th>eligibility</th>\n",
       "      <th>conditions</th>\n",
       "      <th>fundingSourceUrl</th>\n",
       "      <th>applicationEndDate</th>\n",
       "      <th>applicationUrl</th>\n",
       "      <th>...</th>\n",
       "      <th>subventionRateUpperBound</th>\n",
       "      <th>subventionRateLowerBound</th>\n",
       "      <th>loanAmount</th>\n",
       "      <th>applicationStartDate</th>\n",
       "      <th>projectExamples</th>\n",
       "      <th>directAccess</th>\n",
       "      <th>types</th>\n",
       "      <th>id</th>\n",
       "      <th>subclasses</th>\n",
       "      <th>countSubclasses</th>\n",
       "    </tr>\n",
       "  </thead>\n",
       "  <tbody>\n",
       "    <tr>\n",
       "      <th>0</th>\n",
       "      <td>Financer les études et tests préalables aux in...</td>\n",
       "      <td>NATIONAL</td>\n",
       "      <td>None</td>\n",
       "      <td>None</td>\n",
       "      <td>&lt;p&gt;\\n &lt;strong&gt;\\n  Aide - « Études et tests pré...</td>\n",
       "      <td>&lt;p&gt;\\n Critères d'éligibilité\\n &lt;br/&gt;\\n&lt;/p&gt;\\n&lt;u...</td>\n",
       "      <td>None</td>\n",
       "      <td>https://agirpourlatransition.ademe.fr/entrepri...</td>\n",
       "      <td>None</td>\n",
       "      <td></td>\n",
       "      <td>...</td>\n",
       "      <td>70</td>\n",
       "      <td>None</td>\n",
       "      <td>None</td>\n",
       "      <td>2021-11-09T15:42:42+00:00</td>\n",
       "      <td>&lt;p&gt;\\n Actions éligibles :\\n &lt;br/&gt;\\n&lt;/p&gt;\\n&lt;ul&gt;\\...</td>\n",
       "      <td>False</td>\n",
       "      <td>[{'name': 'Aide financière', 'id': 1}]</td>\n",
       "      <td>189</td>\n",
       "      <td>[1]</td>\n",
       "      <td>1</td>\n",
       "    </tr>\n",
       "    <tr>\n",
       "      <th>1</th>\n",
       "      <td>Soutenir financièrement le développement de l'...</td>\n",
       "      <td>NATIONAL</td>\n",
       "      <td>None</td>\n",
       "      <td>None</td>\n",
       "      <td>&lt;p&gt;\\n Le dispositif de l'ADEME – ORPLAST (Obje...</td>\n",
       "      <td>&lt;p&gt;\\n &lt;strong&gt;\\n  Sont éligibles, les dossiers...</td>\n",
       "      <td>None</td>\n",
       "      <td>https://appelsaprojets.ademe.fr/aap/ORPLAST202...</td>\n",
       "      <td>2022-09-15T00:00:00+00:00</td>\n",
       "      <td></td>\n",
       "      <td>...</td>\n",
       "      <td>None</td>\n",
       "      <td>None</td>\n",
       "      <td>None</td>\n",
       "      <td>2020-09-22T00:00:00+00:00</td>\n",
       "      <td>&lt;p&gt;\\n En cas de questions relatives à l'appel ...</td>\n",
       "      <td>False</td>\n",
       "      <td>[{'name': 'Aide financière', 'id': 1}]</td>\n",
       "      <td>178</td>\n",
       "      <td>[1]</td>\n",
       "      <td>1</td>\n",
       "    </tr>\n",
       "    <tr>\n",
       "      <th>2</th>\n",
       "      <td>Financer les études de préfiguration d'une dém...</td>\n",
       "      <td>NATIONAL</td>\n",
       "      <td>None</td>\n",
       "      <td>None</td>\n",
       "      <td>&lt;p&gt;\\n Aide - « Étude de préfiguration d'une dé...</td>\n",
       "      <td></td>\n",
       "      <td>None</td>\n",
       "      <td>https://agirpourlatransition.ademe.fr/entrepri...</td>\n",
       "      <td>None</td>\n",
       "      <td></td>\n",
       "      <td>...</td>\n",
       "      <td>69</td>\n",
       "      <td>None</td>\n",
       "      <td>None</td>\n",
       "      <td>2021-11-09T15:42:48+00:00</td>\n",
       "      <td>&lt;p&gt;\\n Actions éligibles :\\n &lt;br/&gt;\\n&lt;/p&gt;\\n&lt;p&gt;\\n...</td>\n",
       "      <td>False</td>\n",
       "      <td>[{'name': 'Aide financière', 'id': 1}]</td>\n",
       "      <td>203</td>\n",
       "      <td>[3]</td>\n",
       "      <td>1</td>\n",
       "    </tr>\n",
       "    <tr>\n",
       "      <th>3</th>\n",
       "      <td>Réaliser des investissements de décarbonation ...</td>\n",
       "      <td>NATIONAL</td>\n",
       "      <td>None</td>\n",
       "      <td>None</td>\n",
       "      <td>&lt;p&gt;\\n Plusieurs dispositifs sont ouverts aux e...</td>\n",
       "      <td>&lt;p&gt;\\n &lt;strong&gt;\\n  Pour que la demande d'aide s...</td>\n",
       "      <td>None</td>\n",
       "      <td>https://www.asp-public.fr/aide-en-faveur-des-i...</td>\n",
       "      <td>2022-12-31T00:00:00+00:00</td>\n",
       "      <td></td>\n",
       "      <td>...</td>\n",
       "      <td>None</td>\n",
       "      <td>None</td>\n",
       "      <td>None</td>\n",
       "      <td>2020-09-15T00:00:00+00:00</td>\n",
       "      <td></td>\n",
       "      <td>False</td>\n",
       "      <td>[{'name': 'Aide financière', 'id': 1}]</td>\n",
       "      <td>150</td>\n",
       "      <td>[3]</td>\n",
       "      <td>1</td>\n",
       "    </tr>\n",
       "    <tr>\n",
       "      <th>4</th>\n",
       "      <td>Financer des audits énergétiques en entreprise...</td>\n",
       "      <td>NATIONAL</td>\n",
       "      <td>None</td>\n",
       "      <td>None</td>\n",
       "      <td>&lt;p&gt;\\n &lt;strong&gt;\\n  Aide - « Financement des aud...</td>\n",
       "      <td>&lt;p&gt;\\n Critères d'éligibilité : u\\n ne étude de...</td>\n",
       "      <td>None</td>\n",
       "      <td>https://agirpourlatransition.ademe.fr/entrepri...</td>\n",
       "      <td>None</td>\n",
       "      <td></td>\n",
       "      <td>...</td>\n",
       "      <td>70</td>\n",
       "      <td>None</td>\n",
       "      <td>None</td>\n",
       "      <td>2021-11-09T15:42:41+00:00</td>\n",
       "      <td></td>\n",
       "      <td>False</td>\n",
       "      <td>[{'name': 'Aide financière', 'id': 1}]</td>\n",
       "      <td>161</td>\n",
       "      <td>[6, 7]</td>\n",
       "      <td>2</td>\n",
       "    </tr>\n",
       "    <tr>\n",
       "      <th>...</th>\n",
       "      <td>...</td>\n",
       "      <td>...</td>\n",
       "      <td>...</td>\n",
       "      <td>...</td>\n",
       "      <td>...</td>\n",
       "      <td>...</td>\n",
       "      <td>...</td>\n",
       "      <td>...</td>\n",
       "      <td>...</td>\n",
       "      <td>...</td>\n",
       "      <td>...</td>\n",
       "      <td>...</td>\n",
       "      <td>...</td>\n",
       "      <td>...</td>\n",
       "      <td>...</td>\n",
       "      <td>...</td>\n",
       "      <td>...</td>\n",
       "      <td>...</td>\n",
       "      <td>...</td>\n",
       "      <td>...</td>\n",
       "      <td>...</td>\n",
       "    </tr>\n",
       "    <tr>\n",
       "      <th>385</th>\n",
       "      <td>Soutenir l'émergence de solutions innovantes p...</td>\n",
       "      <td>REGIONAL</td>\n",
       "      <td>None</td>\n",
       "      <td>None</td>\n",
       "      <td>&lt;p&gt;\\n &lt;strong&gt;\\n  La Région soutient l'émergen...</td>\n",
       "      <td></td>\n",
       "      <td>None</td>\n",
       "      <td>https://www.iledefrance.fr/soutien-aux-actions...</td>\n",
       "      <td>None</td>\n",
       "      <td></td>\n",
       "      <td>...</td>\n",
       "      <td>None</td>\n",
       "      <td>None</td>\n",
       "      <td>None</td>\n",
       "      <td>2021-10-05T19:09:55+00:00</td>\n",
       "      <td>&lt;p&gt;\\n &lt;strong&gt;\\n  Les projets peuvent exploite...</td>\n",
       "      <td>False</td>\n",
       "      <td>[{'name': 'Aide financière', 'id': 1}]</td>\n",
       "      <td>280</td>\n",
       "      <td>[47, 5, 4, 10]</td>\n",
       "      <td>4</td>\n",
       "    </tr>\n",
       "    <tr>\n",
       "      <th>386</th>\n",
       "      <td>Sortir de vacance les logements locatifs privés</td>\n",
       "      <td>REGIONAL</td>\n",
       "      <td>None</td>\n",
       "      <td>None</td>\n",
       "      <td>&lt;p&gt;\\n Le présent dispositif vise à remettre su...</td>\n",
       "      <td>&lt;p&gt;\\n &lt;strong&gt;\\n  Bénéficiaires éligibles :\\n ...</td>\n",
       "      <td>None</td>\n",
       "      <td></td>\n",
       "      <td>None</td>\n",
       "      <td></td>\n",
       "      <td>...</td>\n",
       "      <td>None</td>\n",
       "      <td>None</td>\n",
       "      <td>None</td>\n",
       "      <td>2021-11-09T15:42:41+00:00</td>\n",
       "      <td></td>\n",
       "      <td>False</td>\n",
       "      <td>[{'name': 'Aide financière', 'id': 1}]</td>\n",
       "      <td>96</td>\n",
       "      <td>[24]</td>\n",
       "      <td>1</td>\n",
       "    </tr>\n",
       "    <tr>\n",
       "      <th>387</th>\n",
       "      <td>Soutenir l'économie de proximité en finançant ...</td>\n",
       "      <td>REGIONAL</td>\n",
       "      <td>None</td>\n",
       "      <td>None</td>\n",
       "      <td>&lt;p&gt;\\n &lt;strong&gt;\\n  Aide - « Fonds régional des ...</td>\n",
       "      <td></td>\n",
       "      <td>None</td>\n",
       "      <td>https://www.bourgognefranchecomte.fr/node/2835</td>\n",
       "      <td>2021-12-31T00:00:00+00:00</td>\n",
       "      <td></td>\n",
       "      <td>...</td>\n",
       "      <td>None</td>\n",
       "      <td>None</td>\n",
       "      <td>None</td>\n",
       "      <td>2021-11-09T15:42:40+00:00</td>\n",
       "      <td></td>\n",
       "      <td>False</td>\n",
       "      <td>[{'name': 'Aide financière', 'id': 1}]</td>\n",
       "      <td>59</td>\n",
       "      <td>[10]</td>\n",
       "      <td>1</td>\n",
       "    </tr>\n",
       "    <tr>\n",
       "      <th>388</th>\n",
       "      <td>Soutenir le développement d'investissements ag...</td>\n",
       "      <td>REGIONAL</td>\n",
       "      <td>None</td>\n",
       "      <td>None</td>\n",
       "      <td>&lt;p&gt;\\n La Région Occitanie est aux côtés des ac...</td>\n",
       "      <td>&lt;p&gt;\\n &lt;strong&gt;\\n  Bénéficiaires\\n &lt;/strong&gt;\\n ...</td>\n",
       "      <td>None</td>\n",
       "      <td>https://www.laregion.fr/PASS-Agritourisme</td>\n",
       "      <td>None</td>\n",
       "      <td></td>\n",
       "      <td>...</td>\n",
       "      <td>None</td>\n",
       "      <td>None</td>\n",
       "      <td>None</td>\n",
       "      <td>2021-11-09T15:42:40+00:00</td>\n",
       "      <td></td>\n",
       "      <td>False</td>\n",
       "      <td>[{'name': 'Aide financière', 'id': 1}]</td>\n",
       "      <td>64</td>\n",
       "      <td>[30]</td>\n",
       "      <td>1</td>\n",
       "    </tr>\n",
       "    <tr>\n",
       "      <th>389</th>\n",
       "      <td>Soutenir les projets d'investissement valorisa...</td>\n",
       "      <td>REGIONAL</td>\n",
       "      <td>None</td>\n",
       "      <td>None</td>\n",
       "      <td>&lt;p&gt;\\n La Région Occitanie soutient les projets...</td>\n",
       "      <td>&lt;p&gt;\\n &lt;strong&gt;\\n  Bénéficiaires\\n &lt;/strong&gt;\\n&lt;...</td>\n",
       "      <td>None</td>\n",
       "      <td>https://www.laregion.fr/Pass-Agri-valorisation</td>\n",
       "      <td>None</td>\n",
       "      <td></td>\n",
       "      <td>...</td>\n",
       "      <td>None</td>\n",
       "      <td>None</td>\n",
       "      <td>None</td>\n",
       "      <td>2021-11-09T15:42:40+00:00</td>\n",
       "      <td>&lt;p&gt;\\n Sont éligibles les investissements ayant...</td>\n",
       "      <td>False</td>\n",
       "      <td>[{'name': 'Aide financière', 'id': 1}]</td>\n",
       "      <td>62</td>\n",
       "      <td>[30]</td>\n",
       "      <td>1</td>\n",
       "    </tr>\n",
       "  </tbody>\n",
       "</table>\n",
       "<p>390 rows × 26 columns</p>\n",
       "</div>"
      ],
      "text/plain": [
       "                                                  name perimeter  goal  \\\n",
       "0    Financer les études et tests préalables aux in...  NATIONAL  None   \n",
       "1    Soutenir financièrement le développement de l'...  NATIONAL  None   \n",
       "2    Financer les études de préfiguration d'une dém...  NATIONAL  None   \n",
       "3    Réaliser des investissements de décarbonation ...  NATIONAL  None   \n",
       "4    Financer des audits énergétiques en entreprise...  NATIONAL  None   \n",
       "..                                                 ...       ...   ...   \n",
       "385  Soutenir l'émergence de solutions innovantes p...  REGIONAL  None   \n",
       "386    Sortir de vacance les logements locatifs privés  REGIONAL  None   \n",
       "387  Soutenir l'économie de proximité en finançant ...  REGIONAL  None   \n",
       "388  Soutenir le développement d'investissements ag...  REGIONAL  None   \n",
       "389  Soutenir les projets d'investissement valorisa...  REGIONAL  None   \n",
       "\n",
       "    beneficiary                                         aidDetails  \\\n",
       "0          None  <p>\\n <strong>\\n  Aide - « Études et tests pré...   \n",
       "1          None  <p>\\n Le dispositif de l'ADEME – ORPLAST (Obje...   \n",
       "2          None  <p>\\n Aide - « Étude de préfiguration d'une dé...   \n",
       "3          None  <p>\\n Plusieurs dispositifs sont ouverts aux e...   \n",
       "4          None  <p>\\n <strong>\\n  Aide - « Financement des aud...   \n",
       "..          ...                                                ...   \n",
       "385        None  <p>\\n <strong>\\n  La Région soutient l'émergen...   \n",
       "386        None  <p>\\n Le présent dispositif vise à remettre su...   \n",
       "387        None  <p>\\n <strong>\\n  Aide - « Fonds régional des ...   \n",
       "388        None  <p>\\n La Région Occitanie est aux côtés des ac...   \n",
       "389        None  <p>\\n La Région Occitanie soutient les projets...   \n",
       "\n",
       "                                           eligibility conditions  \\\n",
       "0    <p>\\n Critères d'éligibilité\\n <br/>\\n</p>\\n<u...       None   \n",
       "1    <p>\\n <strong>\\n  Sont éligibles, les dossiers...       None   \n",
       "2                                                            None   \n",
       "3    <p>\\n <strong>\\n  Pour que la demande d'aide s...       None   \n",
       "4    <p>\\n Critères d'éligibilité : u\\n ne étude de...       None   \n",
       "..                                                 ...        ...   \n",
       "385                                                          None   \n",
       "386  <p>\\n <strong>\\n  Bénéficiaires éligibles :\\n ...       None   \n",
       "387                                                          None   \n",
       "388  <p>\\n <strong>\\n  Bénéficiaires\\n </strong>\\n ...       None   \n",
       "389  <p>\\n <strong>\\n  Bénéficiaires\\n </strong>\\n<...       None   \n",
       "\n",
       "                                      fundingSourceUrl  \\\n",
       "0    https://agirpourlatransition.ademe.fr/entrepri...   \n",
       "1    https://appelsaprojets.ademe.fr/aap/ORPLAST202...   \n",
       "2    https://agirpourlatransition.ademe.fr/entrepri...   \n",
       "3    https://www.asp-public.fr/aide-en-faveur-des-i...   \n",
       "4    https://agirpourlatransition.ademe.fr/entrepri...   \n",
       "..                                                 ...   \n",
       "385  https://www.iledefrance.fr/soutien-aux-actions...   \n",
       "386                                                      \n",
       "387     https://www.bourgognefranchecomte.fr/node/2835   \n",
       "388          https://www.laregion.fr/PASS-Agritourisme   \n",
       "389     https://www.laregion.fr/Pass-Agri-valorisation   \n",
       "\n",
       "            applicationEndDate applicationUrl  ... subventionRateUpperBound  \\\n",
       "0                         None                 ...                       70   \n",
       "1    2022-09-15T00:00:00+00:00                 ...                     None   \n",
       "2                         None                 ...                       69   \n",
       "3    2022-12-31T00:00:00+00:00                 ...                     None   \n",
       "4                         None                 ...                       70   \n",
       "..                         ...            ...  ...                      ...   \n",
       "385                       None                 ...                     None   \n",
       "386                       None                 ...                     None   \n",
       "387  2021-12-31T00:00:00+00:00                 ...                     None   \n",
       "388                       None                 ...                     None   \n",
       "389                       None                 ...                     None   \n",
       "\n",
       "    subventionRateLowerBound loanAmount       applicationStartDate  \\\n",
       "0                       None       None  2021-11-09T15:42:42+00:00   \n",
       "1                       None       None  2020-09-22T00:00:00+00:00   \n",
       "2                       None       None  2021-11-09T15:42:48+00:00   \n",
       "3                       None       None  2020-09-15T00:00:00+00:00   \n",
       "4                       None       None  2021-11-09T15:42:41+00:00   \n",
       "..                       ...        ...                        ...   \n",
       "385                     None       None  2021-10-05T19:09:55+00:00   \n",
       "386                     None       None  2021-11-09T15:42:41+00:00   \n",
       "387                     None       None  2021-11-09T15:42:40+00:00   \n",
       "388                     None       None  2021-11-09T15:42:40+00:00   \n",
       "389                     None       None  2021-11-09T15:42:40+00:00   \n",
       "\n",
       "                                       projectExamples directAccess  \\\n",
       "0    <p>\\n Actions éligibles :\\n <br/>\\n</p>\\n<ul>\\...        False   \n",
       "1    <p>\\n En cas de questions relatives à l'appel ...        False   \n",
       "2    <p>\\n Actions éligibles :\\n <br/>\\n</p>\\n<p>\\n...        False   \n",
       "3                                                             False   \n",
       "4                                                             False   \n",
       "..                                                 ...          ...   \n",
       "385  <p>\\n <strong>\\n  Les projets peuvent exploite...        False   \n",
       "386                                                           False   \n",
       "387                                                           False   \n",
       "388                                                           False   \n",
       "389  <p>\\n Sont éligibles les investissements ayant...        False   \n",
       "\n",
       "                                      types   id      subclasses  \\\n",
       "0    [{'name': 'Aide financière', 'id': 1}]  189             [1]   \n",
       "1    [{'name': 'Aide financière', 'id': 1}]  178             [1]   \n",
       "2    [{'name': 'Aide financière', 'id': 1}]  203             [3]   \n",
       "3    [{'name': 'Aide financière', 'id': 1}]  150             [3]   \n",
       "4    [{'name': 'Aide financière', 'id': 1}]  161          [6, 7]   \n",
       "..                                      ...  ...             ...   \n",
       "385  [{'name': 'Aide financière', 'id': 1}]  280  [47, 5, 4, 10]   \n",
       "386  [{'name': 'Aide financière', 'id': 1}]   96            [24]   \n",
       "387  [{'name': 'Aide financière', 'id': 1}]   59            [10]   \n",
       "388  [{'name': 'Aide financière', 'id': 1}]   64            [30]   \n",
       "389  [{'name': 'Aide financière', 'id': 1}]   62            [30]   \n",
       "\n",
       "    countSubclasses  \n",
       "0                 1  \n",
       "1                 1  \n",
       "2                 1  \n",
       "3                 1  \n",
       "4                 2  \n",
       "..              ...  \n",
       "385               4  \n",
       "386               1  \n",
       "387               1  \n",
       "388               1  \n",
       "389               1  \n",
       "\n",
       "[390 rows x 26 columns]"
      ]
     },
     "execution_count": 25,
     "metadata": {},
     "output_type": "execute_result"
    }
   ],
   "source": [
    "DF"
   ]
  },
  {
   "cell_type": "code",
   "execution_count": 26,
   "metadata": {},
   "outputs": [
    {
     "data": {
      "text/plain": [
       "'Evolution des procédés industriels'"
      ]
     },
     "execution_count": 26,
     "metadata": {},
     "output_type": "execute_result"
    }
   ],
   "source": [
    "TF[TF[\"id\"]==1].name[0]"
   ]
  },
  {
   "cell_type": "code",
   "execution_count": 27,
   "metadata": {},
   "outputs": [
    {
     "ename": "KeyError",
     "evalue": "'classes'",
     "output_type": "error",
     "traceback": [
      "\u001b[1;31m---------------------------------------------------------------------------\u001b[0m",
      "\u001b[1;31mKeyError\u001b[0m                                  Traceback (most recent call last)",
      "\u001b[1;32m~\\anaconda3\\envs\\amine\\lib\\site-packages\\pandas\\core\\indexes\\base.py\u001b[0m in \u001b[0;36mget_loc\u001b[1;34m(self, key, method, tolerance)\u001b[0m\n\u001b[0;32m   3079\u001b[0m             \u001b[1;32mtry\u001b[0m\u001b[1;33m:\u001b[0m\u001b[1;33m\u001b[0m\u001b[1;33m\u001b[0m\u001b[0m\n\u001b[1;32m-> 3080\u001b[1;33m                 \u001b[1;32mreturn\u001b[0m \u001b[0mself\u001b[0m\u001b[1;33m.\u001b[0m\u001b[0m_engine\u001b[0m\u001b[1;33m.\u001b[0m\u001b[0mget_loc\u001b[0m\u001b[1;33m(\u001b[0m\u001b[0mcasted_key\u001b[0m\u001b[1;33m)\u001b[0m\u001b[1;33m\u001b[0m\u001b[1;33m\u001b[0m\u001b[0m\n\u001b[0m\u001b[0;32m   3081\u001b[0m             \u001b[1;32mexcept\u001b[0m \u001b[0mKeyError\u001b[0m \u001b[1;32mas\u001b[0m \u001b[0merr\u001b[0m\u001b[1;33m:\u001b[0m\u001b[1;33m\u001b[0m\u001b[1;33m\u001b[0m\u001b[0m\n",
      "\u001b[1;32mpandas\\_libs\\index.pyx\u001b[0m in \u001b[0;36mpandas._libs.index.IndexEngine.get_loc\u001b[1;34m()\u001b[0m\n",
      "\u001b[1;32mpandas\\_libs\\index.pyx\u001b[0m in \u001b[0;36mpandas._libs.index.IndexEngine.get_loc\u001b[1;34m()\u001b[0m\n",
      "\u001b[1;32mpandas\\_libs\\hashtable_class_helper.pxi\u001b[0m in \u001b[0;36mpandas._libs.hashtable.PyObjectHashTable.get_item\u001b[1;34m()\u001b[0m\n",
      "\u001b[1;32mpandas\\_libs\\hashtable_class_helper.pxi\u001b[0m in \u001b[0;36mpandas._libs.hashtable.PyObjectHashTable.get_item\u001b[1;34m()\u001b[0m\n",
      "\u001b[1;31mKeyError\u001b[0m: 'classes'",
      "\nThe above exception was the direct cause of the following exception:\n",
      "\u001b[1;31mKeyError\u001b[0m                                  Traceback (most recent call last)",
      "\u001b[1;32m<ipython-input-27-408bfb0c5004>\u001b[0m in \u001b[0;36m<module>\u001b[1;34m\u001b[0m\n\u001b[0;32m      6\u001b[0m \u001b[1;32mfor\u001b[0m \u001b[0mi\u001b[0m \u001b[1;32min\u001b[0m \u001b[0mrange\u001b[0m\u001b[1;33m(\u001b[0m\u001b[0mDF\u001b[0m\u001b[1;33m.\u001b[0m\u001b[0mshape\u001b[0m\u001b[1;33m[\u001b[0m\u001b[1;36m0\u001b[0m\u001b[1;33m]\u001b[0m\u001b[1;33m)\u001b[0m\u001b[1;33m:\u001b[0m\u001b[1;33m\u001b[0m\u001b[1;33m\u001b[0m\u001b[0m\n\u001b[0;32m      7\u001b[0m     \u001b[1;32mfor\u001b[0m \u001b[0mk\u001b[0m \u001b[1;32min\u001b[0m \u001b[0mrange\u001b[0m\u001b[1;33m(\u001b[0m\u001b[0mTTF\u001b[0m\u001b[1;33m.\u001b[0m\u001b[0mshape\u001b[0m\u001b[1;33m[\u001b[0m\u001b[1;36m0\u001b[0m\u001b[1;33m]\u001b[0m\u001b[1;33m)\u001b[0m\u001b[1;33m:\u001b[0m\u001b[1;33m\u001b[0m\u001b[1;33m\u001b[0m\u001b[0m\n\u001b[1;32m----> 8\u001b[1;33m         \u001b[1;32mif\u001b[0m \u001b[0mTTF\u001b[0m\u001b[1;33m.\u001b[0m\u001b[0mloc\u001b[0m\u001b[1;33m[\u001b[0m\u001b[0mk\u001b[0m\u001b[1;33m,\u001b[0m \u001b[1;34m\"id\"\u001b[0m\u001b[1;33m]\u001b[0m \u001b[1;32min\u001b[0m \u001b[0mDF\u001b[0m\u001b[1;33m.\u001b[0m\u001b[0mloc\u001b[0m\u001b[1;33m[\u001b[0m\u001b[0mi\u001b[0m\u001b[1;33m,\u001b[0m \u001b[1;34m\"classes\"\u001b[0m\u001b[1;33m]\u001b[0m\u001b[1;33m:\u001b[0m\u001b[1;33m\u001b[0m\u001b[1;33m\u001b[0m\u001b[0m\n\u001b[0m\u001b[0;32m      9\u001b[0m             \u001b[0mTTF\u001b[0m\u001b[1;33m.\u001b[0m\u001b[0mloc\u001b[0m\u001b[1;33m[\u001b[0m\u001b[0mk\u001b[0m\u001b[1;33m,\u001b[0m \u001b[1;34m\"countAids\"\u001b[0m\u001b[1;33m]\u001b[0m \u001b[1;33m+=\u001b[0m \u001b[1;36m1\u001b[0m\u001b[1;33m\u001b[0m\u001b[1;33m\u001b[0m\u001b[0m\n",
      "\u001b[1;32m~\\anaconda3\\envs\\amine\\lib\\site-packages\\pandas\\core\\indexing.py\u001b[0m in \u001b[0;36m__getitem__\u001b[1;34m(self, key)\u001b[0m\n\u001b[0;32m    887\u001b[0m                     \u001b[1;31m# AttributeError for IntervalTree get_value\u001b[0m\u001b[1;33m\u001b[0m\u001b[1;33m\u001b[0m\u001b[1;33m\u001b[0m\u001b[0m\n\u001b[0;32m    888\u001b[0m                     \u001b[1;32mreturn\u001b[0m \u001b[0mself\u001b[0m\u001b[1;33m.\u001b[0m\u001b[0mobj\u001b[0m\u001b[1;33m.\u001b[0m\u001b[0m_get_value\u001b[0m\u001b[1;33m(\u001b[0m\u001b[1;33m*\u001b[0m\u001b[0mkey\u001b[0m\u001b[1;33m,\u001b[0m \u001b[0mtakeable\u001b[0m\u001b[1;33m=\u001b[0m\u001b[0mself\u001b[0m\u001b[1;33m.\u001b[0m\u001b[0m_takeable\u001b[0m\u001b[1;33m)\u001b[0m\u001b[1;33m\u001b[0m\u001b[1;33m\u001b[0m\u001b[0m\n\u001b[1;32m--> 889\u001b[1;33m             \u001b[1;32mreturn\u001b[0m \u001b[0mself\u001b[0m\u001b[1;33m.\u001b[0m\u001b[0m_getitem_tuple\u001b[0m\u001b[1;33m(\u001b[0m\u001b[0mkey\u001b[0m\u001b[1;33m)\u001b[0m\u001b[1;33m\u001b[0m\u001b[1;33m\u001b[0m\u001b[0m\n\u001b[0m\u001b[0;32m    890\u001b[0m         \u001b[1;32melse\u001b[0m\u001b[1;33m:\u001b[0m\u001b[1;33m\u001b[0m\u001b[1;33m\u001b[0m\u001b[0m\n\u001b[0;32m    891\u001b[0m             \u001b[1;31m# we by definition only have the 0th axis\u001b[0m\u001b[1;33m\u001b[0m\u001b[1;33m\u001b[0m\u001b[1;33m\u001b[0m\u001b[0m\n",
      "\u001b[1;32m~\\anaconda3\\envs\\amine\\lib\\site-packages\\pandas\\core\\indexing.py\u001b[0m in \u001b[0;36m_getitem_tuple\u001b[1;34m(self, tup)\u001b[0m\n\u001b[0;32m   1058\u001b[0m     \u001b[1;32mdef\u001b[0m \u001b[0m_getitem_tuple\u001b[0m\u001b[1;33m(\u001b[0m\u001b[0mself\u001b[0m\u001b[1;33m,\u001b[0m \u001b[0mtup\u001b[0m\u001b[1;33m:\u001b[0m \u001b[0mTuple\u001b[0m\u001b[1;33m)\u001b[0m\u001b[1;33m:\u001b[0m\u001b[1;33m\u001b[0m\u001b[1;33m\u001b[0m\u001b[0m\n\u001b[0;32m   1059\u001b[0m         \u001b[1;32mwith\u001b[0m \u001b[0msuppress\u001b[0m\u001b[1;33m(\u001b[0m\u001b[0mIndexingError\u001b[0m\u001b[1;33m)\u001b[0m\u001b[1;33m:\u001b[0m\u001b[1;33m\u001b[0m\u001b[1;33m\u001b[0m\u001b[0m\n\u001b[1;32m-> 1060\u001b[1;33m             \u001b[1;32mreturn\u001b[0m \u001b[0mself\u001b[0m\u001b[1;33m.\u001b[0m\u001b[0m_getitem_lowerdim\u001b[0m\u001b[1;33m(\u001b[0m\u001b[0mtup\u001b[0m\u001b[1;33m)\u001b[0m\u001b[1;33m\u001b[0m\u001b[1;33m\u001b[0m\u001b[0m\n\u001b[0m\u001b[0;32m   1061\u001b[0m \u001b[1;33m\u001b[0m\u001b[0m\n\u001b[0;32m   1062\u001b[0m         \u001b[1;31m# no multi-index, so validate all of the indexers\u001b[0m\u001b[1;33m\u001b[0m\u001b[1;33m\u001b[0m\u001b[1;33m\u001b[0m\u001b[0m\n",
      "\u001b[1;32m~\\anaconda3\\envs\\amine\\lib\\site-packages\\pandas\\core\\indexing.py\u001b[0m in \u001b[0;36m_getitem_lowerdim\u001b[1;34m(self, tup)\u001b[0m\n\u001b[0;32m    829\u001b[0m                     \u001b[1;32mreturn\u001b[0m \u001b[0msection\u001b[0m\u001b[1;33m\u001b[0m\u001b[1;33m\u001b[0m\u001b[0m\n\u001b[0;32m    830\u001b[0m                 \u001b[1;31m# This is an elided recursive call to iloc/loc\u001b[0m\u001b[1;33m\u001b[0m\u001b[1;33m\u001b[0m\u001b[1;33m\u001b[0m\u001b[0m\n\u001b[1;32m--> 831\u001b[1;33m                 \u001b[1;32mreturn\u001b[0m \u001b[0mgetattr\u001b[0m\u001b[1;33m(\u001b[0m\u001b[0msection\u001b[0m\u001b[1;33m,\u001b[0m \u001b[0mself\u001b[0m\u001b[1;33m.\u001b[0m\u001b[0mname\u001b[0m\u001b[1;33m)\u001b[0m\u001b[1;33m[\u001b[0m\u001b[0mnew_key\u001b[0m\u001b[1;33m]\u001b[0m\u001b[1;33m\u001b[0m\u001b[1;33m\u001b[0m\u001b[0m\n\u001b[0m\u001b[0;32m    832\u001b[0m \u001b[1;33m\u001b[0m\u001b[0m\n\u001b[0;32m    833\u001b[0m         \u001b[1;32mraise\u001b[0m \u001b[0mIndexingError\u001b[0m\u001b[1;33m(\u001b[0m\u001b[1;34m\"not applicable\"\u001b[0m\u001b[1;33m)\u001b[0m\u001b[1;33m\u001b[0m\u001b[1;33m\u001b[0m\u001b[0m\n",
      "\u001b[1;32m~\\anaconda3\\envs\\amine\\lib\\site-packages\\pandas\\core\\indexing.py\u001b[0m in \u001b[0;36m__getitem__\u001b[1;34m(self, key)\u001b[0m\n\u001b[0;32m    893\u001b[0m \u001b[1;33m\u001b[0m\u001b[0m\n\u001b[0;32m    894\u001b[0m             \u001b[0mmaybe_callable\u001b[0m \u001b[1;33m=\u001b[0m \u001b[0mcom\u001b[0m\u001b[1;33m.\u001b[0m\u001b[0mapply_if_callable\u001b[0m\u001b[1;33m(\u001b[0m\u001b[0mkey\u001b[0m\u001b[1;33m,\u001b[0m \u001b[0mself\u001b[0m\u001b[1;33m.\u001b[0m\u001b[0mobj\u001b[0m\u001b[1;33m)\u001b[0m\u001b[1;33m\u001b[0m\u001b[1;33m\u001b[0m\u001b[0m\n\u001b[1;32m--> 895\u001b[1;33m             \u001b[1;32mreturn\u001b[0m \u001b[0mself\u001b[0m\u001b[1;33m.\u001b[0m\u001b[0m_getitem_axis\u001b[0m\u001b[1;33m(\u001b[0m\u001b[0mmaybe_callable\u001b[0m\u001b[1;33m,\u001b[0m \u001b[0maxis\u001b[0m\u001b[1;33m=\u001b[0m\u001b[0maxis\u001b[0m\u001b[1;33m)\u001b[0m\u001b[1;33m\u001b[0m\u001b[1;33m\u001b[0m\u001b[0m\n\u001b[0m\u001b[0;32m    896\u001b[0m \u001b[1;33m\u001b[0m\u001b[0m\n\u001b[0;32m    897\u001b[0m     \u001b[1;32mdef\u001b[0m \u001b[0m_is_scalar_access\u001b[0m\u001b[1;33m(\u001b[0m\u001b[0mself\u001b[0m\u001b[1;33m,\u001b[0m \u001b[0mkey\u001b[0m\u001b[1;33m:\u001b[0m \u001b[0mTuple\u001b[0m\u001b[1;33m)\u001b[0m\u001b[1;33m:\u001b[0m\u001b[1;33m\u001b[0m\u001b[1;33m\u001b[0m\u001b[0m\n",
      "\u001b[1;32m~\\anaconda3\\envs\\amine\\lib\\site-packages\\pandas\\core\\indexing.py\u001b[0m in \u001b[0;36m_getitem_axis\u001b[1;34m(self, key, axis)\u001b[0m\n\u001b[0;32m   1122\u001b[0m         \u001b[1;31m# fall thru to straight lookup\u001b[0m\u001b[1;33m\u001b[0m\u001b[1;33m\u001b[0m\u001b[1;33m\u001b[0m\u001b[0m\n\u001b[0;32m   1123\u001b[0m         \u001b[0mself\u001b[0m\u001b[1;33m.\u001b[0m\u001b[0m_validate_key\u001b[0m\u001b[1;33m(\u001b[0m\u001b[0mkey\u001b[0m\u001b[1;33m,\u001b[0m \u001b[0maxis\u001b[0m\u001b[1;33m)\u001b[0m\u001b[1;33m\u001b[0m\u001b[1;33m\u001b[0m\u001b[0m\n\u001b[1;32m-> 1124\u001b[1;33m         \u001b[1;32mreturn\u001b[0m \u001b[0mself\u001b[0m\u001b[1;33m.\u001b[0m\u001b[0m_get_label\u001b[0m\u001b[1;33m(\u001b[0m\u001b[0mkey\u001b[0m\u001b[1;33m,\u001b[0m \u001b[0maxis\u001b[0m\u001b[1;33m=\u001b[0m\u001b[0maxis\u001b[0m\u001b[1;33m)\u001b[0m\u001b[1;33m\u001b[0m\u001b[1;33m\u001b[0m\u001b[0m\n\u001b[0m\u001b[0;32m   1125\u001b[0m \u001b[1;33m\u001b[0m\u001b[0m\n\u001b[0;32m   1126\u001b[0m     \u001b[1;32mdef\u001b[0m \u001b[0m_get_slice_axis\u001b[0m\u001b[1;33m(\u001b[0m\u001b[0mself\u001b[0m\u001b[1;33m,\u001b[0m \u001b[0mslice_obj\u001b[0m\u001b[1;33m:\u001b[0m \u001b[0mslice\u001b[0m\u001b[1;33m,\u001b[0m \u001b[0maxis\u001b[0m\u001b[1;33m:\u001b[0m \u001b[0mint\u001b[0m\u001b[1;33m)\u001b[0m\u001b[1;33m:\u001b[0m\u001b[1;33m\u001b[0m\u001b[1;33m\u001b[0m\u001b[0m\n",
      "\u001b[1;32m~\\anaconda3\\envs\\amine\\lib\\site-packages\\pandas\\core\\indexing.py\u001b[0m in \u001b[0;36m_get_label\u001b[1;34m(self, label, axis)\u001b[0m\n\u001b[0;32m   1071\u001b[0m     \u001b[1;32mdef\u001b[0m \u001b[0m_get_label\u001b[0m\u001b[1;33m(\u001b[0m\u001b[0mself\u001b[0m\u001b[1;33m,\u001b[0m \u001b[0mlabel\u001b[0m\u001b[1;33m,\u001b[0m \u001b[0maxis\u001b[0m\u001b[1;33m:\u001b[0m \u001b[0mint\u001b[0m\u001b[1;33m)\u001b[0m\u001b[1;33m:\u001b[0m\u001b[1;33m\u001b[0m\u001b[1;33m\u001b[0m\u001b[0m\n\u001b[0;32m   1072\u001b[0m         \u001b[1;31m# GH#5667 this will fail if the label is not present in the axis.\u001b[0m\u001b[1;33m\u001b[0m\u001b[1;33m\u001b[0m\u001b[1;33m\u001b[0m\u001b[0m\n\u001b[1;32m-> 1073\u001b[1;33m         \u001b[1;32mreturn\u001b[0m \u001b[0mself\u001b[0m\u001b[1;33m.\u001b[0m\u001b[0mobj\u001b[0m\u001b[1;33m.\u001b[0m\u001b[0mxs\u001b[0m\u001b[1;33m(\u001b[0m\u001b[0mlabel\u001b[0m\u001b[1;33m,\u001b[0m \u001b[0maxis\u001b[0m\u001b[1;33m=\u001b[0m\u001b[0maxis\u001b[0m\u001b[1;33m)\u001b[0m\u001b[1;33m\u001b[0m\u001b[1;33m\u001b[0m\u001b[0m\n\u001b[0m\u001b[0;32m   1074\u001b[0m \u001b[1;33m\u001b[0m\u001b[0m\n\u001b[0;32m   1075\u001b[0m     \u001b[1;32mdef\u001b[0m \u001b[0m_handle_lowerdim_multi_index_axis0\u001b[0m\u001b[1;33m(\u001b[0m\u001b[0mself\u001b[0m\u001b[1;33m,\u001b[0m \u001b[0mtup\u001b[0m\u001b[1;33m:\u001b[0m \u001b[0mTuple\u001b[0m\u001b[1;33m)\u001b[0m\u001b[1;33m:\u001b[0m\u001b[1;33m\u001b[0m\u001b[1;33m\u001b[0m\u001b[0m\n",
      "\u001b[1;32m~\\anaconda3\\envs\\amine\\lib\\site-packages\\pandas\\core\\generic.py\u001b[0m in \u001b[0;36mxs\u001b[1;34m(self, key, axis, level, drop_level)\u001b[0m\n\u001b[0;32m   3737\u001b[0m                 \u001b[1;32mraise\u001b[0m \u001b[0mTypeError\u001b[0m\u001b[1;33m(\u001b[0m\u001b[1;34mf\"Expected label or tuple of labels, got {key}\"\u001b[0m\u001b[1;33m)\u001b[0m \u001b[1;32mfrom\u001b[0m \u001b[0me\u001b[0m\u001b[1;33m\u001b[0m\u001b[1;33m\u001b[0m\u001b[0m\n\u001b[0;32m   3738\u001b[0m         \u001b[1;32melse\u001b[0m\u001b[1;33m:\u001b[0m\u001b[1;33m\u001b[0m\u001b[1;33m\u001b[0m\u001b[0m\n\u001b[1;32m-> 3739\u001b[1;33m             \u001b[0mloc\u001b[0m \u001b[1;33m=\u001b[0m \u001b[0mindex\u001b[0m\u001b[1;33m.\u001b[0m\u001b[0mget_loc\u001b[0m\u001b[1;33m(\u001b[0m\u001b[0mkey\u001b[0m\u001b[1;33m)\u001b[0m\u001b[1;33m\u001b[0m\u001b[1;33m\u001b[0m\u001b[0m\n\u001b[0m\u001b[0;32m   3740\u001b[0m \u001b[1;33m\u001b[0m\u001b[0m\n\u001b[0;32m   3741\u001b[0m             \u001b[1;32mif\u001b[0m \u001b[0misinstance\u001b[0m\u001b[1;33m(\u001b[0m\u001b[0mloc\u001b[0m\u001b[1;33m,\u001b[0m \u001b[0mnp\u001b[0m\u001b[1;33m.\u001b[0m\u001b[0mndarray\u001b[0m\u001b[1;33m)\u001b[0m\u001b[1;33m:\u001b[0m\u001b[1;33m\u001b[0m\u001b[1;33m\u001b[0m\u001b[0m\n",
      "\u001b[1;32m~\\anaconda3\\envs\\amine\\lib\\site-packages\\pandas\\core\\indexes\\base.py\u001b[0m in \u001b[0;36mget_loc\u001b[1;34m(self, key, method, tolerance)\u001b[0m\n\u001b[0;32m   3080\u001b[0m                 \u001b[1;32mreturn\u001b[0m \u001b[0mself\u001b[0m\u001b[1;33m.\u001b[0m\u001b[0m_engine\u001b[0m\u001b[1;33m.\u001b[0m\u001b[0mget_loc\u001b[0m\u001b[1;33m(\u001b[0m\u001b[0mcasted_key\u001b[0m\u001b[1;33m)\u001b[0m\u001b[1;33m\u001b[0m\u001b[1;33m\u001b[0m\u001b[0m\n\u001b[0;32m   3081\u001b[0m             \u001b[1;32mexcept\u001b[0m \u001b[0mKeyError\u001b[0m \u001b[1;32mas\u001b[0m \u001b[0merr\u001b[0m\u001b[1;33m:\u001b[0m\u001b[1;33m\u001b[0m\u001b[1;33m\u001b[0m\u001b[0m\n\u001b[1;32m-> 3082\u001b[1;33m                 \u001b[1;32mraise\u001b[0m \u001b[0mKeyError\u001b[0m\u001b[1;33m(\u001b[0m\u001b[0mkey\u001b[0m\u001b[1;33m)\u001b[0m \u001b[1;32mfrom\u001b[0m \u001b[0merr\u001b[0m\u001b[1;33m\u001b[0m\u001b[1;33m\u001b[0m\u001b[0m\n\u001b[0m\u001b[0;32m   3083\u001b[0m \u001b[1;33m\u001b[0m\u001b[0m\n\u001b[0;32m   3084\u001b[0m         \u001b[1;32mif\u001b[0m \u001b[0mtolerance\u001b[0m \u001b[1;32mis\u001b[0m \u001b[1;32mnot\u001b[0m \u001b[1;32mNone\u001b[0m\u001b[1;33m:\u001b[0m\u001b[1;33m\u001b[0m\u001b[1;33m\u001b[0m\u001b[0m\n",
      "\u001b[1;31mKeyError\u001b[0m: 'classes'"
     ]
    }
   ],
   "source": [
    "TTF = pd.DataFrame()\n",
    "TTF[\"id\"] = TF[\"id\"]\n",
    "\n",
    "TTF[\"countAids\"] = 0\n",
    "\n",
    "for i in range(DF.shape[0]):\n",
    "    for k in range(TTF.shape[0]):\n",
    "        if TTF.loc[k, \"id\"] in DF.loc[i, \"classes\"]:\n",
    "            TTF.loc[k, \"countAids\"] += 1"
   ]
  },
  {
   "cell_type": "code",
   "execution_count": 80,
   "metadata": {},
   "outputs": [
    {
     "data": {
      "text/plain": [
       "<AxesSubplot:xlabel='id', ylabel='countAids'>"
      ]
     },
     "execution_count": 80,
     "metadata": {},
     "output_type": "execute_result"
    },
    {
     "data": {
      "image/png": "[encoded data removed]",
      "text/plain": [
       "<Figure size 864x576 with 1 Axes>"
      ]
     },
     "metadata": {
      "needs_background": "light"
     },
     "output_type": "display_data"
    }
   ],
   "source": [
    "plt.figure(figsize=(12,8))\n",
    "plt.xticks(rotation=45)\n",
    "sns.barplot(data=TTF, x=\"id\", y=\"countAids\")"
   ]
  },
  {
   "cell_type": "code",
   "execution_count": 29,
   "metadata": {},
   "outputs": [],
   "source": [
    "DF[\"classes\"] = DF[\"subclasses\"].apply(lambda x: np.unique([subclasses2classes[i] for i in x]))\n",
    "# DF[\"classesNames\"] = DF[\"classes\"].apply(lambda x: [TF[TF[\"id\"]==i].name[0] for i in x])"
   ]
  },
  {
   "cell_type": "code",
   "execution_count": 32,
   "metadata": {},
   "outputs": [],
   "source": [
    "DF.to_csv(\"../data/aids_mt.csv\", sep=\"\\t\", index=False)"
   ]
  },
  {
   "cell_type": "code",
   "execution_count": 35,
   "metadata": {},
   "outputs": [
    {
     "ename": "TypeError",
     "evalue": "sequence item 0: expected str instance, numpy.int32 found",
     "output_type": "error",
     "traceback": [
      "\u001b[1;31m---------------------------------------------------------------------------\u001b[0m",
      "\u001b[1;31mTypeError\u001b[0m                                 Traceback (most recent call last)",
      "\u001b[1;32m<ipython-input-35-c76b89cbb041>\u001b[0m in \u001b[0;36m<module>\u001b[1;34m\u001b[0m\n\u001b[1;32m----> 1\u001b[1;33m \u001b[0mDF\u001b[0m\u001b[1;33m[\u001b[0m\u001b[1;34m\"classes\"\u001b[0m\u001b[1;33m]\u001b[0m \u001b[1;33m=\u001b[0m \u001b[0mDF\u001b[0m\u001b[1;33m.\u001b[0m\u001b[0mclasses\u001b[0m\u001b[1;33m.\u001b[0m\u001b[0mapply\u001b[0m\u001b[1;33m(\u001b[0m\u001b[1;32mlambda\u001b[0m \u001b[0mx\u001b[0m\u001b[1;33m:\u001b[0m \u001b[1;34m','\u001b[0m\u001b[1;33m.\u001b[0m\u001b[0mjoin\u001b[0m\u001b[1;33m(\u001b[0m\u001b[0mlist\u001b[0m\u001b[1;33m(\u001b[0m\u001b[0mx\u001b[0m\u001b[1;33m)\u001b[0m\u001b[1;33m)\u001b[0m\u001b[1;33m)\u001b[0m\u001b[1;33m\u001b[0m\u001b[1;33m\u001b[0m\u001b[0m\n\u001b[0m",
      "\u001b[1;32m~\\anaconda3\\envs\\amine\\lib\\site-packages\\pandas\\core\\series.py\u001b[0m in \u001b[0;36mapply\u001b[1;34m(self, func, convert_dtype, args, **kwds)\u001b[0m\n\u001b[0;32m   4136\u001b[0m             \u001b[1;32melse\u001b[0m\u001b[1;33m:\u001b[0m\u001b[1;33m\u001b[0m\u001b[1;33m\u001b[0m\u001b[0m\n\u001b[0;32m   4137\u001b[0m                 \u001b[0mvalues\u001b[0m \u001b[1;33m=\u001b[0m \u001b[0mself\u001b[0m\u001b[1;33m.\u001b[0m\u001b[0mastype\u001b[0m\u001b[1;33m(\u001b[0m\u001b[0mobject\u001b[0m\u001b[1;33m)\u001b[0m\u001b[1;33m.\u001b[0m\u001b[0m_values\u001b[0m\u001b[1;33m\u001b[0m\u001b[1;33m\u001b[0m\u001b[0m\n\u001b[1;32m-> 4138\u001b[1;33m                 \u001b[0mmapped\u001b[0m \u001b[1;33m=\u001b[0m \u001b[0mlib\u001b[0m\u001b[1;33m.\u001b[0m\u001b[0mmap_infer\u001b[0m\u001b[1;33m(\u001b[0m\u001b[0mvalues\u001b[0m\u001b[1;33m,\u001b[0m \u001b[0mf\u001b[0m\u001b[1;33m,\u001b[0m \u001b[0mconvert\u001b[0m\u001b[1;33m=\u001b[0m\u001b[0mconvert_dtype\u001b[0m\u001b[1;33m)\u001b[0m\u001b[1;33m\u001b[0m\u001b[1;33m\u001b[0m\u001b[0m\n\u001b[0m\u001b[0;32m   4139\u001b[0m \u001b[1;33m\u001b[0m\u001b[0m\n\u001b[0;32m   4140\u001b[0m         \u001b[1;32mif\u001b[0m \u001b[0mlen\u001b[0m\u001b[1;33m(\u001b[0m\u001b[0mmapped\u001b[0m\u001b[1;33m)\u001b[0m \u001b[1;32mand\u001b[0m \u001b[0misinstance\u001b[0m\u001b[1;33m(\u001b[0m\u001b[0mmapped\u001b[0m\u001b[1;33m[\u001b[0m\u001b[1;36m0\u001b[0m\u001b[1;33m]\u001b[0m\u001b[1;33m,\u001b[0m \u001b[0mSeries\u001b[0m\u001b[1;33m)\u001b[0m\u001b[1;33m:\u001b[0m\u001b[1;33m\u001b[0m\u001b[1;33m\u001b[0m\u001b[0m\n",
      "\u001b[1;32mpandas\\_libs\\lib.pyx\u001b[0m in \u001b[0;36mpandas._libs.lib.map_infer\u001b[1;34m()\u001b[0m\n",
      "\u001b[1;32m<ipython-input-35-c76b89cbb041>\u001b[0m in \u001b[0;36m<lambda>\u001b[1;34m(x)\u001b[0m\n\u001b[1;32m----> 1\u001b[1;33m \u001b[0mDF\u001b[0m\u001b[1;33m[\u001b[0m\u001b[1;34m\"classes\"\u001b[0m\u001b[1;33m]\u001b[0m \u001b[1;33m=\u001b[0m \u001b[0mDF\u001b[0m\u001b[1;33m.\u001b[0m\u001b[0mclasses\u001b[0m\u001b[1;33m.\u001b[0m\u001b[0mapply\u001b[0m\u001b[1;33m(\u001b[0m\u001b[1;32mlambda\u001b[0m \u001b[0mx\u001b[0m\u001b[1;33m:\u001b[0m \u001b[1;34m','\u001b[0m\u001b[1;33m.\u001b[0m\u001b[0mjoin\u001b[0m\u001b[1;33m(\u001b[0m\u001b[0mlist\u001b[0m\u001b[1;33m(\u001b[0m\u001b[0mx\u001b[0m\u001b[1;33m)\u001b[0m\u001b[1;33m)\u001b[0m\u001b[1;33m)\u001b[0m\u001b[1;33m\u001b[0m\u001b[1;33m\u001b[0m\u001b[0m\n\u001b[0m",
      "\u001b[1;31mTypeError\u001b[0m: sequence item 0: expected str instance, numpy.int32 found"
     ]
    }
   ],
   "source": [
    "DF[\"classes\"] = DF.classes.apply(lambda x: ','.join(list(x)))"
   ]
  },
  {
   "cell_type": "code",
   "execution_count": 39,
   "metadata": {},
   "outputs": [
    {
     "data": {
      "text/plain": [
       "[1]"
      ]
     },
     "execution_count": 39,
     "metadata": {},
     "output_type": "execute_result"
    }
   ],
   "source": [
    "list(DF.loc[1,\"classes\"])"
   ]
  },
  {
   "cell_type": "code",
   "execution_count": 6,
   "metadata": {},
   "outputs": [],
   "source": [
    "labels = pd.read_csv(\"./transition/bases_aides.csv\", sep=\"\\t\")"
   ]
  },
  {
   "cell_type": "code",
   "execution_count": 7,
   "metadata": {},
   "outputs": [
    {
     "data": {
      "text/plain": [
       "(502, 4)"
      ]
     },
     "execution_count": 7,
     "metadata": {},
     "output_type": "execute_result"
    }
   ],
   "source": [
    "labels.shape"
   ]
  },
  {
   "cell_type": "code",
   "execution_count": 8,
   "metadata": {},
   "outputs": [],
   "source": [
    "labels[\"classe\"] = labels[\"Thématique - Sous-thématique\"].apply(lambda x: x.split(\";\"))"
   ]
  },
  {
   "cell_type": "code",
   "execution_count": 9,
   "metadata": {},
   "outputs": [
    {
     "data": {
      "text/plain": [
       "(104,)"
      ]
     },
     "execution_count": 9,
     "metadata": {},
     "output_type": "execute_result"
    }
   ],
   "source": [
    "L = []\n",
    "for x in labels[\"classe\"]:\n",
    "    L += x\n",
    "    \n",
    "L = np.unique(L)\n",
    "L.shape"
   ]
  },
  {
   "cell_type": "code",
   "execution_count": 10,
   "metadata": {},
   "outputs": [],
   "source": [
    "\n",
    "L = [len(x) for x in labels[\"classe\"]]"
   ]
  },
  {
   "cell_type": "code",
   "execution_count": 11,
   "metadata": {},
   "outputs": [
    {
     "data": {
      "text/plain": [
       "array([ 1,  2,  3,  4,  5,  6,  7,  9, 10, 11, 13, 14, 17, 20, 21, 22, 23,\n",
       "       26, 32])"
      ]
     },
     "execution_count": 11,
     "metadata": {},
     "output_type": "execute_result"
    }
   ],
   "source": [
    "np.unique(L)"
   ]
  },
  {
   "cell_type": "code",
   "execution_count": 12,
   "metadata": {},
   "outputs": [],
   "source": [
    "labels[\"nb_classes\"] = labels[\"classe\"].apply(lambda x: len(x))"
   ]
  },
  {
   "cell_type": "code",
   "execution_count": 13,
   "metadata": {},
   "outputs": [
    {
     "name": "stdout",
     "output_type": "stream",
     "text": [
      "Index(['id', 'aid_advisor_id', 'funder_id', 'ulid', 'source_id', 'name',\n",
      "       'perimeter', 'goal', 'beneficiary', 'aid_details', 'eligibility',\n",
      "       'conditions', 'funding_source_url', 'application_end_date',\n",
      "       'application_url', 'state', 'slug', 'funding_types',\n",
      "       'contact_guidelines', 'source_updated_at',\n",
      "       'subvention_rate_upper_bound', 'subvention_rate_lower_bound',\n",
      "       'loan_amount', 'application_start_date', 'project_examples',\n",
      "       'direct_access', 'created_at', 'updated_at', 'deleted_at', 'aid_id',\n",
      "       'region_id', 'id-2', 'name-2', 'aid_id-2', 'aid_type_id', 'id-3',\n",
      "       'name-3', 'slug-2', 'aid_id-3', 'id-4', 'name-4', 'slug-3', 'Région',\n",
      "       'Thématique - Sous-thématique', 'Focus', 'classe', 'nb_classes'],\n",
      "      dtype='object')\n",
      "(835, 47)\n"
     ]
    },
    {
     "data": {
      "text/html": [
       "<div>\n",
       "<style scoped>\n",
       "    .dataframe tbody tr th:only-of-type {\n",
       "        vertical-align: middle;\n",
       "    }\n",
       "\n",
       "    .dataframe tbody tr th {\n",
       "        vertical-align: top;\n",
       "    }\n",
       "\n",
       "    .dataframe thead th {\n",
       "        text-align: right;\n",
       "    }\n",
       "</style>\n",
       "<table border=\"1\" class=\"dataframe\">\n",
       "  <thead>\n",
       "    <tr style=\"text-align: right;\">\n",
       "      <th></th>\n",
       "      <th>id</th>\n",
       "      <th>source_id</th>\n",
       "      <th>name</th>\n",
       "      <th>perimeter</th>\n",
       "      <th>aid_details</th>\n",
       "      <th>eligibility</th>\n",
       "      <th>funding_types</th>\n",
       "      <th>subvention_rate_upper_bound</th>\n",
       "      <th>subvention_rate_lower_bound</th>\n",
       "      <th>Focus</th>\n",
       "      <th>project_examples</th>\n",
       "      <th>Région</th>\n",
       "      <th>Thématique - Sous-thématique</th>\n",
       "      <th>classe</th>\n",
       "      <th>nb_classes</th>\n",
       "    </tr>\n",
       "  </thead>\n",
       "  <tbody>\n",
       "    <tr>\n",
       "      <th>0</th>\n",
       "      <td>198</td>\n",
       "      <td>at_94683</td>\n",
       "      <td>Financer les études et tests préalables aux in...</td>\n",
       "      <td>NATIONAL</td>\n",
       "      <td>&lt;p&gt;\\n &lt;strong&gt;\\n  Aide - « Études et tests pré...</td>\n",
       "      <td>&lt;p&gt;\\n Critères d'éligibilité\\n &lt;br/&gt;\\n&lt;/p&gt;\\n&lt;u...</td>\n",
       "      <td>a:1:{i:0;s:10:\"Subvention\";}</td>\n",
       "      <td>70.0</td>\n",
       "      <td>NaN</td>\n",
       "      <td>NaN</td>\n",
       "      <td>&lt;p&gt;\\n Actions éligibles :\\n &lt;br/&gt;\\n&lt;/p&gt;\\n&lt;ul&gt;\\...</td>\n",
       "      <td>National</td>\n",
       "      <td>Evolution des procédés industriels - Incorpora...</td>\n",
       "      <td>[Evolution des procédés industriels - Incorpor...</td>\n",
       "      <td>1</td>\n",
       "    </tr>\n",
       "    <tr>\n",
       "      <th>1</th>\n",
       "      <td>187</td>\n",
       "      <td>at_58447</td>\n",
       "      <td>Soutenir financièrement le développement de l'...</td>\n",
       "      <td>NATIONAL</td>\n",
       "      <td>&lt;p&gt;\\n Le dispositif de l'ADEME – ORPLAST (Obje...</td>\n",
       "      <td>&lt;p&gt;\\n &lt;strong&gt;\\n  Sont éligibles, les dossiers...</td>\n",
       "      <td>a:1:{i:0;s:10:\"Subvention\";}</td>\n",
       "      <td>NaN</td>\n",
       "      <td>NaN</td>\n",
       "      <td>NaN</td>\n",
       "      <td>&lt;p&gt;\\n En cas de questions relatives à l'appel ...</td>\n",
       "      <td>National</td>\n",
       "      <td>Evolution des procédés industriels - Incorpora...</td>\n",
       "      <td>[Evolution des procédés industriels - Incorpor...</td>\n",
       "      <td>1</td>\n",
       "    </tr>\n",
       "  </tbody>\n",
       "</table>\n",
       "</div>"
      ],
      "text/plain": [
       "    id source_id                                               name perimeter  \\\n",
       "0  198  at_94683  Financer les études et tests préalables aux in...  NATIONAL   \n",
       "1  187  at_58447  Soutenir financièrement le développement de l'...  NATIONAL   \n",
       "\n",
       "                                         aid_details  \\\n",
       "0  <p>\\n <strong>\\n  Aide - « Études et tests pré...   \n",
       "1  <p>\\n Le dispositif de l'ADEME – ORPLAST (Obje...   \n",
       "\n",
       "                                         eligibility  \\\n",
       "0  <p>\\n Critères d'éligibilité\\n <br/>\\n</p>\\n<u...   \n",
       "1  <p>\\n <strong>\\n  Sont éligibles, les dossiers...   \n",
       "\n",
       "                  funding_types  subvention_rate_upper_bound  \\\n",
       "0  a:1:{i:0;s:10:\"Subvention\";}                         70.0   \n",
       "1  a:1:{i:0;s:10:\"Subvention\";}                          NaN   \n",
       "\n",
       "   subvention_rate_lower_bound Focus  \\\n",
       "0                          NaN   NaN   \n",
       "1                          NaN   NaN   \n",
       "\n",
       "                                    project_examples    Région  \\\n",
       "0  <p>\\n Actions éligibles :\\n <br/>\\n</p>\\n<ul>\\...  National   \n",
       "1  <p>\\n En cas de questions relatives à l'appel ...  National   \n",
       "\n",
       "                        Thématique - Sous-thématique  \\\n",
       "0  Evolution des procédés industriels - Incorpora...   \n",
       "1  Evolution des procédés industriels - Incorpora...   \n",
       "\n",
       "                                              classe  nb_classes  \n",
       "0  [Evolution des procédés industriels - Incorpor...           1  \n",
       "1  [Evolution des procédés industriels - Incorpor...           1  "
      ]
     },
     "execution_count": 13,
     "metadata": {},
     "output_type": "execute_result"
    }
   ],
   "source": [
    "DF = data.merge(labels, on=\"source_id\")\n",
    "# application_end_date ?? application_url ?? funding_source_url ?? slug ? funding_types ?\n",
    "#\n",
    "print(DF.columns)\n",
    "print(DF.shape)\n",
    "DF = DF[[\"id\", \"source_id\", \"name\", \"perimeter\", \"aid_details\", \"eligibility\", \n",
    "         \"funding_types\", \"subvention_rate_upper_bound\", \"subvention_rate_lower_bound\", \"Focus\", \"project_examples\",\n",
    "         \"Région\", \"Thématique - Sous-thématique\", \"classe\", \"nb_classes\"]]\n",
    "DF.head(2)"
   ]
  },
  {
   "cell_type": "code",
   "execution_count": 14,
   "metadata": {},
   "outputs": [],
   "source": [
    "L = []\n",
    "for x in DF[\"classe\"]:\n",
    "    L += x    \n",
    "L = [x for x in L if x not in [\"\", \" \"]]\n",
    "L = np.unique(L)"
   ]
  },
  {
   "cell_type": "code",
   "execution_count": 15,
   "metadata": {},
   "outputs": [
    {
     "data": {
      "text/plain": [
       "array(['  Secteur Agriculture & Zones rurales - Biodiversité & Bien-être animal',\n",
       "       ' Développement des circuits courts',\n",
       "       ' Evolution des procédés industriels - Incorporation de produits recyclés',\n",
       "       \" Evolution des procédés industriels - Réduction de l'empreinte carbone\",\n",
       "       ' Evolution des procédés industriels - Réduction des pollutions & dépollution',\n",
       "       ' Evolution des procédés industriels - Réduction du gaspillage',\n",
       "       ' Gestion des bâtiments - Acquisition & extension des locaux',\n",
       "       \" Gestion des bâtiments - Amélioration de la qualité de l'air\",\n",
       "       ' Gestion des bâtiments - Bilan énergétique & Rénovation',\n",
       "       ' Gestion des bâtiments - Sensibilisation sur les consommations',\n",
       "       ' Gestion des déchets - Développement de recycleries',\n",
       "       ' Gestion des déchets - Traitement & valorisation des biodéchets',\n",
       "       ' Gestion des déchets - Tri, recyclage, réemploi & réparation',\n",
       "       ' Infrastructures de transport',\n",
       "       ' Innovation produits & services - AIde aux investissements',\n",
       "       ' Innovation produits & services - Aide aux investissements & financements',\n",
       "       ' Innovation produits & services - Démarche écoconception',\n",
       "       ' Innovation produits & services - Numérique responsable',\n",
       "       ' Innovation produits & services - Recherche, Développement & Innovation',\n",
       "       ' Mobilité des employés - Achat & location véhicules peu polluants',\n",
       "       ' Mobilité des employés - Développement du covoiturage & autopartage',\n",
       "       ' Mobilité des employés - Développement du ferroviaire',\n",
       "       \" Mobilité des employés - Développer le réseau de distribution d'énergie\",\n",
       "       \" Production & distribution d'énergie - Développer le réseau de distribution d'énergie\",\n",
       "       \" Production & distribution d'énergie - Energies Renouvelables\",\n",
       "       \" Production & distribution d'énergie - Réseaux de chaleur & Récupération de chaleur\",\n",
       "       \" Production & distribution d'énergie - Stockage de l'énergie\",\n",
       "       ' Ressources humaines - Sensibilisation & Formation',\n",
       "       ' Secteur Agriculture & Zones rurales - Adapation au changement climatique',\n",
       "       ' Secteur Agriculture & Zones rurales - Animation & développement économique et social',\n",
       "       ' Secteur Agriculture & Zones rurales - Biodiversité & Bien-être animal',\n",
       "       ' Secteur Agriculture & Zones rurales - Développement des circuits courts',\n",
       "       \" Secteur Agriculture & Zones rurales - Gestion de l'eau\",\n",
       "       \" Secteur Agriculture & Zones rurales - Performance environnementale de l'alimentation\",\n",
       "       ' Secteur Agriculture & Zones rurales - Réduction des pesticides & pollutions',\n",
       "       ' Secteur Bois - Aide au développement de la filière',\n",
       "       \" Secteur Eau & écosystèmes - Aménagement d'ouvrages & Equipements\",\n",
       "       ' Secteur Eau & écosystèmes - Diagnostic eau & milieux naturels',\n",
       "       ' Secteur Eau & écosystèmes - Formation & animation des acteurs locaux',\n",
       "       \" Secteur Eau & écosystèmes - Formation & animation des acteurs locaux Secteur Eau & écosystèmes - Aménagement d'ouvrages & Equipements Secteur Eau & écosystèmes - Restauration écologique & adapation au changement climatique\",\n",
       "       ' Secteur Eau & écosystèmes - Restauration écologique & adapation au changement climatique',\n",
       "       ' Secteur Infrastructure & Déchêterie - Développement de filières recyclage',\n",
       "       ' Secteur Infrastructure & Déchêterie - Infrastructures de transport',\n",
       "       ' Secteur Infrastructure & Déchêterie - Infrastructures de transport & logistique',\n",
       "       ' Secteur Infrastructure & Déchêterie - Infrastructures de transport: Innovation produits & services - Recherche, Développement & Innovation',\n",
       "       ' Secteur Infrastructure & Déchêterie - Réduction des consommations de matières premières',\n",
       "       ' Secteur Tourisme',\n",
       "       ' Secteur Ville durable - Agriculture urbaine',\n",
       "       ' Secteur Ville durable - Animation & développement économique et social',\n",
       "       ' Secteur Ville durable - Digitalisation des commerces & artisans',\n",
       "       ' Secteur Ville durable - Formation & Accompagnement',\n",
       "       ' Secteur Ville durable - Gestion des déchets du bâtiment',\n",
       "       ' Secteur Ville durable - Logistique de proximité',\n",
       "       ' Secteur Ville durable - Réhabilitation logements & sites industriels',\n",
       "       'Evolution des procédés industriels - Incorporation de produits recyclés',\n",
       "       \"Evolution des procédés industriels - Réduction de l'empreinte carbone\",\n",
       "       \"Evolution des procédés industriels - Réduction de la consommation d'énergie\",\n",
       "       'Evolution des procédés industriels - Réduction des pollutions & dépollution',\n",
       "       'Evolution des procédés industriels - Réduction du gaspillage',\n",
       "       \"Gestion des bâtiments - Amélioration de la qualité de l'air\",\n",
       "       'Gestion des bâtiments - Bilan énergétique & Rénovation',\n",
       "       'Gestion des déchets - Traitement & valorisation des biodéchets',\n",
       "       'Gestion des déchets - Tri, recyclage, réemploi & réparation',\n",
       "       'Innovation produits & services - Aide aux investissements & financements',\n",
       "       'Innovation produits & services - Démarche écoconception',\n",
       "       'Innovation produits & services - Numérique responsable',\n",
       "       'Innovation produits & services - Recherche, Développement & Innovation',\n",
       "       'Mobilité des employés - Achat & location véhicules peu polluants',\n",
       "       'Mobilité des employés - Développement du covoiturage & autopartage',\n",
       "       'Mobilité des employés - Développement du ferroviaire',\n",
       "       \"Mobilité des employés - Développer le réseau de distribution d'énergie\",\n",
       "       \"Production & distribution d'énergie - Energies Renouvelables\",\n",
       "       \"Production & distribution d'énergie - Réseaux de chaleur & Récupération de chaleur\",\n",
       "       'Ressources humaines - Aide au recrutement',\n",
       "       'Ressources humaines - Sensibilisation & Formation',\n",
       "       'Secteur Agriculture & Zones rurales - Adapation au changement climatique',\n",
       "       'Secteur Agriculture & Zones rurales - Agriculture urbaine',\n",
       "       'Secteur Agriculture & Zones rurales - Animation & développement économique et social',\n",
       "       'Secteur Agriculture & Zones rurales - Biodiversité & Bien-être animal',\n",
       "       'Secteur Agriculture & Zones rurales - Développement des circuits courts',\n",
       "       \"Secteur Agriculture & Zones rurales - Gestion de l'eau\",\n",
       "       \"Secteur Agriculture & Zones rurales - Performance environnementale de l'alimentation\",\n",
       "       'Secteur Agriculture & Zones rurales - Réduction des pesticides & pollutions',\n",
       "       'Secteur Bois - Aide au développement de la filière',\n",
       "       'Secteur Eau & écosystèmes - Acquisition foncière',\n",
       "       \"Secteur Eau & écosystèmes - Aménagement d'ouvrages & Equipements\",\n",
       "       'Secteur Eau & écosystèmes - Diagnostic eau & milieux naturels',\n",
       "       'Secteur Eau & écosystèmes - Education, formation & animation des acteurs',\n",
       "       'Secteur Eau & écosystèmes - Formation & animation des acteurs locaux',\n",
       "       'Secteur Eau & écosystèmes - Restauration écologique & adapation au changement climatique',\n",
       "       'Secteur Infrastructure & Déchêterie - Développement de filières recyclage',\n",
       "       'Secteur Infrastructure & Déchêterie - Infrastructures de transport & logistique',\n",
       "       'Secteur Tourisme', 'Secteur Ville durable - Agriculture urbaine',\n",
       "       'Secteur Ville durable - Animation & développement économique et social',\n",
       "       'Secteur Ville durable - Digitalisation des commerces & artisans',\n",
       "       'Secteur Ville durable - Formation & Accompagnement',\n",
       "       'Secteur Ville durable - Gestion des déchets du bâtiment',\n",
       "       'Secteur Ville durable - Logistique de proximité',\n",
       "       'Secteur Ville durable - Réhabilitation logements & sites industriels'],\n",
       "      dtype='<U223')"
      ]
     },
     "execution_count": 15,
     "metadata": {},
     "output_type": "execute_result"
    }
   ],
   "source": [
    "L"
   ]
  },
  {
   "cell_type": "code",
   "execution_count": 16,
   "metadata": {},
   "outputs": [
    {
     "data": {
      "text/plain": [
       "OneHotEncoder()"
      ]
     },
     "execution_count": 16,
     "metadata": {},
     "output_type": "execute_result"
    }
   ],
   "source": [
    "from sklearn.preprocessing import LabelEncoder, OneHotEncoder, MultiLabelBinarizer\n",
    "\n",
    "le = LabelEncoder()\n",
    "ohe = OneHotEncoder()\n",
    "mlb = MultiLabelBinarizer()\n",
    "le.fit_transform(L)\n",
    "DF[\"le\"] = DF[\"classe\"].apply(lambda x: tuple([le.transform([e])[0] for e in x if e not in [\"\", \" \"]]))\n",
    "\n",
    "ohe.fit(L.reshape(-1,1))"
   ]
  },
  {
   "cell_type": "code",
   "execution_count": 17,
   "metadata": {},
   "outputs": [],
   "source": [
    "DF[\"first_label\"] = DF[\"le\"].apply(lambda x: x[0])"
   ]
  },
  {
   "cell_type": "code",
   "execution_count": 18,
   "metadata": {},
   "outputs": [
    {
     "data": {
      "text/plain": [
       "MultiLabelBinarizer()"
      ]
     },
     "execution_count": 18,
     "metadata": {},
     "output_type": "execute_result"
    }
   ],
   "source": [
    "mlb.fit(DF[\"le\"])"
   ]
  },
  {
   "cell_type": "code",
   "execution_count": 19,
   "metadata": {},
   "outputs": [],
   "source": [
    "for i in range(DF.shape[0]):\n",
    "    tmp = DF[\"le\"].iloc[i]\n",
    "    res = mlb.transform([tmp])[0]\n",
    "    for k in range(len(res)):\n",
    "        DF.loc[i,k] = res[k]"
   ]
  },
  {
   "cell_type": "code",
   "execution_count": 20,
   "metadata": {},
   "outputs": [
    {
     "data": {
      "text/html": [
       "<div>\n",
       "<style scoped>\n",
       "    .dataframe tbody tr th:only-of-type {\n",
       "        vertical-align: middle;\n",
       "    }\n",
       "\n",
       "    .dataframe tbody tr th {\n",
       "        vertical-align: top;\n",
       "    }\n",
       "\n",
       "    .dataframe thead th {\n",
       "        text-align: right;\n",
       "    }\n",
       "</style>\n",
       "<table border=\"1\" class=\"dataframe\">\n",
       "  <thead>\n",
       "    <tr style=\"text-align: right;\">\n",
       "      <th></th>\n",
       "      <th>id</th>\n",
       "      <th>0</th>\n",
       "      <th>1</th>\n",
       "      <th>2</th>\n",
       "      <th>3</th>\n",
       "      <th>4</th>\n",
       "      <th>5</th>\n",
       "      <th>6</th>\n",
       "      <th>7</th>\n",
       "      <th>8</th>\n",
       "      <th>...</th>\n",
       "      <th>89</th>\n",
       "      <th>90</th>\n",
       "      <th>91</th>\n",
       "      <th>92</th>\n",
       "      <th>93</th>\n",
       "      <th>94</th>\n",
       "      <th>95</th>\n",
       "      <th>96</th>\n",
       "      <th>97</th>\n",
       "      <th>98</th>\n",
       "    </tr>\n",
       "    <tr>\n",
       "      <th>33</th>\n",
       "      <th></th>\n",
       "      <th></th>\n",
       "      <th></th>\n",
       "      <th></th>\n",
       "      <th></th>\n",
       "      <th></th>\n",
       "      <th></th>\n",
       "      <th></th>\n",
       "      <th></th>\n",
       "      <th></th>\n",
       "      <th></th>\n",
       "      <th></th>\n",
       "      <th></th>\n",
       "      <th></th>\n",
       "      <th></th>\n",
       "      <th></th>\n",
       "      <th></th>\n",
       "      <th></th>\n",
       "      <th></th>\n",
       "      <th></th>\n",
       "      <th></th>\n",
       "    </tr>\n",
       "  </thead>\n",
       "  <tbody>\n",
       "    <tr>\n",
       "      <th>0.0</th>\n",
       "      <td>779</td>\n",
       "      <td>779</td>\n",
       "      <td>779</td>\n",
       "      <td>779</td>\n",
       "      <td>779</td>\n",
       "      <td>779</td>\n",
       "      <td>779</td>\n",
       "      <td>779</td>\n",
       "      <td>779</td>\n",
       "      <td>779</td>\n",
       "      <td>...</td>\n",
       "      <td>779</td>\n",
       "      <td>779</td>\n",
       "      <td>779</td>\n",
       "      <td>779</td>\n",
       "      <td>779</td>\n",
       "      <td>779</td>\n",
       "      <td>779</td>\n",
       "      <td>779</td>\n",
       "      <td>779</td>\n",
       "      <td>779</td>\n",
       "    </tr>\n",
       "    <tr>\n",
       "      <th>1.0</th>\n",
       "      <td>56</td>\n",
       "      <td>56</td>\n",
       "      <td>56</td>\n",
       "      <td>56</td>\n",
       "      <td>56</td>\n",
       "      <td>56</td>\n",
       "      <td>56</td>\n",
       "      <td>56</td>\n",
       "      <td>56</td>\n",
       "      <td>56</td>\n",
       "      <td>...</td>\n",
       "      <td>56</td>\n",
       "      <td>56</td>\n",
       "      <td>56</td>\n",
       "      <td>56</td>\n",
       "      <td>56</td>\n",
       "      <td>56</td>\n",
       "      <td>56</td>\n",
       "      <td>56</td>\n",
       "      <td>56</td>\n",
       "      <td>56</td>\n",
       "    </tr>\n",
       "  </tbody>\n",
       "</table>\n",
       "<p>2 rows × 99 columns</p>\n",
       "</div>"
      ],
      "text/plain": [
       "      id    0    1    2    3    4    5    6    7    8  ...   89   90   91  \\\n",
       "33                                                     ...                  \n",
       "0.0  779  779  779  779  779  779  779  779  779  779  ...  779  779  779   \n",
       "1.0   56   56   56   56   56   56   56   56   56   56  ...   56   56   56   \n",
       "\n",
       "      92   93   94   95   96   97   98  \n",
       "33                                      \n",
       "0.0  779  779  779  779  779  779  779  \n",
       "1.0   56   56   56   56   56   56   56  \n",
       "\n",
       "[2 rows x 99 columns]"
      ]
     },
     "execution_count": 20,
     "metadata": {},
     "output_type": "execute_result"
    }
   ],
   "source": [
    "DF[[\"id\"]+list(range(99))].groupby(33).count()"
   ]
  },
  {
   "cell_type": "code",
   "execution_count": 21,
   "metadata": {},
   "outputs": [
    {
     "data": {
      "text/plain": [
       "array([ 0,  1,  2,  3,  4,  5,  6,  7,  8,  9, 10, 11, 12, 13, 14, 15, 16,\n",
       "       17, 18, 19, 20, 21, 22, 23, 24, 25, 26, 27, 28, 29, 30, 31, 32, 33,\n",
       "       34, 35, 36, 37, 38, 39, 40, 41, 42, 43, 44, 45, 46, 47, 48, 49, 50,\n",
       "       51, 52, 53, 54, 55, 56, 57, 58, 59, 60, 61, 62, 63, 64, 65, 66, 67,\n",
       "       68, 69, 70, 71, 72, 73, 74, 75, 76, 77, 78, 79, 80, 81, 82, 83, 84,\n",
       "       85, 86, 87, 88, 89, 90, 91, 92, 93, 94, 95, 96, 97, 98, 99])"
      ]
     },
     "execution_count": 21,
     "metadata": {},
     "output_type": "execute_result"
    }
   ],
   "source": [
    "le.transform(L)"
   ]
  },
  {
   "cell_type": "code",
   "execution_count": 22,
   "metadata": {},
   "outputs": [
    {
     "data": {
      "text/plain": [
       "array(['  Secteur Agriculture & Zones rurales - Biodiversité & Bien-être animal',\n",
       "       ' Développement des circuits courts',\n",
       "       ' Evolution des procédés industriels - Incorporation de produits recyclés',\n",
       "       \" Evolution des procédés industriels - Réduction de l'empreinte carbone\",\n",
       "       ' Evolution des procédés industriels - Réduction des pollutions & dépollution',\n",
       "       ' Evolution des procédés industriels - Réduction du gaspillage',\n",
       "       ' Gestion des bâtiments - Acquisition & extension des locaux',\n",
       "       \" Gestion des bâtiments - Amélioration de la qualité de l'air\",\n",
       "       ' Gestion des bâtiments - Bilan énergétique & Rénovation',\n",
       "       ' Gestion des bâtiments - Sensibilisation sur les consommations',\n",
       "       ' Gestion des déchets - Développement de recycleries',\n",
       "       ' Gestion des déchets - Traitement & valorisation des biodéchets',\n",
       "       ' Gestion des déchets - Tri, recyclage, réemploi & réparation',\n",
       "       ' Infrastructures de transport',\n",
       "       ' Innovation produits & services - AIde aux investissements',\n",
       "       ' Innovation produits & services - Aide aux investissements & financements',\n",
       "       ' Innovation produits & services - Démarche écoconception',\n",
       "       ' Innovation produits & services - Numérique responsable',\n",
       "       ' Innovation produits & services - Recherche, Développement & Innovation',\n",
       "       ' Mobilité des employés - Achat & location véhicules peu polluants',\n",
       "       ' Mobilité des employés - Développement du covoiturage & autopartage',\n",
       "       ' Mobilité des employés - Développement du ferroviaire',\n",
       "       \" Mobilité des employés - Développer le réseau de distribution d'énergie\",\n",
       "       \" Production & distribution d'énergie - Développer le réseau de distribution d'énergie\",\n",
       "       \" Production & distribution d'énergie - Energies Renouvelables\",\n",
       "       \" Production & distribution d'énergie - Réseaux de chaleur & Récupération de chaleur\",\n",
       "       \" Production & distribution d'énergie - Stockage de l'énergie\",\n",
       "       ' Ressources humaines - Sensibilisation & Formation',\n",
       "       ' Secteur Agriculture & Zones rurales - Adapation au changement climatique',\n",
       "       ' Secteur Agriculture & Zones rurales - Animation & développement économique et social',\n",
       "       ' Secteur Agriculture & Zones rurales - Biodiversité & Bien-être animal',\n",
       "       ' Secteur Agriculture & Zones rurales - Développement des circuits courts',\n",
       "       \" Secteur Agriculture & Zones rurales - Gestion de l'eau\",\n",
       "       \" Secteur Agriculture & Zones rurales - Performance environnementale de l'alimentation\",\n",
       "       ' Secteur Agriculture & Zones rurales - Réduction des pesticides & pollutions',\n",
       "       ' Secteur Bois - Aide au développement de la filière',\n",
       "       \" Secteur Eau & écosystèmes - Aménagement d'ouvrages & Equipements\",\n",
       "       ' Secteur Eau & écosystèmes - Diagnostic eau & milieux naturels',\n",
       "       ' Secteur Eau & écosystèmes - Formation & animation des acteurs locaux',\n",
       "       \" Secteur Eau & écosystèmes - Formation & animation des acteurs locaux Secteur Eau & écosystèmes - Aménagement d'ouvrages & Equipements Secteur Eau & écosystèmes - Restauration écologique & adapation au changement climatique\",\n",
       "       ' Secteur Eau & écosystèmes - Restauration écologique & adapation au changement climatique',\n",
       "       ' Secteur Infrastructure & Déchêterie - Développement de filières recyclage',\n",
       "       ' Secteur Infrastructure & Déchêterie - Infrastructures de transport',\n",
       "       ' Secteur Infrastructure & Déchêterie - Infrastructures de transport & logistique',\n",
       "       ' Secteur Infrastructure & Déchêterie - Infrastructures de transport: Innovation produits & services - Recherche, Développement & Innovation',\n",
       "       ' Secteur Infrastructure & Déchêterie - Réduction des consommations de matières premières',\n",
       "       ' Secteur Tourisme',\n",
       "       ' Secteur Ville durable - Agriculture urbaine',\n",
       "       ' Secteur Ville durable - Animation & développement économique et social',\n",
       "       ' Secteur Ville durable - Digitalisation des commerces & artisans',\n",
       "       ' Secteur Ville durable - Formation & Accompagnement',\n",
       "       ' Secteur Ville durable - Gestion des déchets du bâtiment',\n",
       "       ' Secteur Ville durable - Logistique de proximité',\n",
       "       ' Secteur Ville durable - Réhabilitation logements & sites industriels',\n",
       "       'Evolution des procédés industriels - Incorporation de produits recyclés',\n",
       "       \"Evolution des procédés industriels - Réduction de l'empreinte carbone\",\n",
       "       \"Evolution des procédés industriels - Réduction de la consommation d'énergie\",\n",
       "       'Evolution des procédés industriels - Réduction des pollutions & dépollution',\n",
       "       'Evolution des procédés industriels - Réduction du gaspillage',\n",
       "       \"Gestion des bâtiments - Amélioration de la qualité de l'air\",\n",
       "       'Gestion des bâtiments - Bilan énergétique & Rénovation',\n",
       "       'Gestion des déchets - Traitement & valorisation des biodéchets',\n",
       "       'Gestion des déchets - Tri, recyclage, réemploi & réparation',\n",
       "       'Innovation produits & services - Aide aux investissements & financements',\n",
       "       'Innovation produits & services - Démarche écoconception',\n",
       "       'Innovation produits & services - Numérique responsable',\n",
       "       'Innovation produits & services - Recherche, Développement & Innovation',\n",
       "       'Mobilité des employés - Achat & location véhicules peu polluants',\n",
       "       'Mobilité des employés - Développement du covoiturage & autopartage',\n",
       "       'Mobilité des employés - Développement du ferroviaire',\n",
       "       \"Mobilité des employés - Développer le réseau de distribution d'énergie\",\n",
       "       \"Production & distribution d'énergie - Energies Renouvelables\",\n",
       "       \"Production & distribution d'énergie - Réseaux de chaleur & Récupération de chaleur\",\n",
       "       'Ressources humaines - Aide au recrutement',\n",
       "       'Ressources humaines - Sensibilisation & Formation',\n",
       "       'Secteur Agriculture & Zones rurales - Adapation au changement climatique',\n",
       "       'Secteur Agriculture & Zones rurales - Agriculture urbaine',\n",
       "       'Secteur Agriculture & Zones rurales - Animation & développement économique et social',\n",
       "       'Secteur Agriculture & Zones rurales - Biodiversité & Bien-être animal',\n",
       "       'Secteur Agriculture & Zones rurales - Développement des circuits courts',\n",
       "       \"Secteur Agriculture & Zones rurales - Gestion de l'eau\",\n",
       "       \"Secteur Agriculture & Zones rurales - Performance environnementale de l'alimentation\",\n",
       "       'Secteur Agriculture & Zones rurales - Réduction des pesticides & pollutions',\n",
       "       'Secteur Bois - Aide au développement de la filière',\n",
       "       'Secteur Eau & écosystèmes - Acquisition foncière',\n",
       "       \"Secteur Eau & écosystèmes - Aménagement d'ouvrages & Equipements\",\n",
       "       'Secteur Eau & écosystèmes - Diagnostic eau & milieux naturels',\n",
       "       'Secteur Eau & écosystèmes - Education, formation & animation des acteurs',\n",
       "       'Secteur Eau & écosystèmes - Formation & animation des acteurs locaux',\n",
       "       'Secteur Eau & écosystèmes - Restauration écologique & adapation au changement climatique',\n",
       "       'Secteur Infrastructure & Déchêterie - Développement de filières recyclage',\n",
       "       'Secteur Infrastructure & Déchêterie - Infrastructures de transport & logistique',\n",
       "       'Secteur Tourisme', 'Secteur Ville durable - Agriculture urbaine',\n",
       "       'Secteur Ville durable - Animation & développement économique et social',\n",
       "       'Secteur Ville durable - Digitalisation des commerces & artisans',\n",
       "       'Secteur Ville durable - Formation & Accompagnement',\n",
       "       'Secteur Ville durable - Gestion des déchets du bâtiment',\n",
       "       'Secteur Ville durable - Logistique de proximité',\n",
       "       'Secteur Ville durable - Réhabilitation logements & sites industriels'],\n",
       "      dtype='<U223')"
      ]
     },
     "execution_count": 22,
     "metadata": {},
     "output_type": "execute_result"
    }
   ],
   "source": [
    "L"
   ]
  },
  {
   "cell_type": "code",
   "execution_count": 23,
   "metadata": {},
   "outputs": [
    {
     "data": {
      "text/plain": [
       "2"
      ]
     },
     "execution_count": 23,
     "metadata": {},
     "output_type": "execute_result"
    }
   ],
   "source": [
    "DF.groupby(0).count()[\"id\"].values[1]"
   ]
  },
  {
   "cell_type": "code",
   "execution_count": 24,
   "metadata": {},
   "outputs": [],
   "source": [
    "df_hist = pd.DataFrame()\n",
    "df_hist[\"class\"] = range(100)\n",
    "df_hist = df_hist.set_index(\"class\")\n",
    "df_hist[\"text\"] = L"
   ]
  },
  {
   "cell_type": "code",
   "execution_count": 25,
   "metadata": {},
   "outputs": [],
   "source": [
    "for k in range(len(L)):\n",
    "    tmp = DF.groupby(k).count()[\"id\"].values[1]\n",
    "    df_hist.loc[k,\"count\"] = tmp\n",
    "        "
   ]
  },
  {
   "cell_type": "code",
   "execution_count": 26,
   "metadata": {},
   "outputs": [
    {
     "data": {
      "image/png": "[encoded data removed]",
      "text/plain": [
       "<Figure size 1728x576 with 1 Axes>"
      ]
     },
     "metadata": {
      "needs_background": "light"
     },
     "output_type": "display_data"
    }
   ],
   "source": [
    "import seaborn as sns\n",
    "import matplotlib.pyplot as plt \n",
    "\n",
    "plt.figure(figsize=(24,8))\n",
    "sns.barplot(data=df_hist.reset_index(), x=\"class\", y=\"count\" )\n",
    "plt.xticks(rotation=0)\n",
    "plt.show()"
   ]
  },
  {
   "cell_type": "code",
   "execution_count": 27,
   "metadata": {},
   "outputs": [
    {
     "data": {
      "text/plain": [
       "array([64])"
      ]
     },
     "execution_count": 27,
     "metadata": {},
     "output_type": "execute_result"
    }
   ],
   "source": [
    "le.transform(np.array([DF[\"classe\"].iloc[150][0]]))"
   ]
  },
  {
   "cell_type": "code",
   "execution_count": 28,
   "metadata": {},
   "outputs": [
    {
     "data": {
      "text/plain": [
       "(835,)"
      ]
     },
     "execution_count": 28,
     "metadata": {},
     "output_type": "execute_result"
    }
   ],
   "source": [
    "np.array(DF[\"Thématique - Sous-thématique\"].tolist()).shape"
   ]
  },
  {
   "cell_type": "code",
   "execution_count": 29,
   "metadata": {},
   "outputs": [],
   "source": [
    "from bs4 import BeautifulSoup\n",
    "\n",
    "def remove_tags(html):\n",
    "      \n",
    "    # parse html content\n",
    "    soup = BeautifulSoup(html, \"html.parser\")\n",
    "  \n",
    "    for data in soup(['style', 'script']):\n",
    "        # Remove tags\n",
    "        data.decompose()\n",
    "  \n",
    "    # return data by retrieving the tag content\n",
    "    return ' '.join(soup.stripped_strings)\n",
    "\n",
    "DF[\"project_examples\"] = DF[\"project_examples\"].apply(lambda x: remove_tags(x) if not pd.isna(x) else \"\")\n",
    "DF[\"aid_details\"] = DF[\"aid_details\"].apply(lambda x: remove_tags(x) if not pd.isna(x) else \"\")\n",
    "DF[\"eligibility\"] = DF[\"eligibility\"].apply(lambda x: remove_tags(x) if not pd.isna(x) else \"\")\n"
   ]
  },
  {
   "cell_type": "code",
   "execution_count": 30,
   "metadata": {},
   "outputs": [
    {
     "data": {
      "text/html": [
       "<div>\n",
       "<style scoped>\n",
       "    .dataframe tbody tr th:only-of-type {\n",
       "        vertical-align: middle;\n",
       "    }\n",
       "\n",
       "    .dataframe tbody tr th {\n",
       "        vertical-align: top;\n",
       "    }\n",
       "\n",
       "    .dataframe thead th {\n",
       "        text-align: right;\n",
       "    }\n",
       "</style>\n",
       "<table border=\"1\" class=\"dataframe\">\n",
       "  <thead>\n",
       "    <tr style=\"text-align: right;\">\n",
       "      <th></th>\n",
       "      <th>id</th>\n",
       "      <th>source_id</th>\n",
       "      <th>name</th>\n",
       "      <th>perimeter</th>\n",
       "      <th>aid_details</th>\n",
       "      <th>eligibility</th>\n",
       "      <th>funding_types</th>\n",
       "      <th>subvention_rate_upper_bound</th>\n",
       "      <th>subvention_rate_lower_bound</th>\n",
       "      <th>Focus</th>\n",
       "      <th>...</th>\n",
       "      <th>90</th>\n",
       "      <th>91</th>\n",
       "      <th>92</th>\n",
       "      <th>93</th>\n",
       "      <th>94</th>\n",
       "      <th>95</th>\n",
       "      <th>96</th>\n",
       "      <th>97</th>\n",
       "      <th>98</th>\n",
       "      <th>99</th>\n",
       "    </tr>\n",
       "  </thead>\n",
       "  <tbody>\n",
       "    <tr>\n",
       "      <th>0</th>\n",
       "      <td>198</td>\n",
       "      <td>at_94683</td>\n",
       "      <td>Financer les études et tests préalables aux in...</td>\n",
       "      <td>NATIONAL</td>\n",
       "      <td>Aide - « Études et tests préalables aux invest...</td>\n",
       "      <td>Critères d'éligibilité Pertinence du projet vi...</td>\n",
       "      <td>a:1:{i:0;s:10:\"Subvention\";}</td>\n",
       "      <td>70.0</td>\n",
       "      <td>NaN</td>\n",
       "      <td>NaN</td>\n",
       "      <td>...</td>\n",
       "      <td>0.0</td>\n",
       "      <td>0.0</td>\n",
       "      <td>0.0</td>\n",
       "      <td>0.0</td>\n",
       "      <td>0.0</td>\n",
       "      <td>0.0</td>\n",
       "      <td>0.0</td>\n",
       "      <td>0.0</td>\n",
       "      <td>0.0</td>\n",
       "      <td>0.0</td>\n",
       "    </tr>\n",
       "    <tr>\n",
       "      <th>1</th>\n",
       "      <td>187</td>\n",
       "      <td>at_58447</td>\n",
       "      <td>Soutenir financièrement le développement de l'...</td>\n",
       "      <td>NATIONAL</td>\n",
       "      <td>Le dispositif de l'ADEME – ORPLAST (Objectif R...</td>\n",
       "      <td>Sont éligibles, les dossiers portant sur un ou...</td>\n",
       "      <td>a:1:{i:0;s:10:\"Subvention\";}</td>\n",
       "      <td>NaN</td>\n",
       "      <td>NaN</td>\n",
       "      <td>NaN</td>\n",
       "      <td>...</td>\n",
       "      <td>0.0</td>\n",
       "      <td>0.0</td>\n",
       "      <td>0.0</td>\n",
       "      <td>0.0</td>\n",
       "      <td>0.0</td>\n",
       "      <td>0.0</td>\n",
       "      <td>0.0</td>\n",
       "      <td>0.0</td>\n",
       "      <td>0.0</td>\n",
       "      <td>0.0</td>\n",
       "    </tr>\n",
       "    <tr>\n",
       "      <th>2</th>\n",
       "      <td>13</td>\n",
       "      <td>at_90955</td>\n",
       "      <td>Soutenir financièrement l'intégration de matiè...</td>\n",
       "      <td>REGIONAL</td>\n",
       "      <td>ORPLAST 3 (Objectif Recyclage PLASTiques) est ...</td>\n",
       "      <td>Calendrier : L'appel à projet est ouvert jusqu...</td>\n",
       "      <td>a:1:{i:0;s:10:\"Subvention\";}</td>\n",
       "      <td>NaN</td>\n",
       "      <td>NaN</td>\n",
       "      <td>NaN</td>\n",
       "      <td>...</td>\n",
       "      <td>0.0</td>\n",
       "      <td>0.0</td>\n",
       "      <td>0.0</td>\n",
       "      <td>0.0</td>\n",
       "      <td>0.0</td>\n",
       "      <td>0.0</td>\n",
       "      <td>0.0</td>\n",
       "      <td>0.0</td>\n",
       "      <td>0.0</td>\n",
       "      <td>0.0</td>\n",
       "    </tr>\n",
       "    <tr>\n",
       "      <th>3</th>\n",
       "      <td>213</td>\n",
       "      <td>at_94687</td>\n",
       "      <td>Financer les études de préfiguration d'une dém...</td>\n",
       "      <td>NATIONAL</td>\n",
       "      <td>Aide - « Étude de préfiguration d'une démarche...</td>\n",
       "      <td></td>\n",
       "      <td>a:1:{i:0;s:10:\"Subvention\";}</td>\n",
       "      <td>69.0</td>\n",
       "      <td>NaN</td>\n",
       "      <td>NaN</td>\n",
       "      <td>...</td>\n",
       "      <td>0.0</td>\n",
       "      <td>0.0</td>\n",
       "      <td>0.0</td>\n",
       "      <td>0.0</td>\n",
       "      <td>0.0</td>\n",
       "      <td>0.0</td>\n",
       "      <td>0.0</td>\n",
       "      <td>0.0</td>\n",
       "      <td>0.0</td>\n",
       "      <td>0.0</td>\n",
       "    </tr>\n",
       "    <tr>\n",
       "      <th>4</th>\n",
       "      <td>153</td>\n",
       "      <td>at_94217</td>\n",
       "      <td>Améliorer l'efficacité énergétique des procédé...</td>\n",
       "      <td>NATIONAL</td>\n",
       "      <td>AAP - « Efficacité des procédés et des utilité...</td>\n",
       "      <td>Critères d'éligibilité : Les projets devront :...</td>\n",
       "      <td>a:1:{i:0;s:10:\"Subvention\";}</td>\n",
       "      <td>NaN</td>\n",
       "      <td>NaN</td>\n",
       "      <td>NaN</td>\n",
       "      <td>...</td>\n",
       "      <td>0.0</td>\n",
       "      <td>0.0</td>\n",
       "      <td>0.0</td>\n",
       "      <td>0.0</td>\n",
       "      <td>0.0</td>\n",
       "      <td>0.0</td>\n",
       "      <td>0.0</td>\n",
       "      <td>0.0</td>\n",
       "      <td>0.0</td>\n",
       "      <td>0.0</td>\n",
       "    </tr>\n",
       "    <tr>\n",
       "      <th>...</th>\n",
       "      <td>...</td>\n",
       "      <td>...</td>\n",
       "      <td>...</td>\n",
       "      <td>...</td>\n",
       "      <td>...</td>\n",
       "      <td>...</td>\n",
       "      <td>...</td>\n",
       "      <td>...</td>\n",
       "      <td>...</td>\n",
       "      <td>...</td>\n",
       "      <td>...</td>\n",
       "      <td>...</td>\n",
       "      <td>...</td>\n",
       "      <td>...</td>\n",
       "      <td>...</td>\n",
       "      <td>...</td>\n",
       "      <td>...</td>\n",
       "      <td>...</td>\n",
       "      <td>...</td>\n",
       "      <td>...</td>\n",
       "      <td>...</td>\n",
       "    </tr>\n",
       "    <tr>\n",
       "      <th>830</th>\n",
       "      <td>403</td>\n",
       "      <td>at_30546</td>\n",
       "      <td>Développer un tourisme de pleine nature éco-re...</td>\n",
       "      <td>REGIONAL</td>\n",
       "      <td>Le développement de la destination « Lauragais...</td>\n",
       "      <td>Critère général : Intérêt supra communal du pr...</td>\n",
       "      <td>a:3:{i:0;s:10:\"Subvention\";i:1;s:21:\"Ingénieri...</td>\n",
       "      <td>48.0</td>\n",
       "      <td>NaN</td>\n",
       "      <td>NaN</td>\n",
       "      <td>...</td>\n",
       "      <td>0.0</td>\n",
       "      <td>0.0</td>\n",
       "      <td>1.0</td>\n",
       "      <td>0.0</td>\n",
       "      <td>0.0</td>\n",
       "      <td>0.0</td>\n",
       "      <td>0.0</td>\n",
       "      <td>0.0</td>\n",
       "      <td>0.0</td>\n",
       "      <td>0.0</td>\n",
       "    </tr>\n",
       "    <tr>\n",
       "      <th>831</th>\n",
       "      <td>28</td>\n",
       "      <td>at_72354</td>\n",
       "      <td>Programme LEADER du Grand Beauvaisis</td>\n",
       "      <td>REGIONAL</td>\n",
       "      <td>Le Pôle Territorial du Grand Beauvaisis (PETR)...</td>\n",
       "      <td>Le périmètre de l'aide se limite aux quatre in...</td>\n",
       "      <td>a:4:{i:0;s:10:\"Subvention\";i:1;s:21:\"Ingénieri...</td>\n",
       "      <td>80.0</td>\n",
       "      <td>NaN</td>\n",
       "      <td>NaN</td>\n",
       "      <td>...</td>\n",
       "      <td>0.0</td>\n",
       "      <td>0.0</td>\n",
       "      <td>1.0</td>\n",
       "      <td>0.0</td>\n",
       "      <td>0.0</td>\n",
       "      <td>0.0</td>\n",
       "      <td>0.0</td>\n",
       "      <td>0.0</td>\n",
       "      <td>0.0</td>\n",
       "      <td>0.0</td>\n",
       "    </tr>\n",
       "    <tr>\n",
       "      <th>832</th>\n",
       "      <td>28</td>\n",
       "      <td>at_72354</td>\n",
       "      <td>Programme LEADER du Grand Beauvaisis</td>\n",
       "      <td>REGIONAL</td>\n",
       "      <td>Le Pôle Territorial du Grand Beauvaisis (PETR)...</td>\n",
       "      <td>Le périmètre de l'aide se limite aux quatre in...</td>\n",
       "      <td>a:4:{i:0;s:10:\"Subvention\";i:1;s:21:\"Ingénieri...</td>\n",
       "      <td>80.0</td>\n",
       "      <td>NaN</td>\n",
       "      <td>NaN</td>\n",
       "      <td>...</td>\n",
       "      <td>0.0</td>\n",
       "      <td>0.0</td>\n",
       "      <td>1.0</td>\n",
       "      <td>0.0</td>\n",
       "      <td>0.0</td>\n",
       "      <td>0.0</td>\n",
       "      <td>0.0</td>\n",
       "      <td>0.0</td>\n",
       "      <td>0.0</td>\n",
       "      <td>0.0</td>\n",
       "    </tr>\n",
       "    <tr>\n",
       "      <th>833</th>\n",
       "      <td>28</td>\n",
       "      <td>at_72354</td>\n",
       "      <td>Programme LEADER du Grand Beauvaisis</td>\n",
       "      <td>REGIONAL</td>\n",
       "      <td>Le Pôle Territorial du Grand Beauvaisis (PETR)...</td>\n",
       "      <td>Le périmètre de l'aide se limite aux quatre in...</td>\n",
       "      <td>a:4:{i:0;s:10:\"Subvention\";i:1;s:21:\"Ingénieri...</td>\n",
       "      <td>80.0</td>\n",
       "      <td>NaN</td>\n",
       "      <td>NaN</td>\n",
       "      <td>...</td>\n",
       "      <td>0.0</td>\n",
       "      <td>0.0</td>\n",
       "      <td>1.0</td>\n",
       "      <td>0.0</td>\n",
       "      <td>0.0</td>\n",
       "      <td>0.0</td>\n",
       "      <td>0.0</td>\n",
       "      <td>0.0</td>\n",
       "      <td>0.0</td>\n",
       "      <td>0.0</td>\n",
       "    </tr>\n",
       "    <tr>\n",
       "      <th>834</th>\n",
       "      <td>28</td>\n",
       "      <td>at_72354</td>\n",
       "      <td>Programme LEADER du Grand Beauvaisis</td>\n",
       "      <td>REGIONAL</td>\n",
       "      <td>Le Pôle Territorial du Grand Beauvaisis (PETR)...</td>\n",
       "      <td>Le périmètre de l'aide se limite aux quatre in...</td>\n",
       "      <td>a:4:{i:0;s:10:\"Subvention\";i:1;s:21:\"Ingénieri...</td>\n",
       "      <td>80.0</td>\n",
       "      <td>NaN</td>\n",
       "      <td>NaN</td>\n",
       "      <td>...</td>\n",
       "      <td>0.0</td>\n",
       "      <td>0.0</td>\n",
       "      <td>1.0</td>\n",
       "      <td>0.0</td>\n",
       "      <td>0.0</td>\n",
       "      <td>0.0</td>\n",
       "      <td>0.0</td>\n",
       "      <td>0.0</td>\n",
       "      <td>0.0</td>\n",
       "      <td>0.0</td>\n",
       "    </tr>\n",
       "  </tbody>\n",
       "</table>\n",
       "<p>835 rows × 117 columns</p>\n",
       "</div>"
      ],
      "text/plain": [
       "      id source_id                                               name  \\\n",
       "0    198  at_94683  Financer les études et tests préalables aux in...   \n",
       "1    187  at_58447  Soutenir financièrement le développement de l'...   \n",
       "2     13  at_90955  Soutenir financièrement l'intégration de matiè...   \n",
       "3    213  at_94687  Financer les études de préfiguration d'une dém...   \n",
       "4    153  at_94217  Améliorer l'efficacité énergétique des procédé...   \n",
       "..   ...       ...                                                ...   \n",
       "830  403  at_30546  Développer un tourisme de pleine nature éco-re...   \n",
       "831   28  at_72354               Programme LEADER du Grand Beauvaisis   \n",
       "832   28  at_72354               Programme LEADER du Grand Beauvaisis   \n",
       "833   28  at_72354               Programme LEADER du Grand Beauvaisis   \n",
       "834   28  at_72354               Programme LEADER du Grand Beauvaisis   \n",
       "\n",
       "    perimeter                                        aid_details  \\\n",
       "0    NATIONAL  Aide - « Études et tests préalables aux invest...   \n",
       "1    NATIONAL  Le dispositif de l'ADEME – ORPLAST (Objectif R...   \n",
       "2    REGIONAL  ORPLAST 3 (Objectif Recyclage PLASTiques) est ...   \n",
       "3    NATIONAL  Aide - « Étude de préfiguration d'une démarche...   \n",
       "4    NATIONAL  AAP - « Efficacité des procédés et des utilité...   \n",
       "..        ...                                                ...   \n",
       "830  REGIONAL  Le développement de la destination « Lauragais...   \n",
       "831  REGIONAL  Le Pôle Territorial du Grand Beauvaisis (PETR)...   \n",
       "832  REGIONAL  Le Pôle Territorial du Grand Beauvaisis (PETR)...   \n",
       "833  REGIONAL  Le Pôle Territorial du Grand Beauvaisis (PETR)...   \n",
       "834  REGIONAL  Le Pôle Territorial du Grand Beauvaisis (PETR)...   \n",
       "\n",
       "                                           eligibility  \\\n",
       "0    Critères d'éligibilité Pertinence du projet vi...   \n",
       "1    Sont éligibles, les dossiers portant sur un ou...   \n",
       "2    Calendrier : L'appel à projet est ouvert jusqu...   \n",
       "3                                                        \n",
       "4    Critères d'éligibilité : Les projets devront :...   \n",
       "..                                                 ...   \n",
       "830  Critère général : Intérêt supra communal du pr...   \n",
       "831  Le périmètre de l'aide se limite aux quatre in...   \n",
       "832  Le périmètre de l'aide se limite aux quatre in...   \n",
       "833  Le périmètre de l'aide se limite aux quatre in...   \n",
       "834  Le périmètre de l'aide se limite aux quatre in...   \n",
       "\n",
       "                                         funding_types  \\\n",
       "0                         a:1:{i:0;s:10:\"Subvention\";}   \n",
       "1                         a:1:{i:0;s:10:\"Subvention\";}   \n",
       "2                         a:1:{i:0;s:10:\"Subvention\";}   \n",
       "3                         a:1:{i:0;s:10:\"Subvention\";}   \n",
       "4                         a:1:{i:0;s:10:\"Subvention\";}   \n",
       "..                                                 ...   \n",
       "830  a:3:{i:0;s:10:\"Subvention\";i:1;s:21:\"Ingénieri...   \n",
       "831  a:4:{i:0;s:10:\"Subvention\";i:1;s:21:\"Ingénieri...   \n",
       "832  a:4:{i:0;s:10:\"Subvention\";i:1;s:21:\"Ingénieri...   \n",
       "833  a:4:{i:0;s:10:\"Subvention\";i:1;s:21:\"Ingénieri...   \n",
       "834  a:4:{i:0;s:10:\"Subvention\";i:1;s:21:\"Ingénieri...   \n",
       "\n",
       "     subvention_rate_upper_bound  subvention_rate_lower_bound Focus  ...   90  \\\n",
       "0                           70.0                          NaN   NaN  ...  0.0   \n",
       "1                            NaN                          NaN   NaN  ...  0.0   \n",
       "2                            NaN                          NaN   NaN  ...  0.0   \n",
       "3                           69.0                          NaN   NaN  ...  0.0   \n",
       "4                            NaN                          NaN   NaN  ...  0.0   \n",
       "..                           ...                          ...   ...  ...  ...   \n",
       "830                         48.0                          NaN   NaN  ...  0.0   \n",
       "831                         80.0                          NaN   NaN  ...  0.0   \n",
       "832                         80.0                          NaN   NaN  ...  0.0   \n",
       "833                         80.0                          NaN   NaN  ...  0.0   \n",
       "834                         80.0                          NaN   NaN  ...  0.0   \n",
       "\n",
       "      91   92   93   94   95   96   97   98   99  \n",
       "0    0.0  0.0  0.0  0.0  0.0  0.0  0.0  0.0  0.0  \n",
       "1    0.0  0.0  0.0  0.0  0.0  0.0  0.0  0.0  0.0  \n",
       "2    0.0  0.0  0.0  0.0  0.0  0.0  0.0  0.0  0.0  \n",
       "3    0.0  0.0  0.0  0.0  0.0  0.0  0.0  0.0  0.0  \n",
       "4    0.0  0.0  0.0  0.0  0.0  0.0  0.0  0.0  0.0  \n",
       "..   ...  ...  ...  ...  ...  ...  ...  ...  ...  \n",
       "830  0.0  1.0  0.0  0.0  0.0  0.0  0.0  0.0  0.0  \n",
       "831  0.0  1.0  0.0  0.0  0.0  0.0  0.0  0.0  0.0  \n",
       "832  0.0  1.0  0.0  0.0  0.0  0.0  0.0  0.0  0.0  \n",
       "833  0.0  1.0  0.0  0.0  0.0  0.0  0.0  0.0  0.0  \n",
       "834  0.0  1.0  0.0  0.0  0.0  0.0  0.0  0.0  0.0  \n",
       "\n",
       "[835 rows x 117 columns]"
      ]
     },
     "execution_count": 30,
     "metadata": {},
     "output_type": "execute_result"
    }
   ],
   "source": [
    "DF"
   ]
  },
  {
   "cell_type": "code",
   "execution_count": 31,
   "metadata": {},
   "outputs": [
    {
     "name": "stdout",
     "output_type": "stream",
     "text": [
      "de 690\n",
      "et 430\n",
      "des 403\n",
      "les 337\n",
      "la 306\n",
      "ou 160\n",
      "développer 154\n",
      "pour 149\n",
      "développement 147\n",
      "en 145\n",
      "innovation 143\n",
      "un 142\n",
      "projet 111\n",
      "dans 106\n",
      "recherche 106\n",
      "accompagner 98\n",
      "le 95\n",
      "soutenir 81\n",
      "projets 77\n",
      "du 68\n"
     ]
    },
    {
     "data": {
      "text/plain": [
       "<AxesSubplot:title={'center':'Top 20 words in name before removing stop words'}, xlabel='name', ylabel='Count'>"
      ]
     },
     "execution_count": 31,
     "metadata": {},
     "output_type": "execute_result"
    },
    {
     "data": {
      "image/png": "[encoded data removed]",
      "text/plain": [
       "<Figure size 864x576 with 1 Axes>"
      ]
     },
     "metadata": {
      "needs_background": "light"
     },
     "output_type": "display_data"
    }
   ],
   "source": [
    "from sklearn.feature_extraction.text import CountVectorizer\n",
    "\n",
    "def get_top_n_words(corpus, n=None):\n",
    "    vec = CountVectorizer().fit(corpus)\n",
    "    bag_of_words = vec.transform(corpus)\n",
    "    sum_words = bag_of_words.sum(axis=0) \n",
    "    words_freq = [(word, sum_words[0, idx]) for word, idx in vec.vocabulary_.items()]\n",
    "    words_freq =sorted(words_freq, key = lambda x: x[1], reverse=True)\n",
    "    return words_freq[:n]\n",
    "common_words = get_top_n_words(DF['name'], 20)\n",
    "for word, freq in common_words:\n",
    "    print(word, freq)\n",
    "df1 = pd.DataFrame(common_words, columns = ['name' , 'count'])\n",
    "plt.figure(figsize=(12,8))\n",
    "df1.groupby('name').sum()['count'].sort_values(ascending=False).plot(\n",
    "    kind='bar', ylabel='Count', title='Top 20 words in name before removing stop words', rot=70)\n"
   ]
  },
  {
   "cell_type": "code",
   "execution_count": 32,
   "metadata": {},
   "outputs": [
    {
     "data": {
      "text/plain": [
       "<AxesSubplot:title={'center':'Top 20 words in name after removing stop words'}, xlabel='name', ylabel='Count'>"
      ]
     },
     "execution_count": 32,
     "metadata": {},
     "output_type": "execute_result"
    },
    {
     "data": {
      "image/png": "[encoded data removed]",
      "text/plain": [
       "<Figure size 864x576 with 1 Axes>"
      ]
     },
     "metadata": {
      "needs_background": "light"
     },
     "output_type": "display_data"
    }
   ],
   "source": [
    "FRENCH_STOP_WORDS = [\"et\", \"de\", \"un\", \"ou\", \"les\", \"des\", \"en\", \"pour\", \"dans\", \"le\", \"projets\", \"la\", \"le\", \"du\", \"donc\", \"d'un\", \"d'une\", \"l'\",\n",
    "                     \"un\",\"une\", \"vos\", \"votre\", \"nos\", \"notre\", \"ton\", \"ta\", \"vous\", \"ces\", \"ses\", \"sur\", \"aux\", \"non\", \"au\" ]\n",
    "\n",
    "def get_top_n_words(corpus, n=None):\n",
    "    vec = CountVectorizer(stop_words=FRENCH_STOP_WORDS).fit(corpus)\n",
    "    bag_of_words = vec.transform(corpus)\n",
    "    sum_words = bag_of_words.sum(axis=0) \n",
    "    words_freq = [(word, sum_words[0, idx]) for word, idx in vec.vocabulary_.items()]\n",
    "    words_freq =sorted(words_freq, key = lambda x: x[1], reverse=True)\n",
    "    return words_freq[:n]\n",
    "common_words = get_top_n_words(DF['name'], 20)\n",
    "# for word, freq in common_words:\n",
    "#     print(word, freq)\n",
    "df2 = pd.DataFrame(common_words, columns = ['name' , 'count'])\n",
    "plt.figure(figsize=(12,8))\n",
    "df2.groupby('name').sum()['count'].sort_values(ascending=False).plot(\n",
    "    kind='bar', ylabel='Count', rot=70, title='Top 20 words in name after removing stop words')"
   ]
  },
  {
   "cell_type": "code",
   "execution_count": 33,
   "metadata": {},
   "outputs": [
    {
     "data": {
      "text/plain": [
       "(835, 1135)"
      ]
     },
     "execution_count": 33,
     "metadata": {},
     "output_type": "execute_result"
    }
   ],
   "source": [
    "from sklearn.feature_extraction.text import TfidfTransformer, CountVectorizer\n",
    "count_vect = CountVectorizer()\n",
    "X_train_counts = count_vect.fit_transform(DF[\"name\"])\n",
    "X_train_counts.shape"
   ]
  },
  {
   "cell_type": "code",
   "execution_count": 34,
   "metadata": {},
   "outputs": [],
   "source": [
    "tf_transformer = TfidfTransformer(use_idf=False).fit(X_train_counts)\n"
   ]
  },
  {
   "cell_type": "code",
   "execution_count": 35,
   "metadata": {},
   "outputs": [
    {
     "data": {
      "text/plain": [
       "(835, 1135)"
      ]
     },
     "execution_count": 35,
     "metadata": {},
     "output_type": "execute_result"
    }
   ],
   "source": [
    "X_train_tfidf = tf_transformer.fit_transform(X_train_counts)\n",
    "X_train_tfidf.shape"
   ]
  },
  {
   "cell_type": "code",
   "execution_count": 36,
   "metadata": {},
   "outputs": [],
   "source": [
    "from sklearn.decomposition import PCA\n",
    "\n",
    "pca = PCA(n_components=2)"
   ]
  },
  {
   "cell_type": "code",
   "execution_count": 37,
   "metadata": {},
   "outputs": [],
   "source": [
    "X_pca = pca.fit_transform(X_train_tfidf.todense())"
   ]
  },
  {
   "cell_type": "code",
   "execution_count": 38,
   "metadata": {},
   "outputs": [
    {
     "name": "stdout",
     "output_type": "stream",
     "text": [
      "[0.12975313 0.05479394]\n",
      "[9.63156356 6.25898815]\n"
     ]
    }
   ],
   "source": [
    "print(pca.explained_variance_ratio_)\n",
    "print(pca.singular_values_)"
   ]
  },
  {
   "cell_type": "code",
   "execution_count": 39,
   "metadata": {},
   "outputs": [
    {
     "data": {
      "text/html": [
       "<div>\n",
       "<style scoped>\n",
       "    .dataframe tbody tr th:only-of-type {\n",
       "        vertical-align: middle;\n",
       "    }\n",
       "\n",
       "    .dataframe tbody tr th {\n",
       "        vertical-align: top;\n",
       "    }\n",
       "\n",
       "    .dataframe thead th {\n",
       "        text-align: right;\n",
       "    }\n",
       "</style>\n",
       "<table border=\"1\" class=\"dataframe\">\n",
       "  <thead>\n",
       "    <tr style=\"text-align: right;\">\n",
       "      <th></th>\n",
       "      <th>PC1</th>\n",
       "      <th>PC2</th>\n",
       "      <th>Cluster</th>\n",
       "    </tr>\n",
       "  </thead>\n",
       "  <tbody>\n",
       "    <tr>\n",
       "      <th>0</th>\n",
       "      <td>-0.291365</td>\n",
       "      <td>0.038139</td>\n",
       "      <td>Evolution des procédés industriels - Incorpora...</td>\n",
       "    </tr>\n",
       "    <tr>\n",
       "      <th>1</th>\n",
       "      <td>0.163967</td>\n",
       "      <td>0.010076</td>\n",
       "      <td>Evolution des procédés industriels - Incorpora...</td>\n",
       "    </tr>\n",
       "    <tr>\n",
       "      <th>2</th>\n",
       "      <td>-0.000134</td>\n",
       "      <td>-0.015705</td>\n",
       "      <td>Evolution des procédés industriels - Incorpora...</td>\n",
       "    </tr>\n",
       "    <tr>\n",
       "      <th>3</th>\n",
       "      <td>-0.070253</td>\n",
       "      <td>0.082342</td>\n",
       "      <td>Evolution des procédés industriels - Réduction...</td>\n",
       "    </tr>\n",
       "    <tr>\n",
       "      <th>4</th>\n",
       "      <td>0.008985</td>\n",
       "      <td>-0.170216</td>\n",
       "      <td>Evolution des procédés industriels - Réduction...</td>\n",
       "    </tr>\n",
       "  </tbody>\n",
       "</table>\n",
       "</div>"
      ],
      "text/plain": [
       "        PC1       PC2                                            Cluster\n",
       "0 -0.291365  0.038139  Evolution des procédés industriels - Incorpora...\n",
       "1  0.163967  0.010076  Evolution des procédés industriels - Incorpora...\n",
       "2 -0.000134 -0.015705  Evolution des procédés industriels - Incorpora...\n",
       "3 -0.070253  0.082342  Evolution des procédés industriels - Réduction...\n",
       "4  0.008985 -0.170216  Evolution des procédés industriels - Réduction..."
      ]
     },
     "execution_count": 39,
     "metadata": {},
     "output_type": "execute_result"
    }
   ],
   "source": [
    "pc_df = pd.DataFrame(data = X_pca , \n",
    "        columns = ['PC1', 'PC2'])\n",
    "pc_df['Cluster'] = DF[\"Thématique - Sous-thématique\"]\n",
    "pc_df.head()"
   ]
  },
  {
   "cell_type": "code",
   "execution_count": 40,
   "metadata": {},
   "outputs": [
    {
     "data": {
      "text/plain": [
       "<seaborn.axisgrid.FacetGrid at 0x171b7152608>"
      ]
     },
     "execution_count": 40,
     "metadata": {},
     "output_type": "execute_result"
    },
    {
     "data": {
      "text/plain": [
       "<Figure size 864x576 with 0 Axes>"
      ]
     },
     "metadata": {},
     "output_type": "display_data"
    },
    {
     "data": {
      "image/png": "[encoded data removed]",
      "text/plain": [
       "<Figure size 576x576 with 1 Axes>"
      ]
     },
     "metadata": {
      "needs_background": "light"
     },
     "output_type": "display_data"
    }
   ],
   "source": [
    "plt.figure(figsize=(12,8))\n",
    "sns.lmplot(x=\"PC1\", y=\"PC2\",\n",
    "  data=pc_df, \n",
    "  fit_reg=False, \n",
    "  hue='Cluster', # color by cluster\n",
    "  legend=False,\n",
    "  scatter_kws={\"s\": 20},\n",
    "  height=8) # specify the point size"
   ]
  },
  {
   "cell_type": "code",
   "execution_count": 41,
   "metadata": {},
   "outputs": [
    {
     "data": {
      "text/plain": [
       "(835, 117)"
      ]
     },
     "execution_count": 41,
     "metadata": {},
     "output_type": "execute_result"
    }
   ],
   "source": [
    "DF.shape"
   ]
  },
  {
   "cell_type": "code",
   "execution_count": 42,
   "metadata": {},
   "outputs": [
    {
     "data": {
      "text/plain": [
       "(730, 42)"
      ]
     },
     "execution_count": 42,
     "metadata": {},
     "output_type": "execute_result"
    }
   ],
   "source": [
    "data.shape"
   ]
  },
  {
   "cell_type": "code",
   "execution_count": 43,
   "metadata": {},
   "outputs": [
    {
     "data": {
      "text/plain": [
       "0      Financer les études et tests préalables aux in...\n",
       "1      Soutenir financièrement le développement de l'...\n",
       "2      Soutenir financièrement l'intégration de matiè...\n",
       "3      Financer les études de préfiguration d'une dém...\n",
       "4      Améliorer l'efficacité énergétique des procédé...\n",
       "                             ...                        \n",
       "830    Développer un tourisme de pleine nature éco-re...\n",
       "831                 Programme LEADER du Grand Beauvaisis\n",
       "832                 Programme LEADER du Grand Beauvaisis\n",
       "833                 Programme LEADER du Grand Beauvaisis\n",
       "834                 Programme LEADER du Grand Beauvaisis\n",
       "Name: name, Length: 835, dtype: object"
      ]
     },
     "execution_count": 43,
     "metadata": {},
     "output_type": "execute_result"
    }
   ],
   "source": [
    "DF.name"
   ]
  },
  {
   "cell_type": "code",
   "execution_count": 44,
   "metadata": {},
   "outputs": [
    {
     "name": "stderr",
     "output_type": "stream",
     "text": [
      "Some weights of the model checkpoint at camembert/camembert-large were not used when initializing CamembertForSequenceClassification: ['lm_head.bias', 'lm_head.dense.weight', 'lm_head.dense.bias', 'lm_head.layer_norm.weight', 'lm_head.layer_norm.bias', 'lm_head.decoder.weight', 'roberta.pooler.dense.weight', 'roberta.pooler.dense.bias']\n",
      "- This IS expected if you are initializing CamembertForSequenceClassification from the checkpoint of a model trained on another task or with another architecture (e.g. initializing a BertForSequenceClassification model from a BertForPreTraining model).\n",
      "- This IS NOT expected if you are initializing CamembertForSequenceClassification from the checkpoint of a model that you expect to be exactly identical (initializing a BertForSequenceClassification model from a BertForSequenceClassification model).\n",
      "Some weights of CamembertForSequenceClassification were not initialized from the model checkpoint at camembert/camembert-large and are newly initialized: ['classifier.dense.weight', 'classifier.dense.bias', 'classifier.out_proj.weight', 'classifier.out_proj.bias']\n",
      "You should probably TRAIN this model on a down-stream task to be able to use it for predictions and inference.\n",
      "Failed to determine 'entailment' label id from the label2id mapping in the model config. Setting to -1. Define a descriptive label2id mapping in the model config to ensure correct outputs.\n"
     ]
    }
   ],
   "source": [
    "from transformers import pipeline\n",
    "\n",
    "classifier = pipeline(\"zero-shot-classification\", model=\"camembert/camembert-large\")"
   ]
  },
  {
   "cell_type": "code",
   "execution_count": 45,
   "metadata": {},
   "outputs": [
    {
     "name": "stdout",
     "output_type": "stream",
     "text": [
      "['  Secteur Agriculture & Zones rurales - Biodiversité & Bien-être animal', ' Développement des circuits courts', ' Evolution des procédés industriels - Incorporation de produits recyclés', \" Evolution des procédés industriels - Réduction de l'empreinte carbone\", ' Evolution des procédés industriels - Réduction des pollutions & dépollution', ' Evolution des procédés industriels - Réduction du gaspillage', ' Gestion des bâtiments - Acquisition & extension des locaux', \" Gestion des bâtiments - Amélioration de la qualité de l'air\", ' Gestion des bâtiments - Bilan énergétique & Rénovation', ' Gestion des bâtiments - Sensibilisation sur les consommations']\n"
     ]
    }
   ],
   "source": [
    "candidate_labels = list(np.unique(L))\n",
    "print(candidate_labels[:10])"
   ]
  },
  {
   "cell_type": "code",
   "execution_count": 46,
   "metadata": {},
   "outputs": [
    {
     "name": "stderr",
     "output_type": "stream",
     "text": [
      "Asking to truncate to max_length but no maximum length is provided and the model has no predefined maximum length. Default to no truncation.\n"
     ]
    },
    {
     "name": "stdout",
     "output_type": "stream",
     "text": [
      "Expérimenter des démarches, des outils dynamiques et participatifs pour la préservation et la valorisation du patrimoine naturel et bâti\n",
      "dict_keys(['sequence', 'labels', 'scores'])\n"
     ]
    }
   ],
   "source": [
    "txt = DF.name.values[500]\n",
    "print(txt)\n",
    "res = classifier(txt, candidate_labels, multi_class=True)\n",
    "print(res.keys())"
   ]
  },
  {
   "cell_type": "code",
   "execution_count": 47,
   "metadata": {},
   "outputs": [
    {
     "data": {
      "text/plain": [
       "<AxesSubplot:>"
      ]
     },
     "execution_count": 47,
     "metadata": {},
     "output_type": "execute_result"
    },
    {
     "data": {
      "image/png": "[encoded data removed]",
      "text/plain": [
       "<Figure size 432x288 with 1 Axes>"
      ]
     },
     "metadata": {
      "needs_background": "light"
     },
     "output_type": "display_data"
    }
   ],
   "source": [
    "pd.Series(res[\"scores\"]).plot()"
   ]
  },
  {
   "cell_type": "code",
   "execution_count": 50,
   "metadata": {},
   "outputs": [
    {
     "name": "stdout",
     "output_type": "stream",
     "text": [
      "Secteur Agriculture & Zones rurales - Animation & développement économique et social\n",
      " Innovation produits & services - AIde aux investissements\n"
     ]
    }
   ],
   "source": [
    "\n",
    "\n",
    "for l in DF.loc[500,\"le\"]:\n",
    "    print(res[\"labels\"][l])"
   ]
  },
  {
   "cell_type": "code",
   "execution_count": 49,
   "metadata": {},
   "outputs": [
    {
     "name": "stdout",
     "output_type": "stream",
     "text": [
      "0\n"
     ]
    },
    {
     "data": {
      "text/plain": [
       "\"Evolution des procédés industriels - Réduction de la consommation d'énergie\""
      ]
     },
     "execution_count": 49,
     "metadata": {},
     "output_type": "execute_result"
    }
   ],
   "source": [
    "idx = np.argmax(res[\"scores\"])\n",
    "print(idx)\n",
    "res[\"labels\"][idx]"
   ]
  },
  {
   "cell_type": "code",
   "execution_count": null,
   "metadata": {},
   "outputs": [],
   "source": []
  }
 ],
 "metadata": {
  "interpreter": {
   "hash": "8bf562adedb18a473865f57dc6d4bcf0d647ab0c9586756fa6ef501981d36475"
  },
  "kernelspec": {
   "display_name": "Python 3.7.10 64-bit ('amine': conda)",
   "name": "python3"
  },
  "language_info": {
   "codemirror_mode": {
    "name": "ipython",
    "version": 3
   },
   "file_extension": ".py",
   "mimetype": "text/x-python",
   "name": "python",
   "nbconvert_exporter": "python",
   "pygments_lexer": "ipython3",
   "version": "3.7.10"
  },
  "orig_nbformat": 4
 },
 "nbformat": 4,
 "nbformat_minor": 2
}
