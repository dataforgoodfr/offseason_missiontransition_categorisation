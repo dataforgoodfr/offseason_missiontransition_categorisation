{
 "cells": [
  {
   "cell_type": "code",
   "execution_count": 1,
   "metadata": {},
   "outputs": [],
   "source": [
    "import pandas as pd \n",
    "import numpy as np \n",
    "from transformers import T5Tokenizer, T5ForConditionalGeneration\n",
    "model = T5ForConditionalGeneration.from_pretrained(\"plguillou/t5-base-fr-sum-cnndm\")"
   ]
  },
  {
   "cell_type": "code",
   "execution_count": 2,
   "metadata": {},
   "outputs": [],
   "source": [
    "df = pd.read_csv(\"../data/aids_mt_preprocessed.csv\", sep=\"\\t\")"
   ]
  },
  {
   "cell_type": "code",
   "execution_count": 3,
   "metadata": {},
   "outputs": [],
   "source": [
    "import numpy as np "
   ]
  },
  {
   "cell_type": "code",
   "execution_count": 4,
   "metadata": {},
   "outputs": [],
   "source": [
    "tokenizer = T5Tokenizer.from_pretrained(\"plguillou/t5-base-fr-sum-cnndm\")\n"
   ]
  },
  {
   "cell_type": "code",
   "execution_count": 7,
   "metadata": {},
   "outputs": [
    {
     "data": {
      "text/plain": [
       "512"
      ]
     },
     "execution_count": 7,
     "metadata": {},
     "output_type": "execute_result"
    }
   ],
   "source": [
    "tokenizer.model_max_length\n"
   ]
  },
  {
   "cell_type": "code",
   "execution_count": 6,
   "metadata": {},
   "outputs": [
    {
     "name": "stdout",
     "output_type": "stream",
     "text": [
      "Tester l’intérêt de la géothermie sur champs de sondes pour le chauffage des bâtiments.     Aide - « Test de réponse thermique de terrain (géothermie) », mis en place par l'ADEME        Objectif :     Vous avez un projet de géothermie sur champs de sondes ? Le test de réponse thermique est une procédure qui permet de caractériser les propriétés thermiques moyennes des terrains traversés et de la sonde géothermique verticale testée.      Bénéficiaires :         Entreprise ou collectivité dans les secteurs résidentiel, collectif, tertiaire ou industriel          vous souhaitez réaliser une opération de pompe à chaleur (PAC) sur champs de sondes géothermiques verticales (CSGV).      Réalisez votre étude préalable à la réalisation d'un test de réponse thermique.    L'objectif du test de réponse thermique (TRT) permet de fournir des informations sur les propriétés thermiques moyennes du terrain et donc sur l'intérêt de pouvoir faire de la géothermie sur champs de sondes pour le chauffage des bâtiments concernés.    Accompagnement :        Aide : jusqu'à 70 % selon la taille de l'entreprise.          Plafonds : 50 000 € étude de diagnostic, 100 000 € études d'accompagnement de projet.     \n",
      "##################\n",
      "Le test de réponse thermique permet de caractériser les propriétés thermiques moyennes des terrains\n"
     ]
    }
   ],
   "source": [
    "text = np.random.choice(df[\"text\"])\n",
    "print(text)\n",
    "input_ids = tokenizer(\"summarize: \" + text, return_tensors='pt').input_ids\n",
    "outputs = model.generate(input_ids)\n",
    "print(\"##################\")\n",
    "print(tokenizer.decode(outputs[0], skip_special_tokens=True))"
   ]
  },
  {
   "cell_type": "code",
   "execution_count": 8,
   "metadata": {},
   "outputs": [
    {
     "name": "stdout",
     "output_type": "stream",
     "text": [
      "Collecting sumy\n",
      "  Downloading sumy-0.9.0-py2.py3-none-any.whl (87 kB)\n",
      "Requirement already satisfied: requests>=2.7.0 in c:\\users\\amine\\anaconda3\\envs\\thesis\\lib\\site-packages (from sumy) (2.26.0)\n",
      "Collecting pycountry>=18.2.23\n",
      "  Downloading pycountry-22.1.10.tar.gz (10.1 MB)\n",
      "Collecting docopt<0.7,>=0.6.1\n",
      "  Using cached docopt-0.6.2-py2.py3-none-any.whl\n",
      "Collecting nltk>=3.0.2\n",
      "  Downloading nltk-3.6.7-py3-none-any.whl (1.5 MB)\n",
      "Collecting breadability>=0.1.20\n",
      "  Downloading breadability-0.1.20.tar.gz (32 kB)\n",
      "Collecting chardet\n",
      "  Using cached chardet-4.0.0-py2.py3-none-any.whl (178 kB)\n",
      "Collecting lxml>=2.0\n",
      "  Downloading lxml-4.7.1-cp37-cp37m-win_amd64.whl (3.7 MB)\n",
      "Requirement already satisfied: regex>=2021.8.3 in c:\\users\\amine\\anaconda3\\envs\\thesis\\lib\\site-packages (from nltk>=3.0.2->sumy) (2021.10.23)\n",
      "Requirement already satisfied: click in c:\\users\\amine\\anaconda3\\envs\\thesis\\lib\\site-packages (from nltk>=3.0.2->sumy) (7.1.2)\n",
      "Requirement already satisfied: joblib in c:\\users\\amine\\anaconda3\\envs\\thesis\\lib\\site-packages (from nltk>=3.0.2->sumy) (1.1.0)\n",
      "Requirement already satisfied: tqdm in c:\\users\\amine\\anaconda3\\envs\\thesis\\lib\\site-packages (from nltk>=3.0.2->sumy) (4.62.3)\n",
      "Requirement already satisfied: setuptools in c:\\users\\amine\\anaconda3\\envs\\thesis\\lib\\site-packages (from pycountry>=18.2.23->sumy) (58.0.4)\n",
      "Requirement already satisfied: charset-normalizer~=2.0.0 in c:\\users\\amine\\anaconda3\\envs\\thesis\\lib\\site-packages (from requests>=2.7.0->sumy) (2.0.7)\n",
      "Requirement already satisfied: idna<4,>=2.5 in c:\\users\\amine\\anaconda3\\envs\\thesis\\lib\\site-packages (from requests>=2.7.0->sumy) (3.3)\n",
      "Requirement already satisfied: certifi>=2017.4.17 in c:\\users\\amine\\anaconda3\\envs\\thesis\\lib\\site-packages (from requests>=2.7.0->sumy) (2021.10.8)\n",
      "Requirement already satisfied: urllib3<1.27,>=1.21.1 in c:\\users\\amine\\anaconda3\\envs\\thesis\\lib\\site-packages (from requests>=2.7.0->sumy) (1.26.7)\n",
      "Requirement already satisfied: colorama in c:\\users\\amine\\appdata\\roaming\\python\\python37\\site-packages (from tqdm->nltk>=3.0.2->sumy) (0.4.4)\n",
      "Building wheels for collected packages: breadability, pycountry\n",
      "  Building wheel for breadability (setup.py): started\n",
      "  Building wheel for breadability (setup.py): finished with status 'done'\n",
      "  Created wheel for breadability: filename=breadability-0.1.20-py2.py3-none-any.whl size=21711 sha256=4635d119f55e57c5df3fccb1e99fcd2f663cf1b16f2cf3e4d9e4b8eb5d7d5de0\n",
      "  Stored in directory: c:\\users\\amine\\appdata\\local\\pip\\cache\\wheels\\d4\\bf\\51\\81d27ad638e1a6dca4f362ecc33d1e2c764b8ea7ec751b8fc1\n",
      "  Building wheel for pycountry (setup.py): started\n",
      "  Building wheel for pycountry (setup.py): finished with status 'done'\n",
      "  Created wheel for pycountry: filename=pycountry-22.1.10-py2.py3-none-any.whl size=10595786 sha256=0881a4eedb5252016006243fefabf239427ba21bb9aeb532981fd07c2ab777e5\n",
      "  Stored in directory: c:\\users\\amine\\appdata\\local\\pip\\cache\\wheels\\f7\\8f\\9c\\b070d7376caf2beb0685bf72578106b2fd57019ed57d84f126\n",
      "Successfully built breadability pycountry\n",
      "Installing collected packages: lxml, docopt, chardet, pycountry, nltk, breadability, sumy\n",
      "Successfully installed breadability-0.1.20 chardet-4.0.0 docopt-0.6.2 lxml-4.7.1 nltk-3.6.7 pycountry-22.1.10 sumy-0.9.0\n"
     ]
    },
    {
     "name": "stderr",
     "output_type": "stream",
     "text": [
      "WARNING: Ignoring invalid distribution -f-nightly (c:\\users\\amine\\appdata\\roaming\\python\\python37\\site-packages)\n",
      "WARNING: Ignoring invalid distribution -f-nightly (c:\\users\\amine\\appdata\\roaming\\python\\python37\\site-packages)\n",
      "WARNING: Ignoring invalid distribution -f-nightly (c:\\users\\amine\\appdata\\roaming\\python\\python37\\site-packages)\n",
      "WARNING: Ignoring invalid distribution -f-nightly (c:\\users\\amine\\appdata\\roaming\\python\\python37\\site-packages)\n",
      "WARNING: Ignoring invalid distribution -f-nightly (c:\\users\\amine\\appdata\\roaming\\python\\python37\\site-packages)\n",
      "WARNING: Ignoring invalid distribution -f-nightly (c:\\users\\amine\\appdata\\roaming\\python\\python37\\site-packages)\n"
     ]
    }
   ],
   "source": [
    "!pip install sumy"
   ]
  },
  {
   "cell_type": "code",
   "execution_count": 23,
   "metadata": {},
   "outputs": [
    {
     "name": "stdout",
     "output_type": "stream",
     "text": [
      "TEXT:  Soutenir l'amélioration de la desserte des zones logistiques.   La Région accompagne les gestionnaires de voirie/zone qui améliorent, par des aménagements, le stationnement ou les dessertes logistiques près de routes d'intérêt régional.         Pour quel type de projet ?      - construction ou modernisation d'infrastructures d'accès à des zones accueillant des activités logistiques,    - création ou sécurisation de places de stationnement destinées aux poids lourds à proximité immédiate du réseau routier d'intérêt régional ou d'une zone accueillant des activités logistiques,    - installation d'équipements de voirie permettant le développement des systèmes de transport intelligents et coopératifs pour améliorer la connaissance des flux logistiques existants et anticiper l'utilisation de véhicules autonomes et connectés pour le transport de marchandises.         Qui peut en bénéficier ?      - Collectivités - Institutions    - Gestionnaires de voirie ou de zone         Quelle est la nature de l'aide ?      Jusqu'à 50 % des dépenses éligibles, plafonnées selon les cas à :    - 800 000 euros (ou 1 million d'euros si la zone desservie comporte une station GNV) pour les infrastructures d'accès aux zones logistiques,      - 8 000 euros par place de stationnement poids lourd,    - 500 000 euros pour les équipements C-ITS.    \n",
      "#######################\n",
      "Jusqu'à 50 % des dépenses éligibles, plafonnées selon les cas à :    - 800 000 euros (ou 1 million d'euros si la zone desservie comporte une station GNV) pour les infrastructures d'accès aux zones logistiques,      - 8 000 euros par place de stationnement poids lourd,    - 500 000 euros pour les équipements C-ITS.\n"
     ]
    }
   ],
   "source": [
    "from sumy.parsers.html import HtmlParser\n",
    "from sumy.parsers.plaintext import PlaintextParser\n",
    "from sumy.nlp.tokenizers import Tokenizer\n",
    "from sumy.summarizers.lsa import LsaSummarizer as Summarizer\n",
    "from sumy.nlp.stemmers import Stemmer\n",
    "from sumy.utils import get_stop_words\n",
    "\n",
    "\n",
    "LANGUAGE = \"french\"\n",
    "SENTENCES_COUNT = 1\n",
    "text = np.random.choice(df[\"text\"])\n",
    "\n",
    "stemmer = Stemmer(LANGUAGE)\n",
    "parser = PlaintextParser.from_string(text,Tokenizer(\"french\"))\n",
    "print(\"TEXT: \", text)\n",
    "summarizer = Summarizer(stemmer)\n",
    "summarizer.stop_words = get_stop_words(LANGUAGE)\n",
    "print(\"#######################\")\n",
    "for sentence in summarizer(parser.document, SENTENCES_COUNT):\n",
    "    print(sentence)"
   ]
  },
  {
   "cell_type": "code",
   "execution_count": 17,
   "metadata": {},
   "outputs": [
    {
     "data": {
      "text/plain": [
       "['pourquoi',\n",
       " 'parole',\n",
       " 'été',\n",
       " 'haut',\n",
       " 'pas',\n",
       " 'droite',\n",
       " 'peu',\n",
       " 'en',\n",
       " 'ses',\n",
       " 'sur',\n",
       " 'voient',\n",
       " 'dos',\n",
       " 'encore',\n",
       " 'doit',\n",
       " 'elles',\n",
       " 'alors',\n",
       " 'moins',\n",
       " 'des',\n",
       " 'mon',\n",
       " 'parce',\n",
       " 'que',\n",
       " 'sujet',\n",
       " 'tout',\n",
       " 'quelle',\n",
       " 'étaient',\n",
       " 'force',\n",
       " 'personnes',\n",
       " 'donc',\n",
       " 'comme',\n",
       " 'eu',\n",
       " 'ma',\n",
       " 'avoir',\n",
       " 'autre',\n",
       " 'est',\n",
       " 'tes',\n",
       " 'ta',\n",
       " 'ni',\n",
       " 'les',\n",
       " 'aussi',\n",
       " 'ça',\n",
       " 'ceux',\n",
       " 'maintenant',\n",
       " 'étions',\n",
       " 'sont',\n",
       " 'quels',\n",
       " 'juste',\n",
       " 'vont',\n",
       " 'tandis',\n",
       " 'seulement',\n",
       " 'tous',\n",
       " 'fois',\n",
       " 'quand',\n",
       " 'êtr',\n",
       " 'hors',\n",
       " 'très',\n",
       " 'avec',\n",
       " 'ils',\n",
       " 'essai',\n",
       " 'deux',\n",
       " 'soyez',\n",
       " 'pour',\n",
       " 'peut',\n",
       " 'là',\n",
       " 'faites',\n",
       " 'sous',\n",
       " 'avant',\n",
       " 'pièce',\n",
       " 'cela',\n",
       " 'car',\n",
       " 'mes',\n",
       " 'ci',\n",
       " 'notre',\n",
       " 'même',\n",
       " 'sans',\n",
       " 'depuis',\n",
       " 'leur',\n",
       " 'mais',\n",
       " 'chaque',\n",
       " 'son',\n",
       " 'début',\n",
       " 'dedans',\n",
       " 'ces',\n",
       " 'nous',\n",
       " 'plupart',\n",
       " 'valeur',\n",
       " 'vu',\n",
       " 'je',\n",
       " 'tels',\n",
       " 'où',\n",
       " 'sien',\n",
       " 'dehors',\n",
       " 'fait',\n",
       " 'mine',\n",
       " 'nouveaux',\n",
       " 'mot',\n",
       " 'elle',\n",
       " 'état',\n",
       " 'dans',\n",
       " 'qui',\n",
       " 'du',\n",
       " 'sa',\n",
       " 'vous',\n",
       " 'quelles',\n",
       " 'il',\n",
       " 'le',\n",
       " 'ou',\n",
       " 'comment',\n",
       " 'nommés',\n",
       " 'ce',\n",
       " 'font',\n",
       " 'quel',\n",
       " 'voie',\n",
       " 'et',\n",
       " 'bon',\n",
       " 'au',\n",
       " 'devrait',\n",
       " 'la',\n",
       " 'ton',\n",
       " 'ici',\n",
       " 'par',\n",
       " 'votre',\n",
       " 'si',\n",
       " 'aucuns',\n",
       " 'tellement',\n",
       " 'trop',\n",
       " 'tu']"
      ]
     },
     "execution_count": 17,
     "metadata": {},
     "output_type": "execute_result"
    }
   ],
   "source": [
    "list(summarizer.stop_words)"
   ]
  },
  {
   "cell_type": "code",
   "execution_count": null,
   "metadata": {},
   "outputs": [],
   "source": []
  }
 ],
 "metadata": {
  "interpreter": {
   "hash": "8bf562adedb18a473865f57dc6d4bcf0d647ab0c9586756fa6ef501981d36475"
  },
  "kernelspec": {
   "display_name": "Python 3.7.10 64-bit ('amine': conda)",
   "language": "python",
   "name": "python3"
  },
  "language_info": {
   "codemirror_mode": {
    "name": "ipython",
    "version": 3
   },
   "file_extension": ".py",
   "mimetype": "text/x-python",
   "name": "python",
   "nbconvert_exporter": "python",
   "pygments_lexer": "ipython3",
   "version": "3.7.11"
  },
  "orig_nbformat": 4
 },
 "nbformat": 4,
 "nbformat_minor": 2
}
