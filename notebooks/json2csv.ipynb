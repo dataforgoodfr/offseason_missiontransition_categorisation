{
 "cells": [
  {
   "cell_type": "code",
   "execution_count": 1,
   "metadata": {},
   "outputs": [],
   "source": [
    "import sys \n",
    "sys.path.append(\"../src/utils/\")\n",
    "from requester import Requester\n",
    "import numpy as np \n",
    "import pandas as pd \n",
    "import seaborn as sns"
   ]
  },
  {
   "cell_type": "code",
   "execution_count": 2,
   "metadata": {},
   "outputs": [],
   "source": [
    "R = Requester()\n",
    "l = R.get_aids_mt()\n",
    "t = R.get_themes_mt()"
   ]
  },
  {
   "cell_type": "code",
   "execution_count": 3,
   "metadata": {},
   "outputs": [
    {
     "data": {
      "text/plain": [
       "{'name': 'Financer les études et tests préalables aux investissements servant à incorporer des matières premières issues du recyclage',\n",
       " 'perimeter': 'NATIONAL',\n",
       " 'goal': None,\n",
       " 'beneficiary': None,\n",
       " 'aidDetails': \"<p>\\n <strong>\\n  Aide - « Études et tests préalables aux investissements pour incorporer des matières premières issues du recyclage », mis en place par l'ADEME\\n </strong>\\n</p>\\n<p>\\n Objectif : vous souhaitez étudier ou tester une unité de production intégrant des Matières premières de recyclage (MPR), ou alors adapter une unité existante ? L'ADEME peut vous aider à financer les études et les tests nécessaires à l'expérimentation.\\n</p>\\n<p>\\n Bénéficiaires :\\r\\nEntreprises de production susceptibles d'utiliser des MPR dans les secteurs de des métaux, du textile, du bâtiment, de l'industrie du papier-carton, du bois...\\n <br/>\\n <br/>\\n Accompagnement : subvention. Taux d'aide maximum : 70 % des dépenses éligibles.\\n <br/>\\n</p>\",\n",
       " 'eligibility': \"<p>\\n Critères d'éligibilité\\n <br/>\\n</p>\\n<ul>\\n <li>\\n  Pertinence du projet vis-à-vis de la filière pour la matière étudiée,\\n  <br/>\\n </li>\\n <li>\\n  Pertinence du projet sur le territoire\\n  <br/>\\n </li>\\n <li>\\n  Choix du process : caractéristiques et performances,\\n  <br/>\\n </li>\\n <li>\\n  Sécurité d'approvisionnement à partir de l'étude des gisements de MPR mobilisables,\\n  <br/>\\n </li>\\n <li>\\n  Pérennité des débouchés des flux produits,\\n  <br/>\\n </li>\\n <li>\\n  Coûts d'investissement et de fonctionnement,\\n  <br/>\\n </li>\\n <li>\\n  Impacts environnementaux et impacts en terme d'emplois,\\n  <br/>\\n </li>\\n <li>\\n  Part de MPR incorporée en remplacement de matière vierge.\\n  <br/>\\n </li>\\n</ul>\",\n",
       " 'conditions': None,\n",
       " 'fundingSourceUrl': 'https://agirpourlatransition.ademe.fr/entreprises/dispositif-aide/etudes-tests-prealables-investissements-incorporer-matieres-premieres-issues',\n",
       " 'applicationEndDate': None,\n",
       " 'applicationUrl': '',\n",
       " 'slug': 'financer-les-etudes-et-tests-prealables-aux-investissements-servant-a-incorporer-des-matieres-premieres-issues-du-recyclage',\n",
       " 'environmentalTopics': [{'name': 'Incorporation de produits recyclés',\n",
       "   'id': 1}],\n",
       " 'funder': {'name': 'ADEME', 'id': 8},\n",
       " 'fundingTypes': ['Subvention'],\n",
       " 'regions': [{'name': 'France', 'id': 1}],\n",
       " 'contactGuidelines': '<p>\\n Contactez l\\'ADEME via leur\\n <a href=\"https://agirpourlatransition.ademe.fr/entreprises/form/contact?source_entity_type=node&amp;source_entity_bundle=dispositif_gre_a_gre&amp;source_entity_id=7134\" rel=\"noopener\" target=\"_blank\">\\n  formulaire de contact\\n </a>\\n pour en savoir plus sur ce dispositif\\n <br/>\\n</p>',\n",
       " 'subventionRateUpperBound': 70,\n",
       " 'subventionRateLowerBound': None,\n",
       " 'loanAmount': None,\n",
       " 'applicationStartDate': '2021-11-09T15:42:42+00:00',\n",
       " 'projectExamples': \"<p>\\n Actions éligibles :\\n <br/>\\n</p>\\n<ul>\\n <li>\\n  Études de faisabilité permettant de valider la compatibilité, avec les contraintes de procédés ou de produits notamment, d'une intégration ou d'une augmentation de la proportion de MPR dans les processus industriels,\\n  <br/>\\n </li>\\n <li>\\n  Réalisation de tests d'intégration de MPR dans les procédés industriels.\\n  <br/>\\n </li>\\n</ul>\",\n",
       " 'directAccess': False,\n",
       " 'types': [{'name': 'Aide financière', 'id': 1}],\n",
       " 'id': 189}"
      ]
     },
     "execution_count": 3,
     "metadata": {},
     "output_type": "execute_result"
    }
   ],
   "source": [
    "l[0]"
   ]
  },
  {
   "cell_type": "code",
   "execution_count": null,
   "metadata": {},
   "outputs": [],
   "source": []
  },
  {
   "cell_type": "code",
   "execution_count": 4,
   "metadata": {},
   "outputs": [
    {
     "data": {
      "text/plain": [
       "{'id': 1,\n",
       " 'name': 'Evolution des procédés industriels',\n",
       " 'environmentalTopics': [{'name': 'Incorporation de produits recyclés',\n",
       "   'id': 1},\n",
       "  {'name': 'Réduction du gaspillage', 'id': 9},\n",
       "  {'name': \"Réduction de la consommation d'énergie\", 'id': 6},\n",
       "  {'name': \"Réduction de l'empreinte carbone\", 'id': 3},\n",
       "  {'name': 'Réduction des pollutions & dépollution', 'id': 8}],\n",
       " 'description': 'Exemples de projets :\\r\\nEfficacité énergétique des procédés industriels, audit énergétique pour l’industrie, réduction des pollutions industrielles, décarbonation des outils industriels.'}"
      ]
     },
     "execution_count": 4,
     "metadata": {},
     "output_type": "execute_result"
    }
   ],
   "source": [
    "t[0]"
   ]
  },
  {
   "cell_type": "code",
   "execution_count": 5,
   "metadata": {},
   "outputs": [
    {
     "name": "stdout",
     "output_type": "stream",
     "text": [
      "Evolution des procédés industriels\n"
     ]
    },
    {
     "ename": "KeyError",
     "evalue": "'categories'",
     "output_type": "error",
     "traceback": [
      "\u001b[1;31m---------------------------------------------------------------------------\u001b[0m",
      "\u001b[1;31mKeyError\u001b[0m                                  Traceback (most recent call last)",
      "\u001b[1;32m<ipython-input-5-ca83a263290a>\u001b[0m in \u001b[0;36m<module>\u001b[1;34m\u001b[0m\n\u001b[0;32m      2\u001b[0m \u001b[1;32mfor\u001b[0m \u001b[0mc\u001b[0m \u001b[1;32min\u001b[0m \u001b[0mt\u001b[0m\u001b[1;33m:\u001b[0m\u001b[1;33m\u001b[0m\u001b[1;33m\u001b[0m\u001b[0m\n\u001b[0;32m      3\u001b[0m     \u001b[0mprint\u001b[0m\u001b[1;33m(\u001b[0m\u001b[0mc\u001b[0m\u001b[1;33m[\u001b[0m\u001b[1;34m\"name\"\u001b[0m\u001b[1;33m]\u001b[0m\u001b[1;33m)\u001b[0m\u001b[1;33m\u001b[0m\u001b[1;33m\u001b[0m\u001b[0m\n\u001b[1;32m----> 4\u001b[1;33m     \u001b[0mprint\u001b[0m\u001b[1;33m(\u001b[0m\u001b[0mlen\u001b[0m\u001b[1;33m(\u001b[0m\u001b[0mc\u001b[0m\u001b[1;33m[\u001b[0m\u001b[1;34m\"categories\"\u001b[0m\u001b[1;33m]\u001b[0m\u001b[1;33m)\u001b[0m\u001b[1;33m)\u001b[0m\u001b[1;33m\u001b[0m\u001b[1;33m\u001b[0m\u001b[0m\n\u001b[0m\u001b[0;32m      5\u001b[0m     \u001b[0mS\u001b[0m\u001b[1;33m.\u001b[0m\u001b[0mappend\u001b[0m\u001b[1;33m(\u001b[0m\u001b[0mlen\u001b[0m\u001b[1;33m(\u001b[0m\u001b[0mc\u001b[0m\u001b[1;33m[\u001b[0m\u001b[1;34m\"categories\"\u001b[0m\u001b[1;33m]\u001b[0m\u001b[1;33m)\u001b[0m\u001b[1;33m)\u001b[0m\u001b[1;33m\u001b[0m\u001b[1;33m\u001b[0m\u001b[0m\n",
      "\u001b[1;31mKeyError\u001b[0m: 'categories'"
     ]
    }
   ],
   "source": [
    "S = []\n",
    "for c in t:\n",
    "    print(c[\"name\"])\n",
    "    print(len(c[\"categories\"]))\n",
    "    S.append(len(c[\"categories\"]))"
   ]
  },
  {
   "cell_type": "code",
   "execution_count": 6,
   "metadata": {},
   "outputs": [
    {
     "data": {
      "text/plain": [
       "0.0"
      ]
     },
     "execution_count": 6,
     "metadata": {},
     "output_type": "execute_result"
    }
   ],
   "source": [
    "DF = pd.DataFrame(columns=[\"id\", \"name\", \"financers\", \"description\", \"eligibility\", \"categories\", \"start_date\", \"date_created\", \"date_updated\"])\n",
    "\n",
    "np.sum(S)"
   ]
  },
  {
   "cell_type": "code",
   "execution_count": 7,
   "metadata": {},
   "outputs": [
    {
     "ename": "NameError",
     "evalue": "name 'mt_aids' is not defined",
     "output_type": "error",
     "traceback": [
      "\u001b[1;31m---------------------------------------------------------------------------\u001b[0m",
      "\u001b[1;31mNameError\u001b[0m                                 Traceback (most recent call last)",
      "\u001b[1;32m<ipython-input-7-452528a8c94a>\u001b[0m in \u001b[0;36m<module>\u001b[1;34m\u001b[0m\n\u001b[0;32m      1\u001b[0m \u001b[0mL\u001b[0m \u001b[1;33m=\u001b[0m \u001b[1;33m[\u001b[0m\u001b[1;33m]\u001b[0m\u001b[1;33m\u001b[0m\u001b[1;33m\u001b[0m\u001b[0m\n\u001b[0;32m      2\u001b[0m \u001b[1;33m\u001b[0m\u001b[0m\n\u001b[1;32m----> 3\u001b[1;33m \u001b[1;32mfor\u001b[0m \u001b[0mx\u001b[0m \u001b[1;32min\u001b[0m \u001b[0mmt_aids\u001b[0m\u001b[1;33m:\u001b[0m\u001b[1;33m\u001b[0m\u001b[1;33m\u001b[0m\u001b[0m\n\u001b[0m\u001b[0;32m      4\u001b[0m     \u001b[0mL\u001b[0m \u001b[1;33m+=\u001b[0m \u001b[1;33m[\u001b[0m\u001b[0mlen\u001b[0m\u001b[1;33m(\u001b[0m\u001b[0mx\u001b[0m\u001b[1;33m[\u001b[0m\u001b[1;34m\"environmentalTopics\"\u001b[0m\u001b[1;33m]\u001b[0m\u001b[1;33m)\u001b[0m\u001b[1;33m]\u001b[0m\u001b[1;33m\u001b[0m\u001b[1;33m\u001b[0m\u001b[0m\n",
      "\u001b[1;31mNameError\u001b[0m: name 'mt_aids' is not defined"
     ]
    }
   ],
   "source": [
    "L = []\n",
    "\n",
    "for x in mt_aids:\n",
    "    L += [len(x[\"environmentalTopics\"])]"
   ]
  },
  {
   "cell_type": "code",
   "execution_count": 8,
   "metadata": {},
   "outputs": [
    {
     "ename": "ValueError",
     "evalue": "max() arg is an empty sequence",
     "output_type": "error",
     "traceback": [
      "\u001b[1;31m---------------------------------------------------------------------------\u001b[0m",
      "\u001b[1;31mValueError\u001b[0m                                Traceback (most recent call last)",
      "\u001b[1;32m<ipython-input-8-ab2518348da1>\u001b[0m in \u001b[0;36m<module>\u001b[1;34m\u001b[0m\n\u001b[1;32m----> 1\u001b[1;33m \u001b[0mmax\u001b[0m\u001b[1;33m(\u001b[0m\u001b[0mL\u001b[0m\u001b[1;33m)\u001b[0m\u001b[1;33m\u001b[0m\u001b[1;33m\u001b[0m\u001b[0m\n\u001b[0m",
      "\u001b[1;31mValueError\u001b[0m: max() arg is an empty sequence"
     ]
    }
   ],
   "source": [
    "max(L)"
   ]
  },
  {
   "cell_type": "code",
   "execution_count": 9,
   "metadata": {},
   "outputs": [
    {
     "ename": "NameError",
     "evalue": "name 'mt_aids' is not defined",
     "output_type": "error",
     "traceback": [
      "\u001b[1;31m---------------------------------------------------------------------------\u001b[0m",
      "\u001b[1;31mNameError\u001b[0m                                 Traceback (most recent call last)",
      "\u001b[1;32m<ipython-input-9-cba926e285f3>\u001b[0m in \u001b[0;36m<module>\u001b[1;34m\u001b[0m\n\u001b[1;32m----> 1\u001b[1;33m \u001b[0mmt_aids\u001b[0m\u001b[1;33m[\u001b[0m\u001b[1;36m10\u001b[0m\u001b[1;33m]\u001b[0m\u001b[1;33m\u001b[0m\u001b[1;33m\u001b[0m\u001b[0m\n\u001b[0m",
      "\u001b[1;31mNameError\u001b[0m: name 'mt_aids' is not defined"
     ]
    }
   ],
   "source": [
    "mt_aids[10]"
   ]
  },
  {
   "cell_type": "code",
   "execution_count": 10,
   "metadata": {},
   "outputs": [
    {
     "data": {
      "text/plain": [
       "{'name': 'Financer les études et tests préalables aux investissements servant à incorporer des matières premières issues du recyclage',\n",
       " 'perimeter': 'NATIONAL',\n",
       " 'goal': None,\n",
       " 'beneficiary': None,\n",
       " 'aidDetails': \"<p>\\n <strong>\\n  Aide - « Études et tests préalables aux investissements pour incorporer des matières premières issues du recyclage », mis en place par l'ADEME\\n </strong>\\n</p>\\n<p>\\n Objectif : vous souhaitez étudier ou tester une unité de production intégrant des Matières premières de recyclage (MPR), ou alors adapter une unité existante ? L'ADEME peut vous aider à financer les études et les tests nécessaires à l'expérimentation.\\n</p>\\n<p>\\n Bénéficiaires :\\r\\nEntreprises de production susceptibles d'utiliser des MPR dans les secteurs de des métaux, du textile, du bâtiment, de l'industrie du papier-carton, du bois...\\n <br/>\\n <br/>\\n Accompagnement : subvention. Taux d'aide maximum : 70 % des dépenses éligibles.\\n <br/>\\n</p>\",\n",
       " 'eligibility': \"<p>\\n Critères d'éligibilité\\n <br/>\\n</p>\\n<ul>\\n <li>\\n  Pertinence du projet vis-à-vis de la filière pour la matière étudiée,\\n  <br/>\\n </li>\\n <li>\\n  Pertinence du projet sur le territoire\\n  <br/>\\n </li>\\n <li>\\n  Choix du process : caractéristiques et performances,\\n  <br/>\\n </li>\\n <li>\\n  Sécurité d'approvisionnement à partir de l'étude des gisements de MPR mobilisables,\\n  <br/>\\n </li>\\n <li>\\n  Pérennité des débouchés des flux produits,\\n  <br/>\\n </li>\\n <li>\\n  Coûts d'investissement et de fonctionnement,\\n  <br/>\\n </li>\\n <li>\\n  Impacts environnementaux et impacts en terme d'emplois,\\n  <br/>\\n </li>\\n <li>\\n  Part de MPR incorporée en remplacement de matière vierge.\\n  <br/>\\n </li>\\n</ul>\",\n",
       " 'conditions': None,\n",
       " 'fundingSourceUrl': 'https://agirpourlatransition.ademe.fr/entreprises/dispositif-aide/etudes-tests-prealables-investissements-incorporer-matieres-premieres-issues',\n",
       " 'applicationEndDate': None,\n",
       " 'applicationUrl': '',\n",
       " 'slug': 'financer-les-etudes-et-tests-prealables-aux-investissements-servant-a-incorporer-des-matieres-premieres-issues-du-recyclage',\n",
       " 'environmentalTopics': [{'name': 'Incorporation de produits recyclés',\n",
       "   'id': 1}],\n",
       " 'funder': {'name': 'ADEME', 'id': 8},\n",
       " 'fundingTypes': ['Subvention'],\n",
       " 'regions': [{'name': 'France', 'id': 1}],\n",
       " 'contactGuidelines': '<p>\\n Contactez l\\'ADEME via leur\\n <a href=\"https://agirpourlatransition.ademe.fr/entreprises/form/contact?source_entity_type=node&amp;source_entity_bundle=dispositif_gre_a_gre&amp;source_entity_id=7134\" rel=\"noopener\" target=\"_blank\">\\n  formulaire de contact\\n </a>\\n pour en savoir plus sur ce dispositif\\n <br/>\\n</p>',\n",
       " 'subventionRateUpperBound': 70,\n",
       " 'subventionRateLowerBound': None,\n",
       " 'loanAmount': None,\n",
       " 'applicationStartDate': '2021-11-09T15:42:42+00:00',\n",
       " 'projectExamples': \"<p>\\n Actions éligibles :\\n <br/>\\n</p>\\n<ul>\\n <li>\\n  Études de faisabilité permettant de valider la compatibilité, avec les contraintes de procédés ou de produits notamment, d'une intégration ou d'une augmentation de la proportion de MPR dans les processus industriels,\\n  <br/>\\n </li>\\n <li>\\n  Réalisation de tests d'intégration de MPR dans les procédés industriels.\\n  <br/>\\n </li>\\n</ul>\",\n",
       " 'directAccess': False,\n",
       " 'types': [{'name': 'Aide financière', 'id': 1}],\n",
       " 'id': 189}"
      ]
     },
     "execution_count": 10,
     "metadata": {},
     "output_type": "execute_result"
    }
   ],
   "source": [
    "l[0]"
   ]
  },
  {
   "cell_type": "code",
   "execution_count": null,
   "metadata": {},
   "outputs": [],
   "source": []
  },
  {
   "cell_type": "code",
   "execution_count": 11,
   "metadata": {},
   "outputs": [
    {
     "data": {
      "text/html": [
       "<div>\n",
       "<style scoped>\n",
       "    .dataframe tbody tr th:only-of-type {\n",
       "        vertical-align: middle;\n",
       "    }\n",
       "\n",
       "    .dataframe tbody tr th {\n",
       "        vertical-align: top;\n",
       "    }\n",
       "\n",
       "    .dataframe thead th {\n",
       "        text-align: right;\n",
       "    }\n",
       "</style>\n",
       "<table border=\"1\" class=\"dataframe\">\n",
       "  <thead>\n",
       "    <tr style=\"text-align: right;\">\n",
       "      <th></th>\n",
       "      <th>id</th>\n",
       "      <th>name</th>\n",
       "      <th>financers</th>\n",
       "      <th>description</th>\n",
       "      <th>eligibility</th>\n",
       "      <th>categories</th>\n",
       "      <th>start_date</th>\n",
       "      <th>date_created</th>\n",
       "      <th>date_updated</th>\n",
       "    </tr>\n",
       "  </thead>\n",
       "  <tbody>\n",
       "  </tbody>\n",
       "</table>\n",
       "</div>"
      ],
      "text/plain": [
       "Empty DataFrame\n",
       "Columns: [id, name, financers, description, eligibility, categories, start_date, date_created, date_updated]\n",
       "Index: []"
      ]
     },
     "execution_count": 11,
     "metadata": {},
     "output_type": "execute_result"
    }
   ],
   "source": [
    "DF"
   ]
  },
  {
   "cell_type": "code",
   "execution_count": 12,
   "metadata": {},
   "outputs": [
    {
     "data": {
      "text/plain": [
       "[]"
      ]
     },
     "execution_count": 12,
     "metadata": {},
     "output_type": "execute_result"
    }
   ],
   "source": [
    "L"
   ]
  },
  {
   "cell_type": "code",
   "execution_count": 13,
   "metadata": {},
   "outputs": [
    {
     "data": {
      "text/html": [
       "<div>\n",
       "<style scoped>\n",
       "    .dataframe tbody tr th:only-of-type {\n",
       "        vertical-align: middle;\n",
       "    }\n",
       "\n",
       "    .dataframe tbody tr th {\n",
       "        vertical-align: top;\n",
       "    }\n",
       "\n",
       "    .dataframe thead th {\n",
       "        text-align: right;\n",
       "    }\n",
       "</style>\n",
       "<table border=\"1\" class=\"dataframe\">\n",
       "  <thead>\n",
       "    <tr style=\"text-align: right;\">\n",
       "      <th></th>\n",
       "      <th>id</th>\n",
       "      <th>name</th>\n",
       "      <th>financers</th>\n",
       "      <th>description</th>\n",
       "      <th>eligibility</th>\n",
       "      <th>categories</th>\n",
       "      <th>start_date</th>\n",
       "      <th>date_created</th>\n",
       "      <th>date_updated</th>\n",
       "    </tr>\n",
       "  </thead>\n",
       "  <tbody>\n",
       "  </tbody>\n",
       "</table>\n",
       "</div>"
      ],
      "text/plain": [
       "Empty DataFrame\n",
       "Columns: [id, name, financers, description, eligibility, categories, start_date, date_created, date_updated]\n",
       "Index: []"
      ]
     },
     "execution_count": 13,
     "metadata": {},
     "output_type": "execute_result"
    }
   ],
   "source": [
    "DF"
   ]
  },
  {
   "cell_type": "code",
   "execution_count": null,
   "metadata": {},
   "outputs": [],
   "source": []
  }
 ],
 "metadata": {
  "interpreter": {
   "hash": "8bf562adedb18a473865f57dc6d4bcf0d647ab0c9586756fa6ef501981d36475"
  },
  "kernelspec": {
   "display_name": "Python 3.7.10 64-bit ('amine': conda)",
   "language": "python",
   "name": "python3"
  },
  "language_info": {
   "codemirror_mode": {
    "name": "ipython",
    "version": 3
   },
   "file_extension": ".py",
   "mimetype": "text/x-python",
   "name": "python",
   "nbconvert_exporter": "python",
   "pygments_lexer": "ipython3",
   "version": "3.7.10"
  },
  "orig_nbformat": 4
 },
 "nbformat": 4,
 "nbformat_minor": 2
}
