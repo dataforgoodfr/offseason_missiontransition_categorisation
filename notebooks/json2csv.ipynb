{
 "cells": [
  {
   "cell_type": "code",
   "execution_count": 1,
   "metadata": {},
   "outputs": [],
   "source": [
    "import sys \n",
    "sys.path.append(\"../src/utils/\")\n",
    "from requester import Requester\n",
    "import numpy as np \n",
    "import pandas as pd \n",
    "import seaborn as sns"
   ]
  },
  {
   "cell_type": "code",
   "execution_count": 2,
   "metadata": {},
   "outputs": [],
   "source": [
    "R = Requester()\n",
    "l = R.get_aids_mt()\n",
    "t = R.get_themes_mt()"
   ]
  },
  {
   "cell_type": "code",
   "execution_count": 5,
   "metadata": {},
   "outputs": [
    {
     "ename": "JSONDecodeError",
     "evalue": "Expecting value: line 2 column 1 (char 1)",
     "output_type": "error",
     "traceback": [
      "\u001b[1;31m---------------------------------------------------------------------------\u001b[0m",
      "\u001b[1;31mJSONDecodeError\u001b[0m                           Traceback (most recent call last)",
      "\u001b[1;32m<ipython-input-5-2581ce51c8aa>\u001b[0m in \u001b[0;36m<module>\u001b[1;34m\u001b[0m\n\u001b[1;32m----> 1\u001b[1;33m \u001b[0mR\u001b[0m\u001b[1;33m.\u001b[0m\u001b[0mget_aid\u001b[0m\u001b[1;33m(\u001b[0m\u001b[1;34m\"94683\"\u001b[0m\u001b[1;33m)\u001b[0m\u001b[1;33m\u001b[0m\u001b[1;33m\u001b[0m\u001b[0m\n\u001b[0m",
      "\u001b[1;32mc:\\Users\\amine\\Documents\\projects\\portfolio\\offseason_missiontransition_categorisation\\src\\utils\\requester.py\u001b[0m in \u001b[0;36mget_aid\u001b[1;34m(self, aid_id)\u001b[0m\n\u001b[0;32m     27\u001b[0m         \"\"\"\n\u001b[0;32m     28\u001b[0m         \u001b[0mresponse\u001b[0m \u001b[1;33m=\u001b[0m \u001b[0mrequests\u001b[0m\u001b[1;33m.\u001b[0m\u001b[0mget\u001b[0m\u001b[1;33m(\u001b[0m\u001b[0mURL_AT\u001b[0m \u001b[1;33m+\u001b[0m \u001b[0maid_id\u001b[0m\u001b[1;33m)\u001b[0m\u001b[1;33m\u001b[0m\u001b[1;33m\u001b[0m\u001b[0m\n\u001b[1;32m---> 29\u001b[1;33m         \u001b[0mdata\u001b[0m \u001b[1;33m=\u001b[0m \u001b[0mresponse\u001b[0m\u001b[1;33m.\u001b[0m\u001b[0mjson\u001b[0m\u001b[1;33m(\u001b[0m\u001b[1;33m)\u001b[0m\u001b[1;33m\u001b[0m\u001b[1;33m\u001b[0m\u001b[0m\n\u001b[0m\u001b[0;32m     30\u001b[0m         \u001b[0maid\u001b[0m \u001b[1;33m=\u001b[0m \u001b[0mdata\u001b[0m\u001b[1;33m[\u001b[0m\u001b[1;34m\"results\"\u001b[0m\u001b[1;33m]\u001b[0m\u001b[1;33m\u001b[0m\u001b[1;33m\u001b[0m\u001b[0m\n\u001b[0;32m     31\u001b[0m         \u001b[1;32mreturn\u001b[0m \u001b[0maid\u001b[0m\u001b[1;33m\u001b[0m\u001b[1;33m\u001b[0m\u001b[0m\n",
      "\u001b[1;32m~\\anaconda3\\envs\\amine\\lib\\site-packages\\requests\\models.py\u001b[0m in \u001b[0;36mjson\u001b[1;34m(self, **kwargs)\u001b[0m\n\u001b[0;32m    898\u001b[0m                     \u001b[1;31m# used.\u001b[0m\u001b[1;33m\u001b[0m\u001b[1;33m\u001b[0m\u001b[1;33m\u001b[0m\u001b[0m\n\u001b[0;32m    899\u001b[0m                     \u001b[1;32mpass\u001b[0m\u001b[1;33m\u001b[0m\u001b[1;33m\u001b[0m\u001b[0m\n\u001b[1;32m--> 900\u001b[1;33m         \u001b[1;32mreturn\u001b[0m \u001b[0mcomplexjson\u001b[0m\u001b[1;33m.\u001b[0m\u001b[0mloads\u001b[0m\u001b[1;33m(\u001b[0m\u001b[0mself\u001b[0m\u001b[1;33m.\u001b[0m\u001b[0mtext\u001b[0m\u001b[1;33m,\u001b[0m \u001b[1;33m**\u001b[0m\u001b[0mkwargs\u001b[0m\u001b[1;33m)\u001b[0m\u001b[1;33m\u001b[0m\u001b[1;33m\u001b[0m\u001b[0m\n\u001b[0m\u001b[0;32m    901\u001b[0m \u001b[1;33m\u001b[0m\u001b[0m\n\u001b[0;32m    902\u001b[0m     \u001b[1;33m@\u001b[0m\u001b[0mproperty\u001b[0m\u001b[1;33m\u001b[0m\u001b[1;33m\u001b[0m\u001b[0m\n",
      "\u001b[1;32m~\\anaconda3\\envs\\amine\\lib\\json\\__init__.py\u001b[0m in \u001b[0;36mloads\u001b[1;34m(s, encoding, cls, object_hook, parse_float, parse_int, parse_constant, object_pairs_hook, **kw)\u001b[0m\n\u001b[0;32m    346\u001b[0m             \u001b[0mparse_int\u001b[0m \u001b[1;32mis\u001b[0m \u001b[1;32mNone\u001b[0m \u001b[1;32mand\u001b[0m \u001b[0mparse_float\u001b[0m \u001b[1;32mis\u001b[0m \u001b[1;32mNone\u001b[0m \u001b[1;32mand\u001b[0m\u001b[1;33m\u001b[0m\u001b[1;33m\u001b[0m\u001b[0m\n\u001b[0;32m    347\u001b[0m             parse_constant is None and object_pairs_hook is None and not kw):\n\u001b[1;32m--> 348\u001b[1;33m         \u001b[1;32mreturn\u001b[0m \u001b[0m_default_decoder\u001b[0m\u001b[1;33m.\u001b[0m\u001b[0mdecode\u001b[0m\u001b[1;33m(\u001b[0m\u001b[0ms\u001b[0m\u001b[1;33m)\u001b[0m\u001b[1;33m\u001b[0m\u001b[1;33m\u001b[0m\u001b[0m\n\u001b[0m\u001b[0;32m    349\u001b[0m     \u001b[1;32mif\u001b[0m \u001b[0mcls\u001b[0m \u001b[1;32mis\u001b[0m \u001b[1;32mNone\u001b[0m\u001b[1;33m:\u001b[0m\u001b[1;33m\u001b[0m\u001b[1;33m\u001b[0m\u001b[0m\n\u001b[0;32m    350\u001b[0m         \u001b[0mcls\u001b[0m \u001b[1;33m=\u001b[0m \u001b[0mJSONDecoder\u001b[0m\u001b[1;33m\u001b[0m\u001b[1;33m\u001b[0m\u001b[0m\n",
      "\u001b[1;32m~\\anaconda3\\envs\\amine\\lib\\json\\decoder.py\u001b[0m in \u001b[0;36mdecode\u001b[1;34m(self, s, _w)\u001b[0m\n\u001b[0;32m    335\u001b[0m \u001b[1;33m\u001b[0m\u001b[0m\n\u001b[0;32m    336\u001b[0m         \"\"\"\n\u001b[1;32m--> 337\u001b[1;33m         \u001b[0mobj\u001b[0m\u001b[1;33m,\u001b[0m \u001b[0mend\u001b[0m \u001b[1;33m=\u001b[0m \u001b[0mself\u001b[0m\u001b[1;33m.\u001b[0m\u001b[0mraw_decode\u001b[0m\u001b[1;33m(\u001b[0m\u001b[0ms\u001b[0m\u001b[1;33m,\u001b[0m \u001b[0midx\u001b[0m\u001b[1;33m=\u001b[0m\u001b[0m_w\u001b[0m\u001b[1;33m(\u001b[0m\u001b[0ms\u001b[0m\u001b[1;33m,\u001b[0m \u001b[1;36m0\u001b[0m\u001b[1;33m)\u001b[0m\u001b[1;33m.\u001b[0m\u001b[0mend\u001b[0m\u001b[1;33m(\u001b[0m\u001b[1;33m)\u001b[0m\u001b[1;33m)\u001b[0m\u001b[1;33m\u001b[0m\u001b[1;33m\u001b[0m\u001b[0m\n\u001b[0m\u001b[0;32m    338\u001b[0m         \u001b[0mend\u001b[0m \u001b[1;33m=\u001b[0m \u001b[0m_w\u001b[0m\u001b[1;33m(\u001b[0m\u001b[0ms\u001b[0m\u001b[1;33m,\u001b[0m \u001b[0mend\u001b[0m\u001b[1;33m)\u001b[0m\u001b[1;33m.\u001b[0m\u001b[0mend\u001b[0m\u001b[1;33m(\u001b[0m\u001b[1;33m)\u001b[0m\u001b[1;33m\u001b[0m\u001b[1;33m\u001b[0m\u001b[0m\n\u001b[0;32m    339\u001b[0m         \u001b[1;32mif\u001b[0m \u001b[0mend\u001b[0m \u001b[1;33m!=\u001b[0m \u001b[0mlen\u001b[0m\u001b[1;33m(\u001b[0m\u001b[0ms\u001b[0m\u001b[1;33m)\u001b[0m\u001b[1;33m:\u001b[0m\u001b[1;33m\u001b[0m\u001b[1;33m\u001b[0m\u001b[0m\n",
      "\u001b[1;32m~\\anaconda3\\envs\\amine\\lib\\json\\decoder.py\u001b[0m in \u001b[0;36mraw_decode\u001b[1;34m(self, s, idx)\u001b[0m\n\u001b[0;32m    353\u001b[0m             \u001b[0mobj\u001b[0m\u001b[1;33m,\u001b[0m \u001b[0mend\u001b[0m \u001b[1;33m=\u001b[0m \u001b[0mself\u001b[0m\u001b[1;33m.\u001b[0m\u001b[0mscan_once\u001b[0m\u001b[1;33m(\u001b[0m\u001b[0ms\u001b[0m\u001b[1;33m,\u001b[0m \u001b[0midx\u001b[0m\u001b[1;33m)\u001b[0m\u001b[1;33m\u001b[0m\u001b[1;33m\u001b[0m\u001b[0m\n\u001b[0;32m    354\u001b[0m         \u001b[1;32mexcept\u001b[0m \u001b[0mStopIteration\u001b[0m \u001b[1;32mas\u001b[0m \u001b[0merr\u001b[0m\u001b[1;33m:\u001b[0m\u001b[1;33m\u001b[0m\u001b[1;33m\u001b[0m\u001b[0m\n\u001b[1;32m--> 355\u001b[1;33m             \u001b[1;32mraise\u001b[0m \u001b[0mJSONDecodeError\u001b[0m\u001b[1;33m(\u001b[0m\u001b[1;34m\"Expecting value\"\u001b[0m\u001b[1;33m,\u001b[0m \u001b[0ms\u001b[0m\u001b[1;33m,\u001b[0m \u001b[0merr\u001b[0m\u001b[1;33m.\u001b[0m\u001b[0mvalue\u001b[0m\u001b[1;33m)\u001b[0m \u001b[1;32mfrom\u001b[0m \u001b[1;32mNone\u001b[0m\u001b[1;33m\u001b[0m\u001b[1;33m\u001b[0m\u001b[0m\n\u001b[0m\u001b[0;32m    356\u001b[0m         \u001b[1;32mreturn\u001b[0m \u001b[0mobj\u001b[0m\u001b[1;33m,\u001b[0m \u001b[0mend\u001b[0m\u001b[1;33m\u001b[0m\u001b[1;33m\u001b[0m\u001b[0m\n",
      "\u001b[1;31mJSONDecodeError\u001b[0m: Expecting value: line 2 column 1 (char 1)"
     ]
    }
   ],
   "source": [
    "R.get_aid(\"94683\")"
   ]
  },
  {
   "cell_type": "code",
   "execution_count": 3,
   "metadata": {},
   "outputs": [
    {
     "data": {
      "text/plain": [
       "{'name': 'Bénéficier d’un accompagnement ou d’un investissement pour développer un service territorial innovant - Financer un service innovant',\n",
       " 'perimeter': 'NATIONAL',\n",
       " 'goal': None,\n",
       " 'beneficiary': None,\n",
       " 'aidDetails': \"<p>\\n <strong>\\n  ________________________________________________________________________\\n </strong>\\n</p>\\n<p>\\n <strong>\\n  🚩\\n </strong>\\n</p>\\n<p>\\n <strong>\\n  Les financements (investissements et prêts) décrits dans cette section respectent le cadre européen de la réglementation relative aux aides d'Etat et les processus de la commande publique/privée. Les financements décrits n'emportent donc pas d'éléments d'aide.\\n </strong>\\n</p>\\n<p>\\n <strong>\\n  _______________________________________________________________________\\n </strong>\\n</p>\\n<p>\\n <strong>\\n  Financer un service innovant\\n </strong>\\n</p>\\n<p>\\n <strong>\\n  Votre projet\\n </strong>\\n</p>\\n<p>\\n Vous souhaitez\\n <strong>\\n  financer la création et/ou le développement d'une offre de service territorial innovant\\n </strong>\\n et avez besoin d'un accompagnement sur une partie ou sur l'ensemble du cycle de vie de votre projet.\\n</p>\\n<p>\\n <strong>\\n  Notre offre\\n </strong>\\n</p>\\n<p>\\n Présente à toutes les étapes de votre projet, la Banque des Territoires investit de façon sélective :\\n</p>\\n<ul>\\n <li>\\n  dans des services innovants répondant à des besoins territoriaux non satisfaits par les solutions existantes,\\n </li>\\n <li>\\n  dans la déclinaison locale de services déjà déployés commercialement dans d'autres territoires, notamment dans les villes moyennes.\\n </li>\\n</ul>\\n<p>\\n <br/>\\n</p>\",\n",
       " 'eligibility': \"<p>\\n <strong>\\n  Vous êtes une entreprise de service dans l'un des secteurs suivants :\\n </strong>\\n</p>\\n<ul>\\n <li>\\n  Transport et mobilité durable\\n </li>\\n <li>\\n  Biodiversité, changement climatique, eau, déchets\\n </li>\\n <li>\\n  Infrastructures et services numériques\\n </li>\\n <li>\\n  Santé, médico-social, vieillissement\\n </li>\\n <li>\\n  Tourisme, culture, loisirs\\n </li>\\n <li>\\n  Énergie\\n </li>\\n <li>\\n  Éducation et nouvelles technologies (EdTech)\\n </li>\\n</ul>\",\n",
       " 'conditions': None,\n",
       " 'fundingSourceUrl': 'https://www.banquedesterritoires.fr/offre-investissement-dans-service-innovant?pk_campaign=Aides_Territoires&pk_kwd=offre_investissement_dans_service_innovant&pk_source=Affiliation',\n",
       " 'applicationEndDate': None,\n",
       " 'applicationUrl': '',\n",
       " 'slug': 'beneficier-dun-accompagnement-ou-dun-investissement-pour-developper-un-service-territorial-innovant-financer-un-service-innovant',\n",
       " 'environmentalTopics': [{'name': 'Recherche, Développement & Innovation',\n",
       "   'id': 4},\n",
       "  {'name': 'Démarche écoconception', 'id': 5},\n",
       "  {'name': 'Aide aux investissements & financements', 'id': 10}],\n",
       " 'funder': {'name': 'Banque des Territoires', 'id': 36},\n",
       " 'fundingTypes': ['Autre aide financière'],\n",
       " 'regions': [{'name': 'France', 'id': 1}],\n",
       " 'contactGuidelines': '<p>\\n <strong>\\n  Vous êtes intéressé(e) par cette offre ?\\n </strong>\\n</p>\\n<ul>\\n <li>\\n  <a href=\"https://mon-compte.banquedesterritoires.fr/?pk_campaign=Aides_Territoires&amp;pk_kwd=formulaire_de_contact&amp;pk_source=Affiliation#/contact/formulaire/produit/94690\" rel=\"noopener\" target=\"_blank\">\\n   Contactez-nous à travers notre formulaire de contact\\n  </a>\\n </li>\\n</ul>',\n",
       " 'subventionRateUpperBound': None,\n",
       " 'subventionRateLowerBound': None,\n",
       " 'loanAmount': None,\n",
       " 'applicationStartDate': '2021-11-09T15:42:41+00:00',\n",
       " 'projectExamples': '',\n",
       " 'directAccess': False,\n",
       " 'types': [{'name': 'Aide financière', 'id': 1},\n",
       "  {'name': 'Aide en ingénierie', 'id': 2}],\n",
       " 'id': 167}"
      ]
     },
     "execution_count": 3,
     "metadata": {},
     "output_type": "execute_result"
    }
   ],
   "source": [
    "l[56]"
   ]
  },
  {
   "cell_type": "code",
   "execution_count": null,
   "metadata": {},
   "outputs": [],
   "source": []
  },
  {
   "cell_type": "code",
   "execution_count": 4,
   "metadata": {},
   "outputs": [
    {
     "data": {
      "text/plain": [
       "{'id': 1,\n",
       " 'name': 'Evolution des procédés industriels',\n",
       " 'environmentalTopics': [{'name': 'Incorporation de produits recyclés',\n",
       "   'id': 1},\n",
       "  {'name': 'Réduction du gaspillage', 'id': 9},\n",
       "  {'name': \"Réduction de la consommation d'énergie\", 'id': 6},\n",
       "  {'name': \"Réduction de l'empreinte carbone\", 'id': 3},\n",
       "  {'name': 'Réduction des pollutions & dépollution', 'id': 8}],\n",
       " 'description': 'Exemples de projets :\\r\\nEfficacité énergétique des procédés industriels, audit énergétique pour l’industrie, réduction des pollutions industrielles, décarbonation des outils industriels.'}"
      ]
     },
     "execution_count": 4,
     "metadata": {},
     "output_type": "execute_result"
    }
   ],
   "source": [
    "t[0]"
   ]
  },
  {
   "cell_type": "code",
   "execution_count": 5,
   "metadata": {},
   "outputs": [
    {
     "name": "stdout",
     "output_type": "stream",
     "text": [
      "Evolution des procédés industriels\n"
     ]
    },
    {
     "ename": "KeyError",
     "evalue": "'categories'",
     "output_type": "error",
     "traceback": [
      "\u001b[1;31m---------------------------------------------------------------------------\u001b[0m",
      "\u001b[1;31mKeyError\u001b[0m                                  Traceback (most recent call last)",
      "\u001b[1;32m<ipython-input-5-ca83a263290a>\u001b[0m in \u001b[0;36m<module>\u001b[1;34m\u001b[0m\n\u001b[0;32m      2\u001b[0m \u001b[1;32mfor\u001b[0m \u001b[0mc\u001b[0m \u001b[1;32min\u001b[0m \u001b[0mt\u001b[0m\u001b[1;33m:\u001b[0m\u001b[1;33m\u001b[0m\u001b[1;33m\u001b[0m\u001b[0m\n\u001b[0;32m      3\u001b[0m     \u001b[0mprint\u001b[0m\u001b[1;33m(\u001b[0m\u001b[0mc\u001b[0m\u001b[1;33m[\u001b[0m\u001b[1;34m\"name\"\u001b[0m\u001b[1;33m]\u001b[0m\u001b[1;33m)\u001b[0m\u001b[1;33m\u001b[0m\u001b[1;33m\u001b[0m\u001b[0m\n\u001b[1;32m----> 4\u001b[1;33m     \u001b[0mprint\u001b[0m\u001b[1;33m(\u001b[0m\u001b[0mlen\u001b[0m\u001b[1;33m(\u001b[0m\u001b[0mc\u001b[0m\u001b[1;33m[\u001b[0m\u001b[1;34m\"categories\"\u001b[0m\u001b[1;33m]\u001b[0m\u001b[1;33m)\u001b[0m\u001b[1;33m)\u001b[0m\u001b[1;33m\u001b[0m\u001b[1;33m\u001b[0m\u001b[0m\n\u001b[0m\u001b[0;32m      5\u001b[0m     \u001b[0mS\u001b[0m\u001b[1;33m.\u001b[0m\u001b[0mappend\u001b[0m\u001b[1;33m(\u001b[0m\u001b[0mlen\u001b[0m\u001b[1;33m(\u001b[0m\u001b[0mc\u001b[0m\u001b[1;33m[\u001b[0m\u001b[1;34m\"categories\"\u001b[0m\u001b[1;33m]\u001b[0m\u001b[1;33m)\u001b[0m\u001b[1;33m)\u001b[0m\u001b[1;33m\u001b[0m\u001b[1;33m\u001b[0m\u001b[0m\n",
      "\u001b[1;31mKeyError\u001b[0m: 'categories'"
     ]
    }
   ],
   "source": [
    "S = []\n",
    "for c in t:\n",
    "    print(c[\"name\"])\n",
    "    print(len(c[\"categories\"]))\n",
    "    S.append(len(c[\"categories\"]))"
   ]
  },
  {
   "cell_type": "code",
   "execution_count": 6,
   "metadata": {},
   "outputs": [
    {
     "data": {
      "text/plain": [
       "0.0"
      ]
     },
     "execution_count": 6,
     "metadata": {},
     "output_type": "execute_result"
    }
   ],
   "source": [
    "DF = pd.DataFrame(columns=[\"id\", \"name\", \"financers\", \"description\", \"eligibility\", \"categories\", \"start_date\", \"date_created\", \"date_updated\"])\n",
    "\n",
    "np.sum(S)"
   ]
  },
  {
   "cell_type": "code",
   "execution_count": 7,
   "metadata": {},
   "outputs": [
    {
     "ename": "NameError",
     "evalue": "name 'mt_aids' is not defined",
     "output_type": "error",
     "traceback": [
      "\u001b[1;31m---------------------------------------------------------------------------\u001b[0m",
      "\u001b[1;31mNameError\u001b[0m                                 Traceback (most recent call last)",
      "\u001b[1;32m<ipython-input-7-452528a8c94a>\u001b[0m in \u001b[0;36m<module>\u001b[1;34m\u001b[0m\n\u001b[0;32m      1\u001b[0m \u001b[0mL\u001b[0m \u001b[1;33m=\u001b[0m \u001b[1;33m[\u001b[0m\u001b[1;33m]\u001b[0m\u001b[1;33m\u001b[0m\u001b[1;33m\u001b[0m\u001b[0m\n\u001b[0;32m      2\u001b[0m \u001b[1;33m\u001b[0m\u001b[0m\n\u001b[1;32m----> 3\u001b[1;33m \u001b[1;32mfor\u001b[0m \u001b[0mx\u001b[0m \u001b[1;32min\u001b[0m \u001b[0mmt_aids\u001b[0m\u001b[1;33m:\u001b[0m\u001b[1;33m\u001b[0m\u001b[1;33m\u001b[0m\u001b[0m\n\u001b[0m\u001b[0;32m      4\u001b[0m     \u001b[0mL\u001b[0m \u001b[1;33m+=\u001b[0m \u001b[1;33m[\u001b[0m\u001b[0mlen\u001b[0m\u001b[1;33m(\u001b[0m\u001b[0mx\u001b[0m\u001b[1;33m[\u001b[0m\u001b[1;34m\"environmentalTopics\"\u001b[0m\u001b[1;33m]\u001b[0m\u001b[1;33m)\u001b[0m\u001b[1;33m]\u001b[0m\u001b[1;33m\u001b[0m\u001b[1;33m\u001b[0m\u001b[0m\n",
      "\u001b[1;31mNameError\u001b[0m: name 'mt_aids' is not defined"
     ]
    }
   ],
   "source": [
    "L = []\n",
    "\n",
    "for x in mt_aids:\n",
    "    L += [len(x[\"environmentalTopics\"])]"
   ]
  },
  {
   "cell_type": "code",
   "execution_count": 8,
   "metadata": {},
   "outputs": [
    {
     "ename": "ValueError",
     "evalue": "max() arg is an empty sequence",
     "output_type": "error",
     "traceback": [
      "\u001b[1;31m---------------------------------------------------------------------------\u001b[0m",
      "\u001b[1;31mValueError\u001b[0m                                Traceback (most recent call last)",
      "\u001b[1;32m<ipython-input-8-ab2518348da1>\u001b[0m in \u001b[0;36m<module>\u001b[1;34m\u001b[0m\n\u001b[1;32m----> 1\u001b[1;33m \u001b[0mmax\u001b[0m\u001b[1;33m(\u001b[0m\u001b[0mL\u001b[0m\u001b[1;33m)\u001b[0m\u001b[1;33m\u001b[0m\u001b[1;33m\u001b[0m\u001b[0m\n\u001b[0m",
      "\u001b[1;31mValueError\u001b[0m: max() arg is an empty sequence"
     ]
    }
   ],
   "source": [
    "max(L)"
   ]
  },
  {
   "cell_type": "code",
   "execution_count": 9,
   "metadata": {},
   "outputs": [
    {
     "ename": "NameError",
     "evalue": "name 'mt_aids' is not defined",
     "output_type": "error",
     "traceback": [
      "\u001b[1;31m---------------------------------------------------------------------------\u001b[0m",
      "\u001b[1;31mNameError\u001b[0m                                 Traceback (most recent call last)",
      "\u001b[1;32m<ipython-input-9-cba926e285f3>\u001b[0m in \u001b[0;36m<module>\u001b[1;34m\u001b[0m\n\u001b[1;32m----> 1\u001b[1;33m \u001b[0mmt_aids\u001b[0m\u001b[1;33m[\u001b[0m\u001b[1;36m10\u001b[0m\u001b[1;33m]\u001b[0m\u001b[1;33m\u001b[0m\u001b[1;33m\u001b[0m\u001b[0m\n\u001b[0m",
      "\u001b[1;31mNameError\u001b[0m: name 'mt_aids' is not defined"
     ]
    }
   ],
   "source": [
    "mt_aids[10]"
   ]
  },
  {
   "cell_type": "code",
   "execution_count": 10,
   "metadata": {},
   "outputs": [
    {
     "data": {
      "text/plain": [
       "{'name': 'Financer les études et tests préalables aux investissements servant à incorporer des matières premières issues du recyclage',\n",
       " 'perimeter': 'NATIONAL',\n",
       " 'goal': None,\n",
       " 'beneficiary': None,\n",
       " 'aidDetails': \"<p>\\n <strong>\\n  Aide - « Études et tests préalables aux investissements pour incorporer des matières premières issues du recyclage », mis en place par l'ADEME\\n </strong>\\n</p>\\n<p>\\n Objectif : vous souhaitez étudier ou tester une unité de production intégrant des Matières premières de recyclage (MPR), ou alors adapter une unité existante ? L'ADEME peut vous aider à financer les études et les tests nécessaires à l'expérimentation.\\n</p>\\n<p>\\n Bénéficiaires :\\r\\nEntreprises de production susceptibles d'utiliser des MPR dans les secteurs de des métaux, du textile, du bâtiment, de l'industrie du papier-carton, du bois...\\n <br/>\\n <br/>\\n Accompagnement : subvention. Taux d'aide maximum : 70 % des dépenses éligibles.\\n <br/>\\n</p>\",\n",
       " 'eligibility': \"<p>\\n Critères d'éligibilité\\n <br/>\\n</p>\\n<ul>\\n <li>\\n  Pertinence du projet vis-à-vis de la filière pour la matière étudiée,\\n  <br/>\\n </li>\\n <li>\\n  Pertinence du projet sur le territoire\\n  <br/>\\n </li>\\n <li>\\n  Choix du process : caractéristiques et performances,\\n  <br/>\\n </li>\\n <li>\\n  Sécurité d'approvisionnement à partir de l'étude des gisements de MPR mobilisables,\\n  <br/>\\n </li>\\n <li>\\n  Pérennité des débouchés des flux produits,\\n  <br/>\\n </li>\\n <li>\\n  Coûts d'investissement et de fonctionnement,\\n  <br/>\\n </li>\\n <li>\\n  Impacts environnementaux et impacts en terme d'emplois,\\n  <br/>\\n </li>\\n <li>\\n  Part de MPR incorporée en remplacement de matière vierge.\\n  <br/>\\n </li>\\n</ul>\",\n",
       " 'conditions': None,\n",
       " 'fundingSourceUrl': 'https://agirpourlatransition.ademe.fr/entreprises/dispositif-aide/etudes-tests-prealables-investissements-incorporer-matieres-premieres-issues',\n",
       " 'applicationEndDate': None,\n",
       " 'applicationUrl': '',\n",
       " 'slug': 'financer-les-etudes-et-tests-prealables-aux-investissements-servant-a-incorporer-des-matieres-premieres-issues-du-recyclage',\n",
       " 'environmentalTopics': [{'name': 'Incorporation de produits recyclés',\n",
       "   'id': 1}],\n",
       " 'funder': {'name': 'ADEME', 'id': 8},\n",
       " 'fundingTypes': ['Subvention'],\n",
       " 'regions': [{'name': 'France', 'id': 1}],\n",
       " 'contactGuidelines': '<p>\\n Contactez l\\'ADEME via leur\\n <a href=\"https://agirpourlatransition.ademe.fr/entreprises/form/contact?source_entity_type=node&amp;source_entity_bundle=dispositif_gre_a_gre&amp;source_entity_id=7134\" rel=\"noopener\" target=\"_blank\">\\n  formulaire de contact\\n </a>\\n pour en savoir plus sur ce dispositif\\n <br/>\\n</p>',\n",
       " 'subventionRateUpperBound': 70,\n",
       " 'subventionRateLowerBound': None,\n",
       " 'loanAmount': None,\n",
       " 'applicationStartDate': '2021-11-09T15:42:42+00:00',\n",
       " 'projectExamples': \"<p>\\n Actions éligibles :\\n <br/>\\n</p>\\n<ul>\\n <li>\\n  Études de faisabilité permettant de valider la compatibilité, avec les contraintes de procédés ou de produits notamment, d'une intégration ou d'une augmentation de la proportion de MPR dans les processus industriels,\\n  <br/>\\n </li>\\n <li>\\n  Réalisation de tests d'intégration de MPR dans les procédés industriels.\\n  <br/>\\n </li>\\n</ul>\",\n",
       " 'directAccess': False,\n",
       " 'types': [{'name': 'Aide financière', 'id': 1}],\n",
       " 'id': 189}"
      ]
     },
     "execution_count": 10,
     "metadata": {},
     "output_type": "execute_result"
    }
   ],
   "source": [
    "l[0]"
   ]
  },
  {
   "cell_type": "code",
   "execution_count": null,
   "metadata": {},
   "outputs": [],
   "source": []
  },
  {
   "cell_type": "code",
   "execution_count": 11,
   "metadata": {},
   "outputs": [
    {
     "data": {
      "text/html": [
       "<div>\n",
       "<style scoped>\n",
       "    .dataframe tbody tr th:only-of-type {\n",
       "        vertical-align: middle;\n",
       "    }\n",
       "\n",
       "    .dataframe tbody tr th {\n",
       "        vertical-align: top;\n",
       "    }\n",
       "\n",
       "    .dataframe thead th {\n",
       "        text-align: right;\n",
       "    }\n",
       "</style>\n",
       "<table border=\"1\" class=\"dataframe\">\n",
       "  <thead>\n",
       "    <tr style=\"text-align: right;\">\n",
       "      <th></th>\n",
       "      <th>id</th>\n",
       "      <th>name</th>\n",
       "      <th>financers</th>\n",
       "      <th>description</th>\n",
       "      <th>eligibility</th>\n",
       "      <th>categories</th>\n",
       "      <th>start_date</th>\n",
       "      <th>date_created</th>\n",
       "      <th>date_updated</th>\n",
       "    </tr>\n",
       "  </thead>\n",
       "  <tbody>\n",
       "  </tbody>\n",
       "</table>\n",
       "</div>"
      ],
      "text/plain": [
       "Empty DataFrame\n",
       "Columns: [id, name, financers, description, eligibility, categories, start_date, date_created, date_updated]\n",
       "Index: []"
      ]
     },
     "execution_count": 11,
     "metadata": {},
     "output_type": "execute_result"
    }
   ],
   "source": [
    "DF"
   ]
  },
  {
   "cell_type": "code",
   "execution_count": 12,
   "metadata": {},
   "outputs": [
    {
     "data": {
      "text/plain": [
       "[]"
      ]
     },
     "execution_count": 12,
     "metadata": {},
     "output_type": "execute_result"
    }
   ],
   "source": [
    "L"
   ]
  },
  {
   "cell_type": "code",
   "execution_count": 13,
   "metadata": {},
   "outputs": [
    {
     "data": {
      "text/html": [
       "<div>\n",
       "<style scoped>\n",
       "    .dataframe tbody tr th:only-of-type {\n",
       "        vertical-align: middle;\n",
       "    }\n",
       "\n",
       "    .dataframe tbody tr th {\n",
       "        vertical-align: top;\n",
       "    }\n",
       "\n",
       "    .dataframe thead th {\n",
       "        text-align: right;\n",
       "    }\n",
       "</style>\n",
       "<table border=\"1\" class=\"dataframe\">\n",
       "  <thead>\n",
       "    <tr style=\"text-align: right;\">\n",
       "      <th></th>\n",
       "      <th>id</th>\n",
       "      <th>name</th>\n",
       "      <th>financers</th>\n",
       "      <th>description</th>\n",
       "      <th>eligibility</th>\n",
       "      <th>categories</th>\n",
       "      <th>start_date</th>\n",
       "      <th>date_created</th>\n",
       "      <th>date_updated</th>\n",
       "    </tr>\n",
       "  </thead>\n",
       "  <tbody>\n",
       "  </tbody>\n",
       "</table>\n",
       "</div>"
      ],
      "text/plain": [
       "Empty DataFrame\n",
       "Columns: [id, name, financers, description, eligibility, categories, start_date, date_created, date_updated]\n",
       "Index: []"
      ]
     },
     "execution_count": 13,
     "metadata": {},
     "output_type": "execute_result"
    }
   ],
   "source": [
    "DF"
   ]
  },
  {
   "cell_type": "code",
   "execution_count": null,
   "metadata": {},
   "outputs": [],
   "source": []
  }
 ],
 "metadata": {
  "interpreter": {
   "hash": "8bf562adedb18a473865f57dc6d4bcf0d647ab0c9586756fa6ef501981d36475"
  },
  "kernelspec": {
   "display_name": "Python 3.7.10 64-bit ('amine': conda)",
   "language": "python",
   "name": "python3"
  },
  "language_info": {
   "codemirror_mode": {
    "name": "ipython",
    "version": 3
   },
   "file_extension": ".py",
   "mimetype": "text/x-python",
   "name": "python",
   "nbconvert_exporter": "python",
   "pygments_lexer": "ipython3",
   "version": "3.7.10"
  },
  "orig_nbformat": 4
 },
 "nbformat": 4,
 "nbformat_minor": 2
}
