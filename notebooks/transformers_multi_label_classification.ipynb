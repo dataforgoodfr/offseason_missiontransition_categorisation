{
  "cells": [
    {
      "cell_type": "markdown",
      "metadata": {
        "id": "Nchb_JSvKdju"
      },
      "source": [
        "# Fine Tuning Transformer for MultiLabel Text Classification"
      ]
    },
    {
      "cell_type": "markdown",
      "metadata": {
        "id": "TaNPBFA7Kdjy"
      },
      "source": [
        "### Introduction\n",
        "\n",
        "In this tutorial we will be fine tuning a transformer model for the **Multilabel text classification** problem. \n",
        "This is one of the most common business problems where a given piece of text/sentence/document needs to be classified into one or more of categories out of the given list. For example a movie can be categorized into 1 or more genres.\n",
        "\n",
        "#### Flow of the notebook\n",
        "\n",
        "The notebook will be divided into seperate sections to provide a organized walk through for the process used. This process can be modified for individual use cases. The sections are:\n",
        "\n",
        "1. [Importing Python Libraries and preparing the environment](#section01)\n",
        "2. [Importing and Pre-Processing the domain data](#section02)\n",
        "3. [Preparing the Dataset and Dataloader](#section03)\n",
        "4. [Creating the Neural Network for Fine Tuning](#section04)\n",
        "5. [Fine Tuning the Model](#section05)\n",
        "6. [Validating the Model Performance](#section06)\n",
        "7. [Saving the model and artifacts for Inference in Future](#section07)\n",
        "\n",
        "#### Technical Details\n",
        "\n",
        "This script leverages on multiple tools designed by other teams. Details of the tools used below. Please ensure that these elements are present in your setup to successfully implement this script.\n",
        "\n",
        " - Data: \n",
        "\t - We are using the Jigsaw toxic data from [Kaggle](https://www.kaggle.com/)\n",
        "     - This is competion provide the souce dataset [Toxic Comment Competition](https://www.kaggle.com/c/jigsaw-toxic-comment-classification-challenge)\n",
        "\t - We are referring only to the first csv file from the data dump: `train.csv`\n",
        "\t - There are rows of data.  Where each row has the following data-point: \n",
        "\t\t - Comment Text\n",
        "\t\t - `toxic`\n",
        "\t\t - `severe_toxic`\n",
        "\t\t - `obscene`\n",
        "\t\t - `threat`\n",
        "\t\t - `insult`\n",
        "\t\t - `identity_hate`\n",
        "\n",
        "Each comment can be marked for multiple categories. If the comment is `toxic` and `obscene`, then for both those headers the value will be `1` and for the others it will be `0`.\n",
        "\n",
        "\n",
        " - Language Model Used:\n",
        "\t - BERT is used for this project. It was the transformer model created by the Google AI Team.  \n",
        "\t - [Blog-Post](https://ai.googleblog.com/2018/11/open-sourcing-bert-state-of-art-pre.html)\n",
        "\t - [Research Paper](https://arxiv.org/abs/1810.04805)\n",
        "     - [Documentation for python](https://huggingface.co/transformers/model_doc/bert.html)\n",
        "\n",
        "---\n",
        "***NOTE***\n",
        "- *It is to be noted that the outputs to the BERT model are different from DistilBert Model implemented by the Hugging Face team. There are no `token_type_ids` generated from the tokenizer in case of Distilbert and also the final outputs from the network differ.*\n",
        "- *This will be explained further in the notebook*\n",
        "---\n",
        "\n",
        " - Hardware Requirements:\n",
        "\t - Python 3.6 and above\n",
        "\t - Pytorch, Transformers and All the stock Python ML Libraries\n",
        "\t - GPU enabled setup \n",
        "\n",
        "\n",
        " - Script Objective:\n",
        "\t - The objective of this script is to fine tune BERT to be able to label a comment  into the following categories:\n",
        "\t\t - `toxic`\n",
        "\t\t - `severe_toxic`\n",
        "\t\t - `obscene`\n",
        "\t\t - `threat`\n",
        "\t\t - `insult`\n",
        "\t\t - `identity_hate`\n",
        "\n",
        "---\n",
        "***NOTE***\n",
        "- *It is to be noted that the overall mechanisms for a multiclass and multilabel problems are similar, except for few differences namely:*\n",
        "\t- *Loss function is designed to evaluate all the probability of categories individually rather than as compared to other categories. Hence the use of `BCE` rather than `Cross Entropy` when defining loss.*\n",
        "\t- *Sigmoid of the outputs calcuated to rather than Softmax. Again for the reasons defined in the previous point*\n",
        "\t- *The [accuracy metrics](https://scikit-learn.org/stable/modules/generated/sklearn.metrics.accuracy_score.html) and [F1 scores](https://scikit-learn.org/stable/modules/generated/sklearn.metrics.f1_score.html#sklearn.metrics.f1_score) used from sklearn package as compared to direct comparison of expected vs predicted*\n",
        "---"
      ]
    },
    {
      "cell_type": "markdown",
      "metadata": {
        "id": "Fnpiy7bSKdjz"
      },
      "source": [
        "<a id='section01'></a>\n",
        "### Importing Python Libraries and preparing the environment\n",
        "\n",
        "At this step we will be importing the libraries and modules needed to run our script. Libraries are:\n",
        "* Pandas\n",
        "* Pytorch\n",
        "* Pytorch Utils for Dataset and Dataloader\n",
        "* Transformers\n",
        "* BERT Model and Tokenizer\n",
        "\n",
        "Followed by that we will preapre the device for GPU execeution. This configuration is needed if you want to leverage on onboard GPU. \n",
        "\n",
        "*I have included the code for TPU configuration, but commented it out. If you plan to use the TPU, please comment the GPU execution codes and uncomment the TPU ones to install the packages and define the device.*"
      ]
    },
    {
      "cell_type": "code",
      "execution_count": 1,
      "metadata": {
        "colab": {
          "base_uri": "https://localhost:8080/",
          "height": 105
        },
        "id": "WD_vnyLXZQzD",
        "outputId": "b9664704-6c75-4bce-ee89-49746c8a9c89"
      },
      "outputs": [],
      "source": [
        "# Installing the transformers library and additional libraries if looking process \n",
        "\n",
        "# !pip install -q transformers\n",
        "\n",
        "# Code for TPU packages install\n",
        "# !curl -q https://raw.githubusercontent.com/pytorch/xla/master/contrib/scripts/env-setup.py -o pytorch-xla-env-setup.py\n",
        "# !python pytorch-xla-env-setup.py --apt-packages libomp5 libopenblas-dev"
      ]
    },
    {
      "cell_type": "code",
      "execution_count": 46,
      "metadata": {},
      "outputs": [],
      "source": [
        "\n",
        "LABELS = [\n",
        "    \"Evolution des procédés industriels\",\n",
        "    \"Secteur Infrastructure & Déchéterie\",\n",
        "    \"Innovation produits & services\",\n",
        "    \"Gestion des bâtiments\",\n",
        "    \"Production & distribution d'énergie\",\n",
        "    \"Gestion des déchets\",\n",
        "    \"Secteur Ville durable\",\n",
        "    \"Secteur Agriculture & Zones rurales\",\n",
        "    \"Mobilité des employés\",\n",
        "    \"Secteur Eau & écosystèmes\",\n",
        "    \"Ressources humaines\",\n",
        "    \"Secteur Bois\"\n",
        "    ]\n",
        "df = pd.read_csv(\"../src/final.csv\", sep=\"\\t\", encoding=\"utf-16\")\n",
        "df[\"Thématique\"] = df[\"best_cat\"].map(lambda x: LABELS[int(x)])"
      ]
    },
    {
      "cell_type": "code",
      "execution_count": 47,
      "metadata": {},
      "outputs": [
        {
          "data": {
            "text/plain": [
              "'Investir pour la qualité des eaux et Re-UTE'"
            ]
          },
          "execution_count": 47,
          "metadata": {},
          "output_type": "execute_result"
        }
      ],
      "source": [
        "df[df[\"Thématique\"]==\"Secteur Eau & écosystèmes\"].name.values[0]"
      ]
    },
    {
      "cell_type": "code",
      "execution_count": 52,
      "metadata": {},
      "outputs": [
        {
          "data": {
            "text/plain": [
              "\"  La crise sanitaire a profondément affecté notre tissu industriel en portant un coup d'arrêt brutal à l'investissement de nombreuses entreprises, dans des territoires déjà souvent exposés à de profondes mutations.    Face à l'urgence, la réponse réside dans une accélération des investissements et une action rapide au plus près des territoires.    Cela passe par une démarche ambitieuse et coconstruite entre l'Etat et les Régions, animée à travers le programme Territoires d'Industrie.\\r  Dans le cadre du Plan de relance, l'Etat met en place un fonds de 150 M€ de subventions en faveur des projets industriels les plus structurants pour les territoires.      La sélection se fera selon un processus simplifié, dans une logique de proximité, lors de Revues régionales d'accélération Etat - Région    . Elle s'appuiera sur une instruction financière et des diligences liées à la connaissance client, réalisée par Bpifrance.    Le présent dispositif vise à soutenir des investissements à dimension industrielle, susceptibles de démarrer rapidement et ayant des retombées socio-économiques fortes pour le territoire : il peut s'agir par exemple de création de sites industriels, d'extension, de modernisation d'outils productifs, de plateaux techniques de formation professionnelle ou encore de plateformes de services aux industriels ...      Tous les territoires sont éligibles    : même si le dispositif est animé dans le cadre du programme Territoires d'Industrie, il ne s'y limite pas géographiquement.     Une priorité sera toutefois donnée aux projets s'inscrivant dans       un Territoire d'Industrie      .    Le dispositif est complémentaire aux autres outils d'aide aux entreprises, notamment ceux mis en place dans le cadre du plan de relance. Ainsi, à l'issue du processus d'instruction des dossiers déposés dans le cadre du présent appel à projets, les porteurs de projet pourront être redirigés vers d'autres dispositifs existants gérés par l'Etat et ses opérateurs ou par d'autres partenaires.    Les porteurs de projet doivent s'engager au service de leur territoire. Ils formulent pour cela dans leur dossier de candidature des propositions sur les thématiques suivantes (ces propositions peuvent être indépendantes du projet candidat) :        solidarités : par exemple, engagements en matière de parité, d'emplois francs, d'apprentissage, de stages d'élèves de 3ème, de VTE, d'inclusion des jeunes, d'insertion des publics éloignés de l'emploi ou encore en matière d'achats responsables      transition écologique : par exemple, engagements en matière de réduction d'empreinte carbone, de développement de flotte de véhicules propres, d'achat local, d'économie circulaire ou encore en matière de réduction de consommation des ressources.      modernisation : par exemple, engagements en matière de transition numérique, de modernisation des procédés ou encore de développement de nouvelles compétences.    A l'issue du processus de sélection, les services de l'Etat et de la Région organisent une rencontre avec le bénéficiaire pour discuter de la bonne mise en place de ses engagements sociétaux. \""
            ]
          },
          "execution_count": 52,
          "metadata": {},
          "output_type": "execute_result"
        }
      ],
      "source": []
    },
    {
      "cell_type": "code",
      "execution_count": 58,
      "metadata": {},
      "outputs": [
        {
          "name": "stdout",
          "output_type": "stream",
          "text": [
            "42\n",
            "####\n",
            "  La BPI participe au financement de votre projet d'innovation de rupture avant son lancement industriel et commercial.    Projets éligibles    Tous projets de R&D visant le développement d'une innovation de rupture à fort contenu technologique, qualifiée deeptech.    Le terme deeptech qualifie des projets reposant sur des technologies ou des combinaisons de technologies :      Issues d'un laboratoire de recherche (public/privé) et/ou s'appuyant sur une équipe/gouvernance en lien fort avec le monde scientifique (profil scientifique/technologie clé)      Qui présentent de fortes barrières à l'entrée, matérialisées par des verrous technologiques difficiles à lever,      Qui constituent un avantage fortement différenciateur par rapport à la concurrence,      Caractérisées par un go-to-market (développement, industrialisation, commercialisation) long/complexe donc probablement capitalistique.      Dépenses éligibles    Dépenses internes et externes directement liées aux phases de recherche et développement du projet d'innovation qualifié deeptech et composées de :      Frais internes : Frais de personnel et frais généraux forfaitaires,      Frais externes : Propriété Intellectuelle, études juridiques, études de faisabilité, études de marché, réalisation et mise au point de prototypes, installations pilotes ou de démonstration, recherche de partenaires, laboratoires ou centres techniques, actualisation du plan d'affaires du lancement industriel et commercial, ...      Autres frais : Investissements non récupérables affectés au programme, amortissements des investissements récupérables sur la durée du programme.      Modalités d'intervention    Aide plafonnée à 2 000 000€, accordée sous forme mixte de subvention et d'avance récupérable, pouvant couvrir jusqu'à 45 % des dépenses éligibles prévisionnelles.    Les entreprises doivent avoir déposé leur dossier de demande d'aide au projet d'innovation auprès de Bpifrance préalablement à la réalisation du projet et du démarrage des dépenses.    Conditions financières    Pas de frais d'instruction – Subvention et Avance récupérable à taux zéro    Finalité    Aider les entreprises, qui mènent des projets d'innovation technologiques deeptech, comportant des travaux de recherche industrielle et/ou de développement expérimental, à mettre au point des produits, procédés ou services innovants présentant des perspectives concrètes d'industrialisation et de commercialisation. \n",
            "######\n"
          ]
        },
        {
          "data": {
            "text/plain": [
              "\"<pad> BPI participe au financement de votre projet d'innovation de rupture avant son lancement industriel et commercial. Le terme deeptech qualifie les projets reposant sur des technologies ou des combinaisons de technologies. Les entreprises doivent avoir déposé leur dossier de demande d'aide au projet d'innovation.</s>\""
            ]
          },
          "execution_count": 58,
          "metadata": {},
          "output_type": "execute_result"
        }
      ],
      "source": [
        "idx = np.random.choice(df.index)\n",
        "print(idx)\n",
        "print(\"####\")\n",
        "print(df.aidDetails.iloc[idx])\n",
        "print(\"######\")\n",
        "df.summary.iloc[idx]"
      ]
    },
    {
      "cell_type": "code",
      "execution_count": 1,
      "metadata": {
        "id": "pzM1_ykHaFur"
      },
      "outputs": [],
      "source": [
        "# Importing stock ml libraries\n",
        "import numpy as np\n",
        "import pandas as pd\n",
        "from sklearn import metrics\n",
        "import transformers\n",
        "import torch\n",
        "from torch.utils.data import Dataset, DataLoader, RandomSampler, SequentialSampler\n",
        "from transformers import CamembertTokenizerFast, CamembertModel, CamembertConfig\n",
        "\n",
        "# Preparing for TPU usage\n",
        "# import torch_xla\n",
        "# import torch_xla.core.xla_model as xm\n",
        "# device = xm.xla_device()"
      ]
    },
    {
      "cell_type": "code",
      "execution_count": 2,
      "metadata": {
        "id": "NLxxwd1scQNv"
      },
      "outputs": [],
      "source": [
        "# # Setting up the device for GPU usage\n",
        "\n",
        "from torch import cuda\n",
        "device = 'cuda' if cuda.is_available() else 'cpu'"
      ]
    },
    {
      "cell_type": "markdown",
      "metadata": {
        "id": "s2ekMUZ1Kdj3"
      },
      "source": [
        "<a id='section02'></a>\n",
        "### Importing and Pre-Processing the domain data\n",
        "\n",
        "We will be working with the data and preparing for fine tuning purposes. \n",
        "*Assuming that the `train.csv` is already downloaded, unzipped and saved in your `data` folder*\n",
        "\n",
        "* Import the file in a dataframe and give it the headers as per the documentation.\n",
        "* Taking the values of all the categories and coverting it into a list.\n",
        "* The list is appened as a new column and other columns are removed"
      ]
    },
    {
      "cell_type": "code",
      "execution_count": 14,
      "metadata": {},
      "outputs": [
        {
          "data": {
            "text/plain": [
              "17.45"
            ]
          },
          "execution_count": 14,
          "metadata": {},
          "output_type": "execute_result"
        }
      ],
      "source": [
        "0.05*349"
      ]
    },
    {
      "cell_type": "code",
      "execution_count": 32,
      "metadata": {
        "colab": {
          "base_uri": "https://localhost:8080/",
          "height": 195
        },
        "id": "mZ7lTlkyaG7u",
        "outputId": "ad5af998-9cf9-4f23-9a0e-23c2e3c0e3a1"
      },
      "outputs": [],
      "source": [
        "df = pd.read_csv(\"../src/processings_train.csv\", sep=\"\\t\", encoding=\"utf-16\")\n",
        "import ast \n",
        "df[\"list\"] = df[\"list\"].apply(lambda e : [int(x) for x in ast.literal_eval(e)])\n",
        "# df['list'] = df[df.columns[2:]].values.tolist()\n",
        "new_df = df[['text', 'list']].copy()\n",
        "new_df.head()\n",
        "df = new_df.copy()\n",
        "# df[\"list\"] = df.list.apply(lambda x: ' '.join([str(e) for e in x]))\n"
      ]
    },
    {
      "cell_type": "code",
      "execution_count": 34,
      "metadata": {},
      "outputs": [],
      "source": [
        "df[\"nb_themes\"] = df.list.apply(lambda X: np.sum(X))"
      ]
    },
    {
      "cell_type": "code",
      "execution_count": 45,
      "metadata": {},
      "outputs": [
        {
          "data": {
            "text/plain": [
              "\"Réduire l'impact des activités humaines sur l'environnement.   La Fondation UEM soutient des projets locaux et régionaux mais peut aussi accompagner des projets portant sur des problématiques plus vastes, dans un périmètre national.    Elle apporte son soutien à des actions concrètes dont la finalité vise à réduire l'impact des activités humaines sur l'environnement. Cet engagement se traduit par la lutte contre les pollutions et les nuisances, la prévention des risques naturels et technologiques et la préservation des équilibres naturels (faune, flore, sites et milieux naturels).    La Fondation se donne pour priorité de contribuer à réduire le changement climatique et de préserver la biodiversité par tous les moyens possibles. Ce soutien peut être financier mais peut aussi consister à assurer une meilleure visibilité à votre projet grâce à une meilleure communication autour de celui-ci, en informant et sensibilisant le grand public sur les questions environnementales soulevées par votre initiative. \""
            ]
          },
          "execution_count": 45,
          "metadata": {},
          "output_type": "execute_result"
        }
      ],
      "source": [
        "df[df.nb_themes==2].iloc[10].text"
      ]
    },
    {
      "cell_type": "code",
      "execution_count": 40,
      "metadata": {},
      "outputs": [
        {
          "data": {
            "text/plain": [
              "70"
            ]
          },
          "execution_count": 40,
          "metadata": {},
          "output_type": "execute_result"
        }
      ],
      "source": [
        "349-279"
      ]
    },
    {
      "cell_type": "code",
      "execution_count": null,
      "metadata": {},
      "outputs": [],
      "source": []
    },
    {
      "cell_type": "markdown",
      "metadata": {
        "id": "5lp0KaksKdj4"
      },
      "source": [
        "<a id='section03'></a>\n",
        "### Preparing the Dataset and Dataloader\n",
        "\n",
        "We will start with defining few key variables that will be used later during the training/fine tuning stage.\n",
        "Followed by creation of CustomDataset class - This defines how the text is pre-processed before sending it to the neural network. We will also define the Dataloader that will feed  the data in batches to the neural network for suitable training and processing. \n",
        "Dataset and Dataloader are constructs of the PyTorch library for defining and controlling the data pre-processing and its passage to neural network. For further reading into Dataset and Dataloader read the [docs at PyTorch](https://pytorch.org/docs/stable/data.html)\n",
        "\n",
        "#### *CustomDataset* Dataset Class\n",
        "- This class is defined to accept the `tokenizer`, `dataframe` and `max_length` as input and generate tokenized output and tags that is used by the BERT model for training. \n",
        "- We are using the BERT tokenizer to tokenize the data in the `comment_text` column of the dataframe.\n",
        "- The tokenizer uses the `encode_plus` method to perform tokenization and generate the necessary outputs, namely: `ids`, `attention_mask`, `token_type_ids`\n",
        "---\n",
        "- *This is the first difference between the distilbert and bert, where the tokenizer generates the token_type_ids in case of Bert*\n",
        "---\n",
        "- To read further into the tokenizer, [refer to this document](https://huggingface.co/transformers/model_doc/bert.html#berttokenizer)\n",
        "- `targest` is the list of categories labled as `0` or `1` in the dataframe. \n",
        "- The *CustomDataset* class is used to create 2 datasets, for training and for validation.\n",
        "- *Training Dataset* is used to fine tune the model: **80% of the original data**\n",
        "- *Validation Dataset* is used to evaluate the performance of the model. The model has not seen this data during training. \n",
        "\n",
        "#### Dataloader\n",
        "- Dataloader is used to for creating training and validation dataloader that load data to the neural network in a defined manner. This is needed because all the data from the dataset cannot be loaded to the memory at once, hence the amount of dataloaded to the memory and then passed to the neural network needs to be controlled.\n",
        "- This control is achieved using the parameters such as `batch_size` and `max_len`.\n",
        "- Training and Validation dataloaders are used in the training and validation part of the flow respectively"
      ]
    },
    {
      "cell_type": "code",
      "execution_count": 4,
      "metadata": {
        "colab": {
          "base_uri": "https://localhost:8080/",
          "height": 66,
          "referenced_widgets": [
            "4ff1e0e231244d79a4d1ebdc2e7b8235",
            "51d4c2a94e654b83916d011c65248d04",
            "a7354b526df9448d8fd6c4a264c2ac24",
            "1b67b76cd9394e3b8addf6195ca9611a",
            "b9510b24e7e64b9d822d025a9b30757b",
            "84c7d4fb46924b7fa412d188ea7e05da",
            "23b26013d0144f468af29109e37e3a60",
            "b5dd7f6b28d542ea9d3831028c888f44"
          ]
        },
        "id": "ikfbFlNHgi8T",
        "outputId": "21188d80-cd21-4d66-bdf0-8308af26a0fd"
      },
      "outputs": [],
      "source": [
        "# Sections of config\n",
        "\n",
        "# Defining some key variables that will be used later on in the training\n",
        "MAX_LEN = 256\n",
        "TRAIN_BATCH_SIZE = 1\n",
        "VALID_BATCH_SIZE = 2\n",
        "EPOCHS = 30\n",
        "LEARNING_RATE = 1e-6\n",
        "tokenizer = CamembertTokenizerFast.from_pretrained('camembert-base')"
      ]
    },
    {
      "cell_type": "code",
      "execution_count": 5,
      "metadata": {
        "id": "oFOylAXqiNYK"
      },
      "outputs": [],
      "source": [
        "class CustomDataset(Dataset):\n",
        "\n",
        "    def __init__(self, dataframe, tokenizer, max_len):\n",
        "        self.tokenizer = tokenizer\n",
        "        self.data = dataframe\n",
        "        self.comment_text = dataframe.text\n",
        "        self.targets = self.data.list\n",
        "        self.max_len = max_len\n",
        "\n",
        "    def __len__(self):\n",
        "        return len(self.comment_text)\n",
        "\n",
        "    def __getitem__(self, index):\n",
        "        comment_text = str(self.comment_text[index])\n",
        "        comment_text = \" \".join(comment_text.split())\n",
        "\n",
        "        inputs = self.tokenizer.encode_plus(\n",
        "            comment_text,\n",
        "            None,\n",
        "            add_special_tokens=True,\n",
        "            max_length=self.max_len,\n",
        "            pad_to_max_length=True,\n",
        "            return_token_type_ids=True\n",
        "        )\n",
        "        ids = inputs['input_ids']\n",
        "        mask = inputs['attention_mask']\n",
        "        token_type_ids = inputs[\"token_type_ids\"]\n",
        "\n",
        "\n",
        "        return {\n",
        "            'ids': torch.tensor(ids, dtype=torch.long),\n",
        "            'mask': torch.tensor(mask, dtype=torch.long),\n",
        "            'token_type_ids': torch.tensor(token_type_ids, dtype=torch.long),\n",
        "            'targets': torch.tensor(self.targets[index], dtype=torch.float)\n",
        "        }"
      ]
    },
    {
      "cell_type": "code",
      "execution_count": 6,
      "metadata": {
        "colab": {
          "base_uri": "https://localhost:8080/",
          "height": 70
        },
        "id": "PkDGqarcPowL",
        "outputId": "e834ea5d-5d00-4bb6-ad52-6f21e744da95"
      },
      "outputs": [
        {
          "name": "stdout",
          "output_type": "stream",
          "text": [
            "FULL Dataset: (390, 2)\n",
            "TRAIN Dataset: (312, 2)\n",
            "TEST Dataset: (78, 2)\n"
          ]
        }
      ],
      "source": [
        "# Creating the dataset and dataloader for the neural network\n",
        "\n",
        "train_size = 0.8\n",
        "train_dataset=new_df.sample(frac=train_size,random_state=123)\n",
        "test_dataset=new_df.drop(train_dataset.index).reset_index(drop=True)\n",
        "train_dataset = train_dataset.reset_index(drop=True)\n",
        "\n",
        "\n",
        "print(\"FULL Dataset: {}\".format(new_df.shape))\n",
        "print(\"TRAIN Dataset: {}\".format(train_dataset.shape))\n",
        "print(\"TEST Dataset: {}\".format(test_dataset.shape))\n",
        "\n",
        "training_set = CustomDataset(train_dataset, tokenizer, MAX_LEN)\n",
        "testing_set = CustomDataset(test_dataset, tokenizer, MAX_LEN)"
      ]
    },
    {
      "cell_type": "code",
      "execution_count": 7,
      "metadata": {
        "id": "vLpilV73QrXJ"
      },
      "outputs": [],
      "source": [
        "train_params = {'batch_size': TRAIN_BATCH_SIZE,\n",
        "                'shuffle': True,\n",
        "                'num_workers': 0\n",
        "                }\n",
        "\n",
        "test_params = {'batch_size': VALID_BATCH_SIZE,\n",
        "                'shuffle': True,\n",
        "                'num_workers': 0\n",
        "                }\n",
        "\n",
        "training_loader = DataLoader(training_set, **train_params)\n",
        "testing_loader = DataLoader(testing_set, **test_params)"
      ]
    },
    {
      "cell_type": "code",
      "execution_count": 9,
      "metadata": {},
      "outputs": [],
      "source": [
        "# test_dataset.text.loc[30]"
      ]
    },
    {
      "cell_type": "markdown",
      "metadata": {
        "id": "sqF_glaYKdj6"
      },
      "source": [
        "<a id='section04'></a>\n",
        "### Creating the Neural Network for Fine Tuning\n",
        "\n",
        "#### Neural Network\n",
        " - We will be creating a neural network with the `BERTClass`. \n",
        " - This network will have the `Bert` model.  Follwed by a `Droput` and `Linear Layer`. They are added for the purpose of **Regulariaztion** and **Classification** respectively. \n",
        " - In the forward loop, there are 2 output from the `BertModel` layer.\n",
        " - The second output `output_1` or called the `pooled output` is passed to the `Drop Out layer` and the subsequent output is given to the `Linear layer`. \n",
        " - Keep note the number of dimensions for `Linear Layer` is **6** because that is the total number of categories in which we are looking to classify our model.\n",
        " - The data will be fed to the `BertClass` as defined in the dataset. \n",
        " - Final layer outputs is what will be used to calcuate the loss and to determine the accuracy of models prediction. \n",
        " - We will initiate an instance of the network called `model`. This instance will be used for training and then to save the final trained model for future inference. \n",
        " \n",
        "#### Loss Function and Optimizer\n",
        " - The Loss is defined in the next cell as `loss_fn`.\n",
        " - As defined above, the loss function used will be a combination of Binary Cross Entropy which is implemented as [BCELogits Loss](https://pytorch.org/docs/stable/nn.html#bcewithlogitsloss) in PyTorch\n",
        " - `Optimizer` is defined in the next cell.\n",
        " - `Optimizer` is used to update the weights of the neural network to improve its performance.\n",
        " \n",
        "#### Further Reading\n",
        "- You can refer to my [Pytorch Tutorials](https://github.com/abhimishra91/pytorch-tutorials) to get an intuition of Loss Function and Optimizer.\n",
        "- [Pytorch Documentation for Loss Function](https://pytorch.org/docs/stable/nn.html#loss-functions)\n",
        "- [Pytorch Documentation for Optimizer](https://pytorch.org/docs/stable/optim.html)\n",
        "- Refer to the links provided on the top of the notebook to read more about `BertModel`. "
      ]
    },
    {
      "cell_type": "markdown",
      "metadata": {},
      "source": []
    },
    {
      "cell_type": "code",
      "execution_count": null,
      "metadata": {},
      "outputs": [],
      "source": []
    },
    {
      "cell_type": "code",
      "execution_count": 16,
      "metadata": {
        "colab": {
          "base_uri": "https://localhost:8080/",
          "height": 1000,
          "referenced_widgets": [
            "29b605fec9d34649888ee7ec36b89595",
            "2bd7ade54b7841f2840e5187d9e3bc99",
            "fa0ae9bc665b47d89ebee73bf6ddaccf",
            "6cb5f40281524c1ba78f1260cadbfe66",
            "6ee0645e22b54ceebff09091598bce28",
            "448cd06bb18548a39d5fb88adad5cb20",
            "bfbb87e4c4ad44b285edd376b5659a3a",
            "c4e387689be7453d9c65b1b3bbd99d7d",
            "7d2a9c4d56524de7a3783cdf0760254d",
            "46c0394c31e44192a4ada6073cd915bc",
            "bd2b7813f0974e52b4a966ee2455909e",
            "183e12f5b9f64f02ae2e31bc390045f2",
            "e8bcca8b06834420a6863751c4ed53e3",
            "19acfedb0f974ad1aac62da45273d5fb",
            "68da6b73b1f14542a48401a7d4ca3e28",
            "ddec16ebb40a4ab9ba3172959596ecc2"
          ]
        },
        "id": "DegHNyIEQxB2",
        "outputId": "9d8c15f8-aa49-4c4e-e1c9-e112eb0ed19b"
      },
      "outputs": [
        {
          "name": "stderr",
          "output_type": "stream",
          "text": [
            "Some weights of the model checkpoint at camembert-base were not used when initializing CamembertForSequenceClassification: ['lm_head.decoder.weight', 'roberta.pooler.dense.bias', 'lm_head.dense.weight', 'lm_head.layer_norm.weight', 'lm_head.bias', 'lm_head.layer_norm.bias', 'roberta.pooler.dense.weight', 'lm_head.dense.bias']\n",
            "- This IS expected if you are initializing CamembertForSequenceClassification from the checkpoint of a model trained on another task or with another architecture (e.g. initializing a BertForSequenceClassification model from a BertForPreTraining model).\n",
            "- This IS NOT expected if you are initializing CamembertForSequenceClassification from the checkpoint of a model that you expect to be exactly identical (initializing a BertForSequenceClassification model from a BertForSequenceClassification model).\n",
            "Some weights of CamembertForSequenceClassification were not initialized from the model checkpoint at camembert-base and are newly initialized: ['classifier.out_proj.weight', 'classifier.dense.weight', 'classifier.out_proj.bias', 'classifier.dense.bias']\n",
            "You should probably TRAIN this model on a down-stream task to be able to use it for predictions and inference.\n"
          ]
        },
        {
          "data": {
            "text/plain": [
              "CamembertForSequenceClassification(\n",
              "  (roberta): RobertaModel(\n",
              "    (embeddings): RobertaEmbeddings(\n",
              "      (word_embeddings): Embedding(32005, 768, padding_idx=1)\n",
              "      (position_embeddings): Embedding(514, 768, padding_idx=1)\n",
              "      (token_type_embeddings): Embedding(1, 768)\n",
              "      (LayerNorm): LayerNorm((768,), eps=1e-05, elementwise_affine=True)\n",
              "      (dropout): Dropout(p=0.1, inplace=False)\n",
              "    )\n",
              "    (encoder): RobertaEncoder(\n",
              "      (layer): ModuleList(\n",
              "        (0): RobertaLayer(\n",
              "          (attention): RobertaAttention(\n",
              "            (self): RobertaSelfAttention(\n",
              "              (query): Linear(in_features=768, out_features=768, bias=True)\n",
              "              (key): Linear(in_features=768, out_features=768, bias=True)\n",
              "              (value): Linear(in_features=768, out_features=768, bias=True)\n",
              "              (dropout): Dropout(p=0.1, inplace=False)\n",
              "            )\n",
              "            (output): RobertaSelfOutput(\n",
              "              (dense): Linear(in_features=768, out_features=768, bias=True)\n",
              "              (LayerNorm): LayerNorm((768,), eps=1e-05, elementwise_affine=True)\n",
              "              (dropout): Dropout(p=0.1, inplace=False)\n",
              "            )\n",
              "          )\n",
              "          (intermediate): RobertaIntermediate(\n",
              "            (dense): Linear(in_features=768, out_features=3072, bias=True)\n",
              "          )\n",
              "          (output): RobertaOutput(\n",
              "            (dense): Linear(in_features=3072, out_features=768, bias=True)\n",
              "            (LayerNorm): LayerNorm((768,), eps=1e-05, elementwise_affine=True)\n",
              "            (dropout): Dropout(p=0.1, inplace=False)\n",
              "          )\n",
              "        )\n",
              "        (1): RobertaLayer(\n",
              "          (attention): RobertaAttention(\n",
              "            (self): RobertaSelfAttention(\n",
              "              (query): Linear(in_features=768, out_features=768, bias=True)\n",
              "              (key): Linear(in_features=768, out_features=768, bias=True)\n",
              "              (value): Linear(in_features=768, out_features=768, bias=True)\n",
              "              (dropout): Dropout(p=0.1, inplace=False)\n",
              "            )\n",
              "            (output): RobertaSelfOutput(\n",
              "              (dense): Linear(in_features=768, out_features=768, bias=True)\n",
              "              (LayerNorm): LayerNorm((768,), eps=1e-05, elementwise_affine=True)\n",
              "              (dropout): Dropout(p=0.1, inplace=False)\n",
              "            )\n",
              "          )\n",
              "          (intermediate): RobertaIntermediate(\n",
              "            (dense): Linear(in_features=768, out_features=3072, bias=True)\n",
              "          )\n",
              "          (output): RobertaOutput(\n",
              "            (dense): Linear(in_features=3072, out_features=768, bias=True)\n",
              "            (LayerNorm): LayerNorm((768,), eps=1e-05, elementwise_affine=True)\n",
              "            (dropout): Dropout(p=0.1, inplace=False)\n",
              "          )\n",
              "        )\n",
              "        (2): RobertaLayer(\n",
              "          (attention): RobertaAttention(\n",
              "            (self): RobertaSelfAttention(\n",
              "              (query): Linear(in_features=768, out_features=768, bias=True)\n",
              "              (key): Linear(in_features=768, out_features=768, bias=True)\n",
              "              (value): Linear(in_features=768, out_features=768, bias=True)\n",
              "              (dropout): Dropout(p=0.1, inplace=False)\n",
              "            )\n",
              "            (output): RobertaSelfOutput(\n",
              "              (dense): Linear(in_features=768, out_features=768, bias=True)\n",
              "              (LayerNorm): LayerNorm((768,), eps=1e-05, elementwise_affine=True)\n",
              "              (dropout): Dropout(p=0.1, inplace=False)\n",
              "            )\n",
              "          )\n",
              "          (intermediate): RobertaIntermediate(\n",
              "            (dense): Linear(in_features=768, out_features=3072, bias=True)\n",
              "          )\n",
              "          (output): RobertaOutput(\n",
              "            (dense): Linear(in_features=3072, out_features=768, bias=True)\n",
              "            (LayerNorm): LayerNorm((768,), eps=1e-05, elementwise_affine=True)\n",
              "            (dropout): Dropout(p=0.1, inplace=False)\n",
              "          )\n",
              "        )\n",
              "        (3): RobertaLayer(\n",
              "          (attention): RobertaAttention(\n",
              "            (self): RobertaSelfAttention(\n",
              "              (query): Linear(in_features=768, out_features=768, bias=True)\n",
              "              (key): Linear(in_features=768, out_features=768, bias=True)\n",
              "              (value): Linear(in_features=768, out_features=768, bias=True)\n",
              "              (dropout): Dropout(p=0.1, inplace=False)\n",
              "            )\n",
              "            (output): RobertaSelfOutput(\n",
              "              (dense): Linear(in_features=768, out_features=768, bias=True)\n",
              "              (LayerNorm): LayerNorm((768,), eps=1e-05, elementwise_affine=True)\n",
              "              (dropout): Dropout(p=0.1, inplace=False)\n",
              "            )\n",
              "          )\n",
              "          (intermediate): RobertaIntermediate(\n",
              "            (dense): Linear(in_features=768, out_features=3072, bias=True)\n",
              "          )\n",
              "          (output): RobertaOutput(\n",
              "            (dense): Linear(in_features=3072, out_features=768, bias=True)\n",
              "            (LayerNorm): LayerNorm((768,), eps=1e-05, elementwise_affine=True)\n",
              "            (dropout): Dropout(p=0.1, inplace=False)\n",
              "          )\n",
              "        )\n",
              "        (4): RobertaLayer(\n",
              "          (attention): RobertaAttention(\n",
              "            (self): RobertaSelfAttention(\n",
              "              (query): Linear(in_features=768, out_features=768, bias=True)\n",
              "              (key): Linear(in_features=768, out_features=768, bias=True)\n",
              "              (value): Linear(in_features=768, out_features=768, bias=True)\n",
              "              (dropout): Dropout(p=0.1, inplace=False)\n",
              "            )\n",
              "            (output): RobertaSelfOutput(\n",
              "              (dense): Linear(in_features=768, out_features=768, bias=True)\n",
              "              (LayerNorm): LayerNorm((768,), eps=1e-05, elementwise_affine=True)\n",
              "              (dropout): Dropout(p=0.1, inplace=False)\n",
              "            )\n",
              "          )\n",
              "          (intermediate): RobertaIntermediate(\n",
              "            (dense): Linear(in_features=768, out_features=3072, bias=True)\n",
              "          )\n",
              "          (output): RobertaOutput(\n",
              "            (dense): Linear(in_features=3072, out_features=768, bias=True)\n",
              "            (LayerNorm): LayerNorm((768,), eps=1e-05, elementwise_affine=True)\n",
              "            (dropout): Dropout(p=0.1, inplace=False)\n",
              "          )\n",
              "        )\n",
              "        (5): RobertaLayer(\n",
              "          (attention): RobertaAttention(\n",
              "            (self): RobertaSelfAttention(\n",
              "              (query): Linear(in_features=768, out_features=768, bias=True)\n",
              "              (key): Linear(in_features=768, out_features=768, bias=True)\n",
              "              (value): Linear(in_features=768, out_features=768, bias=True)\n",
              "              (dropout): Dropout(p=0.1, inplace=False)\n",
              "            )\n",
              "            (output): RobertaSelfOutput(\n",
              "              (dense): Linear(in_features=768, out_features=768, bias=True)\n",
              "              (LayerNorm): LayerNorm((768,), eps=1e-05, elementwise_affine=True)\n",
              "              (dropout): Dropout(p=0.1, inplace=False)\n",
              "            )\n",
              "          )\n",
              "          (intermediate): RobertaIntermediate(\n",
              "            (dense): Linear(in_features=768, out_features=3072, bias=True)\n",
              "          )\n",
              "          (output): RobertaOutput(\n",
              "            (dense): Linear(in_features=3072, out_features=768, bias=True)\n",
              "            (LayerNorm): LayerNorm((768,), eps=1e-05, elementwise_affine=True)\n",
              "            (dropout): Dropout(p=0.1, inplace=False)\n",
              "          )\n",
              "        )\n",
              "        (6): RobertaLayer(\n",
              "          (attention): RobertaAttention(\n",
              "            (self): RobertaSelfAttention(\n",
              "              (query): Linear(in_features=768, out_features=768, bias=True)\n",
              "              (key): Linear(in_features=768, out_features=768, bias=True)\n",
              "              (value): Linear(in_features=768, out_features=768, bias=True)\n",
              "              (dropout): Dropout(p=0.1, inplace=False)\n",
              "            )\n",
              "            (output): RobertaSelfOutput(\n",
              "              (dense): Linear(in_features=768, out_features=768, bias=True)\n",
              "              (LayerNorm): LayerNorm((768,), eps=1e-05, elementwise_affine=True)\n",
              "              (dropout): Dropout(p=0.1, inplace=False)\n",
              "            )\n",
              "          )\n",
              "          (intermediate): RobertaIntermediate(\n",
              "            (dense): Linear(in_features=768, out_features=3072, bias=True)\n",
              "          )\n",
              "          (output): RobertaOutput(\n",
              "            (dense): Linear(in_features=3072, out_features=768, bias=True)\n",
              "            (LayerNorm): LayerNorm((768,), eps=1e-05, elementwise_affine=True)\n",
              "            (dropout): Dropout(p=0.1, inplace=False)\n",
              "          )\n",
              "        )\n",
              "        (7): RobertaLayer(\n",
              "          (attention): RobertaAttention(\n",
              "            (self): RobertaSelfAttention(\n",
              "              (query): Linear(in_features=768, out_features=768, bias=True)\n",
              "              (key): Linear(in_features=768, out_features=768, bias=True)\n",
              "              (value): Linear(in_features=768, out_features=768, bias=True)\n",
              "              (dropout): Dropout(p=0.1, inplace=False)\n",
              "            )\n",
              "            (output): RobertaSelfOutput(\n",
              "              (dense): Linear(in_features=768, out_features=768, bias=True)\n",
              "              (LayerNorm): LayerNorm((768,), eps=1e-05, elementwise_affine=True)\n",
              "              (dropout): Dropout(p=0.1, inplace=False)\n",
              "            )\n",
              "          )\n",
              "          (intermediate): RobertaIntermediate(\n",
              "            (dense): Linear(in_features=768, out_features=3072, bias=True)\n",
              "          )\n",
              "          (output): RobertaOutput(\n",
              "            (dense): Linear(in_features=3072, out_features=768, bias=True)\n",
              "            (LayerNorm): LayerNorm((768,), eps=1e-05, elementwise_affine=True)\n",
              "            (dropout): Dropout(p=0.1, inplace=False)\n",
              "          )\n",
              "        )\n",
              "        (8): RobertaLayer(\n",
              "          (attention): RobertaAttention(\n",
              "            (self): RobertaSelfAttention(\n",
              "              (query): Linear(in_features=768, out_features=768, bias=True)\n",
              "              (key): Linear(in_features=768, out_features=768, bias=True)\n",
              "              (value): Linear(in_features=768, out_features=768, bias=True)\n",
              "              (dropout): Dropout(p=0.1, inplace=False)\n",
              "            )\n",
              "            (output): RobertaSelfOutput(\n",
              "              (dense): Linear(in_features=768, out_features=768, bias=True)\n",
              "              (LayerNorm): LayerNorm((768,), eps=1e-05, elementwise_affine=True)\n",
              "              (dropout): Dropout(p=0.1, inplace=False)\n",
              "            )\n",
              "          )\n",
              "          (intermediate): RobertaIntermediate(\n",
              "            (dense): Linear(in_features=768, out_features=3072, bias=True)\n",
              "          )\n",
              "          (output): RobertaOutput(\n",
              "            (dense): Linear(in_features=3072, out_features=768, bias=True)\n",
              "            (LayerNorm): LayerNorm((768,), eps=1e-05, elementwise_affine=True)\n",
              "            (dropout): Dropout(p=0.1, inplace=False)\n",
              "          )\n",
              "        )\n",
              "        (9): RobertaLayer(\n",
              "          (attention): RobertaAttention(\n",
              "            (self): RobertaSelfAttention(\n",
              "              (query): Linear(in_features=768, out_features=768, bias=True)\n",
              "              (key): Linear(in_features=768, out_features=768, bias=True)\n",
              "              (value): Linear(in_features=768, out_features=768, bias=True)\n",
              "              (dropout): Dropout(p=0.1, inplace=False)\n",
              "            )\n",
              "            (output): RobertaSelfOutput(\n",
              "              (dense): Linear(in_features=768, out_features=768, bias=True)\n",
              "              (LayerNorm): LayerNorm((768,), eps=1e-05, elementwise_affine=True)\n",
              "              (dropout): Dropout(p=0.1, inplace=False)\n",
              "            )\n",
              "          )\n",
              "          (intermediate): RobertaIntermediate(\n",
              "            (dense): Linear(in_features=768, out_features=3072, bias=True)\n",
              "          )\n",
              "          (output): RobertaOutput(\n",
              "            (dense): Linear(in_features=3072, out_features=768, bias=True)\n",
              "            (LayerNorm): LayerNorm((768,), eps=1e-05, elementwise_affine=True)\n",
              "            (dropout): Dropout(p=0.1, inplace=False)\n",
              "          )\n",
              "        )\n",
              "        (10): RobertaLayer(\n",
              "          (attention): RobertaAttention(\n",
              "            (self): RobertaSelfAttention(\n",
              "              (query): Linear(in_features=768, out_features=768, bias=True)\n",
              "              (key): Linear(in_features=768, out_features=768, bias=True)\n",
              "              (value): Linear(in_features=768, out_features=768, bias=True)\n",
              "              (dropout): Dropout(p=0.1, inplace=False)\n",
              "            )\n",
              "            (output): RobertaSelfOutput(\n",
              "              (dense): Linear(in_features=768, out_features=768, bias=True)\n",
              "              (LayerNorm): LayerNorm((768,), eps=1e-05, elementwise_affine=True)\n",
              "              (dropout): Dropout(p=0.1, inplace=False)\n",
              "            )\n",
              "          )\n",
              "          (intermediate): RobertaIntermediate(\n",
              "            (dense): Linear(in_features=768, out_features=3072, bias=True)\n",
              "          )\n",
              "          (output): RobertaOutput(\n",
              "            (dense): Linear(in_features=3072, out_features=768, bias=True)\n",
              "            (LayerNorm): LayerNorm((768,), eps=1e-05, elementwise_affine=True)\n",
              "            (dropout): Dropout(p=0.1, inplace=False)\n",
              "          )\n",
              "        )\n",
              "        (11): RobertaLayer(\n",
              "          (attention): RobertaAttention(\n",
              "            (self): RobertaSelfAttention(\n",
              "              (query): Linear(in_features=768, out_features=768, bias=True)\n",
              "              (key): Linear(in_features=768, out_features=768, bias=True)\n",
              "              (value): Linear(in_features=768, out_features=768, bias=True)\n",
              "              (dropout): Dropout(p=0.1, inplace=False)\n",
              "            )\n",
              "            (output): RobertaSelfOutput(\n",
              "              (dense): Linear(in_features=768, out_features=768, bias=True)\n",
              "              (LayerNorm): LayerNorm((768,), eps=1e-05, elementwise_affine=True)\n",
              "              (dropout): Dropout(p=0.1, inplace=False)\n",
              "            )\n",
              "          )\n",
              "          (intermediate): RobertaIntermediate(\n",
              "            (dense): Linear(in_features=768, out_features=3072, bias=True)\n",
              "          )\n",
              "          (output): RobertaOutput(\n",
              "            (dense): Linear(in_features=3072, out_features=768, bias=True)\n",
              "            (LayerNorm): LayerNorm((768,), eps=1e-05, elementwise_affine=True)\n",
              "            (dropout): Dropout(p=0.1, inplace=False)\n",
              "          )\n",
              "        )\n",
              "      )\n",
              "    )\n",
              "  )\n",
              "  (classifier): RobertaClassificationHead(\n",
              "    (dense): Linear(in_features=768, out_features=768, bias=True)\n",
              "    (dropout): Dropout(p=0.1, inplace=False)\n",
              "    (out_proj): Linear(in_features=768, out_features=5, bias=True)\n",
              "  )\n",
              ")"
            ]
          },
          "execution_count": 16,
          "metadata": {},
          "output_type": "execute_result"
        }
      ],
      "source": [
        "# Creating the customized model, by adding a drop out and a dense layer on top of distil bert to get the final output for the model. \n",
        "\n",
        "# class BERTClass(torch.nn.Module):\n",
        "#     def __init__(self):\n",
        "#         super(BERTClass, self).__init__()\n",
        "#         self.l1 = transformers.CamembertModel.from_pretrained('camembert-base')\n",
        "#         self.l2 = torch.nn.Dropout(0.3)\n",
        "#         self.l3 = torch.nn.Linear(768, 12)\n",
        "    \n",
        "#     def forward(self, ids, mask, token_type_ids):\n",
        "#         res = self.l1(ids, attention_mask = mask, token_type_ids = token_type_ids)\n",
        "#         self.res = res\n",
        "#         output_2 = self.l2(res)\n",
        "#         output = self.l3(output_2)\n",
        "#         return output\n",
        "\n",
        "# model = BERTClass()\n",
        "# model.to(device)\n",
        "from transformers import CamembertForSequenceClassification\n",
        "model = CamembertForSequenceClassification.from_pretrained('camembert-base', num_labels=5)\n",
        "model.to(device)\n"
      ]
    },
    {
      "cell_type": "code",
      "execution_count": 17,
      "metadata": {
        "id": "7KnNeQx6SI78"
      },
      "outputs": [],
      "source": [
        "def loss_fn(outputs, targets):\n",
        "    return torch.nn.BCEWithLogitsLoss()(outputs.logits, targets)"
      ]
    },
    {
      "cell_type": "code",
      "execution_count": 18,
      "metadata": {
        "id": "gUD8j0c7WsA-"
      },
      "outputs": [],
      "source": [
        "optimizer = torch.optim.Adam(params =  model.parameters(), lr=LEARNING_RATE)"
      ]
    },
    {
      "cell_type": "markdown",
      "metadata": {
        "id": "Is2KGnk2Kdj8"
      },
      "source": [
        "<a id='section05'></a>\n",
        "### Fine Tuning the Model\n",
        "\n",
        "After all the effort of loading and preparing the data and datasets, creating the model and defining its loss and optimizer. This is probably the easier steps in the process. \n",
        "\n",
        "Here we define a training function that trains the model on the training dataset created above, specified number of times (EPOCH), An epoch defines how many times the complete data will be passed through the network. \n",
        "\n",
        "Following events happen in this function to fine tune the neural network:\n",
        "- The dataloader passes data to the model based on the batch size. \n",
        "- Subsequent output from the model and the actual category are compared to calculate the loss. \n",
        "- Loss value is used to optimize the weights of the neurons in the network.\n",
        "- After every 5000 steps the loss value is printed in the console.\n",
        "\n",
        "As you can see just in 1 epoch by the final step the model was working with a miniscule loss of 0.022 i.e. the network output is extremely close to the actual output."
      ]
    },
    {
      "cell_type": "code",
      "execution_count": 19,
      "metadata": {
        "id": "B9_DjWmfWx1q"
      },
      "outputs": [],
      "source": [
        "def train(epoch):\n",
        "    model.train()\n",
        "    best_loss = float('inf')\n",
        "    for _,data in enumerate(training_loader, 0):\n",
        "        ids = data['ids'].to(device, dtype = torch.long)\n",
        "        mask = data['mask'].to(device, dtype = torch.long)\n",
        "        token_type_ids = data['token_type_ids'].to(device, dtype = torch.long)\n",
        "        targets = data['targets'].to(device, dtype = torch.float)\n",
        "\n",
        "        outputs = model(ids, mask, token_type_ids)\n",
        "\n",
        "        optimizer.zero_grad()\n",
        "        loss = loss_fn(outputs, targets)\n",
        "        if _%5000==0:\n",
        "            print(f'Epoch: {epoch}, Loss:  {loss.item()}')\n",
        "            if loss.item() < best_loss:\n",
        "                model.save_pretrained('./results/camembert_v2_subclasses_C1/')\n",
        "                best_loss = loss.item()\n",
        "                print(\"Best model saved (epoch {})!\".format(epoch))\n",
        "        optimizer.zero_grad()\n",
        "        loss.backward()\n",
        "        optimizer.step()"
      ]
    },
    {
      "cell_type": "code",
      "execution_count": 20,
      "metadata": {
        "colab": {
          "base_uri": "https://localhost:8080/",
          "height": 87
        },
        "id": "D4Yl7gXHYSRU",
        "outputId": "94be5496-6ab5-4744-b8db-c6370fbd9f88"
      },
      "outputs": [
        {
          "name": "stdout",
          "output_type": "stream",
          "text": [
            "Epoch: 0, Loss:  0.7074956893920898\n",
            "Best model saved (epoch 0)!\n",
            "Epoch: 1, Loss:  0.6815589070320129\n",
            "Best model saved (epoch 1)!\n",
            "Epoch: 2, Loss:  0.6760404706001282\n",
            "Best model saved (epoch 2)!\n",
            "Epoch: 3, Loss:  0.6832512021064758\n",
            "Best model saved (epoch 3)!\n",
            "Epoch: 4, Loss:  0.6698747277259827\n",
            "Best model saved (epoch 4)!\n",
            "Epoch: 5, Loss:  0.6879416704177856\n",
            "Best model saved (epoch 5)!\n",
            "Epoch: 6, Loss:  0.6851610541343689\n",
            "Best model saved (epoch 6)!\n",
            "Epoch: 7, Loss:  0.6528114676475525\n",
            "Best model saved (epoch 7)!\n",
            "Epoch: 8, Loss:  0.658505916595459\n",
            "Best model saved (epoch 8)!\n",
            "Epoch: 9, Loss:  0.6382265090942383\n",
            "Best model saved (epoch 9)!\n",
            "Epoch: 10, Loss:  0.6632227897644043\n",
            "Best model saved (epoch 10)!\n",
            "Epoch: 11, Loss:  0.6695339679718018\n",
            "Best model saved (epoch 11)!\n",
            "Epoch: 12, Loss:  0.6752375364303589\n",
            "Best model saved (epoch 12)!\n",
            "Epoch: 13, Loss:  0.6709195971488953\n",
            "Best model saved (epoch 13)!\n",
            "Epoch: 14, Loss:  0.6815897822380066\n",
            "Best model saved (epoch 14)!\n",
            "Epoch: 15, Loss:  0.6112648844718933\n",
            "Best model saved (epoch 15)!\n",
            "Epoch: 16, Loss:  0.628290593624115\n",
            "Best model saved (epoch 16)!\n",
            "Epoch: 17, Loss:  0.6686450242996216\n",
            "Best model saved (epoch 17)!\n",
            "Epoch: 18, Loss:  0.6724661588668823\n",
            "Best model saved (epoch 18)!\n",
            "Epoch: 19, Loss:  0.6608178019523621\n",
            "Best model saved (epoch 19)!\n",
            "Epoch: 20, Loss:  0.632404625415802\n",
            "Best model saved (epoch 20)!\n",
            "Epoch: 21, Loss:  0.6563740968704224\n",
            "Best model saved (epoch 21)!\n",
            "Epoch: 22, Loss:  0.5752726793289185\n",
            "Best model saved (epoch 22)!\n",
            "Epoch: 23, Loss:  0.6492401361465454\n",
            "Best model saved (epoch 23)!\n",
            "Epoch: 24, Loss:  0.6226491928100586\n",
            "Best model saved (epoch 24)!\n",
            "Epoch: 25, Loss:  0.6154293417930603\n",
            "Best model saved (epoch 25)!\n",
            "Epoch: 26, Loss:  0.6455840468406677\n",
            "Best model saved (epoch 26)!\n",
            "Epoch: 27, Loss:  0.5762696266174316\n",
            "Best model saved (epoch 27)!\n",
            "Epoch: 28, Loss:  0.6416532397270203\n",
            "Best model saved (epoch 28)!\n",
            "Epoch: 29, Loss:  0.655098557472229\n",
            "Best model saved (epoch 29)!\n"
          ]
        }
      ],
      "source": [
        "for epoch in range(EPOCHS):\n",
        "    train(epoch)"
      ]
    },
    {
      "cell_type": "markdown",
      "metadata": {
        "id": "jxdWfjxyKdj9"
      },
      "source": [
        "<a id='section06'></a>\n",
        "### Validating the Model\n",
        "\n",
        "During the validation stage we pass the unseen data(Testing Dataset) to the model. This step determines how good the model performs on the unseen data. \n",
        "\n",
        "This unseen data is the 20% of `train.csv` which was seperated during the Dataset creation stage. \n",
        "During the validation stage the weights of the model are not updated. Only the final output is compared to the actual value. This comparison is then used to calcuate the accuracy of the model. \n",
        "\n",
        "As defined above to get a measure of our models performance we are using the following metrics. \n",
        "- Accuracy Score\n",
        "- F1 Micro\n",
        "- F1 Macro\n",
        "\n",
        "We are getting amazing results for all these 3 categories just by training the model for 1 Epoch."
      ]
    },
    {
      "cell_type": "code",
      "execution_count": 21,
      "metadata": {
        "id": "nIEoUm4aQkyl"
      },
      "outputs": [],
      "source": [
        "def validation(epoch):\n",
        "    model.eval()\n",
        "    fin_targets=[]\n",
        "    fin_outputs=[]\n",
        "    with torch.no_grad():\n",
        "        for _, data in enumerate(testing_loader, 0):\n",
        "            ids = data['ids'].to(device, dtype = torch.long)\n",
        "            mask = data['mask'].to(device, dtype = torch.long)\n",
        "            token_type_ids = data['token_type_ids'].to(device, dtype = torch.long)\n",
        "            targets = data['targets'].to(device, dtype = torch.float)\n",
        "            outputs = model(ids, mask, token_type_ids)\n",
        "            fin_targets.extend(targets.cpu().detach().numpy().tolist())\n",
        "            fin_outputs.extend(torch.sigmoid(outputs.logits).cpu().detach().numpy().tolist())\n",
        "    return fin_outputs, fin_targets"
      ]
    },
    {
      "cell_type": "code",
      "execution_count": 23,
      "metadata": {
        "colab": {
          "base_uri": "https://localhost:8080/",
          "height": 70
        },
        "id": "Ov1_3R_pAcMo",
        "outputId": "96d0de09-1943-44b0-9f48-692f045e2863"
      },
      "outputs": [
        {
          "name": "stderr",
          "output_type": "stream",
          "text": [
            "C:\\Users\\amine\\anaconda3\\envs\\thesis\\lib\\site-packages\\transformers\\tokenization_utils_base.py:2218: FutureWarning: The `pad_to_max_length` argument is deprecated and will be removed in a future version, use `padding=True` or `padding='longest'` to pad to the longest sequence in the batch, or use `padding='max_length'` to pad to a max length. In this case, you can give a specific length with `max_length` (e.g. `max_length=45`) or leave max_length to None to pad to the maximal input size of the model (e.g. 512 for Bert).\n",
            "  FutureWarning,\n"
          ]
        },
        {
          "name": "stdout",
          "output_type": "stream",
          "text": [
            "Accuracy Score = 0.0\n",
            "F1 Score (Micro) = 0.6538461538461539\n",
            "F1 Score (Macro) = 0.5955244755244754\n"
          ]
        }
      ],
      "source": [
        "# for epoch in range(EPOCHS):\n",
        "outputs, targets = validation(EPOCHS-1)\n",
        "outputs = np.array(outputs) >= 0.2\n",
        "accuracy = metrics.accuracy_score(targets, outputs)\n",
        "f1_score_micro = metrics.f1_score(targets, outputs, average='micro')\n",
        "f1_score_macro = metrics.f1_score(targets, outputs, average='macro')\n",
        "cm = metrics.multilabel_confusion_matrix(targets, outputs)\n",
        "print(f\"Accuracy Score = {accuracy}\")\n",
        "print(f\"F1 Score (Micro) = {f1_score_micro}\")\n",
        "print(f\"F1 Score (Macro) = {f1_score_macro}\")"
      ]
    },
    {
      "cell_type": "code",
      "execution_count": 35,
      "metadata": {},
      "outputs": [],
      "source": [
        "LABELS = [\n",
        "    \"Evolution des procédés industriels\",\n",
        "    \"Secteur Infrastructure & Déchéterie\",\n",
        "    \"Innovation produits & services\",\n",
        "    \"Gestion des bâtiments\",\n",
        "    \"Production & distribution d'énergie\",\n",
        "    \"Gestion des déchets\",\n",
        "    \"Secteur Ville durable\",\n",
        "    \"Secteur Agriculture & Zones rurales\",\n",
        "    \"Mobilité des employés\",\n",
        "    \"Secteur Eau & écosystèmes\",\n",
        "    \"Ressources humaines\",\n",
        "    \"Secteur Bois\"\n",
        "    ]\n"
      ]
    },
    {
      "cell_type": "code",
      "execution_count": null,
      "metadata": {},
      "outputs": [],
      "source": []
    },
    {
      "cell_type": "code",
      "execution_count": 38,
      "metadata": {},
      "outputs": [
        {
          "data": {
            "text/plain": [
              "(array([ 0,  0,  0,  0,  0,  2,  2,  4,  4,  5,  6,  6,  6,  6,  6,  6,  6,\n",
              "         6,  7,  7,  7,  8,  8,  9,  9,  9, 10, 10, 10, 11, 11, 13, 13, 14,\n",
              "        14, 15, 15, 15, 15, 15, 15, 15, 15, 15, 15, 15, 15, 15, 15, 15, 15,\n",
              "        15, 15, 15, 15, 15, 15, 15, 15, 15, 15, 16, 16, 16, 17, 17, 18, 18,\n",
              "        18, 19, 19, 21, 21, 21, 21, 21, 21, 22, 22, 23, 23, 24, 24, 25, 25,\n",
              "        26, 26, 26, 26, 26, 26, 26, 26, 26, 26, 27, 27, 28, 28, 28, 28, 28,\n",
              "        28, 28, 29, 29, 30, 30, 30, 30, 31, 31, 32, 32, 33, 33, 34, 34, 35,\n",
              "        35, 36, 36, 37, 37, 37, 37, 37, 37, 37, 37, 38, 38, 39, 39, 39, 39,\n",
              "        40, 40, 40, 41, 41, 42, 42, 42, 42, 42, 42, 42, 42, 42, 42, 42, 42,\n",
              "        43, 43, 43, 43, 44, 44, 46, 46, 47, 47, 47, 47, 48, 48, 48, 48, 49,\n",
              "        49, 49, 50, 50, 52, 52, 53, 53, 54, 54, 57, 57, 58, 58, 59, 59, 59,\n",
              "        60, 60, 61, 61, 61, 61, 62, 62, 63, 63, 63, 63, 64, 64, 64, 64, 64,\n",
              "        64, 64, 64, 64, 64, 65, 65, 65, 66, 66, 67, 67, 68, 69, 69, 69, 69,\n",
              "        69, 69, 69, 69, 69, 69, 69, 70, 71, 71, 73, 73, 74, 74, 74, 74, 74,\n",
              "        75, 75, 76, 76, 77, 77], dtype=int64),\n",
              " array([ 3,  4,  9, 10, 21, 21, 33, 21, 32, 21,  1, 14, 15, 16, 17, 21, 30,\n",
              "        31,  4, 14, 21, 21, 36, 14, 15, 21, 21, 24, 33, 21, 47, 21, 29, 14,\n",
              "        21,  0,  2,  3,  4,  6,  7,  8,  9, 10, 11, 12, 13, 14, 15, 16, 17,\n",
              "        18, 19, 23, 25, 26, 28, 29, 32, 33, 45, 21, 29, 40, 21, 47, 21, 29,\n",
              "        39, 21, 42,  3,  4,  9, 10, 21, 25, 21, 32,  9, 21, 21, 29, 20, 21,\n",
              "         3,  4,  9, 10, 21, 24, 27, 32, 33, 40, 20, 21, 18, 21, 24, 25, 26,\n",
              "        28, 29, 11, 21,  3,  9, 10, 21, 21, 47, 11, 21, 21, 41,  2, 21, 14,\n",
              "        21, 21, 33, 11, 12, 18, 20, 22, 24, 28, 29, 21, 33,  3,  9, 10, 21,\n",
              "        21, 32, 33, 20, 21, 18, 21, 23, 24, 25, 26, 28, 29, 37, 38, 39, 46,\n",
              "         3,  9, 10, 21, 21, 40, 20, 21,  3,  4,  9, 21,  3,  9, 10, 21, 21,\n",
              "        25, 29, 21, 29, 21, 30, 21, 32, 20, 21, 21, 47,  7, 21, 11, 12, 29,\n",
              "        21, 29, 21, 23, 29, 41,  2, 21,  3,  9, 10, 21,  0,  2,  3,  4,  6,\n",
              "         7,  8,  9, 10, 21, 21, 32, 33,  2, 21, 11, 21, 21,  0,  2,  6,  7,\n",
              "         8, 14, 15, 16, 17, 18, 21, 21, 17, 21, 21, 39,  3,  4,  9, 10, 21,\n",
              "         0, 21, 18, 21, 21, 29], dtype=int64))"
            ]
          },
          "execution_count": 38,
          "metadata": {},
          "output_type": "execute_result"
        }
      ],
      "source": [
        "np.where(outputs!=targets)"
      ]
    },
    {
      "cell_type": "code",
      "execution_count": 26,
      "metadata": {},
      "outputs": [
        {
          "data": {
            "text/plain": [
              "[0.0, 0.0, 1.0, 0.0, 0.0, 0.0, 0.0, 0.0, 0.0, 0.0, 0.0, 0.0]"
            ]
          },
          "execution_count": 26,
          "metadata": {},
          "output_type": "execute_result"
        }
      ],
      "source": [
        "targets[0]"
      ]
    },
    {
      "cell_type": "code",
      "execution_count": 27,
      "metadata": {},
      "outputs": [
        {
          "data": {
            "text/plain": [
              "array([False, False, False, False, False, False,  True, False, False,\n",
              "       False, False, False])"
            ]
          },
          "execution_count": 27,
          "metadata": {},
          "output_type": "execute_result"
        }
      ],
      "source": [
        "outputs[0]"
      ]
    },
    {
      "cell_type": "code",
      "execution_count": 19,
      "metadata": {},
      "outputs": [
        {
          "data": {
            "text/plain": [
              "[0.0, 0.0, 0.0, 0.0, 1.0, 0.0, 0.0, 0.0, 0.0, 0.0, 0.0, 0.0]"
            ]
          },
          "execution_count": 19,
          "metadata": {},
          "output_type": "execute_result"
        }
      ],
      "source": [
        "targets[0]"
      ]
    },
    {
      "cell_type": "code",
      "execution_count": 23,
      "metadata": {},
      "outputs": [
        {
          "data": {
            "text/plain": [
              "0.9423076923076923"
            ]
          },
          "execution_count": 23,
          "metadata": {},
          "output_type": "execute_result"
        }
      ],
      "source": [
        "np.mean(outputs==targets)"
      ]
    },
    {
      "cell_type": "code",
      "execution_count": 36,
      "metadata": {},
      "outputs": [],
      "source": [
        "op = [' '.join(str(int(e)) for e in i) for i in outputs]\n",
        "tg = [' '.join(str(int(e)) for e in i) for i in targets]\n"
      ]
    },
    {
      "cell_type": "code",
      "execution_count": 42,
      "metadata": {},
      "outputs": [
        {
          "name": "stdout",
          "output_type": "stream",
          "text": [
            "[0, 0, 1, 1, 0, 0, 1, 1, 1, 0, 0, 0]\n",
            "Targets:  ['Innovation produits & services']\n",
            "Outputs:  ['Innovation produits & services', 'Gestion des bâtiments', 'Secteur Ville durable', 'Secteur Agriculture & Zones rurales', 'Mobilité des employés']\n",
            "Vous aider dans la préparation de votre projet d'innovation - Aide pour la faisabilité de l'innovation.   La BPI vous aide dans la préparation de votre projet d'innovation (Subvention ou avance récupérable pour valider la faisabilité de votre projet).      Projets éligibles    Tout projet de recherche, développement et innovation (RDI) de produits, procédés ou services innovants présentant des perspectives d'industrialisation et/ou de commercialisation.    Bpifrance a noué un partenariat avec le ministère de l'Agriculture et de l'Alimentation pour renforcer son soutien à des projets d'innovation dans l'industrie agroalimentaire en finançant les études amont de faisabilité ou de recherche de partenaires.    Dépenses éligibles      Etudes d'évaluation et d'analyse du potentiel d'un projet mettant en exergue les perspectives et les risques du projet et précisant les ressources nécessaires pour le mener à bien.      Conception et définition du projet, planification, validation de la faisabilité technico-économique, veille, étude de positionnement stratégique, démarche design, recrutement de cadres de R&D...      Modalités d'intervention    Participation au financement de l'étude sous forme de subvention ou sous forme d'avance récupérable.    Finalité    Inciter l'entreprise à innover en l'aidant dans la préparation de projets de recherche, développement et innovation (RDI) par :        des études de faisabilité,        l'intégration de compétences,        permettant de valider les différentes composantes du projet de RDI : ingénierie commerciale et marketing, technique, juridique et propriété intellectuelle, financière et managériale.   \n",
            "###############################################################\n",
            "[0, 0, 0, 0, 0, 0, 0, 0, 1, 0, 0, 0]\n",
            "Targets:  [\"Production & distribution d'énergie\"]\n",
            "Outputs:  ['Mobilité des employés']\n",
            "   mai 1984      Nous intervenons auprès de PME et ETI évoluant sur tous les secteurs d'activité et sommes des investisseurs impliqués dans les organes de gouvernance (tours de table minoritaires ou majoritaires) de préférence en partage avec un ou des partenaires investisseurs.    Les montants d'intervention sont compris entre 500 000 € et 7 M€ par projet.    Modalités d'intervention      Actions : dédiées au financement en fonds propres des PME ou petites ETI en phase de croissance interne ou externe, ou ayant des projets de transmission. Ticket d'investissement compris entre 0,5 M€ et 7 M€ ;      Mezzanine de capital développement/ obligations convertibles en actions : dédiées au financement en quasi-fonds propres des PME ou petites ETI en phase de croissance interne ou externe, ou ayant des projets de transmission. Ticket d'investissement compris entre 0,5 M€ et 7 M€. Possibilité d'introduire une tranche non convertible dans la limite de 50 % ;      Finalités        Accompagner les dirigeants de PME et ETI de tous secteurs        Accélérer le développement ou réaliser des croissances externes        Développer une vision de long terme        Renforcer la structure financière, investir dans des ressources matérielles        S'internationaliser        Renforcer la compétitivité des entreprises et dynamiser les territoires     \n",
            "###############################################################\n",
            "[1, 0, 1, 1, 1, 1, 0, 0, 1, 0, 0, 0]\n",
            "Targets:  ['Evolution des procédés industriels', 'Innovation produits & services', 'Gestion des bâtiments']\n",
            "Outputs:  ['Evolution des procédés industriels', 'Innovation produits & services', 'Gestion des bâtiments', \"Production & distribution d'énergie\", 'Gestion des déchets', 'Mobilité des employés']\n",
            "Trouver un plan d'investissement au service de la compétitivité, de la croissance et de l’emploi en France - Grand Plan d'Investissement 2018 - 2022.   ________________________________________________________________________    🚩    Les financements décrits dans cette section respectent la réglementation relative aux aides d'Etat et n'emportent donc pas d'éléments d'aide.    _______________________________________________________________      Grand Plan d'Investissement 2018 - 2022        Notre offre      La Banque des Territoires gère pour le compte de l'Etat le mandat du Grand Plan d'Investissement (GPI) présenté par le Premier ministre le 25 septembre 2017.    Dans ce cadre, s'inscrit également le Programme d'Investissements d'Avenir (PIA) qui se poursuit au service de la compétitivité, de la croissance et de l'emploi en France.      Accélérer la transition écologique :  écologie, développement et mobilité durable      Le programme Ecologie, développement et mobilité durable comprend un premier appel à projets     Ville de demain   \n",
            "###############################################################\n",
            "[0, 0, 0, 0, 0, 0, 0, 0, 0, 1, 0, 0]\n",
            "Targets:  ['Secteur Infrastructure & Déchéterie']\n",
            "Outputs:  ['Secteur Eau & écosystèmes']\n",
            "Tester l’intérêt de la géothermie sur champs de sondes pour le chauffage des bâtiments.     Aide - « Test de réponse thermique de terrain (géothermie) », mis en place par l'ADEME        Objectif :     Vous avez un projet de géothermie sur champs de sondes ? Le test de réponse thermique est une procédure qui permet de caractériser les propriétés thermiques moyennes des terrains traversés et de la sonde géothermique verticale testée.      Bénéficiaires :         Entreprise ou collectivité dans les secteurs résidentiel, collectif, tertiaire ou industriel          vous souhaitez réaliser une opération de pompe à chaleur (PAC) sur champs de sondes géothermiques verticales (CSGV).      Réalisez votre étude préalable à la réalisation d'un test de réponse thermique.    L'objectif du test de réponse thermique (TRT) permet de fournir des informations sur les propriétés thermiques moyennes du terrain et donc sur l'intérêt de pouvoir faire de la géothermie sur champs de sondes pour le chauffage des bâtiments concernés.    Accompagnement :        Aide : jusqu'à 70 % selon la taille de l'entreprise.          Plafonds : 50 000 € étude de diagnostic, 100 000 € études d'accompagnement de projet.     \n",
            "###############################################################\n",
            "[1, 0, 1, 1, 0, 0, 1, 1, 0, 1, 0, 0]\n",
            "Targets:  ['Innovation produits & services', 'Secteur Agriculture & Zones rurales', 'Secteur Eau & écosystèmes']\n",
            "Outputs:  ['Evolution des procédés industriels', 'Innovation produits & services', 'Gestion des bâtiments', 'Secteur Ville durable', 'Secteur Agriculture & Zones rurales', 'Secteur Eau & écosystèmes']\n",
            " Réalisez une installation de récupération de chaleur avec l'aide de l'ADEME à travers le Fonds Chaleur.      Bénéficiaires :        Collectivité,          Entreprise,          Établissement public,          Association.      Les bonnes raisons pour passer le cap de la récupération de chaleur :        avoir de la visibilité sur les coûts de la chaleur,          accéder à une haute performance environnementale en substituant cette ressource à d'autres sources de chaleur non renouvelables,          bénéficier de technologies éprouvées à haut rendement énergétique,          mener à bien un projet avec un temps de retour souvent inférieur aux projets d'énergies renouvelables,          profiter d'une ressource de proximité disponible dans une logique d'économie circulaire,          agir avec le soutien du Fonds Chaleur.        Accompagnement : l'aide Fonds Chaleur aux installations de récupération de chaleur dépend de conditions techniques, en particulier de la quantité de chaleur récupérée, des performances énergétiques et environnementales des installations et du Temps de Retour Brut (TRB) du projet.    Depuis 2020, les aides ADEME peuvent être articulées avec dispositif des Certificats d'économies d'énergie (CEE). Les modalités sont précisées dans les conditions d'éligibilité et de financement.    Au-delà des aides à l'investissement, l'ADEME vous accompagne et vous conseille sur toutes les phases de votre projet, des études (d'opportunité ou de faisabilité) aux aides à l'investissement. \n",
            "###############################################################\n",
            "[0, 1, 1, 0, 0, 1, 1, 0, 0, 0, 0, 0]\n",
            "Targets:  ['Innovation produits & services', 'Gestion des déchets']\n",
            "Outputs:  ['Secteur Infrastructure & Déchéterie', 'Innovation produits & services', 'Gestion des déchets', 'Secteur Ville durable']\n",
            "Financer les études relatives à la mise en œuvre ou à la définition des réseaux de chaleur ou de froid.     Aide - « Études de réseaux de chaleur et de froid », mis en place par l'ADEME     Objectif :    Réaliser ou étendre un réseau de chaleur et/ou de froid liant des moyens de production de chaleur à des bâtiments et alimentés par des énergies renouvelables ou de récupération, l'ADEME vous accompagne.    Bénéficiaires :        Collectivité,          Entreprise,          Association.          Bénéficiez d'un financement pour vos études relatives à la mise en œuvre ou à la définition des réseaux de chaleur ou de froid            Vous avez un projet de réseau de chaleur ou de froid entre plusieurs bâtiments.            Vous souhaitez définir un schéma directeur des réseaux pour votre collectivité.            Ces réseaux de chaleur ou de froid seront alimentés par des énergies renouvelables ou de récupération.            Selon les régions, l'ADEME s'appuie sur certains relais pour promouvoir les énergies renouvelables. A ce titre, des conseils, des notes d'opportunités et des pré-études de faisabilité peuvent être fournis à titre gratuit. Les aides à l'investissement dans un réseau de chaleur ou de froid sont conditionnées à la production d'une étude de faisabilité pour une création de réseau ou d'un schéma directeur des réseaux pour une extension.     \n",
            "###############################################################\n",
            "[0, 0, 1, 0, 0, 0, 0, 0, 0, 1, 0, 0]\n",
            "Targets:  ['Secteur Eau & écosystèmes']\n",
            "Outputs:  ['Innovation produits & services', 'Secteur Eau & écosystèmes']\n",
            "Encourager les pratiques de mobilité moins consommatrices en énergie, pour une mobilité durable et active - ECOSANTE.   Dispositif de certificats d'économies d'énergie (CEE). Le parcours EcoSanté sera déployé partout en France auprès des personnes en perte d'autonomie bénéficiaires de Siel Bleu. Il encouragera les pratiques de mobilité moins consommatrices en énergie (marche, vélo, transports en commun, covoiturage, ...) via :       - Des séances d'activité physique dédiées à la mobilité au quotidien (réentrainement à la marche par exemple) ;    - Des micro-sessions de sensibilisation à la mobilité durable au début des sessions d'activité physique Siel Bleu ;    - Des séances de réentrainement physique disponibles sur GetPhy, plateforme web de Siel Bleu proposant des séances d'activité physique à faire chez soi, des conseils et idées de sorties. \n",
            "###############################################################\n",
            "[0, 0, 0, 0, 0, 0, 0, 0, 1, 0, 0, 0]\n",
            "Targets:  ['Secteur Ville durable', 'Mobilité des employés']\n",
            "Outputs:  ['Mobilité des employés']\n",
            "Agir en faveur du climat : sous-programme \"Transition vers une énergie propre\" - LIFE.     Le programme LIFE    est l'instrument financier de la Commission européenne de soutien aux projets dans les domaines de l'environnement et du climat. Il s'adresse à des porteurs de projets publics et privés et vise à promouvoir et à financer des projets innovants portant par exemple sur la conservation d'espèces et d'habitats, la protection des sols, l'amélioration de la qualité de l'air ou de l'eau, la gestion des déchets ou encore l'atténuation ou l'adaptation au changement climatique et la transition énergétique. Pour la période 2021-2027, le programme LIFE sera doté d'un budget de 5,4 milliards d'euros à l'échelle européenne.    Il fonctionne par appels à projet annuel.      Le programme LIFE est réparti en 4 sous-programmes :        Nature et biodiversité,      Economie circulaire et qualité de vie,      Atténuation du changement climatique et adaptation,      Transition vers l'énergie propre.      Pour ce sous-programme spécifique, les projets doivent impérativement s'inscrire dans les thématiques précises identifiées annuellement dans les documents des différents appels (Voir ci-dessous. Ex : LIFE-2021-CET-LOCAL: Soutien technique pour les plans de transition énergétique propres dans les municipalités et régions) : à défaut, les projets ne pourront pas être financés, mais il reste possible de les présenter au titre d'un autre sous-programme (notamment Climat) si l'objet du projet s'y prête.    Les principaux objectifs du programme LIFE sont :      aider à réaliser la transition vers une économie durable, circulaire, basée sur des énergies renouvelables, neutre en carbone et résiliente      protéger, restaurer et améliorer notre environnement      ralentir et inverser la perte de biodiversité      arrêter la dégradation des écosystèmes, en gérant et améliorant le réseau Natura 2000, et ainsi accélérer le développement durable      encourager et soutenir les idées vertes pour les petites et grandes entreprises, ONGs, autorités publiques, groupes de citoyens, académiques et autres      Le programme LIFE est réparti en 4 sous-programmes :      Nature et biodiversité,      Economie circulaire et qualité de vie,      Atténuation du changement climatique et adaptation,      Transition vers l'énergie propre.      ➡️ Les appels à projets du sous-programme \"Transition vers une énergie propre\", au sein du programme \"Climat\" de LIFE        LIFE-2021-CET-LOCAL: Soutien technique pour les plans de transition énergétique propres dans les municipalités et régions           LIFE-2021-CET-POLICY: Vers une mise en oeuvre effective des législations clés dans le domaine de l'énergie durable           LIFE-2021-CET-GOV: Dialogue multiniveau sur le climat et l'énergie pour la gouvernance énergétique           LIFE-2021-CET-BUILDRENO: Déploiement de grande échelle de solutions de rénovation industrielles profondes           LIFE-2021-CET-AUDITS: Adoption de recommandations d'audits énergétiques pour la transition énergétique des entreprises           LIFE-2021-CET-VALUECHAIN: Promouvoir l'adoption de l'énergie durable le long de la chaîne de valeur dans l'industrie et les services           LIFE-2021-CET-BUILDSKILLS: Compétences BUILD UP– Relancer les plateformes et feuilles de routes nationales           LIFE-2021-CET-COOLING: Faire face à l'augmentation de la demande de refroidissement dans les bâtiments sur les prochaines années           LIFE-2021-CET-SMARTSERV: Etablir des modèles d'entreprises innovants et des schémas contractuels pour les services énergétiques intelligents et intégratifs           LIFE-2021-CET-SMARTREADY: Créer les conditions pour une amélioration globale de la préparation intelligente des bâtiments européens           LIFE-2021-CET-MAINSTREAM:  Intégrer la finance énergétique durable et la performance énergétique européenne dans les critères et standards européens de finance durable           LIFE-2021-CET-INNOFIN:  Financement innovant de schémas pour l'investissement dans l'énergie durable           LIFE-2021-CET-HOMERENO: Services de Rénovation énergétique intégrés           LIFE-2021-CET-HOMERECOM: Communauté européenne des praticiens dans le service intégré de rénovations de maisons           LIFE-2021-CET-COALREGIONS: Transition énergétique propre menée par la communauté dans les Régions à charbon, tourbières et pétrole           LIFE-2021-CET-PDA: Aide au développement de projet – Assistance technique pour faire avancer les frontières du marché pour les investissements dans l'énergie durable           LIFE-2021-CET-ENERPOV: Aborder les interventions sur les bâtiments dans les quartiers vulnérables           LIFE-2021-CET-ENERCOM: Développer des mécanismes de soutien pour les communautés énergétiques et autres initiatives menées par les citoyens dans le domaine de l'énergie durable      \n",
            "###############################################################\n",
            "[0, 0, 0, 0, 1, 0, 0, 0, 1, 0, 0, 0]\n",
            "Targets:  ['Mobilité des employés']\n",
            "Outputs:  [\"Production & distribution d'énergie\", 'Mobilité des employés']\n",
            " ,      Cofinancement d'une étude d'assistance à maîtrise d'ouvrage (AMO) pour définir le projet en amont.        Vos bénéfices             Visibilité pour la réalisation des investissements grâce à la durée longue des contrats de concession      Réalisation rapide et « clé-en-main » des travaux de rénovation/modernisation de projets complexes d'un actif en exploitation      Expérience et expertise d'un partenaire privé dans l'exploitation et pour définir la stratégie de développement      Valorisation des terrains du site avec des activités de diversification (immobilier d'entreprises, hôtels, commerces...) et dynamisation du nœud multimodal    d'assurer le maintien en état de votre infrastructure sur une durée longue en rationalisant leur exploitation, et de diversifier vos sources de recettes.    Votre projet concerne :      l'extension ou l'optimisation des capacités d'accueil des aéroports et des gares avec l'adaptation et la modernisation de l'infrastructure et des accès (terrestres et ferroviaires)      des opérations lourdes de réparations et de rénovation      le développement du caractère multimodal de votre infrastructure en valorisant le foncier disponible (implantation de bureaux, hôtels, commerces, centres de conférences, hubs logistiques...)        Notre offre        Investissement minoritaire dans une société de projet titulaire d'une DSP ou d'un marché de partenariat (MP), dans le cadre d'un groupement répondant à l'appel d'offres de la collectivité,      Accompagnement à la construction du montage économique et financier du projet\n",
            "###############################################################\n",
            "[0, 0, 1, 0, 0, 0, 0, 0, 0, 0, 0, 0]\n",
            "Targets:  ['Innovation produits & services', 'Secteur Agriculture & Zones rurales']\n",
            "Outputs:  ['Innovation produits & services']\n",
            "Se former à l'architecture, l'urbanisme, l'environnement, le paysage.     Les CAUE vous forment en étant dégagés de tout intérêt dans la maîtrise d'oeuvre.       Les Caue ont pour objet la promotion de la qualité de l'architecture, de l'urbanisme et de l'environnement. Organismes départementaux issus de la loi sur l'architecture du 3 janvier 1977, ils assument des missions d'intérêt public.      Les équipes sont pluridisciplinaires et sauront aller chercher les expertises nécessaires pour vos besoin de formation.        Les formations proposée par la FNCAUE ou des CAUE ont plusieurs objectifs :         mettre à jour ou approfondir les connaissances des professionnels      permettre aux maîtres d'ouvrages publics de mieux connaître leur territoire, ses évolutions et ses enjeux, les démarches et procédures d'aménagement et d'urbanisme, les outils à leur disposition, les techniques les plus appropriées à leurs actions et à l'implication des habitants ou usagers      permettre aux enseignants d'intégrer les enjeux inhérents à l'architecture, l'urbanisme et l'environnement dans les projets pédagogiques      participer aux formations des publics scolaires afin de contribuer à l'ouverture d'esprit et/ou d'élargir leurs compétences en tant que citoyens ou futurs professionnels.        Les modalités :         les CAUE disposent de l'agrément de formation des élus      de nombreux CAUE sont datadockés      les formations peuvent être basées sur des cas pratiques, des visites de chantiers et/ou des retours d'expérience, des pratiques innovantes et/ou expérimentales...      Ces temps de travail peuvent prendre la forme d'interventions de quelques heures, de plusieurs jours ou de voyages d'étude qui nourrissent les réflexions à partir de vos besoins.  \n",
            "###############################################################\n",
            "[1, 1, 0, 0, 0, 1, 0, 0, 0, 0, 0, 0]\n",
            "Targets:  ['Gestion des déchets']\n",
            "Outputs:  ['Evolution des procédés industriels', 'Secteur Infrastructure & Déchéterie', 'Gestion des déchets']\n",
            " Maître d'ouvrage ou maître d'œuvre sur des chantiers bâtiment ou travaux publics générant d'importants volumes de matières et de déchets.    Actions éligibles :        Études de diagnostic : comprennent les études préalables à la conduite de chantier : diagnostic déchets ou « produits-matières-déchets » (hors réglementaire), étude relative à la prévention des déchets,          Études d'accompagnement : correspondent aux Missions de coordination déchets par un Maître d'Œuvre.        Accompagnement : taux d'aide maximum de 70 % de l'assiette des dépenses éligibles plafonnées à 50 k€ ou 100 k€ en fonction du type d'étude   \n",
            "###############################################################\n",
            "[0, 0, 0, 0, 0, 0, 1, 0, 0, 0, 0, 0]\n",
            "Targets:  ['Innovation produits & services']\n",
            "Outputs:  ['Secteur Ville durable']\n",
            "Soutenir les nouveaux modèles économiques (écoconception, économie de la fonctionnalité et achats durables).   Objectifs      Contribuer à l'atteinte des objectifs du Schéma Régional d'Aménagement, de Développement Durable et d'Egalité des Territoires (SRADDET),      Créer de l'activité économique durable,      Créer de l'activité économique innovante et qui participe à la transition écologique,      Eviter et/ou réduire les impacts environnementaux des entreprises (consommation de matière, énergie...),      Pérenniser les emplois.   \n",
            "###############################################################\n",
            "[0, 0, 0, 0, 0, 0, 1, 0, 0, 0, 0, 0]\n",
            "Targets:  ['Innovation produits & services']\n",
            "Outputs:  ['Secteur Ville durable']\n",
            "Optimiser la consommation et de la gestion des ressources (eau, énergie et matières premières).     Objectifs :    Soutien à l'optimisation de la consommation et de la gestion des ressources.    Ce dispositif vise à accompagner les acteurs du développement économique en privilégiant les démarches collectives ou sectorielles d'une part, ainsi que les opérations au caractère particulièrement exemplaire ou novateur d'autre part.    Sont exclus les industriels de la filière de recyclage et du traitement des déchets, y compris les recycleries/ressourceries, par ailleurs soutenus dans un autre dispositif dédié à la valorisation centralisée des DAE.      Bénéficiaires        Entreprises ou groupements d'entreprises      Fédérations, organisations professionnelles et chambres consulaires représentant les entreprises      Collectivités territoriales, et plus particulièrement EPCI      Associations        Nature et montant de l'aide :    plafond de l'aide : 200 K€ \n",
            "###############################################################\n",
            "[0, 0, 0, 0, 0, 0, 0, 1, 0, 0, 0, 1]\n",
            "Targets:  ['Secteur Bois']\n",
            "Outputs:  ['Secteur Agriculture & Zones rurales', 'Secteur Bois']\n",
            "Financer des études pour les collectivités, associations et entreprises -REEMPLOIET.   La Direction régionale de l'ADEME, en partenariat avec la Région Bretagne, la DREAL, et avec l'appui de la CRESS, souhaite lancer un appel à projets Réemploi-Réutilisation avec comme objectif de :    Soutenir des projets de recyclerie de qualité permettant de contribuer aux objectifs nationaux et régionaux de réemploi, réparation et réutilisation : recycleries généralistes (tous flux), recycleries mono-flux ou spécialisées (exemple: matériaux de construction/déconstruction...)        Développer des équipements techniques et des structures pérennes dédiées au réemploi ;        Créer de nouvelles recycleries ou de nouveaux services dans les recycleries existantes ;        Amplifier la place de l'économie sociale et solidaire dans ce secteur d'activité sur le territoire      Soutenir des activités spécifiques de réemploi, notamment liées aux nouvelles filières à Responsabilité Elargie du Producteur (REP) prévues par la loi (aides techniques, matériaux et équipements de construction/ bâtiment, jouets, équipements de sport et loisir) ...          Créer un maillage territorial permettant de rendre le réemploi accessible à tous et favoriser les coopérations inter-acteurs          Cet AAP comporte un volet investissement et un volet étude.   \n",
            "###############################################################\n",
            "[0, 0, 0, 0, 1, 0, 0, 0, 0, 0, 0, 0]\n",
            "Targets:  [\"Production & distribution d'énergie\", 'Secteur Ville durable']\n",
            "Outputs:  [\"Production & distribution d'énergie\"]\n",
            " Le règlement d'intervention prendra fin le 31 décembre 2024.  000 €.    Les dates de sélection des dossiers :ment GNV et BioGNV d'accès public en Région Bourgogne-Franche-Comté », mis en place par le CR-BFC     Objectif : promouvoir la pratique des mobilités alternatives en développant un réseau structurant de stations d'avitaillement GNV et BioGNV d'accès public, en cohérence avec les axes identifiés dans le Réseau Routier d'Intérêt Régional. Il s'agit également de développer la filière de production de gaz vert à partir de la méthanisation.    Bénéficiaires :        EPCI et communes de Bourgogne-Franche-Comté,        Sociétés et exploitants de transport, incluant les Sociétés Publiques Locales,        Sociétés d'économies mixtes locales et leurs filiales.        Accompagnement :\n",
            "###############################################################\n",
            "[1, 1, 1, 1, 1, 1, 1, 1, 1, 1, 1, 1]\n",
            "Targets:  ['Evolution des procédés industriels', 'Gestion des bâtiments', 'Gestion des déchets', 'Secteur Ville durable', 'Secteur Agriculture & Zones rurales']\n",
            "Outputs:  ['Evolution des procédés industriels', 'Secteur Infrastructure & Déchéterie', 'Innovation produits & services', 'Gestion des bâtiments', \"Production & distribution d'énergie\", 'Gestion des déchets', 'Secteur Ville durable', 'Secteur Agriculture & Zones rurales', 'Mobilité des employés', 'Secteur Eau & écosystèmes', 'Ressources humaines', 'Secteur Bois']\n",
            "Développer le recours à l'hydrogène renouvelable dans le secteur de la mobilité.           L'appel à projets \"Hub de mobilité Hydrogène routier et maritime\" vise à développer le recours à l'hydrogène renouvelable dans le secteur de la mobilité en substitution aux carburants fossiles.                   Objectifs            :                appuyer sur les secteurs et les atouts régionaux au sein desquels l'Hydrogène apporte une véritable plus-value, avec 3 volets prioritaires (les usages et ecosystèmes en maritimes, en mobilité lourde et les infrastructures d'envergure régionale de production et d'avitaillement     \n",
            "###############################################################\n",
            "[0, 0, 1, 1, 1, 0, 1, 1, 1, 0, 0, 0]\n",
            "Targets:  [\"Production & distribution d'énergie\", 'Secteur Ville durable', 'Secteur Agriculture & Zones rurales', 'Mobilité des employés']\n",
            "Outputs:  ['Innovation produits & services', 'Gestion des bâtiments', \"Production & distribution d'énergie\", 'Secteur Ville durable', 'Secteur Agriculture & Zones rurales', 'Mobilité des employés']\n",
            "Promouvoir le développement commercial et économique des professionnels adhérents à la marque Pays Cathare.   La marque Pays cathare, propriété du département depuis plus de 20 ans est née d'une initiative collective en direction des professionnels du tourisme et de l'agroalimentaire.    Plus de 900 prestataires marqués sur 39 réseaux différents, la Marque Pays cathare® s'engage aujourd'hui dans une étape nouvelle de commercialisation et de renforcement de son image par la sécurisation des actions menées. Les valeurs de la Marque \"origine, passion, qualité et engagement\" reflètent un attachement fort des professionnels à leur réseau et une volonté de mutualiser leurs savoir-faire pour faire de la marque, outil collectif, un levier de développement économique de leur structure respective.    Le département a fait le choix de confier l'animation de la marque à différents partenaires, qui accompagnent au quotidien les prestataires Audois. \n",
            "###############################################################\n",
            "[0, 0, 0, 0, 0, 0, 0, 0, 0, 1, 0, 0]\n",
            "Targets:  ['Secteur Agriculture & Zones rurales', 'Secteur Eau & écosystèmes']\n",
            "Outputs:  ['Secteur Eau & écosystèmes']\n",
            " Le dispositif de la Région vise à :      moderniser l'installation des entreprises du territoire afin de faciliter la reprise, la transmission et la compétitivité,      soutenir les entreprises du secteur, majoritairement des PME à structure familiale,      valoriser localement une ressource forestière abondante et lutter contre l'export de grumes hors du territoire,      maintenir et développer les emplois ruraux associés aux entreprises de première transformation du bois,      augmenter la sécurité des opérateurs.        Nature et montant de l'aide      L'aide prend la forme d'une subvention plafonnée à 1 million d'€.  modernité de leurs installations pour gagner en pérennité, en sécurité et en compétitivité.\n",
            "###############################################################\n",
            "[0, 1, 0, 0, 0, 0, 0, 0, 1, 0, 0, 0]\n",
            "Targets:  ['Secteur Infrastructure & Déchéterie']\n",
            "Outputs:  ['Secteur Infrastructure & Déchéterie', 'Mobilité des employés']\n",
            " Plafond de l'aide : 5 000 €/ha ères.   Objectif : Augmenter les surfaces de truffières d'environ 20 ha sur trois ans avec un suivi technique des exploitants pour en garantir la qualité.      Périmètre : La plantation doit être située dans la Région Grand Est.    Montant de l'aide : 40% des dépenses éligibles sur un montant HT\n",
            "###############################################################\n",
            "[0, 0, 0, 0, 0, 0, 1, 0, 0, 0, 0, 0]\n",
            "Targets:  ['Secteur Eau & écosystèmes']\n",
            "Outputs:  ['Secteur Ville durable']\n",
            "  » régional : celui-ci a pour objectif, notamment au travers de son dispositif Pass bois (et Contrat Bois), d'accompagner une stratégie globale de développement de la filière régionale afin de positionner les entreprises durablement sur leurs marchés et structurer leur croissance.    Par ailleurs, l'obtention de marchés ou la réalisation de progrès structurants peut se jouer sur la capacité d'une entreprise à acquérir rapidement de nouveaux matériels en cas d'opportunité ou à réorienter leurs outils et process au bon moment.    Ainsi, le Pass Bois a pour objectif de répondre de manière ciblée et calibrée à un besoin d'investissement généré par une opportunité de marché et nécessitant une réactivité dans l'accompagnement régional. Le Pass constitue également une voie de détection d'entreprises à potentiel et leur orientation vers une réflexion stratégique.      Montant      Aide financière (subvention) plafonnée à un     taux maximum de 50%    et un montant maximum de     20 000 €.      Pour toute dépense unitaire autre qu'immatérielle, le montant minimal est de     5 000 € HT.   tanie a validé lors de son Assemblée Plénière du 29 mars 2019 un «\n",
            "###############################################################\n",
            "[1, 0, 0, 0, 0, 1, 0, 0, 0, 0, 0, 0]\n",
            "Targets:  ['Secteur Ville durable']\n",
            "Outputs:  ['Evolution des procédés industriels', 'Gestion des déchets']\n",
            "Accompagner les actions de communication, d'information, de sensibilisation et d'éducation à l'eau et aux milieux aquatiques.   Les aides accordées par l'Agence appuient la réalisation des objectifs suivants :        Diffuser et rendre lisible la politique publique de l'eau et sa déclinaison sur le bassin (directives européennes, Sdage),        Accompagner et faciliter la mise en œuvre du programme d'intervention, particulièrement en promouvant ses thématiques prioritaires, en encourageant l'implicationde tous et les comportements responsables,          Sensibiliser, informer et éduquer les publics aux grands enjeux et priorités du bassin Adour-Garonne en matière d'eau et de milieux aquatiques, notammentl'adaptation au changement climatique (PACC),          Développer la connaissance sur l'état des eaux et des milieux aquatiques dans le bassin.   \n",
            "###############################################################\n",
            "[0, 0, 1, 1, 0, 1, 1, 1, 0, 0, 0, 0]\n",
            "Targets:  ['Evolution des procédés industriels', 'Innovation produits & services', 'Gestion des bâtiments', \"Production & distribution d'énergie\", 'Gestion des déchets', 'Secteur Ville durable', 'Secteur Agriculture & Zones rurales', 'Secteur Eau & écosystèmes']\n",
            "Outputs:  ['Innovation produits & services', 'Gestion des bâtiments', 'Gestion des déchets', 'Secteur Ville durable', 'Secteur Agriculture & Zones rurales']\n",
            "Restaurer suite à une catastrophe naturelle. L'agence participe à la solidarité envers les collectivités et le monde économique suite aux sinistres exceptionnels reconnus au titre de l'état de catastrophe naturelle.\n",
            "###############################################################\n",
            "[0, 0, 0, 0, 1, 0, 0, 0, 1, 0, 0, 0]\n",
            "Targets:  ['Mobilité des employés']\n",
            "Outputs:  [\"Production & distribution d'énergie\", 'Mobilité des employés']\n",
            "  notamment des opérations de restauration morphologique des cours d'eau, de continuités écologiques (aquatiques et terrestres), de restauration du fonctionnement des zones humides et de restauration des milieux marins et littoraux, de désimperméabilisation et désartificialisation des sols, etc.    La mesure permet le versement d'une subvention au maître d'ouvrage par l'État en complément d'autres cofinancements éventuels.    Vous pouvez d'ores et déjà proposer un projet auprès des Directions régionales de l'environnement, de l'aménagement et du logement (DREAL) en Métropole ou des Directions de l'environnement, de l'aménagement et du logement (DEAL) en outre-mer.    A noter que des appels à projets seront lancés prochainement par l'Office français pour la biodiversité. \n",
            "###############################################################\n",
            "[0, 1, 0, 0, 1, 0, 0, 0, 1, 0, 0, 0]\n",
            "Targets:  ['Ressources humaines']\n",
            "Outputs:  ['Secteur Infrastructure & Déchéterie', \"Production & distribution d'énergie\", 'Mobilité des employés']\n",
            " Une entreprise jusqu'à 10 ETP.    Projets éligibles :        Réaliser un investissement,          Acheter du matériel.      Accompagnement proposé :  En partenariat avec les intercommunalités, la Région a mis en place le Fonds régional des territoires afin de soutenir l'économie de proximité dans cette période de crise sanitaire.    Ce fonds permet l'octroi de subventions (jusqu'à 10 000 €) aux TPE qui souhaitent réaliser des investissements.    Vous êtes une TPE et vous voulez solliciter une aide au titre du Fonds régional des territoires ? Contactez directement l'EPCI du territoire sur lequel vous êtes implantées.      Date limite de dépôt : 31 décembre 2021.    \n",
            "###############################################################\n",
            "[1, 0, 1, 0, 0, 0, 1, 0, 0, 0, 0, 0]\n",
            "Targets:  ['Evolution des procédés industriels']\n",
            "Outputs:  ['Evolution des procédés industriels', 'Innovation produits & services', 'Secteur Ville durable']\n",
            "Soutenir le développement d'investissements agritouristiques.   La Région Occitanie est aux côtés des acteurs de l'agriculture afin de soutenir le développement d'investissements agritouristiques.    Afin d'accompagner la relance de l'économie suite à la crise sanitaire Covid-19, la Région Occitanie crée le \"PASS Relance Occitanie, volet Agriculture, Agroalimentaire et Bois\" qui remplace le \"PASS Agritourisme\". Le PASS Relance Occitanie est ouvert du     1er août au 31 décembre 2020.      Contexte et objectifs    Ce dispositif a pour objectif de répondre de manière ciblée, calibrée et réactive à un besoin de court terme d'investissement agritouristique matériel ou immatériel. Ce dispositif simple et réactif permettra d'accompagner des lancements d'activité sur ce secteur, de créer une nouvelle offre agritouristique à l'échelle d'une exploitation dans un objectif de diversification de revenus, de mener des investissements de faible ampleur dans un objectif de professionnalisation, amélioration ou développement d'une offre existante.    Dépenses éligibles      les       investissements matériels      : construction, rénovation et aménagement de biens immeubles dont travaux de mise en accessibilité, de sécurité incendie et d'efficacité énergétique ; aménagements extérieurs ; matériels et équipements        les       investissements immatériels      : conseil externe et étude, création d'outils numériques, conception et dépôt de marques commerciales      Montant      Taux d'aide maximum :       30%      (matériel) -       50%      (immatériel)      Plafond d'aide :       20 000 €        Plancher de dépenses matérielles éligibles :       12 000 €        Plancher de dépenses immatérielles éligibles :       3 500 €     \n",
            "###############################################################\n"
          ]
        }
      ],
      "source": [
        "idx = 0\n",
        "for i in range(len(op)):\n",
        "    if tg[i] != op[i]:\n",
        "        tmp_tg = tg[i].split(\" \")\n",
        "        tmp_op = op[i].split(\" \")\n",
        "        tmp_tg = [int(x) for x in tmp_tg]\n",
        "        tmp_op = [int(x) for x in tmp_op]\n",
        "        print(tmp_op)\n",
        "        labels_op = [LABELS[x] for x in range(len(tmp_op)) if tmp_op[x]==1]\n",
        "        labels_tg = [LABELS[x] for x in range(len(tmp_tg)) if tmp_tg[x]==1]\n",
        "        print(\"Targets: \",labels_tg)\n",
        "        print(\"Outputs: \", labels_op)\n",
        "        print(test_dataset.text.loc[i])\n",
        "        print(\"###############################################################\")"
      ]
    },
    {
      "cell_type": "code",
      "execution_count": 16,
      "metadata": {},
      "outputs": [
        {
          "data": {
            "text/plain": [
              "array([\"Vous aider dans la préparation de votre projet d'innovation - Aide pour la faisabilité de l'innovation.   La BPI vous aide dans la préparation de votre projet d'innovation (Subvention ou avance récupérable pour valider la faisabilité de votre projet).      Projets éligibles    Tout projet de recherche, développement et innovation (RDI) de produits, procédés ou services innovants présentant des perspectives d'industrialisation et/ou de commercialisation.    Bpifrance a noué un partenariat avec le ministère de l'Agriculture et de l'Alimentation pour renforcer son soutien à des projets d'innovation dans l'industrie agroalimentaire en finançant les études amont de faisabilité ou de recherche de partenaires.    Dépenses éligibles      Etudes d'évaluation et d'analyse du potentiel d'un projet mettant en exergue les perspectives et les risques du projet et précisant les ressources nécessaires pour le mener à bien.      Conception et définition du projet, planification, validation de la faisabilité technico-économique, veille, étude de positionnement stratégique, démarche design, recrutement de cadres de R&D...      Modalités d'intervention    Participation au financement de l'étude sous forme de subvention ou sous forme d'avance récupérable.    Finalité    Inciter l'entreprise à innover en l'aidant dans la préparation de projets de recherche, développement et innovation (RDI) par :        des études de faisabilité,        l'intégration de compétences,        permettant de valider les différentes composantes du projet de RDI : ingénierie commerciale et marketing, technique, juridique et propriété intellectuelle, financière et managériale.   \",\n",
              "       \"Vous aider dans la préparation de votre projet d'innovation - Aide pour la faisabilité de l'innovation.   La BPI vous aide dans la préparation de votre projet d'innovation (Subvention ou avance récupérable pour valider la faisabilité de votre projet).      Projets éligibles    Tout projet de recherche, développement et innovation (RDI) de produits, procédés ou services innovants présentant des perspectives d'industrialisation et/ou de commercialisation.    Bpifrance a noué un partenariat avec le ministère de l'Agriculture et de l'Alimentation pour renforcer son soutien à des projets d'innovation dans l'industrie agroalimentaire en finançant les études amont de faisabilité ou de recherche de partenaires.    Dépenses éligibles      Etudes d'évaluation et d'analyse du potentiel d'un projet mettant en exergue les perspectives et les risques du projet et précisant les ressources nécessaires pour le mener à bien.      Conception et définition du projet, planification, validation de la faisabilité technico-économique, veille, étude de positionnement stratégique, démarche design, recrutement de cadres de R&D...      Modalités d'intervention    Participation au financement de l'étude sous forme de subvention ou sous forme d'avance récupérable.    Finalité    Inciter l'entreprise à innover en l'aidant dans la préparation de projets de recherche, développement et innovation (RDI) par :        des études de faisabilité,        l'intégration de compétences,        permettant de valider les différentes composantes du projet de RDI : ingénierie commerciale et marketing, technique, juridique et propriété intellectuelle, financière et managériale.   \",\n",
              "       \"Vous aider dans la préparation de votre projet d'innovation - Aide pour la faisabilité de l'innovation.   La BPI vous aide dans la préparation de votre projet d'innovation (Subvention ou avance récupérable pour valider la faisabilité de votre projet).      Projets éligibles    Tout projet de recherche, développement et innovation (RDI) de produits, procédés ou services innovants présentant des perspectives d'industrialisation et/ou de commercialisation.    Bpifrance a noué un partenariat avec le ministère de l'Agriculture et de l'Alimentation pour renforcer son soutien à des projets d'innovation dans l'industrie agroalimentaire en finançant les études amont de faisabilité ou de recherche de partenaires.    Dépenses éligibles      Etudes d'évaluation et d'analyse du potentiel d'un projet mettant en exergue les perspectives et les risques du projet et précisant les ressources nécessaires pour le mener à bien.      Conception et définition du projet, planification, validation de la faisabilité technico-économique, veille, étude de positionnement stratégique, démarche design, recrutement de cadres de R&D...      Modalités d'intervention    Participation au financement de l'étude sous forme de subvention ou sous forme d'avance récupérable.    Finalité    Inciter l'entreprise à innover en l'aidant dans la préparation de projets de recherche, développement et innovation (RDI) par :        des études de faisabilité,        l'intégration de compétences,        permettant de valider les différentes composantes du projet de RDI : ingénierie commerciale et marketing, technique, juridique et propriété intellectuelle, financière et managériale.   \",\n",
              "       \"Vous aider dans la préparation de votre projet d'innovation - Aide pour la faisabilité de l'innovation.   La BPI vous aide dans la préparation de votre projet d'innovation (Subvention ou avance récupérable pour valider la faisabilité de votre projet).      Projets éligibles    Tout projet de recherche, développement et innovation (RDI) de produits, procédés ou services innovants présentant des perspectives d'industrialisation et/ou de commercialisation.    Bpifrance a noué un partenariat avec le ministère de l'Agriculture et de l'Alimentation pour renforcer son soutien à des projets d'innovation dans l'industrie agroalimentaire en finançant les études amont de faisabilité ou de recherche de partenaires.    Dépenses éligibles      Etudes d'évaluation et d'analyse du potentiel d'un projet mettant en exergue les perspectives et les risques du projet et précisant les ressources nécessaires pour le mener à bien.      Conception et définition du projet, planification, validation de la faisabilité technico-économique, veille, étude de positionnement stratégique, démarche design, recrutement de cadres de R&D...      Modalités d'intervention    Participation au financement de l'étude sous forme de subvention ou sous forme d'avance récupérable.    Finalité    Inciter l'entreprise à innover en l'aidant dans la préparation de projets de recherche, développement et innovation (RDI) par :        des études de faisabilité,        l'intégration de compétences,        permettant de valider les différentes composantes du projet de RDI : ingénierie commerciale et marketing, technique, juridique et propriété intellectuelle, financière et managériale.   \",\n",
              "       \"Investir dans des PME et ETI à fort potentiel de croissance - France Investissement Régions.   La BPI accompagne les entreprises en mettant à disposition leur réseau et leur expertise :      Au service de votre projet d'entreprise, sur des thématiques multiples (réflexions stratégiques, digital, international, performance industrielle et commerciale, marque employeur,...) la BPI investit dans des PME et ETI à fort potentiel de croissance.    Fiche d'identité      Société de gestion :\\r   Bpifrance Investissement      Zone d'implantation France - Nationale      Date de création : 1\\r   er\\r   mai 1984      Nous intervenons auprès de PME et ETI évoluant sur tous les secteurs d'activité et sommes des investisseurs impliqués dans les organes de gouvernance (tours de table minoritaires ou majoritaires) de préférence en partage avec un ou des partenaires investisseurs.    Les montants d'intervention sont compris entre 500 000 € et 7 M€ par projet.    Modalités d'intervention      Actions : dédiées au financement en fonds propres des PME ou petites ETI en phase de croissance interne ou externe, ou ayant des projets de transmission. Ticket d'investissement compris entre 0,5 M€ et 7 M€ ;      Mezzanine de capital développement/ obligations convertibles en actions : dédiées au financement en quasi-fonds propres des PME ou petites ETI en phase de croissance interne ou externe, ou ayant des projets de transmission. Ticket d'investissement compris entre 0,5 M€ et 7 M€. Possibilité d'introduire une tranche non convertible dans la limite de 50 % ;      Finalités        Accompagner les dirigeants de PME et ETI de tous secteurs        Accélérer le développement ou réaliser des croissances externes        Développer une vision de long terme        Renforcer la structure financière, investir dans des ressources matérielles        S'internationaliser        Renforcer la compétitivité des entreprises et dynamiser les territoires     \",\n",
              "       \"Investir dans des PME et ETI à fort potentiel de croissance - France Investissement Régions.   La BPI accompagne les entreprises en mettant à disposition leur réseau et leur expertise :      Au service de votre projet d'entreprise, sur des thématiques multiples (réflexions stratégiques, digital, international, performance industrielle et commerciale, marque employeur,...) la BPI investit dans des PME et ETI à fort potentiel de croissance.    Fiche d'identité      Société de gestion :\\r   Bpifrance Investissement      Zone d'implantation France - Nationale      Date de création : 1\\r   er\\r   mai 1984      Nous intervenons auprès de PME et ETI évoluant sur tous les secteurs d'activité et sommes des investisseurs impliqués dans les organes de gouvernance (tours de table minoritaires ou majoritaires) de préférence en partage avec un ou des partenaires investisseurs.    Les montants d'intervention sont compris entre 500 000 € et 7 M€ par projet.    Modalités d'intervention      Actions : dédiées au financement en fonds propres des PME ou petites ETI en phase de croissance interne ou externe, ou ayant des projets de transmission. Ticket d'investissement compris entre 0,5 M€ et 7 M€ ;      Mezzanine de capital développement/ obligations convertibles en actions : dédiées au financement en quasi-fonds propres des PME ou petites ETI en phase de croissance interne ou externe, ou ayant des projets de transmission. Ticket d'investissement compris entre 0,5 M€ et 7 M€. Possibilité d'introduire une tranche non convertible dans la limite de 50 % ;      Finalités        Accompagner les dirigeants de PME et ETI de tous secteurs        Accélérer le développement ou réaliser des croissances externes        Développer une vision de long terme        Renforcer la structure financière, investir dans des ressources matérielles        S'internationaliser        Renforcer la compétitivité des entreprises et dynamiser les territoires     \",\n",
              "       \"Trouver un plan d'investissement au service de la compétitivité, de la croissance et de l’emploi en France - Grand Plan d'Investissement 2018 - 2022.   ________________________________________________________________________    🚩    Les financements décrits dans cette section respectent la réglementation relative aux aides d'Etat et n'emportent donc pas d'éléments d'aide.    _______________________________________________________________      Grand Plan d'Investissement 2018 - 2022        Notre offre      La Banque des Territoires gère pour le compte de l'Etat le mandat du Grand Plan d'Investissement (GPI) présenté par le Premier ministre le 25 septembre 2017.    Dans ce cadre, s'inscrit également le Programme d'Investissements d'Avenir (PIA) qui se poursuit au service de la compétitivité, de la croissance et de l'emploi en France.      Accélérer la transition écologique :  écologie, développement et mobilité durable      Le programme Ecologie, développement et mobilité durable comprend un premier appel à projets     Ville de demain   \",\n",
              "       \"Trouver un plan d'investissement au service de la compétitivité, de la croissance et de l’emploi en France - Grand Plan d'Investissement 2018 - 2022.   ________________________________________________________________________    🚩    Les financements décrits dans cette section respectent la réglementation relative aux aides d'Etat et n'emportent donc pas d'éléments d'aide.    _______________________________________________________________      Grand Plan d'Investissement 2018 - 2022        Notre offre      La Banque des Territoires gère pour le compte de l'Etat le mandat du Grand Plan d'Investissement (GPI) présenté par le Premier ministre le 25 septembre 2017.    Dans ce cadre, s'inscrit également le Programme d'Investissements d'Avenir (PIA) qui se poursuit au service de la compétitivité, de la croissance et de l'emploi en France.      Accélérer la transition écologique :  écologie, développement et mobilité durable      Le programme Ecologie, développement et mobilité durable comprend un premier appel à projets     Ville de demain   \",\n",
              "       \"Trouver un plan d'investissement au service de la compétitivité, de la croissance et de l’emploi en France - Grand Plan d'Investissement 2018 - 2022.   ________________________________________________________________________    🚩    Les financements décrits dans cette section respectent la réglementation relative aux aides d'Etat et n'emportent donc pas d'éléments d'aide.    _______________________________________________________________      Grand Plan d'Investissement 2018 - 2022        Notre offre      La Banque des Territoires gère pour le compte de l'Etat le mandat du Grand Plan d'Investissement (GPI) présenté par le Premier ministre le 25 septembre 2017.    Dans ce cadre, s'inscrit également le Programme d'Investissements d'Avenir (PIA) qui se poursuit au service de la compétitivité, de la croissance et de l'emploi en France.      Accélérer la transition écologique :  écologie, développement et mobilité durable      Le programme Ecologie, développement et mobilité durable comprend un premier appel à projets     Ville de demain   \",\n",
              "       \"Tester l’intérêt de la géothermie sur champs de sondes pour le chauffage des bâtiments.     Aide - « Test de réponse thermique de terrain (géothermie) », mis en place par l'ADEME        Objectif :     Vous avez un projet de géothermie sur champs de sondes ? Le test de réponse thermique est une procédure qui permet de caractériser les propriétés thermiques moyennes des terrains traversés et de la sonde géothermique verticale testée.      Bénéficiaires :         Entreprise ou collectivité dans les secteurs résidentiel, collectif, tertiaire ou industriel          vous souhaitez réaliser une opération de pompe à chaleur (PAC) sur champs de sondes géothermiques verticales (CSGV).      Réalisez votre étude préalable à la réalisation d'un test de réponse thermique.    L'objectif du test de réponse thermique (TRT) permet de fournir des informations sur les propriétés thermiques moyennes du terrain et donc sur l'intérêt de pouvoir faire de la géothermie sur champs de sondes pour le chauffage des bâtiments concernés.    Accompagnement :        Aide : jusqu'à 70 % selon la taille de l'entreprise.          Plafonds : 50 000 € étude de diagnostic, 100 000 € études d'accompagnement de projet.     \",\n",
              "       \"Tester l’intérêt de la géothermie sur champs de sondes pour le chauffage des bâtiments.     Aide - « Test de réponse thermique de terrain (géothermie) », mis en place par l'ADEME        Objectif :     Vous avez un projet de géothermie sur champs de sondes ? Le test de réponse thermique est une procédure qui permet de caractériser les propriétés thermiques moyennes des terrains traversés et de la sonde géothermique verticale testée.      Bénéficiaires :         Entreprise ou collectivité dans les secteurs résidentiel, collectif, tertiaire ou industriel          vous souhaitez réaliser une opération de pompe à chaleur (PAC) sur champs de sondes géothermiques verticales (CSGV).      Réalisez votre étude préalable à la réalisation d'un test de réponse thermique.    L'objectif du test de réponse thermique (TRT) permet de fournir des informations sur les propriétés thermiques moyennes du terrain et donc sur l'intérêt de pouvoir faire de la géothermie sur champs de sondes pour le chauffage des bâtiments concernés.    Accompagnement :        Aide : jusqu'à 70 % selon la taille de l'entreprise.          Plafonds : 50 000 € étude de diagnostic, 100 000 € études d'accompagnement de projet.     \",\n",
              "       \"Financer les installations de récupération de chaleur.     Aide - « Financement d'installations de récupération de chaleur », mis en place par l'ADEME        Objectif :\\r Réalisez une installation de récupération de chaleur avec l'aide de l'ADEME à travers le Fonds Chaleur.      Bénéficiaires :        Collectivité,          Entreprise,          Établissement public,          Association.      Les bonnes raisons pour passer le cap de la récupération de chaleur :        avoir de la visibilité sur les coûts de la chaleur,          accéder à une haute performance environnementale en substituant cette ressource à d'autres sources de chaleur non renouvelables,          bénéficier de technologies éprouvées à haut rendement énergétique,          mener à bien un projet avec un temps de retour souvent inférieur aux projets d'énergies renouvelables,          profiter d'une ressource de proximité disponible dans une logique d'économie circulaire,          agir avec le soutien du Fonds Chaleur.        Accompagnement : l'aide Fonds Chaleur aux installations de récupération de chaleur dépend de conditions techniques, en particulier de la quantité de chaleur récupérée, des performances énergétiques et environnementales des installations et du Temps de Retour Brut (TRB) du projet.    Depuis 2020, les aides ADEME peuvent être articulées avec dispositif des Certificats d'économies d'énergie (CEE). Les modalités sont précisées dans les conditions d'éligibilité et de financement.    Au-delà des aides à l'investissement, l'ADEME vous accompagne et vous conseille sur toutes les phases de votre projet, des études (d'opportunité ou de faisabilité) aux aides à l'investissement. \",\n",
              "       \"Financer les installations de récupération de chaleur.     Aide - « Financement d'installations de récupération de chaleur », mis en place par l'ADEME        Objectif :\\r Réalisez une installation de récupération de chaleur avec l'aide de l'ADEME à travers le Fonds Chaleur.      Bénéficiaires :        Collectivité,          Entreprise,          Établissement public,          Association.      Les bonnes raisons pour passer le cap de la récupération de chaleur :        avoir de la visibilité sur les coûts de la chaleur,          accéder à une haute performance environnementale en substituant cette ressource à d'autres sources de chaleur non renouvelables,          bénéficier de technologies éprouvées à haut rendement énergétique,          mener à bien un projet avec un temps de retour souvent inférieur aux projets d'énergies renouvelables,          profiter d'une ressource de proximité disponible dans une logique d'économie circulaire,          agir avec le soutien du Fonds Chaleur.        Accompagnement : l'aide Fonds Chaleur aux installations de récupération de chaleur dépend de conditions techniques, en particulier de la quantité de chaleur récupérée, des performances énergétiques et environnementales des installations et du Temps de Retour Brut (TRB) du projet.    Depuis 2020, les aides ADEME peuvent être articulées avec dispositif des Certificats d'économies d'énergie (CEE). Les modalités sont précisées dans les conditions d'éligibilité et de financement.    Au-delà des aides à l'investissement, l'ADEME vous accompagne et vous conseille sur toutes les phases de votre projet, des études (d'opportunité ou de faisabilité) aux aides à l'investissement. \",\n",
              "       \"Financer les installations de récupération de chaleur.     Aide - « Financement d'installations de récupération de chaleur », mis en place par l'ADEME        Objectif :\\r Réalisez une installation de récupération de chaleur avec l'aide de l'ADEME à travers le Fonds Chaleur.      Bénéficiaires :        Collectivité,          Entreprise,          Établissement public,          Association.      Les bonnes raisons pour passer le cap de la récupération de chaleur :        avoir de la visibilité sur les coûts de la chaleur,          accéder à une haute performance environnementale en substituant cette ressource à d'autres sources de chaleur non renouvelables,          bénéficier de technologies éprouvées à haut rendement énergétique,          mener à bien un projet avec un temps de retour souvent inférieur aux projets d'énergies renouvelables,          profiter d'une ressource de proximité disponible dans une logique d'économie circulaire,          agir avec le soutien du Fonds Chaleur.        Accompagnement : l'aide Fonds Chaleur aux installations de récupération de chaleur dépend de conditions techniques, en particulier de la quantité de chaleur récupérée, des performances énergétiques et environnementales des installations et du Temps de Retour Brut (TRB) du projet.    Depuis 2020, les aides ADEME peuvent être articulées avec dispositif des Certificats d'économies d'énergie (CEE). Les modalités sont précisées dans les conditions d'éligibilité et de financement.    Au-delà des aides à l'investissement, l'ADEME vous accompagne et vous conseille sur toutes les phases de votre projet, des études (d'opportunité ou de faisabilité) aux aides à l'investissement. \",\n",
              "       \"Financer les études relatives à la mise en œuvre ou à la définition des réseaux de chaleur ou de froid.     Aide - « Études de réseaux de chaleur et de froid », mis en place par l'ADEME     Objectif :    Réaliser ou étendre un réseau de chaleur et/ou de froid liant des moyens de production de chaleur à des bâtiments et alimentés par des énergies renouvelables ou de récupération, l'ADEME vous accompagne.    Bénéficiaires :        Collectivité,          Entreprise,          Association.          Bénéficiez d'un financement pour vos études relatives à la mise en œuvre ou à la définition des réseaux de chaleur ou de froid            Vous avez un projet de réseau de chaleur ou de froid entre plusieurs bâtiments.            Vous souhaitez définir un schéma directeur des réseaux pour votre collectivité.            Ces réseaux de chaleur ou de froid seront alimentés par des énergies renouvelables ou de récupération.            Selon les régions, l'ADEME s'appuie sur certains relais pour promouvoir les énergies renouvelables. A ce titre, des conseils, des notes d'opportunités et des pré-études de faisabilité peuvent être fournis à titre gratuit. Les aides à l'investissement dans un réseau de chaleur ou de froid sont conditionnées à la production d'une étude de faisabilité pour une création de réseau ou d'un schéma directeur des réseaux pour une extension.     \",\n",
              "       \"Financer les études relatives à la mise en œuvre ou à la définition des réseaux de chaleur ou de froid.     Aide - « Études de réseaux de chaleur et de froid », mis en place par l'ADEME     Objectif :    Réaliser ou étendre un réseau de chaleur et/ou de froid liant des moyens de production de chaleur à des bâtiments et alimentés par des énergies renouvelables ou de récupération, l'ADEME vous accompagne.    Bénéficiaires :        Collectivité,          Entreprise,          Association.          Bénéficiez d'un financement pour vos études relatives à la mise en œuvre ou à la définition des réseaux de chaleur ou de froid            Vous avez un projet de réseau de chaleur ou de froid entre plusieurs bâtiments.            Vous souhaitez définir un schéma directeur des réseaux pour votre collectivité.            Ces réseaux de chaleur ou de froid seront alimentés par des énergies renouvelables ou de récupération.            Selon les régions, l'ADEME s'appuie sur certains relais pour promouvoir les énergies renouvelables. A ce titre, des conseils, des notes d'opportunités et des pré-études de faisabilité peuvent être fournis à titre gratuit. Les aides à l'investissement dans un réseau de chaleur ou de froid sont conditionnées à la production d'une étude de faisabilité pour une création de réseau ou d'un schéma directeur des réseaux pour une extension.     \",\n",
              "       \"Encourager les pratiques de mobilité moins consommatrices en énergie, pour une mobilité durable et active - ECOSANTE.   Dispositif de certificats d'économies d'énergie (CEE). Le parcours EcoSanté sera déployé partout en France auprès des personnes en perte d'autonomie bénéficiaires de Siel Bleu. Il encouragera les pratiques de mobilité moins consommatrices en énergie (marche, vélo, transports en commun, covoiturage, ...) via :       - Des séances d'activité physique dédiées à la mobilité au quotidien (réentrainement à la marche par exemple) ;    - Des micro-sessions de sensibilisation à la mobilité durable au début des sessions d'activité physique Siel Bleu ;    - Des séances de réentrainement physique disponibles sur GetPhy, plateforme web de Siel Bleu proposant des séances d'activité physique à faire chez soi, des conseils et idées de sorties. \",\n",
              "       'Agir en faveur du climat : sous-programme \"Transition vers une énergie propre\" - LIFE.     Le programme LIFE    est l\\'instrument financier de la Commission européenne de soutien aux projets dans les domaines de l\\'environnement et du climat. Il s\\'adresse à des porteurs de projets publics et privés et vise à promouvoir et à financer des projets innovants portant par exemple sur la conservation d\\'espèces et d\\'habitats, la protection des sols, l\\'amélioration de la qualité de l\\'air ou de l\\'eau, la gestion des déchets ou encore l\\'atténuation ou l\\'adaptation au changement climatique et la transition énergétique. Pour la période 2021-2027, le programme LIFE sera doté d\\'un budget de 5,4 milliards d\\'euros à l\\'échelle européenne.    Il fonctionne par appels à projet annuel.      Le programme LIFE est réparti en 4 sous-programmes :        Nature et biodiversité,      Economie circulaire et qualité de vie,      Atténuation du changement climatique et adaptation,      Transition vers l\\'énergie propre.      Pour ce sous-programme spécifique, les projets doivent impérativement s\\'inscrire dans les thématiques précises identifiées annuellement dans les documents des différents appels (Voir ci-dessous. Ex : LIFE-2021-CET-LOCAL: Soutien technique pour les plans de transition énergétique propres dans les municipalités et régions) : à défaut, les projets ne pourront pas être financés, mais il reste possible de les présenter au titre d\\'un autre sous-programme (notamment Climat) si l\\'objet du projet s\\'y prête.    Les principaux objectifs du programme LIFE sont :      aider à réaliser la transition vers une économie durable, circulaire, basée sur des énergies renouvelables, neutre en carbone et résiliente      protéger, restaurer et améliorer notre environnement      ralentir et inverser la perte de biodiversité      arrêter la dégradation des écosystèmes, en gérant et améliorant le réseau Natura 2000, et ainsi accélérer le développement durable      encourager et soutenir les idées vertes pour les petites et grandes entreprises, ONGs, autorités publiques, groupes de citoyens, académiques et autres      Le programme LIFE est réparti en 4 sous-programmes :      Nature et biodiversité,      Economie circulaire et qualité de vie,      Atténuation du changement climatique et adaptation,      Transition vers l\\'énergie propre.      ➡️ Les appels à projets du sous-programme \"Transition vers une énergie propre\", au sein du programme \"Climat\" de LIFE        LIFE-2021-CET-LOCAL: Soutien technique pour les plans de transition énergétique propres dans les municipalités et régions           LIFE-2021-CET-POLICY: Vers une mise en oeuvre effective des législations clés dans le domaine de l\\'énergie durable           LIFE-2021-CET-GOV: Dialogue multiniveau sur le climat et l\\'énergie pour la gouvernance énergétique           LIFE-2021-CET-BUILDRENO: Déploiement de grande échelle de solutions de rénovation industrielles profondes           LIFE-2021-CET-AUDITS: Adoption de recommandations d\\'audits énergétiques pour la transition énergétique des entreprises           LIFE-2021-CET-VALUECHAIN: Promouvoir l\\'adoption de l\\'énergie durable le long de la chaîne de valeur dans l\\'industrie et les services           LIFE-2021-CET-BUILDSKILLS: Compétences BUILD UP– Relancer les plateformes et feuilles de routes nationales           LIFE-2021-CET-COOLING: Faire face à l\\'augmentation de la demande de refroidissement dans les bâtiments sur les prochaines années           LIFE-2021-CET-SMARTSERV: Etablir des modèles d\\'entreprises innovants et des schémas contractuels pour les services énergétiques intelligents et intégratifs           LIFE-2021-CET-SMARTREADY: Créer les conditions pour une amélioration globale de la préparation intelligente des bâtiments européens           LIFE-2021-CET-MAINSTREAM:  Intégrer la finance énergétique durable et la performance énergétique européenne dans les critères et standards européens de finance durable           LIFE-2021-CET-INNOFIN:  Financement innovant de schémas pour l\\'investissement dans l\\'énergie durable           LIFE-2021-CET-HOMERENO: Services de Rénovation énergétique intégrés           LIFE-2021-CET-HOMERECOM: Communauté européenne des praticiens dans le service intégré de rénovations de maisons           LIFE-2021-CET-COALREGIONS: Transition énergétique propre menée par la communauté dans les Régions à charbon, tourbières et pétrole           LIFE-2021-CET-PDA: Aide au développement de projet – Assistance technique pour faire avancer les frontières du marché pour les investissements dans l\\'énergie durable           LIFE-2021-CET-ENERPOV: Aborder les interventions sur les bâtiments dans les quartiers vulnérables           LIFE-2021-CET-ENERCOM: Développer des mécanismes de soutien pour les communautés énergétiques et autres initiatives menées par les citoyens dans le domaine de l\\'énergie durable      ',\n",
              "       \"Moderniser ou étendre les gares et aéroports existants - Investissement dans les terminaux aéroportuaires et les gares.   ________________________________________________________________________    🚩    Les financements décrits dans cette section respectent la réglementation relative aux aides d'Etat et n'emportent donc pas d'éléments d'aide.    _______________________________________________________________      Les terminaux aéroportuaires et les gares        Votre projet      Vous souhaitez renforcer l'attractivité des aéroports et des gares, en améliorant la qualité de service, la sécurité et la sûreté des installations.    Vous avez besoin d'assurer le maintien en état de votre infrastructure sur une durée longue en rationalisant leur exploitation, et de diversifier vos sources de recettes.    Votre projet concerne :      l'extension ou l'optimisation des capacités d'accueil des aéroports et des gares avec l'adaptation et la modernisation de l'infrastructure et des accès (terrestres et ferroviaires)      des opérations lourdes de réparations et de rénovation      le développement du caractère multimodal de votre infrastructure en valorisant le foncier disponible (implantation de bureaux, hôtels, commerces, centres de conférences, hubs logistiques...)        Notre offre        Investissement minoritaire dans une société de projet titulaire d'une DSP ou d'un marché de partenariat (MP), dans le cadre d'un groupement répondant à l'appel d'offres de la collectivité,      Accompagnement à la construction du montage économique et financier du projet\\r ,      Cofinancement d'une étude d'assistance à maîtrise d'ouvrage (AMO) pour définir le projet en amont.        Vos bénéfices             Visibilité pour la réalisation des investissements grâce à la durée longue des contrats de concession      Réalisation rapide et « clé-en-main » des travaux de rénovation/modernisation de projets complexes d'un actif en exploitation      Expérience et expertise d'un partenaire privé dans l'exploitation et pour définir la stratégie de développement      Valorisation des terrains du site avec des activités de diversification (immobilier d'entreprises, hôtels, commerces...) et dynamisation du nœud multimodal   \",\n",
              "       \"Se former à l'architecture, l'urbanisme, l'environnement, le paysage.     Les CAUE vous forment en étant dégagés de tout intérêt dans la maîtrise d'oeuvre.       Les Caue ont pour objet la promotion de la qualité de l'architecture, de l'urbanisme et de l'environnement. Organismes départementaux issus de la loi sur l'architecture du 3 janvier 1977, ils assument des missions d'intérêt public.      Les équipes sont pluridisciplinaires et sauront aller chercher les expertises nécessaires pour vos besoin de formation.        Les formations proposée par la FNCAUE ou des CAUE ont plusieurs objectifs :         mettre à jour ou approfondir les connaissances des professionnels      permettre aux maîtres d'ouvrages publics de mieux connaître leur territoire, ses évolutions et ses enjeux, les démarches et procédures d'aménagement et d'urbanisme, les outils à leur disposition, les techniques les plus appropriées à leurs actions et à l'implication des habitants ou usagers      permettre aux enseignants d'intégrer les enjeux inhérents à l'architecture, l'urbanisme et l'environnement dans les projets pédagogiques      participer aux formations des publics scolaires afin de contribuer à l'ouverture d'esprit et/ou d'élargir leurs compétences en tant que citoyens ou futurs professionnels.        Les modalités :         les CAUE disposent de l'agrément de formation des élus      de nombreux CAUE sont datadockés      les formations peuvent être basées sur des cas pratiques, des visites de chantiers et/ou des retours d'expérience, des pratiques innovantes et/ou expérimentales...      Ces temps de travail peuvent prendre la forme d'interventions de quelques heures, de plusieurs jours ou de voyages d'étude qui nourrissent les réflexions à partir de vos besoins.  \",\n",
              "       \"Financer les études liées à la réduction des déchets issus des chantiers de construction.   « Études d'accompagnement de la maîtrise d'ouvrage pour réduire et mieux gérer les déchets de chantiers », mis en place par l'ADEME      Objectif :    Vous souhaitez mettre en place des pratiques de prévention et une bonne gestion des déchets issus de vos chantiers de construction ? L'ADEME peut vous aider à financer les études en amont (hors études réglementaires) et les missions de coordination des déchets.    Bénéficiaires :\\r Maître d'ouvrage ou maître d'œuvre sur des chantiers bâtiment ou travaux publics générant d'importants volumes de matières et de déchets.    Actions éligibles :        Études de diagnostic : comprennent les études préalables à la conduite de chantier : diagnostic déchets ou « produits-matières-déchets » (hors réglementaire), étude relative à la prévention des déchets,          Études d'accompagnement : correspondent aux Missions de coordination déchets par un Maître d'Œuvre.        Accompagnement : taux d'aide maximum de 70 % de l'assiette des dépenses éligibles plafonnées à 50 k€ ou 100 k€ en fonction du type d'étude   \",\n",
              "       \"Financer les études liées à la réduction des déchets issus des chantiers de construction.   « Études d'accompagnement de la maîtrise d'ouvrage pour réduire et mieux gérer les déchets de chantiers », mis en place par l'ADEME      Objectif :    Vous souhaitez mettre en place des pratiques de prévention et une bonne gestion des déchets issus de vos chantiers de construction ? L'ADEME peut vous aider à financer les études en amont (hors études réglementaires) et les missions de coordination des déchets.    Bénéficiaires :\\r Maître d'ouvrage ou maître d'œuvre sur des chantiers bâtiment ou travaux publics générant d'importants volumes de matières et de déchets.    Actions éligibles :        Études de diagnostic : comprennent les études préalables à la conduite de chantier : diagnostic déchets ou « produits-matières-déchets » (hors réglementaire), étude relative à la prévention des déchets,          Études d'accompagnement : correspondent aux Missions de coordination déchets par un Maître d'Œuvre.        Accompagnement : taux d'aide maximum de 70 % de l'assiette des dépenses éligibles plafonnées à 50 k€ ou 100 k€ en fonction du type d'étude   \",\n",
              "       \"Soutenir les nouveaux modèles économiques (écoconception, économie de la fonctionnalité et achats durables).   Objectifs      Contribuer à l'atteinte des objectifs du Schéma Régional d'Aménagement, de Développement Durable et d'Egalité des Territoires (SRADDET),      Créer de l'activité économique durable,      Créer de l'activité économique innovante et qui participe à la transition écologique,      Eviter et/ou réduire les impacts environnementaux des entreprises (consommation de matière, énergie...),      Pérenniser les emplois.   \",\n",
              "       \"Soutenir les nouveaux modèles économiques (écoconception, économie de la fonctionnalité et achats durables).   Objectifs      Contribuer à l'atteinte des objectifs du Schéma Régional d'Aménagement, de Développement Durable et d'Egalité des Territoires (SRADDET),      Créer de l'activité économique durable,      Créer de l'activité économique innovante et qui participe à la transition écologique,      Eviter et/ou réduire les impacts environnementaux des entreprises (consommation de matière, énergie...),      Pérenniser les emplois.   \",\n",
              "       \"Optimiser la consommation et de la gestion des ressources (eau, énergie et matières premières).     Objectifs :    Soutien à l'optimisation de la consommation et de la gestion des ressources.    Ce dispositif vise à accompagner les acteurs du développement économique en privilégiant les démarches collectives ou sectorielles d'une part, ainsi que les opérations au caractère particulièrement exemplaire ou novateur d'autre part.    Sont exclus les industriels de la filière de recyclage et du traitement des déchets, y compris les recycleries/ressourceries, par ailleurs soutenus dans un autre dispositif dédié à la valorisation centralisée des DAE.      Bénéficiaires        Entreprises ou groupements d'entreprises      Fédérations, organisations professionnelles et chambres consulaires représentant les entreprises      Collectivités territoriales, et plus particulièrement EPCI      Associations        Nature et montant de l'aide :    plafond de l'aide : 200 K€ \",\n",
              "       \"Optimiser la consommation et de la gestion des ressources (eau, énergie et matières premières).     Objectifs :    Soutien à l'optimisation de la consommation et de la gestion des ressources.    Ce dispositif vise à accompagner les acteurs du développement économique en privilégiant les démarches collectives ou sectorielles d'une part, ainsi que les opérations au caractère particulièrement exemplaire ou novateur d'autre part.    Sont exclus les industriels de la filière de recyclage et du traitement des déchets, y compris les recycleries/ressourceries, par ailleurs soutenus dans un autre dispositif dédié à la valorisation centralisée des DAE.      Bénéficiaires        Entreprises ou groupements d'entreprises      Fédérations, organisations professionnelles et chambres consulaires représentant les entreprises      Collectivités territoriales, et plus particulièrement EPCI      Associations        Nature et montant de l'aide :    plafond de l'aide : 200 K€ \",\n",
              "       \"Financer des études pour les collectivités, associations et entreprises -REEMPLOIET.   La Direction régionale de l'ADEME, en partenariat avec la Région Bretagne, la DREAL, et avec l'appui de la CRESS, souhaite lancer un appel à projets Réemploi-Réutilisation avec comme objectif de :    Soutenir des projets de recyclerie de qualité permettant de contribuer aux objectifs nationaux et régionaux de réemploi, réparation et réutilisation : recycleries généralistes (tous flux), recycleries mono-flux ou spécialisées (exemple: matériaux de construction/déconstruction...)        Développer des équipements techniques et des structures pérennes dédiées au réemploi ;        Créer de nouvelles recycleries ou de nouveaux services dans les recycleries existantes ;        Amplifier la place de l'économie sociale et solidaire dans ce secteur d'activité sur le territoire      Soutenir des activités spécifiques de réemploi, notamment liées aux nouvelles filières à Responsabilité Elargie du Producteur (REP) prévues par la loi (aides techniques, matériaux et équipements de construction/ bâtiment, jouets, équipements de sport et loisir) ...          Créer un maillage territorial permettant de rendre le réemploi accessible à tous et favoriser les coopérations inter-acteurs          Cet AAP comporte un volet investissement et un volet étude.   \",\n",
              "       \"Créer des stations d’avitaillement GNV et BioGNV d’accès public.     Aide - « Création de stations d'avitaillement GNV et BioGNV d'accès public en Région Bourgogne-Franche-Comté », mis en place par le CR-BFC     Objectif : promouvoir la pratique des mobilités alternatives en développant un réseau structurant de stations d'avitaillement GNV et BioGNV d'accès public, en cohérence avec les axes identifiés dans le Réseau Routier d'Intérêt Régional. Il s'agit également de développer la filière de production de gaz vert à partir de la méthanisation.    Bénéficiaires :        EPCI et communes de Bourgogne-Franche-Comté,        Sociétés et exploitants de transport, incluant les Sociétés Publiques Locales,        Sociétés d'économies mixtes locales et leurs filiales.        Accompagnement :\\r Subvention :         Taux : 20 %,        Aide plafonnée à 200 000 €.    Les dates de sélection des dossiers :\\r Le règlement d'intervention prendra fin le 31 décembre 2024. \",\n",
              "       'Développer le recours à l\\'hydrogène renouvelable dans le secteur de la mobilité.           L\\'appel à projets \"Hub de mobilité Hydrogène routier et maritime\" vise à développer le recours à l\\'hydrogène renouvelable dans le secteur de la mobilité en substitution aux carburants fossiles.                   Objectifs            :                appuyer sur les secteurs et les atouts régionaux au sein desquels l\\'Hydrogène apporte une véritable plus-value, avec 3 volets prioritaires (les usages et ecosystèmes en maritimes, en mobilité lourde et les infrastructures d\\'envergure régionale de production et d\\'avitaillement     ',\n",
              "       'Développer le recours à l\\'hydrogène renouvelable dans le secteur de la mobilité.           L\\'appel à projets \"Hub de mobilité Hydrogène routier et maritime\" vise à développer le recours à l\\'hydrogène renouvelable dans le secteur de la mobilité en substitution aux carburants fossiles.                   Objectifs            :                appuyer sur les secteurs et les atouts régionaux au sein desquels l\\'Hydrogène apporte une véritable plus-value, avec 3 volets prioritaires (les usages et ecosystèmes en maritimes, en mobilité lourde et les infrastructures d\\'envergure régionale de production et d\\'avitaillement     ',\n",
              "       'Développer le recours à l\\'hydrogène renouvelable dans le secteur de la mobilité.           L\\'appel à projets \"Hub de mobilité Hydrogène routier et maritime\" vise à développer le recours à l\\'hydrogène renouvelable dans le secteur de la mobilité en substitution aux carburants fossiles.                   Objectifs            :                appuyer sur les secteurs et les atouts régionaux au sein desquels l\\'Hydrogène apporte une véritable plus-value, avec 3 volets prioritaires (les usages et ecosystèmes en maritimes, en mobilité lourde et les infrastructures d\\'envergure régionale de production et d\\'avitaillement     ',\n",
              "       'Développer le recours à l\\'hydrogène renouvelable dans le secteur de la mobilité.           L\\'appel à projets \"Hub de mobilité Hydrogène routier et maritime\" vise à développer le recours à l\\'hydrogène renouvelable dans le secteur de la mobilité en substitution aux carburants fossiles.                   Objectifs            :                appuyer sur les secteurs et les atouts régionaux au sein desquels l\\'Hydrogène apporte une véritable plus-value, avec 3 volets prioritaires (les usages et ecosystèmes en maritimes, en mobilité lourde et les infrastructures d\\'envergure régionale de production et d\\'avitaillement     ',\n",
              "       'Développer le recours à l\\'hydrogène renouvelable dans le secteur de la mobilité.           L\\'appel à projets \"Hub de mobilité Hydrogène routier et maritime\" vise à développer le recours à l\\'hydrogène renouvelable dans le secteur de la mobilité en substitution aux carburants fossiles.                   Objectifs            :                appuyer sur les secteurs et les atouts régionaux au sein desquels l\\'Hydrogène apporte une véritable plus-value, avec 3 volets prioritaires (les usages et ecosystèmes en maritimes, en mobilité lourde et les infrastructures d\\'envergure régionale de production et d\\'avitaillement     ',\n",
              "       'Développer le recours à l\\'hydrogène renouvelable dans le secteur de la mobilité.           L\\'appel à projets \"Hub de mobilité Hydrogène routier et maritime\" vise à développer le recours à l\\'hydrogène renouvelable dans le secteur de la mobilité en substitution aux carburants fossiles.                   Objectifs            :                appuyer sur les secteurs et les atouts régionaux au sein desquels l\\'Hydrogène apporte une véritable plus-value, avec 3 volets prioritaires (les usages et ecosystèmes en maritimes, en mobilité lourde et les infrastructures d\\'envergure régionale de production et d\\'avitaillement     ',\n",
              "       'Développer le recours à l\\'hydrogène renouvelable dans le secteur de la mobilité.           L\\'appel à projets \"Hub de mobilité Hydrogène routier et maritime\" vise à développer le recours à l\\'hydrogène renouvelable dans le secteur de la mobilité en substitution aux carburants fossiles.                   Objectifs            :                appuyer sur les secteurs et les atouts régionaux au sein desquels l\\'Hydrogène apporte une véritable plus-value, avec 3 volets prioritaires (les usages et ecosystèmes en maritimes, en mobilité lourde et les infrastructures d\\'envergure régionale de production et d\\'avitaillement     ',\n",
              "       'Promouvoir le développement commercial et économique des professionnels adhérents à la marque Pays Cathare.   La marque Pays cathare, propriété du département depuis plus de 20 ans est née d\\'une initiative collective en direction des professionnels du tourisme et de l\\'agroalimentaire.    Plus de 900 prestataires marqués sur 39 réseaux différents, la Marque Pays cathare® s\\'engage aujourd\\'hui dans une étape nouvelle de commercialisation et de renforcement de son image par la sécurisation des actions menées. Les valeurs de la Marque \"origine, passion, qualité et engagement\" reflètent un attachement fort des professionnels à leur réseau et une volonté de mutualiser leurs savoir-faire pour faire de la marque, outil collectif, un levier de développement économique de leur structure respective.    Le département a fait le choix de confier l\\'animation de la marque à différents partenaires, qui accompagnent au quotidien les prestataires Audois. ',\n",
              "       'Promouvoir le développement commercial et économique des professionnels adhérents à la marque Pays Cathare.   La marque Pays cathare, propriété du département depuis plus de 20 ans est née d\\'une initiative collective en direction des professionnels du tourisme et de l\\'agroalimentaire.    Plus de 900 prestataires marqués sur 39 réseaux différents, la Marque Pays cathare® s\\'engage aujourd\\'hui dans une étape nouvelle de commercialisation et de renforcement de son image par la sécurisation des actions menées. Les valeurs de la Marque \"origine, passion, qualité et engagement\" reflètent un attachement fort des professionnels à leur réseau et une volonté de mutualiser leurs savoir-faire pour faire de la marque, outil collectif, un levier de développement économique de leur structure respective.    Le département a fait le choix de confier l\\'animation de la marque à différents partenaires, qui accompagnent au quotidien les prestataires Audois. ',\n",
              "       \"Aider aux investissements des entreprises de première transformation du bois.   Le règlement a été actualisé par la Commission Permanente Régionale du 27 septembre 2019 afin de mieux répondre aux besoins de la filière. Les modifications sont les suivantes :        Introduire un seuil de chiffre d'affaires pour assouplir l'obligation d'adhésion à une certification et/ou démarche qualité ;          Préciser l'éligibilité des progiciels de gestion intégrée ;          Rendre éligible du matériel d'occasion rétrofité.        Maillons stratégiques du domaine de la transformation du bois, les scieries doivent pouvoir garantir la modernité de leurs installations pour gagner en pérennité, en sécurité et en compétitivité.\\r A ce titre, la Région Grand Est a mis en œuvre une aide régionale spécifique au secteur de la transformation du bois, dans le prolongement des dispositifs préexistants, notamment en Champagne-Ardenne et en Lorraine. Ce dispositif est un élément constitutif du contrat de filière forêt-bois. Un recours au FEDER sur les territoires de Champagne-Ardenne et Lorraine peut être envisagé afin de démultiplier l'effet levier de l'aide régionale pour les projets éligibles.\\r \\r Le dispositif de la Région vise à :      moderniser l'installation des entreprises du territoire afin de faciliter la reprise, la transmission et la compétitivité,      soutenir les entreprises du secteur, majoritairement des PME à structure familiale,      valoriser localement une ressource forestière abondante et lutter contre l'export de grumes hors du territoire,      maintenir et développer les emplois ruraux associés aux entreprises de première transformation du bois,      augmenter la sécurité des opérateurs.        Nature et montant de l'aide      L'aide prend la forme d'une subvention plafonnée à 1 million d'€. \",\n",
              "       \"Augmenter les surfaces de truffières.   Objectif : Augmenter les surfaces de truffières d'environ 20 ha sur trois ans avec un suivi technique des exploitants pour en garantir la qualité.      Périmètre : La plantation doit être située dans la Région Grand Est.    Montant de l'aide : 40% des dépenses éligibles sur un montant HT\\r Plafond de l'aide : 5 000 €/ha \",\n",
              "       'Soutenir l\\'investissement dans la filière du bois.   La Région Occitanie soutient l\\'investissement dans la filière du Bois.    Afin d\\'accompagner la relance de l\\'économie suite à la crise sanitaire Covid-19, la Région crée le \"PASS Relance Occitanie / volet Agriculture, Agroalimentaire et Bois\" qui remplace le \"pass Bois\". Le PASS Relance Occitanie est ouvert du     1er aout au 31 décembre 2020.        Contexte et objectifs      La région Occitanie est la deuxième région forestière de France mais dont la ressource majoritairement située dans des conditions d\\'exploitation difficiles (zones de montagne et forte pente, majoritairement en propriété privée...) est sous-exploitée (de 25% à 45 % de l\\'accroissement annuel biologique).    La filière (6 000 entreprises, 21 000 emplois), majoritairement implantée en milieu rural , constitue un enjeu important du tissu productif local ; les entreprises occitanes sont dans une situation économique plutôt en retrait par rapport à leurs concurrents français, avec un niveau capitalistique moindre et une productivité plus faible.    La Région Occitanie a validé lors de son Assemblée Plénière du 29 mars 2019 un «\\r  \\r   Plan Bois\\r  \\r  » régional : celui-ci a pour objectif, notamment au travers de son dispositif Pass bois (et Contrat Bois), d\\'accompagner une stratégie globale de développement de la filière régionale afin de positionner les entreprises durablement sur leurs marchés et structurer leur croissance.    Par ailleurs, l\\'obtention de marchés ou la réalisation de progrès structurants peut se jouer sur la capacité d\\'une entreprise à acquérir rapidement de nouveaux matériels en cas d\\'opportunité ou à réorienter leurs outils et process au bon moment.    Ainsi, le Pass Bois a pour objectif de répondre de manière ciblée et calibrée à un besoin d\\'investissement généré par une opportunité de marché et nécessitant une réactivité dans l\\'accompagnement régional. Le Pass constitue également une voie de détection d\\'entreprises à potentiel et leur orientation vers une réflexion stratégique.      Montant      Aide financière (subvention) plafonnée à un     taux maximum de 50%    et un montant maximum de     20 000 €.      Pour toute dépense unitaire autre qu\\'immatérielle, le montant minimal est de     5 000 € HT.   ',\n",
              "       'Soutenir l\\'investissement dans la filière du bois.   La Région Occitanie soutient l\\'investissement dans la filière du Bois.    Afin d\\'accompagner la relance de l\\'économie suite à la crise sanitaire Covid-19, la Région crée le \"PASS Relance Occitanie / volet Agriculture, Agroalimentaire et Bois\" qui remplace le \"pass Bois\". Le PASS Relance Occitanie est ouvert du     1er aout au 31 décembre 2020.        Contexte et objectifs      La région Occitanie est la deuxième région forestière de France mais dont la ressource majoritairement située dans des conditions d\\'exploitation difficiles (zones de montagne et forte pente, majoritairement en propriété privée...) est sous-exploitée (de 25% à 45 % de l\\'accroissement annuel biologique).    La filière (6 000 entreprises, 21 000 emplois), majoritairement implantée en milieu rural , constitue un enjeu important du tissu productif local ; les entreprises occitanes sont dans une situation économique plutôt en retrait par rapport à leurs concurrents français, avec un niveau capitalistique moindre et une productivité plus faible.    La Région Occitanie a validé lors de son Assemblée Plénière du 29 mars 2019 un «\\r  \\r   Plan Bois\\r  \\r  » régional : celui-ci a pour objectif, notamment au travers de son dispositif Pass bois (et Contrat Bois), d\\'accompagner une stratégie globale de développement de la filière régionale afin de positionner les entreprises durablement sur leurs marchés et structurer leur croissance.    Par ailleurs, l\\'obtention de marchés ou la réalisation de progrès structurants peut se jouer sur la capacité d\\'une entreprise à acquérir rapidement de nouveaux matériels en cas d\\'opportunité ou à réorienter leurs outils et process au bon moment.    Ainsi, le Pass Bois a pour objectif de répondre de manière ciblée et calibrée à un besoin d\\'investissement généré par une opportunité de marché et nécessitant une réactivité dans l\\'accompagnement régional. Le Pass constitue également une voie de détection d\\'entreprises à potentiel et leur orientation vers une réflexion stratégique.      Montant      Aide financière (subvention) plafonnée à un     taux maximum de 50%    et un montant maximum de     20 000 €.      Pour toute dépense unitaire autre qu\\'immatérielle, le montant minimal est de     5 000 € HT.   ',\n",
              "       \"Accompagner les actions de communication, d'information, de sensibilisation et d'éducation à l'eau et aux milieux aquatiques.   Les aides accordées par l'Agence appuient la réalisation des objectifs suivants :        Diffuser et rendre lisible la politique publique de l'eau et sa déclinaison sur le bassin (directives européennes, Sdage),        Accompagner et faciliter la mise en œuvre du programme d'intervention, particulièrement en promouvant ses thématiques prioritaires, en encourageant l'implicationde tous et les comportements responsables,          Sensibiliser, informer et éduquer les publics aux grands enjeux et priorités du bassin Adour-Garonne en matière d'eau et de milieux aquatiques, notammentl'adaptation au changement climatique (PACC),          Développer la connaissance sur l'état des eaux et des milieux aquatiques dans le bassin.   \",\n",
              "       \"Accompagner les actions de communication, d'information, de sensibilisation et d'éducation à l'eau et aux milieux aquatiques.   Les aides accordées par l'Agence appuient la réalisation des objectifs suivants :        Diffuser et rendre lisible la politique publique de l'eau et sa déclinaison sur le bassin (directives européennes, Sdage),        Accompagner et faciliter la mise en œuvre du programme d'intervention, particulièrement en promouvant ses thématiques prioritaires, en encourageant l'implicationde tous et les comportements responsables,          Sensibiliser, informer et éduquer les publics aux grands enjeux et priorités du bassin Adour-Garonne en matière d'eau et de milieux aquatiques, notammentl'adaptation au changement climatique (PACC),          Développer la connaissance sur l'état des eaux et des milieux aquatiques dans le bassin.   \",\n",
              "       \"Accompagner les actions de communication, d'information, de sensibilisation et d'éducation à l'eau et aux milieux aquatiques.   Les aides accordées par l'Agence appuient la réalisation des objectifs suivants :        Diffuser et rendre lisible la politique publique de l'eau et sa déclinaison sur le bassin (directives européennes, Sdage),        Accompagner et faciliter la mise en œuvre du programme d'intervention, particulièrement en promouvant ses thématiques prioritaires, en encourageant l'implicationde tous et les comportements responsables,          Sensibiliser, informer et éduquer les publics aux grands enjeux et priorités du bassin Adour-Garonne en matière d'eau et de milieux aquatiques, notammentl'adaptation au changement climatique (PACC),          Développer la connaissance sur l'état des eaux et des milieux aquatiques dans le bassin.   \",\n",
              "       \"Restaurer suite à une catastrophe naturelle. L'agence participe à la solidarité envers les collectivités et le monde économique suite aux sinistres exceptionnels reconnus au titre de l'état de catastrophe naturelle.\",\n",
              "       \"Restaurer suite à une catastrophe naturelle. L'agence participe à la solidarité envers les collectivités et le monde économique suite aux sinistres exceptionnels reconnus au titre de l'état de catastrophe naturelle.\",\n",
              "       \"Restaurer suite à une catastrophe naturelle. L'agence participe à la solidarité envers les collectivités et le monde économique suite aux sinistres exceptionnels reconnus au titre de l'état de catastrophe naturelle.\",\n",
              "       \"Réaliser des chantiers permettant l’adaptation d’infrastructures routières et ferroviaires, de barrages et de zones dégradées.   Cette mesure vise à soutenir les collectivités et les autres gestionnaires d'espaces naturels pour réaliser des chantiers d'adaptation et de restauration écologique sur des points noirs des écosystèmes de leur territoire.    Elle concerne\\r  notamment des opérations de restauration morphologique des cours d'eau, de continuités écologiques (aquatiques et terrestres), de restauration du fonctionnement des zones humides et de restauration des milieux marins et littoraux, de désimperméabilisation et désartificialisation des sols, etc.    La mesure permet le versement d'une subvention au maître d'ouvrage par l'État en complément d'autres cofinancements éventuels.    Vous pouvez d'ores et déjà proposer un projet auprès des Directions régionales de l'environnement, de l'aménagement et du logement (DREAL) en Métropole ou des Directions de l'environnement, de l'aménagement et du logement (DEAL) en outre-mer.    A noter que des appels à projets seront lancés prochainement par l'Office français pour la biodiversité. \",\n",
              "       \"Soutenir l'économie de proximité en finançant les investissements des TPE - Fonds régional des territoires (FRT).     Aide - « Fonds régional des territoires (FRT) - Volet Investissement », mis en place par le Conseil Régional de Bourgogne France Comté - BFC, plan d'accélération      Objectif : aide directe aux entreprises : soutenir les projets d'investissement des TPE.    Bénéficiaires :\\r Une entreprise jusqu'à 10 ETP.    Projets éligibles :        Réaliser un investissement,          Acheter du matériel.      Accompagnement proposé :  En partenariat avec les intercommunalités, la Région a mis en place le Fonds régional des territoires afin de soutenir l'économie de proximité dans cette période de crise sanitaire.    Ce fonds permet l'octroi de subventions (jusqu'à 10 000 €) aux TPE qui souhaitent réaliser des investissements.    Vous êtes une TPE et vous voulez solliciter une aide au titre du Fonds régional des territoires ? Contactez directement l'EPCI du territoire sur lequel vous êtes implantées.      Date limite de dépôt : 31 décembre 2021.    \",\n",
              "       \"Soutenir l'économie de proximité en finançant les investissements des TPE - Fonds régional des territoires (FRT).     Aide - « Fonds régional des territoires (FRT) - Volet Investissement », mis en place par le Conseil Régional de Bourgogne France Comté - BFC, plan d'accélération      Objectif : aide directe aux entreprises : soutenir les projets d'investissement des TPE.    Bénéficiaires :\\r Une entreprise jusqu'à 10 ETP.    Projets éligibles :        Réaliser un investissement,          Acheter du matériel.      Accompagnement proposé :  En partenariat avec les intercommunalités, la Région a mis en place le Fonds régional des territoires afin de soutenir l'économie de proximité dans cette période de crise sanitaire.    Ce fonds permet l'octroi de subventions (jusqu'à 10 000 €) aux TPE qui souhaitent réaliser des investissements.    Vous êtes une TPE et vous voulez solliciter une aide au titre du Fonds régional des territoires ? Contactez directement l'EPCI du territoire sur lequel vous êtes implantées.      Date limite de dépôt : 31 décembre 2021.    \",\n",
              "       \"Soutenir l'économie de proximité en finançant les investissements des TPE - Fonds régional des territoires (FRT).     Aide - « Fonds régional des territoires (FRT) - Volet Investissement », mis en place par le Conseil Régional de Bourgogne France Comté - BFC, plan d'accélération      Objectif : aide directe aux entreprises : soutenir les projets d'investissement des TPE.    Bénéficiaires :\\r Une entreprise jusqu'à 10 ETP.    Projets éligibles :        Réaliser un investissement,          Acheter du matériel.      Accompagnement proposé :  En partenariat avec les intercommunalités, la Région a mis en place le Fonds régional des territoires afin de soutenir l'économie de proximité dans cette période de crise sanitaire.    Ce fonds permet l'octroi de subventions (jusqu'à 10 000 €) aux TPE qui souhaitent réaliser des investissements.    Vous êtes une TPE et vous voulez solliciter une aide au titre du Fonds régional des territoires ? Contactez directement l'EPCI du territoire sur lequel vous êtes implantées.      Date limite de dépôt : 31 décembre 2021.    \",\n",
              "       \"Soutenir l'économie de proximité en finançant les investissements des TPE - Fonds régional des territoires (FRT).     Aide - « Fonds régional des territoires (FRT) - Volet Investissement », mis en place par le Conseil Régional de Bourgogne France Comté - BFC, plan d'accélération      Objectif : aide directe aux entreprises : soutenir les projets d'investissement des TPE.    Bénéficiaires :\\r Une entreprise jusqu'à 10 ETP.    Projets éligibles :        Réaliser un investissement,          Acheter du matériel.      Accompagnement proposé :  En partenariat avec les intercommunalités, la Région a mis en place le Fonds régional des territoires afin de soutenir l'économie de proximité dans cette période de crise sanitaire.    Ce fonds permet l'octroi de subventions (jusqu'à 10 000 €) aux TPE qui souhaitent réaliser des investissements.    Vous êtes une TPE et vous voulez solliciter une aide au titre du Fonds régional des territoires ? Contactez directement l'EPCI du territoire sur lequel vous êtes implantées.      Date limite de dépôt : 31 décembre 2021.    \",\n",
              "       'Soutenir le développement d\\'investissements agritouristiques.   La Région Occitanie est aux côtés des acteurs de l\\'agriculture afin de soutenir le développement d\\'investissements agritouristiques.    Afin d\\'accompagner la relance de l\\'économie suite à la crise sanitaire Covid-19, la Région Occitanie crée le \"PASS Relance Occitanie, volet Agriculture, Agroalimentaire et Bois\" qui remplace le \"PASS Agritourisme\". Le PASS Relance Occitanie est ouvert du     1er août au 31 décembre 2020.      Contexte et objectifs    Ce dispositif a pour objectif de répondre de manière ciblée, calibrée et réactive à un besoin de court terme d\\'investissement agritouristique matériel ou immatériel. Ce dispositif simple et réactif permettra d\\'accompagner des lancements d\\'activité sur ce secteur, de créer une nouvelle offre agritouristique à l\\'échelle d\\'une exploitation dans un objectif de diversification de revenus, de mener des investissements de faible ampleur dans un objectif de professionnalisation, amélioration ou développement d\\'une offre existante.    Dépenses éligibles      les       investissements matériels      : construction, rénovation et aménagement de biens immeubles dont travaux de mise en accessibilité, de sécurité incendie et d\\'efficacité énergétique ; aménagements extérieurs ; matériels et équipements        les       investissements immatériels      : conseil externe et étude, création d\\'outils numériques, conception et dépôt de marques commerciales      Montant      Taux d\\'aide maximum :       30%      (matériel) -       50%      (immatériel)      Plafond d\\'aide :       20 000 €        Plancher de dépenses matérielles éligibles :       12 000 €        Plancher de dépenses immatérielles éligibles :       3 500 €     ',\n",
              "       'Soutenir le développement d\\'investissements agritouristiques.   La Région Occitanie est aux côtés des acteurs de l\\'agriculture afin de soutenir le développement d\\'investissements agritouristiques.    Afin d\\'accompagner la relance de l\\'économie suite à la crise sanitaire Covid-19, la Région Occitanie crée le \"PASS Relance Occitanie, volet Agriculture, Agroalimentaire et Bois\" qui remplace le \"PASS Agritourisme\". Le PASS Relance Occitanie est ouvert du     1er août au 31 décembre 2020.      Contexte et objectifs    Ce dispositif a pour objectif de répondre de manière ciblée, calibrée et réactive à un besoin de court terme d\\'investissement agritouristique matériel ou immatériel. Ce dispositif simple et réactif permettra d\\'accompagner des lancements d\\'activité sur ce secteur, de créer une nouvelle offre agritouristique à l\\'échelle d\\'une exploitation dans un objectif de diversification de revenus, de mener des investissements de faible ampleur dans un objectif de professionnalisation, amélioration ou développement d\\'une offre existante.    Dépenses éligibles      les       investissements matériels      : construction, rénovation et aménagement de biens immeubles dont travaux de mise en accessibilité, de sécurité incendie et d\\'efficacité énergétique ; aménagements extérieurs ; matériels et équipements        les       investissements immatériels      : conseil externe et étude, création d\\'outils numériques, conception et dépôt de marques commerciales      Montant      Taux d\\'aide maximum :       30%      (matériel) -       50%      (immatériel)      Plafond d\\'aide :       20 000 €        Plancher de dépenses matérielles éligibles :       12 000 €        Plancher de dépenses immatérielles éligibles :       3 500 €     '],\n",
              "      dtype=object)"
            ]
          },
          "execution_count": 16,
          "metadata": {},
          "output_type": "execute_result"
        }
      ],
      "source": [
        "test_dataset.text.loc[np.where(outputs!=targets)[0]].values"
      ]
    },
    {
      "cell_type": "markdown",
      "metadata": {
        "id": "iXFWS1tlKdj9"
      },
      "source": [
        "<a id='section07'></a>\n",
        "### Saving the Trained Model Artifacts for inference\n",
        "\n",
        "This is the final step in the process of fine tuning the model. \n",
        "\n",
        "The model and its vocabulary are saved locally. These files are then used in the future to make inference on new inputs of news headlines.\n",
        "\n",
        "Please remember that a trained neural network is only useful when used in actual inference after its training. \n",
        "\n",
        "In the lifecycle of an ML projects this is only half the job done. We will leave the inference of these models for some other day. "
      ]
    }
  ],
  "metadata": {
    "accelerator": "GPU",
    "colab": {
      "collapsed_sections": [],
      "name": "transformers_multi-label_classification.ipynb",
      "provenance": []
    },
    "interpreter": {
      "hash": "023838ed4c68f64fd0e050c66ae479e99129500b87a29bae8b6df573cae0ef87"
    },
    "kernelspec": {
      "display_name": "Python 3.7.6 64-bit ('fastai': conda)",
      "language": "python",
      "name": "python3"
    },
    "language_info": {
      "codemirror_mode": {
        "name": "ipython",
        "version": 3
      },
      "file_extension": ".py",
      "mimetype": "text/x-python",
      "name": "python",
      "nbconvert_exporter": "python",
      "pygments_lexer": "ipython3",
      "version": "3.7.11"
    },
    "widgets": {
      "application/vnd.jupyter.widget-state+json": {
        "183e12f5b9f64f02ae2e31bc390045f2": {
          "model_module": "@jupyter-widgets/controls",
          "model_module_version": "1.5.0",
          "model_name": "HTMLModel",
          "state": {
            "_dom_classes": [],
            "_model_module": "@jupyter-widgets/controls",
            "_model_module_version": "1.5.0",
            "_model_name": "HTMLModel",
            "_view_count": null,
            "_view_module": "@jupyter-widgets/controls",
            "_view_module_version": "1.5.0",
            "_view_name": "HTMLView",
            "description": "",
            "description_tooltip": null,
            "layout": "IPY_MODEL_ddec16ebb40a4ab9ba3172959596ecc2",
            "placeholder": "​",
            "style": "IPY_MODEL_68da6b73b1f14542a48401a7d4ca3e28",
            "value": " 440M/440M [00:09&lt;00:00, 45.8MB/s]"
          }
        },
        "19acfedb0f974ad1aac62da45273d5fb": {
          "model_module": "@jupyter-widgets/base",
          "model_module_version": "1.2.0",
          "model_name": "LayoutModel",
          "state": {
            "_model_module": "@jupyter-widgets/base",
            "_model_module_version": "1.2.0",
            "_model_name": "LayoutModel",
            "_view_count": null,
            "_view_module": "@jupyter-widgets/base",
            "_view_module_version": "1.2.0",
            "_view_name": "LayoutView",
            "align_content": null,
            "align_items": null,
            "align_self": null,
            "border": null,
            "bottom": null,
            "display": null,
            "flex": null,
            "flex_flow": null,
            "grid_area": null,
            "grid_auto_columns": null,
            "grid_auto_flow": null,
            "grid_auto_rows": null,
            "grid_column": null,
            "grid_gap": null,
            "grid_row": null,
            "grid_template_areas": null,
            "grid_template_columns": null,
            "grid_template_rows": null,
            "height": null,
            "justify_content": null,
            "justify_items": null,
            "left": null,
            "margin": null,
            "max_height": null,
            "max_width": null,
            "min_height": null,
            "min_width": null,
            "object_fit": null,
            "object_position": null,
            "order": null,
            "overflow": null,
            "overflow_x": null,
            "overflow_y": null,
            "padding": null,
            "right": null,
            "top": null,
            "visibility": null,
            "width": null
          }
        },
        "1b67b76cd9394e3b8addf6195ca9611a": {
          "model_module": "@jupyter-widgets/controls",
          "model_module_version": "1.5.0",
          "model_name": "HTMLModel",
          "state": {
            "_dom_classes": [],
            "_model_module": "@jupyter-widgets/controls",
            "_model_module_version": "1.5.0",
            "_model_name": "HTMLModel",
            "_view_count": null,
            "_view_module": "@jupyter-widgets/controls",
            "_view_module_version": "1.5.0",
            "_view_name": "HTMLView",
            "description": "",
            "description_tooltip": null,
            "layout": "IPY_MODEL_b5dd7f6b28d542ea9d3831028c888f44",
            "placeholder": "​",
            "style": "IPY_MODEL_23b26013d0144f468af29109e37e3a60",
            "value": " 232k/232k [00:00&lt;00:00, 388kB/s]"
          }
        },
        "23b26013d0144f468af29109e37e3a60": {
          "model_module": "@jupyter-widgets/controls",
          "model_module_version": "1.5.0",
          "model_name": "DescriptionStyleModel",
          "state": {
            "_model_module": "@jupyter-widgets/controls",
            "_model_module_version": "1.5.0",
            "_model_name": "DescriptionStyleModel",
            "_view_count": null,
            "_view_module": "@jupyter-widgets/base",
            "_view_module_version": "1.2.0",
            "_view_name": "StyleView",
            "description_width": ""
          }
        },
        "29b605fec9d34649888ee7ec36b89595": {
          "model_module": "@jupyter-widgets/controls",
          "model_module_version": "1.5.0",
          "model_name": "HBoxModel",
          "state": {
            "_dom_classes": [],
            "_model_module": "@jupyter-widgets/controls",
            "_model_module_version": "1.5.0",
            "_model_name": "HBoxModel",
            "_view_count": null,
            "_view_module": "@jupyter-widgets/controls",
            "_view_module_version": "1.5.0",
            "_view_name": "HBoxView",
            "box_style": "",
            "children": [
              "IPY_MODEL_fa0ae9bc665b47d89ebee73bf6ddaccf",
              "IPY_MODEL_6cb5f40281524c1ba78f1260cadbfe66"
            ],
            "layout": "IPY_MODEL_2bd7ade54b7841f2840e5187d9e3bc99"
          }
        },
        "2bd7ade54b7841f2840e5187d9e3bc99": {
          "model_module": "@jupyter-widgets/base",
          "model_module_version": "1.2.0",
          "model_name": "LayoutModel",
          "state": {
            "_model_module": "@jupyter-widgets/base",
            "_model_module_version": "1.2.0",
            "_model_name": "LayoutModel",
            "_view_count": null,
            "_view_module": "@jupyter-widgets/base",
            "_view_module_version": "1.2.0",
            "_view_name": "LayoutView",
            "align_content": null,
            "align_items": null,
            "align_self": null,
            "border": null,
            "bottom": null,
            "display": null,
            "flex": null,
            "flex_flow": null,
            "grid_area": null,
            "grid_auto_columns": null,
            "grid_auto_flow": null,
            "grid_auto_rows": null,
            "grid_column": null,
            "grid_gap": null,
            "grid_row": null,
            "grid_template_areas": null,
            "grid_template_columns": null,
            "grid_template_rows": null,
            "height": null,
            "justify_content": null,
            "justify_items": null,
            "left": null,
            "margin": null,
            "max_height": null,
            "max_width": null,
            "min_height": null,
            "min_width": null,
            "object_fit": null,
            "object_position": null,
            "order": null,
            "overflow": null,
            "overflow_x": null,
            "overflow_y": null,
            "padding": null,
            "right": null,
            "top": null,
            "visibility": null,
            "width": null
          }
        },
        "448cd06bb18548a39d5fb88adad5cb20": {
          "model_module": "@jupyter-widgets/base",
          "model_module_version": "1.2.0",
          "model_name": "LayoutModel",
          "state": {
            "_model_module": "@jupyter-widgets/base",
            "_model_module_version": "1.2.0",
            "_model_name": "LayoutModel",
            "_view_count": null,
            "_view_module": "@jupyter-widgets/base",
            "_view_module_version": "1.2.0",
            "_view_name": "LayoutView",
            "align_content": null,
            "align_items": null,
            "align_self": null,
            "border": null,
            "bottom": null,
            "display": null,
            "flex": null,
            "flex_flow": null,
            "grid_area": null,
            "grid_auto_columns": null,
            "grid_auto_flow": null,
            "grid_auto_rows": null,
            "grid_column": null,
            "grid_gap": null,
            "grid_row": null,
            "grid_template_areas": null,
            "grid_template_columns": null,
            "grid_template_rows": null,
            "height": null,
            "justify_content": null,
            "justify_items": null,
            "left": null,
            "margin": null,
            "max_height": null,
            "max_width": null,
            "min_height": null,
            "min_width": null,
            "object_fit": null,
            "object_position": null,
            "order": null,
            "overflow": null,
            "overflow_x": null,
            "overflow_y": null,
            "padding": null,
            "right": null,
            "top": null,
            "visibility": null,
            "width": null
          }
        },
        "46c0394c31e44192a4ada6073cd915bc": {
          "model_module": "@jupyter-widgets/base",
          "model_module_version": "1.2.0",
          "model_name": "LayoutModel",
          "state": {
            "_model_module": "@jupyter-widgets/base",
            "_model_module_version": "1.2.0",
            "_model_name": "LayoutModel",
            "_view_count": null,
            "_view_module": "@jupyter-widgets/base",
            "_view_module_version": "1.2.0",
            "_view_name": "LayoutView",
            "align_content": null,
            "align_items": null,
            "align_self": null,
            "border": null,
            "bottom": null,
            "display": null,
            "flex": null,
            "flex_flow": null,
            "grid_area": null,
            "grid_auto_columns": null,
            "grid_auto_flow": null,
            "grid_auto_rows": null,
            "grid_column": null,
            "grid_gap": null,
            "grid_row": null,
            "grid_template_areas": null,
            "grid_template_columns": null,
            "grid_template_rows": null,
            "height": null,
            "justify_content": null,
            "justify_items": null,
            "left": null,
            "margin": null,
            "max_height": null,
            "max_width": null,
            "min_height": null,
            "min_width": null,
            "object_fit": null,
            "object_position": null,
            "order": null,
            "overflow": null,
            "overflow_x": null,
            "overflow_y": null,
            "padding": null,
            "right": null,
            "top": null,
            "visibility": null,
            "width": null
          }
        },
        "4ff1e0e231244d79a4d1ebdc2e7b8235": {
          "model_module": "@jupyter-widgets/controls",
          "model_module_version": "1.5.0",
          "model_name": "HBoxModel",
          "state": {
            "_dom_classes": [],
            "_model_module": "@jupyter-widgets/controls",
            "_model_module_version": "1.5.0",
            "_model_name": "HBoxModel",
            "_view_count": null,
            "_view_module": "@jupyter-widgets/controls",
            "_view_module_version": "1.5.0",
            "_view_name": "HBoxView",
            "box_style": "",
            "children": [
              "IPY_MODEL_a7354b526df9448d8fd6c4a264c2ac24",
              "IPY_MODEL_1b67b76cd9394e3b8addf6195ca9611a"
            ],
            "layout": "IPY_MODEL_51d4c2a94e654b83916d011c65248d04"
          }
        },
        "51d4c2a94e654b83916d011c65248d04": {
          "model_module": "@jupyter-widgets/base",
          "model_module_version": "1.2.0",
          "model_name": "LayoutModel",
          "state": {
            "_model_module": "@jupyter-widgets/base",
            "_model_module_version": "1.2.0",
            "_model_name": "LayoutModel",
            "_view_count": null,
            "_view_module": "@jupyter-widgets/base",
            "_view_module_version": "1.2.0",
            "_view_name": "LayoutView",
            "align_content": null,
            "align_items": null,
            "align_self": null,
            "border": null,
            "bottom": null,
            "display": null,
            "flex": null,
            "flex_flow": null,
            "grid_area": null,
            "grid_auto_columns": null,
            "grid_auto_flow": null,
            "grid_auto_rows": null,
            "grid_column": null,
            "grid_gap": null,
            "grid_row": null,
            "grid_template_areas": null,
            "grid_template_columns": null,
            "grid_template_rows": null,
            "height": null,
            "justify_content": null,
            "justify_items": null,
            "left": null,
            "margin": null,
            "max_height": null,
            "max_width": null,
            "min_height": null,
            "min_width": null,
            "object_fit": null,
            "object_position": null,
            "order": null,
            "overflow": null,
            "overflow_x": null,
            "overflow_y": null,
            "padding": null,
            "right": null,
            "top": null,
            "visibility": null,
            "width": null
          }
        },
        "68da6b73b1f14542a48401a7d4ca3e28": {
          "model_module": "@jupyter-widgets/controls",
          "model_module_version": "1.5.0",
          "model_name": "DescriptionStyleModel",
          "state": {
            "_model_module": "@jupyter-widgets/controls",
            "_model_module_version": "1.5.0",
            "_model_name": "DescriptionStyleModel",
            "_view_count": null,
            "_view_module": "@jupyter-widgets/base",
            "_view_module_version": "1.2.0",
            "_view_name": "StyleView",
            "description_width": ""
          }
        },
        "6cb5f40281524c1ba78f1260cadbfe66": {
          "model_module": "@jupyter-widgets/controls",
          "model_module_version": "1.5.0",
          "model_name": "HTMLModel",
          "state": {
            "_dom_classes": [],
            "_model_module": "@jupyter-widgets/controls",
            "_model_module_version": "1.5.0",
            "_model_name": "HTMLModel",
            "_view_count": null,
            "_view_module": "@jupyter-widgets/controls",
            "_view_module_version": "1.5.0",
            "_view_name": "HTMLView",
            "description": "",
            "description_tooltip": null,
            "layout": "IPY_MODEL_c4e387689be7453d9c65b1b3bbd99d7d",
            "placeholder": "​",
            "style": "IPY_MODEL_bfbb87e4c4ad44b285edd376b5659a3a",
            "value": " 433/433 [00:00&lt;00:00, 984B/s]"
          }
        },
        "6ee0645e22b54ceebff09091598bce28": {
          "model_module": "@jupyter-widgets/controls",
          "model_module_version": "1.5.0",
          "model_name": "ProgressStyleModel",
          "state": {
            "_model_module": "@jupyter-widgets/controls",
            "_model_module_version": "1.5.0",
            "_model_name": "ProgressStyleModel",
            "_view_count": null,
            "_view_module": "@jupyter-widgets/base",
            "_view_module_version": "1.2.0",
            "_view_name": "StyleView",
            "bar_color": null,
            "description_width": "initial"
          }
        },
        "7d2a9c4d56524de7a3783cdf0760254d": {
          "model_module": "@jupyter-widgets/controls",
          "model_module_version": "1.5.0",
          "model_name": "HBoxModel",
          "state": {
            "_dom_classes": [],
            "_model_module": "@jupyter-widgets/controls",
            "_model_module_version": "1.5.0",
            "_model_name": "HBoxModel",
            "_view_count": null,
            "_view_module": "@jupyter-widgets/controls",
            "_view_module_version": "1.5.0",
            "_view_name": "HBoxView",
            "box_style": "",
            "children": [
              "IPY_MODEL_bd2b7813f0974e52b4a966ee2455909e",
              "IPY_MODEL_183e12f5b9f64f02ae2e31bc390045f2"
            ],
            "layout": "IPY_MODEL_46c0394c31e44192a4ada6073cd915bc"
          }
        },
        "84c7d4fb46924b7fa412d188ea7e05da": {
          "model_module": "@jupyter-widgets/base",
          "model_module_version": "1.2.0",
          "model_name": "LayoutModel",
          "state": {
            "_model_module": "@jupyter-widgets/base",
            "_model_module_version": "1.2.0",
            "_model_name": "LayoutModel",
            "_view_count": null,
            "_view_module": "@jupyter-widgets/base",
            "_view_module_version": "1.2.0",
            "_view_name": "LayoutView",
            "align_content": null,
            "align_items": null,
            "align_self": null,
            "border": null,
            "bottom": null,
            "display": null,
            "flex": null,
            "flex_flow": null,
            "grid_area": null,
            "grid_auto_columns": null,
            "grid_auto_flow": null,
            "grid_auto_rows": null,
            "grid_column": null,
            "grid_gap": null,
            "grid_row": null,
            "grid_template_areas": null,
            "grid_template_columns": null,
            "grid_template_rows": null,
            "height": null,
            "justify_content": null,
            "justify_items": null,
            "left": null,
            "margin": null,
            "max_height": null,
            "max_width": null,
            "min_height": null,
            "min_width": null,
            "object_fit": null,
            "object_position": null,
            "order": null,
            "overflow": null,
            "overflow_x": null,
            "overflow_y": null,
            "padding": null,
            "right": null,
            "top": null,
            "visibility": null,
            "width": null
          }
        },
        "a7354b526df9448d8fd6c4a264c2ac24": {
          "model_module": "@jupyter-widgets/controls",
          "model_module_version": "1.5.0",
          "model_name": "FloatProgressModel",
          "state": {
            "_dom_classes": [],
            "_model_module": "@jupyter-widgets/controls",
            "_model_module_version": "1.5.0",
            "_model_name": "FloatProgressModel",
            "_view_count": null,
            "_view_module": "@jupyter-widgets/controls",
            "_view_module_version": "1.5.0",
            "_view_name": "ProgressView",
            "bar_style": "success",
            "description": "Downloading: 100%",
            "description_tooltip": null,
            "layout": "IPY_MODEL_84c7d4fb46924b7fa412d188ea7e05da",
            "max": 231508,
            "min": 0,
            "orientation": "horizontal",
            "style": "IPY_MODEL_b9510b24e7e64b9d822d025a9b30757b",
            "value": 231508
          }
        },
        "b5dd7f6b28d542ea9d3831028c888f44": {
          "model_module": "@jupyter-widgets/base",
          "model_module_version": "1.2.0",
          "model_name": "LayoutModel",
          "state": {
            "_model_module": "@jupyter-widgets/base",
            "_model_module_version": "1.2.0",
            "_model_name": "LayoutModel",
            "_view_count": null,
            "_view_module": "@jupyter-widgets/base",
            "_view_module_version": "1.2.0",
            "_view_name": "LayoutView",
            "align_content": null,
            "align_items": null,
            "align_self": null,
            "border": null,
            "bottom": null,
            "display": null,
            "flex": null,
            "flex_flow": null,
            "grid_area": null,
            "grid_auto_columns": null,
            "grid_auto_flow": null,
            "grid_auto_rows": null,
            "grid_column": null,
            "grid_gap": null,
            "grid_row": null,
            "grid_template_areas": null,
            "grid_template_columns": null,
            "grid_template_rows": null,
            "height": null,
            "justify_content": null,
            "justify_items": null,
            "left": null,
            "margin": null,
            "max_height": null,
            "max_width": null,
            "min_height": null,
            "min_width": null,
            "object_fit": null,
            "object_position": null,
            "order": null,
            "overflow": null,
            "overflow_x": null,
            "overflow_y": null,
            "padding": null,
            "right": null,
            "top": null,
            "visibility": null,
            "width": null
          }
        },
        "b9510b24e7e64b9d822d025a9b30757b": {
          "model_module": "@jupyter-widgets/controls",
          "model_module_version": "1.5.0",
          "model_name": "ProgressStyleModel",
          "state": {
            "_model_module": "@jupyter-widgets/controls",
            "_model_module_version": "1.5.0",
            "_model_name": "ProgressStyleModel",
            "_view_count": null,
            "_view_module": "@jupyter-widgets/base",
            "_view_module_version": "1.2.0",
            "_view_name": "StyleView",
            "bar_color": null,
            "description_width": "initial"
          }
        },
        "bd2b7813f0974e52b4a966ee2455909e": {
          "model_module": "@jupyter-widgets/controls",
          "model_module_version": "1.5.0",
          "model_name": "FloatProgressModel",
          "state": {
            "_dom_classes": [],
            "_model_module": "@jupyter-widgets/controls",
            "_model_module_version": "1.5.0",
            "_model_name": "FloatProgressModel",
            "_view_count": null,
            "_view_module": "@jupyter-widgets/controls",
            "_view_module_version": "1.5.0",
            "_view_name": "ProgressView",
            "bar_style": "success",
            "description": "Downloading: 100%",
            "description_tooltip": null,
            "layout": "IPY_MODEL_19acfedb0f974ad1aac62da45273d5fb",
            "max": 440473133,
            "min": 0,
            "orientation": "horizontal",
            "style": "IPY_MODEL_e8bcca8b06834420a6863751c4ed53e3",
            "value": 440473133
          }
        },
        "bfbb87e4c4ad44b285edd376b5659a3a": {
          "model_module": "@jupyter-widgets/controls",
          "model_module_version": "1.5.0",
          "model_name": "DescriptionStyleModel",
          "state": {
            "_model_module": "@jupyter-widgets/controls",
            "_model_module_version": "1.5.0",
            "_model_name": "DescriptionStyleModel",
            "_view_count": null,
            "_view_module": "@jupyter-widgets/base",
            "_view_module_version": "1.2.0",
            "_view_name": "StyleView",
            "description_width": ""
          }
        },
        "c4e387689be7453d9c65b1b3bbd99d7d": {
          "model_module": "@jupyter-widgets/base",
          "model_module_version": "1.2.0",
          "model_name": "LayoutModel",
          "state": {
            "_model_module": "@jupyter-widgets/base",
            "_model_module_version": "1.2.0",
            "_model_name": "LayoutModel",
            "_view_count": null,
            "_view_module": "@jupyter-widgets/base",
            "_view_module_version": "1.2.0",
            "_view_name": "LayoutView",
            "align_content": null,
            "align_items": null,
            "align_self": null,
            "border": null,
            "bottom": null,
            "display": null,
            "flex": null,
            "flex_flow": null,
            "grid_area": null,
            "grid_auto_columns": null,
            "grid_auto_flow": null,
            "grid_auto_rows": null,
            "grid_column": null,
            "grid_gap": null,
            "grid_row": null,
            "grid_template_areas": null,
            "grid_template_columns": null,
            "grid_template_rows": null,
            "height": null,
            "justify_content": null,
            "justify_items": null,
            "left": null,
            "margin": null,
            "max_height": null,
            "max_width": null,
            "min_height": null,
            "min_width": null,
            "object_fit": null,
            "object_position": null,
            "order": null,
            "overflow": null,
            "overflow_x": null,
            "overflow_y": null,
            "padding": null,
            "right": null,
            "top": null,
            "visibility": null,
            "width": null
          }
        },
        "ddec16ebb40a4ab9ba3172959596ecc2": {
          "model_module": "@jupyter-widgets/base",
          "model_module_version": "1.2.0",
          "model_name": "LayoutModel",
          "state": {
            "_model_module": "@jupyter-widgets/base",
            "_model_module_version": "1.2.0",
            "_model_name": "LayoutModel",
            "_view_count": null,
            "_view_module": "@jupyter-widgets/base",
            "_view_module_version": "1.2.0",
            "_view_name": "LayoutView",
            "align_content": null,
            "align_items": null,
            "align_self": null,
            "border": null,
            "bottom": null,
            "display": null,
            "flex": null,
            "flex_flow": null,
            "grid_area": null,
            "grid_auto_columns": null,
            "grid_auto_flow": null,
            "grid_auto_rows": null,
            "grid_column": null,
            "grid_gap": null,
            "grid_row": null,
            "grid_template_areas": null,
            "grid_template_columns": null,
            "grid_template_rows": null,
            "height": null,
            "justify_content": null,
            "justify_items": null,
            "left": null,
            "margin": null,
            "max_height": null,
            "max_width": null,
            "min_height": null,
            "min_width": null,
            "object_fit": null,
            "object_position": null,
            "order": null,
            "overflow": null,
            "overflow_x": null,
            "overflow_y": null,
            "padding": null,
            "right": null,
            "top": null,
            "visibility": null,
            "width": null
          }
        },
        "e8bcca8b06834420a6863751c4ed53e3": {
          "model_module": "@jupyter-widgets/controls",
          "model_module_version": "1.5.0",
          "model_name": "ProgressStyleModel",
          "state": {
            "_model_module": "@jupyter-widgets/controls",
            "_model_module_version": "1.5.0",
            "_model_name": "ProgressStyleModel",
            "_view_count": null,
            "_view_module": "@jupyter-widgets/base",
            "_view_module_version": "1.2.0",
            "_view_name": "StyleView",
            "bar_color": null,
            "description_width": "initial"
          }
        },
        "fa0ae9bc665b47d89ebee73bf6ddaccf": {
          "model_module": "@jupyter-widgets/controls",
          "model_module_version": "1.5.0",
          "model_name": "FloatProgressModel",
          "state": {
            "_dom_classes": [],
            "_model_module": "@jupyter-widgets/controls",
            "_model_module_version": "1.5.0",
            "_model_name": "FloatProgressModel",
            "_view_count": null,
            "_view_module": "@jupyter-widgets/controls",
            "_view_module_version": "1.5.0",
            "_view_name": "ProgressView",
            "bar_style": "success",
            "description": "Downloading: 100%",
            "description_tooltip": null,
            "layout": "IPY_MODEL_448cd06bb18548a39d5fb88adad5cb20",
            "max": 433,
            "min": 0,
            "orientation": "horizontal",
            "style": "IPY_MODEL_6ee0645e22b54ceebff09091598bce28",
            "value": 433
          }
        }
      }
    }
  },
  "nbformat": 4,
  "nbformat_minor": 0
}
